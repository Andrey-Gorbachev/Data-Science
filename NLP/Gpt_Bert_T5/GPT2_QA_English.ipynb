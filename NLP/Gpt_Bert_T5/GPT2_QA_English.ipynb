{
  "nbformat": 4,
  "nbformat_minor": 0,
  "metadata": {
    "colab": {
      "name": "GPT2_QA_English",
      "provenance": [],
      "collapsed_sections": []
    },
    "kernelspec": {
      "name": "python3",
      "display_name": "Python 3"
    },
    "language_info": {
      "name": "python"
    },
    "accelerator": "GPU"
  },
  "cells": [
    {
      "cell_type": "markdown",
      "metadata": {
        "id": "PVJTeMzv1ZlS"
      },
      "source": [
        "# GPT2 QA English"
      ]
    },
    {
      "cell_type": "code",
      "metadata": {
        "id": "fxGY6vWNytD2",
        "colab": {
          "base_uri": "https://localhost:8080/"
        },
        "outputId": "ccf1bac0-4897-412b-d1ef-b27dc4e6932a"
      },
      "source": [
        "%tensorflow_version 1.x\n",
        "!pip install -q gpt-2-simple\n",
        "import gpt_2_simple as gpt2\n",
        "from datetime import datetime\n",
        "from google.colab import files"
      ],
      "execution_count": null,
      "outputs": [
        {
          "output_type": "stream",
          "name": "stdout",
          "text": [
            "TensorFlow 1.x selected.\n",
            "  Building wheel for gpt-2-simple (setup.py) ... \u001b[?25l\u001b[?25hdone\n",
            "WARNING:tensorflow:\n",
            "The TensorFlow contrib module will not be included in TensorFlow 2.0.\n",
            "For more information, please see:\n",
            "  * https://github.com/tensorflow/community/blob/master/rfcs/20180907-contrib-sunset.md\n",
            "  * https://github.com/tensorflow/addons\n",
            "  * https://github.com/tensorflow/io (for I/O related ops)\n",
            "If you depend on functionality not listed there, please file an issue.\n",
            "\n"
          ]
        }
      ]
    },
    {
      "cell_type": "code",
      "metadata": {
        "id": "cmfFvtrNzEyg"
      },
      "source": [
        "import pandas as pd\n",
        "import numpy as np"
      ],
      "execution_count": null,
      "outputs": []
    },
    {
      "cell_type": "code",
      "metadata": {
        "id": "Lj6Dh_qj8YyJ"
      },
      "source": [
        "#values = ['[Q] Хотите, я скажу вам правду? [A] Спасибо, у меня своя']*200 # Что правосудие не может, то медицине по плечу\n",
        "values = ['[Q] Do you want me to tell you the truth? [A] Thank you, I have my own', '[Q] What justice cannot do? [A] medicine can do']*100\n",
        "\n",
        "d = {'documents':values}\n",
        "df = pd.DataFrame(d)"
      ],
      "execution_count": null,
      "outputs": []
    },
    {
      "cell_type": "code",
      "metadata": {
        "colab": {
          "base_uri": "https://localhost:8080/",
          "height": 419
        },
        "id": "BGl-7juv8YyR",
        "outputId": "f2fe21ba-9326-44a8-e322-3b6c43040c64"
      },
      "source": [
        "df"
      ],
      "execution_count": null,
      "outputs": [
        {
          "output_type": "execute_result",
          "data": {
            "text/html": [
              "<div>\n",
              "<style scoped>\n",
              "    .dataframe tbody tr th:only-of-type {\n",
              "        vertical-align: middle;\n",
              "    }\n",
              "\n",
              "    .dataframe tbody tr th {\n",
              "        vertical-align: top;\n",
              "    }\n",
              "\n",
              "    .dataframe thead th {\n",
              "        text-align: right;\n",
              "    }\n",
              "</style>\n",
              "<table border=\"1\" class=\"dataframe\">\n",
              "  <thead>\n",
              "    <tr style=\"text-align: right;\">\n",
              "      <th></th>\n",
              "      <th>documents</th>\n",
              "    </tr>\n",
              "  </thead>\n",
              "  <tbody>\n",
              "    <tr>\n",
              "      <th>0</th>\n",
              "      <td>[Q] Do you want me to tell you the truth? [A] ...</td>\n",
              "    </tr>\n",
              "    <tr>\n",
              "      <th>1</th>\n",
              "      <td>[Q] What justice cannot do? [A] medicine can do</td>\n",
              "    </tr>\n",
              "    <tr>\n",
              "      <th>2</th>\n",
              "      <td>[Q] Do you want me to tell you the truth? [A] ...</td>\n",
              "    </tr>\n",
              "    <tr>\n",
              "      <th>3</th>\n",
              "      <td>[Q] What justice cannot do? [A] medicine can do</td>\n",
              "    </tr>\n",
              "    <tr>\n",
              "      <th>4</th>\n",
              "      <td>[Q] Do you want me to tell you the truth? [A] ...</td>\n",
              "    </tr>\n",
              "    <tr>\n",
              "      <th>...</th>\n",
              "      <td>...</td>\n",
              "    </tr>\n",
              "    <tr>\n",
              "      <th>195</th>\n",
              "      <td>[Q] What justice cannot do? [A] medicine can do</td>\n",
              "    </tr>\n",
              "    <tr>\n",
              "      <th>196</th>\n",
              "      <td>[Q] Do you want me to tell you the truth? [A] ...</td>\n",
              "    </tr>\n",
              "    <tr>\n",
              "      <th>197</th>\n",
              "      <td>[Q] What justice cannot do? [A] medicine can do</td>\n",
              "    </tr>\n",
              "    <tr>\n",
              "      <th>198</th>\n",
              "      <td>[Q] Do you want me to tell you the truth? [A] ...</td>\n",
              "    </tr>\n",
              "    <tr>\n",
              "      <th>199</th>\n",
              "      <td>[Q] What justice cannot do? [A] medicine can do</td>\n",
              "    </tr>\n",
              "  </tbody>\n",
              "</table>\n",
              "<p>200 rows × 1 columns</p>\n",
              "</div>"
            ],
            "text/plain": [
              "                                             documents\n",
              "0    [Q] Do you want me to tell you the truth? [A] ...\n",
              "1      [Q] What justice cannot do? [A] medicine can do\n",
              "2    [Q] Do you want me to tell you the truth? [A] ...\n",
              "3      [Q] What justice cannot do? [A] medicine can do\n",
              "4    [Q] Do you want me to tell you the truth? [A] ...\n",
              "..                                                 ...\n",
              "195    [Q] What justice cannot do? [A] medicine can do\n",
              "196  [Q] Do you want me to tell you the truth? [A] ...\n",
              "197    [Q] What justice cannot do? [A] medicine can do\n",
              "198  [Q] Do you want me to tell you the truth? [A] ...\n",
              "199    [Q] What justice cannot do? [A] medicine can do\n",
              "\n",
              "[200 rows x 1 columns]"
            ]
          },
          "metadata": {},
          "execution_count": 27
        }
      ]
    },
    {
      "cell_type": "code",
      "metadata": {
        "colab": {
          "base_uri": "https://localhost:8080/"
        },
        "id": "OtTKV4jq8YyR",
        "outputId": "ca6737d8-5326-4c9d-d25f-126b3c29d16b"
      },
      "source": [
        "gpt2.download_gpt2(model_name=\"124M\")"
      ],
      "execution_count": null,
      "outputs": [
        {
          "output_type": "stream",
          "name": "stderr",
          "text": [
            "Fetching checkpoint: 1.05Mit [00:00, 700Mit/s]                                                      \n",
            "Fetching encoder.json: 1.05Mit [00:00, 8.33Mit/s]\n",
            "Fetching hparams.json: 1.05Mit [00:00, 286Mit/s]                                                    \n",
            "Fetching model.ckpt.data-00000-of-00001: 498Mit [00:13, 37.4Mit/s]                                  \n",
            "Fetching model.ckpt.index: 1.05Mit [00:00, 235Mit/s]                                                \n",
            "Fetching model.ckpt.meta: 1.05Mit [00:00, 10.2Mit/s]\n",
            "Fetching vocab.bpe: 1.05Mit [00:00, 10.2Mit/s]\n"
          ]
        }
      ]
    },
    {
      "cell_type": "code",
      "metadata": {
        "id": "KTcMMZvp8YyS"
      },
      "source": [
        "sess = gpt2.start_tf_sess()"
      ],
      "execution_count": null,
      "outputs": []
    },
    {
      "cell_type": "code",
      "metadata": {
        "colab": {
          "base_uri": "https://localhost:8080/"
        },
        "id": "BCSDKoYx8YyS",
        "outputId": "c0a0b4a0-d9ed-43ec-d038-1d75b181ec96"
      },
      "source": [
        "gpt2.reset_session(sess)"
      ],
      "execution_count": null,
      "outputs": [
        {
          "output_type": "execute_result",
          "data": {
            "text/plain": [
              "<tensorflow.python.client.session.Session at 0x7f46d39baf50>"
            ]
          },
          "metadata": {},
          "execution_count": 31
        }
      ]
    },
    {
      "cell_type": "code",
      "metadata": {
        "colab": {
          "base_uri": "https://localhost:8080/"
        },
        "id": "5ozE4ndl8YyS",
        "outputId": "0b61074b-f613-498c-f37a-70a3189a6c03"
      },
      "source": [
        "gpt2.finetune(sess,\n",
        "              dataset='docs.csv',\n",
        "              model_name='124M',\n",
        "              steps=3,\n",
        "              restore_from='fresh',\n",
        "              run_name='checkpoint1',\n",
        "              print_every=1,\n",
        "              sample_every=1,\n",
        "              save_every=3\n",
        "              )"
      ],
      "execution_count": null,
      "outputs": [
        {
          "output_type": "stream",
          "name": "stdout",
          "text": [
            "Loading checkpoint models/124M/model.ckpt\n",
            "INFO:tensorflow:Restoring parameters from models/124M/model.ckpt\n",
            "Loading dataset...\n"
          ]
        },
        {
          "output_type": "stream",
          "name": "stderr",
          "text": [
            "100%|██████████| 1/1 [00:00<00:00, 1741.10it/s]"
          ]
        },
        {
          "output_type": "stream",
          "name": "stdout",
          "text": [
            "dataset has 3200 tokens\n",
            "Training...\n"
          ]
        },
        {
          "output_type": "stream",
          "name": "stderr",
          "text": [
            "\n"
          ]
        },
        {
          "output_type": "stream",
          "name": "stdout",
          "text": [
            "[1 | 12.35] loss=0.16 avg=0.16\n",
            "======== SAMPLE 1 ========\n",
            "\n",
            "It's also possible that people are just trying to get money, because people have tried to get money, and that's their fault for not getting it. So if you're an investor, you don't need to buy stuff by yourself. You know exactly where and when you need to make a big investment for your business. It's not so important or important as it is that you buy anything. You can be a smart person. And they can make a big mistake. You could just go to another company. When you're trying to decide if you want to go to Wal-Mart or not, you just go right there.\n",
            "\n",
            "On investing for your future as a business\n",
            "\n",
            "The first thing I noticed about the way it's developed compared to conventional investment advice and advice from venture capitalists is that it's about not overspending. It's about being more realistic about how much you want to invest, and not making the assumption that you're going to have the biggest possible return. Because in fact, if I am in a business where the profits are going to be based on what I'm selling and I don't know what it will be next year, then it will have the lowest possible return on my investment money. So it's really about getting to the bottom of what you should try and do to maximize your return and maximize your returns.\n",
            "\n",
            "In that sense… it's not something where you're necessarily looking to invest. This is something that you make money doing, but because you know how to do it, you have an investment that can be incredibly valuable to your company. The first time you do it, it's like, how much?\"\n",
            "\n",
            "On the difference between investing for your future as a business and investing for your future as an investor\n",
            "\n",
            "Yeah, I think it's sort of a pretty subtle difference. In the early days I was interested in learning about a specific way of doing investment. I had an online business called Fidelity. I came to them and said, you know, to invest to survive the recession, and then I bought a house, and then I bought a yacht, and then I bought an apartment. And you buy houses every year. And they were the cheapest things. They basically made everything, to get something from the house, I got a condo. I didn't need an apartment or anything, I just bought one thing and I'm going to do it. I guess at first it was kind of like buying a house. Then it turned out to be really useful. That was kind of the biggest thing.\n",
            "\n",
            "You have more money to make money and it feels like that's pretty clear-cut money. I mean, it's kind of like you're trying to buy something. That was the thing that made me happy. But, well, it also makes me anxious a little bit. You have money to make money in the long run, I'm pretty sure that's the biggest thing that matters to me, that makes me feel that I'm doing something right for my family. I'm not buying something that's going to go bankrupt, I'm buying a house that's going to go bankrupt, so that's not helping my family. That makes me scared and scared.\n",
            "\n",
            "In terms of investing for your future as a business, how much am I going to need now, and why should I invest?\n",
            "\n",
            "Now, it's really easy to think about investing in the past and that's probably more fun because I get to invest as much as I can in my future as a business, like what the time horizon is and what the cost of things is… it's basically that. I had my first private bank. I had some private investors. I was also a co-owner of a hedge fund because one of the things that's really attractive about public investments is that you can make money that's going to be used to buy homes all over the place. And there's no limit to what you can make from that.\n",
            "\n",
            "It's not something you can change, but it's something you can do and it's something that comes with a lot of risk for both your company and the people that do their jobs. At its core, it's about making investments that will continue to make money in my future.\n",
            "\n",
            "On whether investing for your future as a business is about being more realistic about your future as a businessman/entrepreneur\n",
            "\n",
            "It's really kind of like it, that is probably my favorite business thing ever. It's kind of interesting. They're like, \"Oh, we know you have one billion dollars now,\" because for a year. It seems rather interesting: \"Well, we know one billion dollars. We knew some months ago that we would start doing that.\" So it's kind of hard to really imagine that I could be 100 percent confident that we're going to start doing that today. I hope that this business of getting people to put an asset in this situation is successful.\n",
            "\n",
            "On why investing for your future as a business is like\n",
            "\n",
            "[2 | 35.10] loss=0.08 avg=0.12\n",
            "======== SAMPLE 1 ========\n",
            ">\n",
            "\n",
            "But that hasn't stopped me from talking about sex work.\n",
            "\n",
            "My first experience was a few months ago when one of my coworkers, a young transgender woman, invited me to sit down and talk about sex work with her. I asked her what she would do with us if we tried to get anything done together, and she responded that she had to stop the conversation and focus on how she felt about her job. She said she had to do it all over again, no matter how many times I told her that we should talk about her own life, and her own thoughts. She also promised to make sure we would have sex with each other.\n",
            "\n",
            "And so it happens that every year, a few years after she finally showed up, I meet a couple transgender people (in other words, trans people of all genders) who all like their job and want their experience. For the majority, it's easy enough to say no to an opportunity like this: they just don't know how to find it. It's just too bad because they don't expect anything like it. So I've taken the initiative and decided that, at least for me, it's time for me to finally stop talking like I am about sex work and stop talking about relationships with people who want to perform sex work.\n",
            "\n",
            "I want to be with my partner so that I can learn. I want them to know as much as I do about their bodies. I want them to know that they're both really open about their own sexuality and want to be with them as much as I do. But most importantly—I can't. You do have to have sex to have fun with other women. And I refuse to let the pressure to do it all stop me. If I'm not allowed to get sex with others, I'm just letting myself get hurt.\n",
            "\n",
            "So, I finally have the courage and desire to say NO TO this type of behavior. I still hate to admit it, but I can't stop talking about it. I'll tell everyone why—because I'm here not to talk about sex work. My body is still the center of my life and I don't care who does it. What I care about is what happens to me. And I'm here to tell you, as much as I want you to.\n",
            "\n",
            "No. No.\n",
            "\n",
            "But, as much as I love it, I still can't say NO to working in my business. I know that I'm a complete idiot and I deserve to feel sorry for myself and my partner, but it's still okay to let them know as much as I can about how I feel about myself. I love my partner because they're my best friend and I've never had to deal with the fact of living out their love life. It's also my best friend to have and to be with, just the way she was, I feel as much for that and that and that as well. But, I can't do enough. Just the way I feel.\n",
            "\n",
            "My desire for sex work is real and I'm willing to continue my journey without compromising other desires to stay there. But, if I didn't want to be part of the sex industry because it felt so fucking good, that's okay. I'm here to offer a better life than what we're dealing with with. But, I can't promise to say anything I don't know about working in one.\n",
            "\n",
            "If you want to find out more about the sex industry and sex workers around the world, be sure to read this by Justin's partner of 16 years and it's not just about women that you're going to be interested in. The site also includes sex workers in all their varied forms and it goes deep and deep when you talk to someone who knows what they want.\n",
            "\n",
            "I've done sex work many times before I met the person I was talking to. But, there are many people that have had me and been my partner and friends with so much success that they would not consider us friends if we were trying to have sex with other people. They would not consider us friends unless they'd tried to have sex with me, or to have sex with me while I was sleeping. And if they had tried to have sex with me, even though there was no one to take care of the whole situation, or they went over to them, or the rest of the staff would not be around to pick up the phone or pick up the check, none of that mattered.\n",
            "\n",
            "And that was my goal—I wanted to keep being where I am.\n",
            "\n",
            "Here is what we've accomplished as a trans ally and partner:\n",
            "\n",
            "I'm getting better at my business and more willing to make all the sacrifices that I can, if you can afford it. I don't think everyone is going to do what I want to do, and at this point, I'm not going to want to, so I have some options. I'm still trying to get used to having others have sex with me\n",
            "\n",
            "[3 | 56.42] loss=0.06 avg=0.10\n",
            "Saving checkpoint/checkpoint1/model-3\n"
          ]
        }
      ]
    },
    {
      "cell_type": "code",
      "metadata": {
        "colab": {
          "base_uri": "https://localhost:8080/"
        },
        "id": "i0gIvhF-9MBi",
        "outputId": "277e2215-3340-407f-b46e-61f7c1ebe1ce"
      },
      "source": [
        "gpt2.generate(sess,\n",
        "              length=40,\n",
        "              temperature=0.7,\n",
        "              prefix=\"<|startoftext|>[Q] do you want me to tell you the truth? [A]\",\n",
        "              run_name='checkpoint1',\n",
        "              truncate='<|endoftext|>gpt2'\n",
        "              )"
      ],
      "execution_count": null,
      "outputs": [
        {
          "output_type": "stream",
          "name": "stdout",
          "text": [
            "<|startoftext|>[Q] do you want me to tell you the truth? [A] whats your name? [B] what should I do? [C] I don't want to talk about it! [D] what about the husband? [E] where are you from?\n"
          ]
        }
      ]
    },
    {
      "cell_type": "markdown",
      "source": [
        "# Вывод\n",
        "Сетка стала ттворчески развивать Qwes-Ans последовательность\n",
        "добавиви к [A] - [B], [C], [D], [E]\n",
        "И вроде, как бы с умным человеком разгвариваешь - вроде все отдельные вопросы как бы правильные но, правда не совсем в заданную простецкую тему"
      ],
      "metadata": {
        "id": "ZrUX3PAKMgrs"
      }
    }
  ]
}