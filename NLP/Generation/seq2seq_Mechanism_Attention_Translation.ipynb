{
  "nbformat": 4,
  "nbformat_minor": 0,
  "metadata": {
    "colab": {
      "name": "seq2seq_Mechanism_Attention_Translation",
      "provenance": [],
      "collapsed_sections": [],
      "toc_visible": true
    },
    "kernelspec": {
      "name": "python3",
      "display_name": "Python 3"
    },
    "language_info": {
      "name": "python"
    },
    "accelerator": "GPU"
  },
  "cells": [
    {
      "cell_type": "markdown",
      "metadata": {
        "id": "szRTSvEGLLkj"
      },
      "source": [
        "# Translate seq2seq Mechanism Attention  \n",
        "По примеру https://blog.paperspace.com/seq-to-seq-attention-mechanism-keras/\n"
      ]
    },
    {
      "cell_type": "markdown",
      "metadata": {
        "id": "w3GUs1d6LZNm"
      },
      "source": [
        "#Step 1: Import the Dataset"
      ]
    },
    {
      "cell_type": "code",
      "metadata": {
        "colab": {
          "base_uri": "https://localhost:8080/"
        },
        "id": "JbFfACt8LdDP",
        "outputId": "a9104703-9e58-490a-f300-7d6b36bd2465"
      },
      "source": [
        "!!curl -O http://www.manythings.org/anki/fra-eng.zip\n",
        "!!unzip fra-eng.zip"
      ],
      "execution_count": null,
      "outputs": [
        {
          "output_type": "execute_result",
          "data": {
            "text/plain": [
              "['Archive:  fra-eng.zip',\n",
              " '  inflating: _about.txt              ',\n",
              " '  inflating: fra.txt                 ']"
            ]
          },
          "metadata": {
            "tags": []
          },
          "execution_count": 1
        }
      ]
    },
    {
      "cell_type": "code",
      "metadata": {
        "id": "eHGkW-KfL7Dz"
      },
      "source": [
        "# Get the txt file which has English -> French translation\n",
        "path_to_file = \"fra.txt\""
      ],
      "execution_count": null,
      "outputs": []
    },
    {
      "cell_type": "markdown",
      "metadata": {
        "id": "1lyDl22DMAN9"
      },
      "source": [
        "#Step 2: Preprocess the Dataset\n",
        "The dataset has Unicode characters, which have to be normalized.\n",
        "\n",
        "Moreover, all the tokens in the sequences have to be cleaned using the regular expressions library.\n",
        "\n",
        "Remove unwanted spaces, include a space between every word and the punctuation following it (to differentiate between both), replace unwanted characters with spaces, and append <start> and <end> tokens to specify the start and end of a sequence.\n",
        "\n",
        "Encapsulate the unicode conversion in a function unicode_to_ascii() and sequence preprocessing in a function preprocess_sentence()."
      ]
    },
    {
      "cell_type": "code",
      "metadata": {
        "id": "D5kXbWDVMB_-"
      },
      "source": [
        "import unicodedata\n",
        "\n",
        "import re\n",
        "\n",
        "# Convert the unicode sequence to ascii\n",
        "# вот этого у нас не было\n",
        "def unicode_to_ascii(s):\n",
        "\n",
        "  # Normalize the unicode string and remove the non-spacking mark\n",
        "  return ''.join(c for c in unicodedata.normalize('NFD', s)\n",
        "      if unicodedata.category(c) != 'Mn')\n",
        "\n",
        "# Preprocess the sequence\n",
        "def preprocess_sentence(w):\n",
        "\n",
        "  # Clean the sequence\n",
        "  w = unicode_to_ascii(w.lower().strip())\n",
        "\n",
        "  # Create a space between word and the punctuation following it\n",
        "  w = re.sub(r\"([?.!,¿])\", r\" \\1 \", w)\n",
        "  w = re.sub(r'[\" \"]+', \" \", w)\n",
        "\n",
        "  # Replace everything with space except (a-z, A-Z, \".\", \"?\", \"!\", \",\")\n",
        "  #w = re.sub(r\"[^a-zA-Z?.!,¿]+\", \" \", w)\n",
        "  # сделаем универсальным и для русских текстов\n",
        "  w = re.sub(r\"[^a-zA-Zа-яёА-ЯЁ?.!,;:¿]+\", \" \", w) # добавим еще букуву '¿' из оригинала\n",
        "  # Перевёрнутый вопросительный знак в испанском языке ставят в начале вопросительного предложения \n",
        "  #и он является усиливающим дополнением к традиционному во всех языках вопросительному знаку.\n",
        "\n",
        "  w = w.strip()\n",
        "\n",
        "  # Add a start and stop token to detect the start and end of the sequence\n",
        "  w = '<start> ' + w + ' <end>'\n",
        "  return w"
      ],
      "execution_count": null,
      "outputs": []
    },
    {
      "cell_type": "markdown",
      "metadata": {
        "id": "PEPIpJ70NUti"
      },
      "source": [
        "#Step 3: Prepare the Dataset"
      ]
    },
    {
      "cell_type": "code",
      "metadata": {
        "id": "NGlBtei7NZaF"
      },
      "source": [
        "#Next, prepare a dataset out of the raw data we have. Create word pairs combining the English sequences and their related French sequences.\n",
        "\n",
        "import io\n",
        "\n",
        "# Create the Dataset\n",
        "def create_dataset(path, num_examples):\n",
        "  lines = io.open(path, encoding='UTF-8').read().strip().split('\\n')\n",
        "\n",
        "  # Loop through lines (sequences) and extract the English and French sequences. Store them as a word-pair\n",
        "  word_pairs = [[preprocess_sentence(w) for w in l.split('\\t', 2)[:-1]]  for l in lines[:num_examples]]\n",
        "  return zip(*word_pairs)"
      ],
      "execution_count": null,
      "outputs": []
    },
    {
      "cell_type": "code",
      "metadata": {
        "colab": {
          "base_uri": "https://localhost:8080/"
        },
        "id": "nSNB7tnBNjQf",
        "outputId": "d39f3d50-78b3-489e-e0fa-0f3eb2eab2b7"
      },
      "source": [
        "# Check if the dataset has been created properly.\n",
        "\n",
        "%time en, fra = create_dataset(path_to_file, None)\n",
        "print(en[-1])\n",
        "print(fra[-1])"
      ],
      "execution_count": null,
      "outputs": [
        {
          "output_type": "stream",
          "text": [
            "CPU times: user 9.32 s, sys: 245 ms, total: 9.57 s\n",
            "Wall time: 9.57 s\n",
            "<start> it may be impossible to get a completely error free corpus due to the nature of this kind of collaborative effort . however , if we encourage members to contribute sentences in their own languages rather than experiment in languages they are learning , we might be able to minimize errors . <end>\n",
            "<start> il est peut etre impossible d obtenir un corpus completement denue de fautes , etant donnee la nature de ce type d entreprise collaborative . cependant , si nous encourageons les membres a produire des phrases dans leurs propres langues plutot que d experimenter dans les langues qu ils apprennent , nous pourrions etre en mesure de reduire les erreurs . <end>\n"
          ],
          "name": "stdout"
        }
      ]
    },
    {
      "cell_type": "markdown",
      "metadata": {
        "id": "XVetNCNdNz-P"
      },
      "source": [
        "Now tokenize the sequences. Tokenization is the mechanism of creating an internal vocabulary comprising English and French tokens (i.e. words), converting the tokens (or, in general, sequences) to integers, and padding them all to make the sequences possess the same length. All in all, tokenization facilitates the model training process.\n",
        "\n",
        "Create a function tokenize() to encapsulate all the above-mentioned requirements."
      ]
    },
    {
      "cell_type": "code",
      "metadata": {
        "id": "rs5tBlAGN1hT"
      },
      "source": [
        "# Тоже стнадартно\n",
        "import tensorflow as tf\n",
        "\n",
        "# Convert sequences to tokenizers\n",
        "def tokenize(lang):\n",
        "  lang_tokenizer = tf.keras.preprocessing.text.Tokenizer(\n",
        "      filters='')\n",
        "  \n",
        "  # Convert sequences into internal vocab\n",
        "  lang_tokenizer.fit_on_texts(lang)\n",
        "\n",
        "  # Convert internal vocab to numbers\n",
        "  tensor = lang_tokenizer.texts_to_sequences(lang)\n",
        "\n",
        "  # Pad the tensors to assign equal length to all the sequences\n",
        "  tensor = tf.keras.preprocessing.sequence.pad_sequences(tensor,\n",
        "                                                         padding='post')\n",
        "  # обрезает по длине максимально длинного предложения в корпусе текста\n",
        "\n",
        "  return tensor, lang_tokenizer"
      ],
      "execution_count": null,
      "outputs": []
    },
    {
      "cell_type": "code",
      "metadata": {
        "id": "3jUr-OAeOO2y"
      },
      "source": [
        "#Load the tokenized dataset by calling the create_dataset() and tokenize() functions.\n",
        "\n",
        "# Load the dataset\n",
        "def load_dataset(path, num_examples=None):\n",
        " \n",
        "  # Create dataset (targ_lan = English, inp_lang = French)\n",
        "  targ_lang, inp_lang = create_dataset(path, num_examples)\n",
        "\n",
        "  # Tokenize the sequences\n",
        "  input_tensor, inp_lang_tokenizer = tokenize(inp_lang)\n",
        "  target_tensor, targ_lang_tokenizer = tokenize(targ_lang)\n",
        "\n",
        "  return input_tensor, target_tensor, inp_lang_tokenizer, targ_lang_tokenizer"
      ],
      "execution_count": null,
      "outputs": []
    },
    {
      "cell_type": "code",
      "metadata": {
        "colab": {
          "base_uri": "https://localhost:8080/"
        },
        "id": "p0QNy2F1OZhA",
        "outputId": "cd972a71-f4b3-4626-86ec-020fa8383bd9"
      },
      "source": [
        "# Reduce the number of data samples required to train the model. Employing the whole dataset will consume a lot more time for training the model.\n",
        "\n",
        "# Consider 50k examples\n",
        "num_examples = 50000\n",
        "%time input_tensor, target_tensor, inp_lang, targ_lang = load_dataset(path_to_file, num_examples)\n",
        "\n",
        "# Calculate max_length of the target tensors\n",
        "max_length_targ, max_length_inp = target_tensor.shape[1], input_tensor.shape[1]\n",
        "# тоже более простой способ определения max_length_targ, max_length_inp"
      ],
      "execution_count": null,
      "outputs": [
        {
          "output_type": "stream",
          "text": [
            "CPU times: user 4.2 s, sys: 138 ms, total: 4.34 s\n",
            "Wall time: 4.31 s\n"
          ],
          "name": "stdout"
        }
      ]
    },
    {
      "cell_type": "code",
      "metadata": {
        "colab": {
          "base_uri": "https://localhost:8080/"
        },
        "id": "CjfQ-GBPOuI5",
        "outputId": "9dc36373-6069-4320-be68-b5272b288b26"
      },
      "source": [
        "print(max_length_targ, max_length_inp)"
      ],
      "execution_count": null,
      "outputs": [
        {
          "output_type": "stream",
          "text": [
            "11 19\n"
          ],
          "name": "stdout"
        }
      ]
    },
    {
      "cell_type": "markdown",
      "metadata": {
        "id": "EqSndvY8O20E"
      },
      "source": [
        "#Step 4: Create the Dataset"
      ]
    },
    {
      "cell_type": "code",
      "metadata": {
        "colab": {
          "base_uri": "https://localhost:8080/"
        },
        "id": "9ZoQcJe5O0sa",
        "outputId": "1b6b72b1-e897-4e12-e7c0-e6c80f528dfe"
      },
      "source": [
        "# Segregate the train and validation datasets.\n",
        "\n",
        "#!pip3 install sklearn\n",
        "\n",
        "from sklearn.model_selection import train_test_split\n",
        "\n",
        "# Create training and validation sets using an 80/20 split\n",
        "input_tensor_train, input_tensor_val, target_tensor_train, target_tensor_val = train_test_split(input_tensor, target_tensor, test_size=0.2)\n",
        "\n",
        "print(len(input_tensor_train), len(target_tensor_train), len(input_tensor_val), len(target_tensor_val))"
      ],
      "execution_count": null,
      "outputs": [
        {
          "output_type": "stream",
          "text": [
            "40000 40000 10000 10000\n"
          ],
          "name": "stdout"
        }
      ]
    },
    {
      "cell_type": "code",
      "metadata": {
        "colab": {
          "base_uri": "https://localhost:8080/"
        },
        "id": "mGvNvz91PBGp",
        "outputId": "864453ea-2370-4d39-b580-b37fb2a8c929"
      },
      "source": [
        "#Validate the mapping that’s been created between the tokens of the sequences and the indices.\n",
        "\n",
        "# Show the mapping b/w word index and language tokenizer\n",
        "def convert(lang, tensor):\n",
        "  for t in tensor:\n",
        "    if t != 0:\n",
        "      try:\n",
        "        el_seq = lang.index_word[t]\n",
        "        print (\"%d ----> %s\" % (t, el_seq)) # lang.index_word[t]))\n",
        "      except:\n",
        "        print (\"There is no word whith index '%05i' in the dictionary \" % (t ))\n",
        "      \n",
        "print (\"Input Language; index to word mapping\")\n",
        "convert(inp_lang, input_tensor_train[0])\n",
        "print ()\n",
        "print (\"Target Language; index to word mapping\")\n",
        "convert(targ_lang, target_tensor_train[0])"
      ],
      "execution_count": null,
      "outputs": [
        {
          "output_type": "stream",
          "text": [
            "Input Language; index to word mapping\n",
            "1 ----> <start>\n",
            "81 ----> on\n",
            "68 ----> se\n",
            "1329 ----> voit\n",
            "271 ----> demain\n",
            "3 ----> .\n",
            "2 ----> <end>\n",
            "\n",
            "Target Language; index to word mapping\n",
            "1 ----> <start>\n",
            "4 ----> i\n",
            "37 ----> ll\n",
            "80 ----> see\n",
            "5 ----> you\n",
            "277 ----> tomorrow\n",
            "3 ----> .\n",
            "2 ----> <end>\n"
          ],
          "name": "stdout"
        }
      ]
    },
    {
      "cell_type": "code",
      "metadata": {
        "colab": {
          "base_uri": "https://localhost:8080/"
        },
        "id": "wNa1ROcOPJw7",
        "outputId": "c2b33155-d8c0-486b-8e55-15fc73a46306"
      },
      "source": [
        "# проверим на отсутсвующие слова\n",
        "#convert(targ_lang, '<start> по русски <end>')\n",
        "print(target_tensor_train[0])\n",
        "#convert(targ_lang, np.array([1, 100000, 2])) #'<start> faisons <end>')\n",
        "convert(targ_lang, [1, 100000, 2]) \n",
        "# подправим на отсуствующие слова"
      ],
      "execution_count": null,
      "outputs": [
        {
          "output_type": "stream",
          "text": [
            "[  1   4  37  80   5 277   3   2   0   0   0]\n",
            "1 ----> <start>\n",
            "There is no word whith index '100000' in the dictionary \n",
            "2 ----> <end>\n"
          ],
          "name": "stdout"
        }
      ]
    },
    {
      "cell_type": "markdown",
      "metadata": {
        "id": "8w2KhwxMRXcH"
      },
      "source": [
        "#Step 5: Initialize the Model Parameters\n",
        "With the dataset in hand, start initializing the model parameters.\n",
        "\n",
        "- BUFFER_SIZE: Total number of input/target samples. In our model, it’s 40,000.\n",
        "- BATCH_SIZE: Length of the training batch.\n",
        "- steps_per_epoch: The number of steps per epoch. Computed by dividing - BUFFER_SIZE by BATCH_SIZE.\n",
        "- embedding_dim: Number of nodes in the embedding layer.\n",
        "- units: Hidden units in the network.\n",
        "- vocab_inp_size: Length of the input (French) vocabulary.\n",
        "- vocab_tar_size: Length of the output (English) vocabulary."
      ]
    },
    {
      "cell_type": "code",
      "metadata": {
        "id": "NrDBj5P1Rgn8"
      },
      "source": [
        "# Essential model parameters\n",
        "BUFFER_SIZE = len(input_tensor_train)\n",
        "BATCH_SIZE = 64\n",
        "steps_per_epoch = len(input_tensor_train)//BATCH_SIZE\n",
        "embedding_dim = 256\n",
        "units = 1024\n",
        "vocab_inp_size = len(inp_lang.word_index) + 1\n",
        "vocab_tar_size = len(targ_lang.word_index) + 1"
      ],
      "execution_count": null,
      "outputs": []
    },
    {
      "cell_type": "code",
      "metadata": {
        "id": "kN1ITWl4ScaM"
      },
      "source": [
        "#Next, call the tf.data.Dataset API and create a proper dataset.\n",
        "\n",
        "dataset = tf.data.Dataset.from_tensor_slices((input_tensor_train, target_tensor_train)).shuffle(BUFFER_SIZE)\n",
        "dataset = dataset.batch(BATCH_SIZE, drop_remainder=True)"
      ],
      "execution_count": null,
      "outputs": []
    },
    {
      "cell_type": "code",
      "metadata": {
        "colab": {
          "base_uri": "https://localhost:8080/"
        },
        "id": "j82KoZL_SijV",
        "outputId": "f065f8a5-3920-4cb0-969c-5ef1efb4ccdf"
      },
      "source": [
        "# Size of input and target batches\n",
        "example_input_batch, example_target_batch = next(iter(dataset))\n",
        "example_input_batch.shape, example_target_batch.shape"
      ],
      "execution_count": null,
      "outputs": [
        {
          "output_type": "execute_result",
          "data": {
            "text/plain": [
              "(TensorShape([64, 19]), TensorShape([64, 11]))"
            ]
          },
          "metadata": {
            "tags": []
          },
          "execution_count": 15
        }
      ]
    },
    {
      "cell_type": "markdown",
      "metadata": {
        "id": "puM8hB7kSm_W"
      },
      "source": [
        "#Step 6: Encoder Class\n",
        "The first step in creating an encoder-decoder sequence-to-sequence model (with an attention mechanism) is creating an encoder. For the application at hand, create an encoder with an embedding layer followed by a GRU (Gated Recurrent Unit) layer. The input goes through the embedding layer first and then into the GRU layer. The GRU layer outputs both the encoder network output and the hidden state.\n",
        "\n",
        "Enclose the model’s __init__() and call() methods in a class Encoder.\n",
        "\n",
        "In the method, __init__(), initializes the batch size and encoding units. Add an embedding layer that accepts vocab_size as the input dimension and embedding_dim as the output dimension. Also, add a GRU layer that accepts units (dimensionality of the output space) and the first hidden dimension.\n",
        "\n",
        "In the method call(), define the forward propagation that has to happen through the encoder network.\n",
        "\n",
        "Moreover, define a method initialize_hidden_state() to initialize the hidden state with the dimensions batch_size and units.\n",
        "\n",
        "Add the following code as part of your Encoder class.\n",
        "\n"
      ]
    },
    {
      "cell_type": "code",
      "metadata": {
        "id": "__sIm5HbSrc5"
      },
      "source": [
        "# Encoder class\n",
        "class Encoder(tf.keras.Model):\n",
        "  def __init__(self, vocab_size, embedding_dim, enc_units, batch_sz):\n",
        "    super(Encoder, self).__init__()\n",
        "    self.batch_sz = batch_sz\n",
        "    self.enc_units = enc_units\n",
        "\n",
        "    # Embed the vocab to a dense embedding \n",
        "    self.embedding = tf.keras.layers.Embedding(vocab_size, embedding_dim)\n",
        "\n",
        "    # GRU Layer\n",
        "    # glorot_uniform: Initializer for the recurrent_kernel weights matrix, \n",
        "    # used for the linear transformation of the recurrent state\n",
        "    self.gru = tf.keras.layers.GRU(self.enc_units,\n",
        "                                   return_sequences=True,\n",
        "                                   return_state=True,\n",
        "                                   recurrent_initializer='glorot_uniform')\n",
        "\n",
        "  # Encoder network comprises an Embedding layer followed by a GRU layer\n",
        "  def call(self, x, hidden):\n",
        "    x = self.embedding(x)\n",
        "    output, state = self.gru(x, initial_state=hidden)\n",
        "    return output, state\n",
        "\n",
        "  # To initialize the hidden state\n",
        "  def initialize_hidden_state(self):\n",
        "    return tf.zeros((self.batch_sz, self.enc_units))"
      ],
      "execution_count": null,
      "outputs": []
    },
    {
      "cell_type": "code",
      "metadata": {
        "colab": {
          "base_uri": "https://localhost:8080/"
        },
        "id": "U_0RADipSzRZ",
        "outputId": "53ba8a6a-8834-40c1-acc3-de9682341cee"
      },
      "source": [
        "#Call the encoder class to check the shapes of the encoder output and hidden state.\n",
        "\n",
        "encoder = Encoder(vocab_inp_size, embedding_dim, units, BATCH_SIZE)\n",
        "\n",
        "sample_hidden = encoder.initialize_hidden_state()\n",
        "sample_output, sample_hidden = encoder(example_input_batch, sample_hidden)\n",
        "\n",
        "print ('Encoder output shape: (batch size, sequence length, units) {}'.format(sample_output.shape))\n",
        "print ('Encoder Hidden state shape: (batch size, units) {}'.format(sample_hidden.shape))\n"
      ],
      "execution_count": null,
      "outputs": [
        {
          "output_type": "stream",
          "text": [
            "Encoder output shape: (batch size, sequence length, units) (64, 19, 1024)\n",
            "Encoder Hidden state shape: (batch size, units) (64, 1024)\n"
          ],
          "name": "stdout"
        }
      ]
    },
    {
      "cell_type": "markdown",
      "metadata": {
        "id": "bVbbQG5qS6uM"
      },
      "source": [
        "#Step 7: Attention Mechanism Class\n",
        "This step captures the attention mechanism.\n",
        "\n",
        "Compute the sum (or product) of the encoder’s outputs and decoder states.\n",
        "- Pass the generated output through a fully-connected network.\n",
        "- Apply softmax activation to the output. This gives the attention weights.\n",
        "- Create the context vector by computing the weighted sum of attention weights and encoder’s outputs.\n",
        "\n",
        "Everything thus far needs to be captured in a class BahdanauAttention. \n",
        "\n",
        "Bahdanau Attention is also called the “Additive Attention”, a Soft Attention technique. As this is additive attention, we do the sum of the encoder’s outputs and decoder hidden state (as mentioned in the first step).\n",
        "\n",
        "This class has to have __init__() and call() methods.\n",
        "\n",
        "In the __init__() method, initialize three Dense layers: one for the decoder state ('units' is the size), another for the encoder’s outputs ('units' is the size), and the other for the fully-connected network (one node).\n",
        "\n",
        "In the call() method, initialize the decoder state (s0) by taking the final encoder hidden state. \n",
        "- Pass the generated decoder hidden state through one dense layer. \n",
        "- Also, plug the encoder’s outputs through the other dense layer. \n",
        "- Add both the outputs, encase them in a tanh activation and plug them into the fully-connected layer. \n",
        "\n",
        "This fully-connected layer has one node; thus, the final output has the dimensions batch_size * max_length of the sequence * 1.\n",
        "\n",
        "Later, apply softmax on the output of the fully-connected network to generate the attention weights.\n",
        "\n",
        "Compute the context_vector by performing a weighted sum of the attention weights and the encoder’s outputs.\n",
        "\n"
      ]
    },
    {
      "cell_type": "code",
      "metadata": {
        "id": "tGDJstJDT3NP"
      },
      "source": [
        "# Attention Mechanism\n",
        "class BahdanauAttention(tf.keras.layers.Layer):\n",
        "  def __init__(self, units):\n",
        "    super(BahdanauAttention, self).__init__()\n",
        "    self.W1 = tf.keras.layers.Dense(units)\n",
        "    self.W2 = tf.keras.layers.Dense(units)\n",
        "    self.V = tf.keras.layers.Dense(1)\n",
        "\n",
        "  def call(self, query, values):\n",
        "    # query hidden state shape == (batch_size, hidden size)\n",
        "    # values shape == (batch_size, max_len, hidden size)\n",
        "\n",
        "    # we are doing this to broadcast addition along the time axis to calculate the score\n",
        "    # query_with_time_axis shape == (batch_size, 1, hidden size)\n",
        "    query_with_time_axis = tf.expand_dims(query, 1)\n",
        "\n",
        "    # score shape == (batch_size, max_length, 1)\n",
        "    # we get 1 at the last axis because we are applying score to self.V\n",
        "    # the shape of the tensor before applying self.V is (batch_size, max_length, units)\n",
        "    score = self.V(tf.nn.tanh(\n",
        "        self.W1(query_with_time_axis) + self.W2(values)))\n",
        "\n",
        "    # attention_weights shape == (batch_size, max_length, 1)\n",
        "    attention_weights = tf.nn.softmax(score, axis=1)\n",
        "\n",
        "    # context_vector shape after sum == (batch_size, hidden_size)\n",
        "    context_vector = attention_weights * values\n",
        "    context_vector = tf.reduce_sum(context_vector, axis=1)\n",
        "\n",
        "    return context_vector, attention_weights"
      ],
      "execution_count": null,
      "outputs": []
    },
    {
      "cell_type": "code",
      "metadata": {
        "colab": {
          "base_uri": "https://localhost:8080/"
        },
        "id": "Q_uA0FwhUBsv",
        "outputId": "ff84c3bd-f107-4bef-c546-dbd9921f18a9"
      },
      "source": [
        "#Validate the shapes of the attention weights and its output.\n",
        "\n",
        "attention_layer = BahdanauAttention(10)\n",
        "attention_result, attention_weights = attention_layer(sample_hidden, sample_output)\n",
        "\n",
        "print(\"Attention result shape: (batch size, units) {}\".format(attention_result.shape))\n",
        "print(\"Attention weights shape: (batch_size, sequence_length, 1) {}\".format(attention_weights.shape))"
      ],
      "execution_count": null,
      "outputs": [
        {
          "output_type": "stream",
          "text": [
            "Attention result shape: (batch size, units) (64, 1024)\n",
            "Attention weights shape: (batch_size, sequence_length, 1) (64, 19, 1)\n"
          ],
          "name": "stdout"
        }
      ]
    },
    {
      "cell_type": "markdown",
      "metadata": {
        "id": "3YVT7jFIUJVZ"
      },
      "source": [
        "sample_hidden here is the hidden state of the encoder, and sample_output denotes the encoder’s outputs."
      ]
    },
    {
      "cell_type": "markdown",
      "metadata": {
        "id": "uGT1tD_qUNDZ"
      },
      "source": [
        "#Step 8: Decoder Class\n",
        "This step encapsulates the decoding mechanism. The Decoder class has to have two methods: __init__() and call().\n",
        "\n",
        "In the __init__() method, initialize the batch size, decoder units, embedding dimension, GRU layer, and a Dense layer. Also, create an instance of the BahdanauAttention class.\n",
        "\n",
        "In the call() method:\n",
        "- Call the attention forward propagation and capture the context vector and attention weights.\n",
        "- Send the target token through an embedding layer.\n",
        "- Concatenate the embedded output and context vector.\n",
        "- Plug the output into the GRU layer and then into a fully-connected layer.\n",
        "\n",
        "Add the following code to define the Decoder class."
      ]
    },
    {
      "cell_type": "code",
      "metadata": {
        "id": "-_8bijXHUTpj"
      },
      "source": [
        "## Decoder class\n",
        "class Decoder(tf.keras.Model):\n",
        "  def __init__(self, vocab_size, embedding_dim, dec_units, batch_sz):\n",
        "    super(Decoder, self).__init__()\n",
        "    self.batch_sz = batch_sz\n",
        "    self.dec_units = dec_units\n",
        "    self.embedding = tf.keras.layers.Embedding(vocab_size, embedding_dim)\n",
        "    self.gru = tf.keras.layers.GRU(self.dec_units,\n",
        "                                   return_sequences=True,\n",
        "                                   return_state=True,\n",
        "                                   recurrent_initializer='glorot_uniform')\n",
        "    self.fc = tf.keras.layers.Dense(vocab_size)\n",
        "\n",
        "    # Used for attention\n",
        "    self.attention = BahdanauAttention(self.dec_units)\n",
        "\n",
        "  def call(self, x, hidden, enc_output):\n",
        "    # x shape == (batch_size, 1)\n",
        "    # hidden shape == (batch_size, max_length)\n",
        "    # enc_output shape == (batch_size, max_length, hidden_size)\n",
        "\n",
        "    # context_vector shape == (batch_size, hidden_size)\n",
        "    # attention_weights shape == (batch_size, max_length, 1)\n",
        "    context_vector, attention_weights = self.attention(hidden, enc_output)\n",
        "\n",
        "    # x shape after passing through embedding == (batch_size, 1, embedding_dim)\n",
        "    x = self.embedding(x)\n",
        "\n",
        "    # x shape after concatenation == (batch_size, 1, embedding_dim + hidden_size)\n",
        "    x = tf.concat([tf.expand_dims(context_vector, 1), x], axis=-1)\n",
        "\n",
        "    # passing the concatenated vector to the GRU\n",
        "    output, state = self.gru(x)\n",
        "\n",
        "    # output shape == (batch_size * 1, hidden_size)\n",
        "    output = tf.reshape(output, (-1, output.shape[2]))\n",
        "\n",
        "    # output shape == (batch_size, vocab_size)\n",
        "    x = self.fc(output)\n",
        "\n",
        "    return x, state, attention_weights"
      ],
      "execution_count": null,
      "outputs": []
    },
    {
      "cell_type": "code",
      "metadata": {
        "colab": {
          "base_uri": "https://localhost:8080/"
        },
        "id": "rbMlQqC7S5D2",
        "outputId": "a9d242d8-8608-4e21-9c54-d982e136cf9b"
      },
      "source": [
        "#Validate the decoder output shape.\n",
        "\n",
        "decoder = Decoder(vocab_tar_size, embedding_dim, units, BATCH_SIZE)\n",
        "\n",
        "sample_decoder_output, _, _ = decoder(tf.random.uniform((BATCH_SIZE, 1)),\n",
        "                                      sample_hidden, sample_output)\n",
        "\n",
        "print ('Decoder output shape: (batch_size, vocab size) {}'.format(sample_decoder_output.shape))"
      ],
      "execution_count": null,
      "outputs": [
        {
          "output_type": "stream",
          "text": [
            "Decoder output shape: (batch_size, vocab size) (64, 5918)\n"
          ],
          "name": "stdout"
        }
      ]
    },
    {
      "cell_type": "markdown",
      "metadata": {
        "id": "oLM_D8B4UnuG"
      },
      "source": [
        "#Step 9: Optimizer and Loss Functions\n",
        "Define the optimizer and loss functions.\n",
        "\n",
        "As the input sequences are being padded with zeros, nullify the loss when there’s a zero in the real value."
      ]
    },
    {
      "cell_type": "code",
      "metadata": {
        "id": "klNgjPM-Uoo7"
      },
      "source": [
        "# Initialize optimizer and loss functions\n",
        "optimizer = tf.keras.optimizers.Adam()\n",
        "\n",
        "loss_object = tf.keras.losses.SparseCategoricalCrossentropy(\n",
        "    from_logits=True, reduction='none')\n",
        "\n",
        "# Loss function\n",
        "def loss_function(real, pred):\n",
        "\n",
        "  # Take care of the padding. Not all sequences are of equal length.\n",
        "  # If there's a '0' in the sequence, the loss is being nullified\n",
        "  mask = tf.math.logical_not(tf.math.equal(real, 0))\n",
        "  loss_ = loss_object(real, pred)\n",
        "\n",
        "  mask = tf.cast(mask, dtype=loss_.dtype)\n",
        "  loss_ *= mask\n",
        "\n",
        "  return tf.reduce_mean(loss_)"
      ],
      "execution_count": null,
      "outputs": []
    },
    {
      "cell_type": "markdown",
      "metadata": {
        "id": "aypSF6V9Uun4"
      },
      "source": [
        "#Step 10: Train the Model\n",
        "Checkpoint your model’s weights during training. This helps in the automatic retrieval of the weights while evaluating the model.\n",
        "\n"
      ]
    },
    {
      "cell_type": "code",
      "metadata": {
        "id": "OjtL6Tw7UvZN"
      },
      "source": [
        "import os\n",
        "\n",
        "checkpoint_dir = './training_checkpoints'\n",
        "checkpoint_prefix = os.path.join(checkpoint_dir, \"ckpt\")\n",
        "checkpoint = tf.train.Checkpoint(optimizer=optimizer,\n",
        "                                 encoder=encoder,\n",
        "                                 decoder=decoder)"
      ],
      "execution_count": null,
      "outputs": []
    },
    {
      "cell_type": "markdown",
      "metadata": {
        "id": "CAkiknoIU1Kk"
      },
      "source": [
        "Next, define the training procedure. First, call the encoder class and procure the encoder outputs and final hidden state. Initialize the decoder input to have the <start> token spread across all the input sequences (indicated using the BATCH_SIZE). \n",
        "\n",
        "Use the teacher forcing technique to iterate over all decoder states by feeding the target as the next input. This loop continues until every token in the target sequence (English) is visited.\n",
        "\n",
        "Call the decoder class with decoder input, decoder hidden state, and encoder’s outputs. Procure the decoder output and hidden state. Compute the loss by comparing the real against the predicted value of the target. Fetch the target token and feed it to the next decoder state (concerning the successive target token). Also, make a note that the target decoder hidden state will be the next decoder hidden state.\n",
        "\n",
        "After the teacher forcing technique gets finished, compute the batch loss, and run the optimizer to update the model's variables."
      ]
    },
    {
      "cell_type": "code",
      "metadata": {
        "id": "Og8xcgn7U8T7"
      },
      "source": [
        "@tf.function\n",
        "def train_step(inp, targ, enc_hidden):\n",
        "  loss = 0\n",
        "\n",
        "  # tf.GradientTape() -- record operations for automatic differentiation\n",
        "  with tf.GradientTape() as tape:\n",
        "    enc_output, enc_hidden = encoder(inp, enc_hidden)\n",
        "\n",
        "    # dec_hidden is used by attention, hence is the same enc_hidden\n",
        "    dec_hidden = enc_hidden\n",
        "\n",
        "    # <start> token is the initial decoder input\n",
        "    dec_input = tf.expand_dims([targ_lang.word_index['<start>']] * BATCH_SIZE, 1)\n",
        "\n",
        "    # Teacher forcing - feeding the target as the next input\n",
        "    for t in range(1, targ.shape[1]):\n",
        "\n",
        "      # Pass enc_output to the decoder\n",
        "      predictions, dec_hidden, _ = decoder(dec_input, dec_hidden, enc_output)\n",
        "\n",
        "      # Compute the loss\n",
        "      loss += loss_function(targ[:, t], predictions)\n",
        "\n",
        "      # Use teacher forcing\n",
        "      dec_input = tf.expand_dims(targ[:, t], 1)\n",
        "\n",
        "  # As this function is called per batch, compute the batch_loss\n",
        "  batch_loss = (loss / int(targ.shape[1]))\n",
        "\n",
        "  # Get the model's variables\n",
        "  variables = encoder.trainable_variables + decoder.trainable_variables\n",
        "\n",
        "  # Compute the gradients\n",
        "  gradients = tape.gradient(loss, variables)\n",
        "\n",
        "  # Update the variables of the model/network\n",
        "  optimizer.apply_gradients(zip(gradients, variables))\n",
        "\n",
        "  return batch_loss"
      ],
      "execution_count": null,
      "outputs": []
    },
    {
      "cell_type": "markdown",
      "metadata": {
        "id": "flcNKohEVBby"
      },
      "source": [
        "Now initialize the actual training loop. Run your loop over a specified number of epochs. First, initialize the encoder hidden state using the method initialize_hidden_state(). Loop through the dataset one batch at a time (per epoch). Call the train_step() method per batch and compute the loss. Continue until all the epochs have been covered."
      ]
    },
    {
      "cell_type": "code",
      "metadata": {
        "colab": {
          "base_uri": "https://localhost:8080/"
        },
        "id": "ljVdQspZVFTs",
        "outputId": "fa49f2ee-2088-4dc1-a767-64e3130f2795"
      },
      "source": [
        "import time\n",
        "\n",
        "EPOCHS = 30\n",
        "\n",
        "# Training loop\n",
        "for epoch in range(EPOCHS):\n",
        "  start = time.time()\n",
        "\n",
        "  # Initialize the hidden state\n",
        "  enc_hidden = encoder.initialize_hidden_state()\n",
        "  total_loss = 0\n",
        "\n",
        "  # Loop through the dataset\n",
        "  for (batch, (inp, targ)) in enumerate(dataset.take(steps_per_epoch)):\n",
        "\n",
        "    # Call the train method\n",
        "    batch_loss = train_step(inp, targ, enc_hidden)\n",
        "\n",
        "    # Compute the loss (per batch)\n",
        "    total_loss += batch_loss\n",
        "\n",
        "    if batch % 100 == 0:\n",
        "      print('Epoch {} Batch {} Loss {:.4f}'.format(epoch + 1,\n",
        "                                                   batch,\n",
        "                                                   batch_loss.numpy()))\n",
        "  # Save (checkpoint) the model every 2 epochs\n",
        "  if (epoch + 1) % 2 == 0:\n",
        "    checkpoint.save(file_prefix = checkpoint_prefix)\n",
        "\n",
        "  # Output the loss observed until that epoch\n",
        "  print('Epoch {} Loss {:.4f}'.format(epoch + 1,\n",
        "                                      total_loss / steps_per_epoch))\n",
        "  \n",
        "  print('Time taken for 1 epoch {} sec\\n'.format(time.time() - start))"
      ],
      "execution_count": null,
      "outputs": [
        {
          "output_type": "stream",
          "text": [
            "Epoch 1 Batch 0 Loss 4.8492\n",
            "Epoch 1 Batch 100 Loss 2.1289\n",
            "Epoch 1 Batch 200 Loss 1.8440\n",
            "Epoch 1 Batch 300 Loss 1.7853\n",
            "Epoch 1 Batch 400 Loss 1.5270\n",
            "Epoch 1 Batch 500 Loss 1.5625\n",
            "Epoch 1 Batch 600 Loss 1.2629\n",
            "Epoch 1 Loss 1.8229\n",
            "Time taken for 1 epoch 144.36796307563782 sec\n",
            "\n",
            "Epoch 2 Batch 0 Loss 1.3848\n",
            "Epoch 2 Batch 100 Loss 1.3468\n",
            "Epoch 2 Batch 200 Loss 1.0773\n",
            "Epoch 2 Batch 300 Loss 1.0205\n",
            "Epoch 2 Batch 400 Loss 0.9292\n",
            "Epoch 2 Batch 500 Loss 0.8865\n",
            "Epoch 2 Batch 600 Loss 0.8973\n",
            "Epoch 2 Loss 1.0452\n",
            "Time taken for 1 epoch 128.30960702896118 sec\n",
            "\n",
            "Epoch 3 Batch 0 Loss 0.7059\n",
            "Epoch 3 Batch 100 Loss 0.6930\n",
            "Epoch 3 Batch 200 Loss 0.5542\n",
            "Epoch 3 Batch 300 Loss 0.6007\n",
            "Epoch 3 Batch 400 Loss 0.5907\n",
            "Epoch 3 Batch 500 Loss 0.7067\n",
            "Epoch 3 Batch 600 Loss 0.6093\n",
            "Epoch 3 Loss 0.6262\n",
            "Time taken for 1 epoch 127.52085089683533 sec\n",
            "\n",
            "Epoch 4 Batch 0 Loss 0.4589\n",
            "Epoch 4 Batch 100 Loss 0.3567\n",
            "Epoch 4 Batch 200 Loss 0.3951\n",
            "Epoch 4 Batch 300 Loss 0.2587\n",
            "Epoch 4 Batch 400 Loss 0.3725\n",
            "Epoch 4 Batch 500 Loss 0.4858\n",
            "Epoch 4 Batch 600 Loss 0.3908\n",
            "Epoch 4 Loss 0.3926\n",
            "Time taken for 1 epoch 128.01284527778625 sec\n",
            "\n",
            "Epoch 5 Batch 0 Loss 0.2816\n",
            "Epoch 5 Batch 100 Loss 0.2660\n",
            "Epoch 5 Batch 200 Loss 0.2344\n",
            "Epoch 5 Batch 300 Loss 0.2955\n",
            "Epoch 5 Batch 400 Loss 0.2598\n",
            "Epoch 5 Batch 500 Loss 0.3030\n",
            "Epoch 5 Batch 600 Loss 0.2635\n",
            "Epoch 5 Loss 0.2625\n",
            "Time taken for 1 epoch 127.60985589027405 sec\n",
            "\n",
            "Epoch 6 Batch 0 Loss 0.1768\n",
            "Epoch 6 Batch 100 Loss 0.2372\n",
            "Epoch 6 Batch 200 Loss 0.1695\n",
            "Epoch 6 Batch 300 Loss 0.1686\n",
            "Epoch 6 Batch 400 Loss 0.1534\n",
            "Epoch 6 Batch 500 Loss 0.1895\n",
            "Epoch 6 Batch 600 Loss 0.2815\n",
            "Epoch 6 Loss 0.1873\n",
            "Time taken for 1 epoch 128.38729095458984 sec\n",
            "\n",
            "Epoch 7 Batch 0 Loss 0.1247\n",
            "Epoch 7 Batch 100 Loss 0.1104\n",
            "Epoch 7 Batch 200 Loss 0.1314\n",
            "Epoch 7 Batch 300 Loss 0.1403\n",
            "Epoch 7 Batch 400 Loss 0.1458\n",
            "Epoch 7 Batch 500 Loss 0.1294\n",
            "Epoch 7 Batch 600 Loss 0.1341\n",
            "Epoch 7 Loss 0.1420\n",
            "Time taken for 1 epoch 128.1372585296631 sec\n",
            "\n",
            "Epoch 8 Batch 0 Loss 0.1133\n",
            "Epoch 8 Batch 100 Loss 0.0765\n",
            "Epoch 8 Batch 200 Loss 0.1219\n",
            "Epoch 8 Batch 300 Loss 0.1462\n",
            "Epoch 8 Batch 400 Loss 0.1220\n",
            "Epoch 8 Batch 500 Loss 0.1029\n",
            "Epoch 8 Batch 600 Loss 0.1213\n",
            "Epoch 8 Loss 0.1156\n",
            "Time taken for 1 epoch 128.75131225585938 sec\n",
            "\n",
            "Epoch 9 Batch 0 Loss 0.0859\n",
            "Epoch 9 Batch 100 Loss 0.0748\n",
            "Epoch 9 Batch 200 Loss 0.1056\n",
            "Epoch 9 Batch 300 Loss 0.1309\n",
            "Epoch 9 Batch 400 Loss 0.0949\n",
            "Epoch 9 Batch 500 Loss 0.0863\n",
            "Epoch 9 Batch 600 Loss 0.1486\n",
            "Epoch 9 Loss 0.0997\n",
            "Time taken for 1 epoch 127.65864586830139 sec\n",
            "\n",
            "Epoch 10 Batch 0 Loss 0.0600\n",
            "Epoch 10 Batch 100 Loss 0.0653\n",
            "Epoch 10 Batch 200 Loss 0.0733\n",
            "Epoch 10 Batch 300 Loss 0.1094\n",
            "Epoch 10 Batch 400 Loss 0.0754\n",
            "Epoch 10 Batch 500 Loss 0.0845\n",
            "Epoch 10 Batch 600 Loss 0.0770\n",
            "Epoch 10 Loss 0.0883\n",
            "Time taken for 1 epoch 128.48457026481628 sec\n",
            "\n",
            "Epoch 11 Batch 0 Loss 0.0682\n",
            "Epoch 11 Batch 100 Loss 0.0605\n",
            "Epoch 11 Batch 200 Loss 0.0739\n",
            "Epoch 11 Batch 300 Loss 0.0555\n",
            "Epoch 11 Batch 400 Loss 0.0754\n",
            "Epoch 11 Batch 500 Loss 0.0858\n",
            "Epoch 11 Batch 600 Loss 0.1034\n",
            "Epoch 11 Loss 0.0819\n",
            "Time taken for 1 epoch 127.44990086555481 sec\n",
            "\n",
            "Epoch 12 Batch 0 Loss 0.0721\n",
            "Epoch 12 Batch 100 Loss 0.0751\n",
            "Epoch 12 Batch 200 Loss 0.0784\n",
            "Epoch 12 Batch 300 Loss 0.0637\n",
            "Epoch 12 Batch 400 Loss 0.0612\n",
            "Epoch 12 Batch 500 Loss 0.1022\n",
            "Epoch 12 Batch 600 Loss 0.0859\n",
            "Epoch 12 Loss 0.0759\n",
            "Time taken for 1 epoch 127.85005593299866 sec\n",
            "\n",
            "Epoch 13 Batch 0 Loss 0.0523\n",
            "Epoch 13 Batch 100 Loss 0.0626\n",
            "Epoch 13 Batch 200 Loss 0.0800\n",
            "Epoch 13 Batch 300 Loss 0.0701\n",
            "Epoch 13 Batch 400 Loss 0.0724\n",
            "Epoch 13 Batch 500 Loss 0.0705\n",
            "Epoch 13 Batch 600 Loss 0.0729\n",
            "Epoch 13 Loss 0.0714\n",
            "Time taken for 1 epoch 127.49929118156433 sec\n",
            "\n",
            "Epoch 14 Batch 0 Loss 0.0243\n",
            "Epoch 14 Batch 100 Loss 0.0614\n",
            "Epoch 14 Batch 200 Loss 0.0497\n",
            "Epoch 14 Batch 300 Loss 0.0888\n",
            "Epoch 14 Batch 400 Loss 0.0609\n",
            "Epoch 14 Batch 500 Loss 0.0720\n",
            "Epoch 14 Batch 600 Loss 0.0543\n",
            "Epoch 14 Loss 0.0684\n",
            "Time taken for 1 epoch 128.04587292671204 sec\n",
            "\n",
            "Epoch 15 Batch 0 Loss 0.0539\n",
            "Epoch 15 Batch 100 Loss 0.0880\n",
            "Epoch 15 Batch 200 Loss 0.0297\n",
            "Epoch 15 Batch 300 Loss 0.0474\n",
            "Epoch 15 Batch 400 Loss 0.0865\n",
            "Epoch 15 Batch 500 Loss 0.0760\n",
            "Epoch 15 Batch 600 Loss 0.1132\n",
            "Epoch 15 Loss 0.0641\n",
            "Time taken for 1 epoch 127.27607893943787 sec\n",
            "\n",
            "Epoch 16 Batch 0 Loss 0.0571\n",
            "Epoch 16 Batch 100 Loss 0.1063\n",
            "Epoch 16 Batch 200 Loss 0.0686\n",
            "Epoch 16 Batch 300 Loss 0.0600\n",
            "Epoch 16 Batch 400 Loss 0.0761\n",
            "Epoch 16 Batch 500 Loss 0.0660\n",
            "Epoch 16 Batch 600 Loss 0.0705\n",
            "Epoch 16 Loss 0.0618\n",
            "Time taken for 1 epoch 128.20140647888184 sec\n",
            "\n",
            "Epoch 17 Batch 0 Loss 0.0354\n",
            "Epoch 17 Batch 100 Loss 0.0560\n",
            "Epoch 17 Batch 200 Loss 0.0234\n",
            "Epoch 17 Batch 300 Loss 0.0870\n",
            "Epoch 17 Batch 400 Loss 0.0441\n",
            "Epoch 17 Batch 500 Loss 0.0546\n",
            "Epoch 17 Batch 600 Loss 0.0545\n",
            "Epoch 17 Loss 0.0595\n",
            "Time taken for 1 epoch 127.41766905784607 sec\n",
            "\n",
            "Epoch 18 Batch 0 Loss 0.0297\n",
            "Epoch 18 Batch 100 Loss 0.0598\n",
            "Epoch 18 Batch 200 Loss 0.0571\n",
            "Epoch 18 Batch 300 Loss 0.0378\n",
            "Epoch 18 Batch 400 Loss 0.0883\n",
            "Epoch 18 Batch 500 Loss 0.0711\n",
            "Epoch 18 Batch 600 Loss 0.0549\n",
            "Epoch 18 Loss 0.0587\n",
            "Time taken for 1 epoch 127.85002326965332 sec\n",
            "\n",
            "Epoch 19 Batch 0 Loss 0.0666\n",
            "Epoch 19 Batch 100 Loss 0.0382\n",
            "Epoch 19 Batch 200 Loss 0.0381\n",
            "Epoch 19 Batch 300 Loss 0.0386\n",
            "Epoch 19 Batch 400 Loss 0.0527\n",
            "Epoch 19 Batch 500 Loss 0.0595\n",
            "Epoch 19 Batch 600 Loss 0.0685\n",
            "Epoch 19 Loss 0.0575\n",
            "Time taken for 1 epoch 127.15791201591492 sec\n",
            "\n",
            "Epoch 20 Batch 0 Loss 0.0425\n",
            "Epoch 20 Batch 100 Loss 0.0775\n",
            "Epoch 20 Batch 200 Loss 0.0469\n",
            "Epoch 20 Batch 300 Loss 0.0655\n",
            "Epoch 20 Batch 400 Loss 0.0633\n",
            "Epoch 20 Batch 500 Loss 0.0593\n",
            "Epoch 20 Batch 600 Loss 0.0623\n",
            "Epoch 20 Loss 0.0538\n",
            "Time taken for 1 epoch 127.51484107971191 sec\n",
            "\n",
            "Epoch 21 Batch 0 Loss 0.0603\n",
            "Epoch 21 Batch 100 Loss 0.0662\n",
            "Epoch 21 Batch 200 Loss 0.0392\n",
            "Epoch 21 Batch 300 Loss 0.0335\n",
            "Epoch 21 Batch 400 Loss 0.0494\n",
            "Epoch 21 Batch 500 Loss 0.0557\n",
            "Epoch 21 Batch 600 Loss 0.0651\n",
            "Epoch 21 Loss 0.0523\n",
            "Time taken for 1 epoch 126.97018361091614 sec\n",
            "\n",
            "Epoch 22 Batch 0 Loss 0.0273\n",
            "Epoch 22 Batch 100 Loss 0.0453\n",
            "Epoch 22 Batch 200 Loss 0.0493\n",
            "Epoch 22 Batch 300 Loss 0.0508\n",
            "Epoch 22 Batch 400 Loss 0.0404\n",
            "Epoch 22 Batch 500 Loss 0.0498\n",
            "Epoch 22 Batch 600 Loss 0.0613\n",
            "Epoch 22 Loss 0.0518\n",
            "Time taken for 1 epoch 128.29395699501038 sec\n",
            "\n",
            "Epoch 23 Batch 0 Loss 0.0513\n",
            "Epoch 23 Batch 100 Loss 0.0295\n",
            "Epoch 23 Batch 200 Loss 0.0457\n",
            "Epoch 23 Batch 300 Loss 0.0531\n",
            "Epoch 23 Batch 400 Loss 0.0361\n",
            "Epoch 23 Batch 500 Loss 0.0440\n",
            "Epoch 23 Batch 600 Loss 0.0746\n",
            "Epoch 23 Loss 0.0488\n",
            "Time taken for 1 epoch 126.6783139705658 sec\n",
            "\n",
            "Epoch 24 Batch 0 Loss 0.0264\n",
            "Epoch 24 Batch 100 Loss 0.0416\n",
            "Epoch 24 Batch 200 Loss 0.0484\n",
            "Epoch 24 Batch 300 Loss 0.0627\n",
            "Epoch 24 Batch 400 Loss 0.0465\n",
            "Epoch 24 Batch 500 Loss 0.0507\n",
            "Epoch 24 Batch 600 Loss 0.1050\n",
            "Epoch 24 Loss 0.0489\n",
            "Time taken for 1 epoch 127.37876582145691 sec\n",
            "\n",
            "Epoch 25 Batch 0 Loss 0.0426\n",
            "Epoch 25 Batch 100 Loss 0.0455\n",
            "Epoch 25 Batch 200 Loss 0.0303\n",
            "Epoch 25 Batch 300 Loss 0.0516\n",
            "Epoch 25 Batch 400 Loss 0.0459\n",
            "Epoch 25 Batch 500 Loss 0.0455\n",
            "Epoch 25 Batch 600 Loss 0.0677\n",
            "Epoch 25 Loss 0.0484\n",
            "Time taken for 1 epoch 128.0638391971588 sec\n",
            "\n",
            "Epoch 26 Batch 0 Loss 0.0423\n",
            "Epoch 26 Batch 100 Loss 0.0452\n",
            "Epoch 26 Batch 200 Loss 0.0558\n",
            "Epoch 26 Batch 300 Loss 0.0491\n",
            "Epoch 26 Batch 400 Loss 0.0670\n",
            "Epoch 26 Batch 500 Loss 0.0368\n",
            "Epoch 26 Batch 600 Loss 0.0387\n",
            "Epoch 26 Loss 0.0474\n",
            "Time taken for 1 epoch 128.23332905769348 sec\n",
            "\n",
            "Epoch 27 Batch 0 Loss 0.0308\n",
            "Epoch 27 Batch 100 Loss 0.0331\n",
            "Epoch 27 Batch 200 Loss 0.0464\n",
            "Epoch 27 Batch 300 Loss 0.0227\n",
            "Epoch 27 Batch 400 Loss 0.0360\n",
            "Epoch 27 Batch 500 Loss 0.0578\n",
            "Epoch 27 Batch 600 Loss 0.0962\n",
            "Epoch 27 Loss 0.0457\n",
            "Time taken for 1 epoch 127.90302562713623 sec\n",
            "\n",
            "Epoch 28 Batch 0 Loss 0.0287\n",
            "Epoch 28 Batch 100 Loss 0.0181\n",
            "Epoch 28 Batch 200 Loss 0.0677\n",
            "Epoch 28 Batch 300 Loss 0.0503\n",
            "Epoch 28 Batch 400 Loss 0.0594\n",
            "Epoch 28 Batch 500 Loss 0.0677\n",
            "Epoch 28 Batch 600 Loss 0.0404\n",
            "Epoch 28 Loss 0.0457\n",
            "Time taken for 1 epoch 128.28263449668884 sec\n",
            "\n",
            "Epoch 29 Batch 0 Loss 0.0503\n",
            "Epoch 29 Batch 100 Loss 0.0416\n",
            "Epoch 29 Batch 200 Loss 0.0253\n",
            "Epoch 29 Batch 300 Loss 0.0390\n",
            "Epoch 29 Batch 400 Loss 0.0921\n",
            "Epoch 29 Batch 500 Loss 0.0398\n",
            "Epoch 29 Batch 600 Loss 0.0383\n",
            "Epoch 29 Loss 0.0445\n",
            "Time taken for 1 epoch 127.62137794494629 sec\n",
            "\n",
            "Epoch 30 Batch 0 Loss 0.0490\n",
            "Epoch 30 Batch 100 Loss 0.0405\n",
            "Epoch 30 Batch 200 Loss 0.0374\n",
            "Epoch 30 Batch 300 Loss 0.0281\n",
            "Epoch 30 Batch 400 Loss 0.0532\n",
            "Epoch 30 Batch 500 Loss 0.0238\n",
            "Epoch 30 Batch 600 Loss 0.0922\n",
            "Epoch 30 Loss 0.0430\n",
            "Time taken for 1 epoch 128.1065616607666 sec\n",
            "\n"
          ],
          "name": "stdout"
        }
      ]
    },
    {
      "cell_type": "markdown",
      "metadata": {
        "id": "-yXYiV_mVuf8"
      },
      "source": [
        "#Step 11: Test the Model\n",
        "Now define your model evaluation procedure. First, take the sentence given by the user into consideration. This has to be given in the French language. The model now has to convert the sentence from French to English.\n",
        "\n",
        "Initialize an empty attention plot to be plotted later on with max_length_target on the Y-axis, and max_length_input on the X-axis.\n",
        "\n",
        "Preprocess the sentence and convert it into tensors.\n",
        "\n",
        "Then plug the sentence into the model.\n",
        "\n",
        "Initialize an empty hidden state which is to be used while initializing an encoder. Usually, the initialize_hidden_state() method in the encoder class gives the hidden state having the dimensions batch_size * hidden_units. Now, as the batch size is \n",
        "1\n",
        ", the initial hidden state has to be manually initialized.\n",
        "\n",
        "Call the encoder class and procure the encoder outputs and final hidden state.\n",
        "\n",
        "By looping over max_length_targ, call the decoder class wherein the dec_input is the <start> token, dec_hidden state is the encoder hidden state, and enc_out is the encoder’s outputs. Procure the decoder output, hidden state, and attention weights.\n",
        "\n",
        "Create a plot using the attention weights. Fetch the predicted token with the maximum attention. Append the token to the result and continue until the <end> token is reached.\n",
        "\n",
        "The next decoder input will be the previously predicted index (concerning the token).\n",
        "\n",
        "Add the following code as part of the evaluate() function.\n",
        "\n"
      ]
    },
    {
      "cell_type": "code",
      "metadata": {
        "id": "6MzqOvjTV063"
      },
      "source": [
        "import numpy as np\n",
        "\n",
        "# Evaluate function -- similar to the training loop\n",
        "def evaluate(sentence):\n",
        "\n",
        "  # Attention plot (to be plotted later on) -- initialized with max_lengths of both target and input\n",
        "  attention_plot = np.zeros((max_length_targ, max_length_inp))\n",
        "\n",
        "  # Preprocess the sentence given\n",
        "  sentence = preprocess_sentence(sentence)\n",
        "\n",
        "  # Fetch the indices concerning the words in the sentence and pad the sequence\n",
        "  #inputs = [inp_lang.word_index[i] for i in sentence.split(' ')]\n",
        "  # подпрвиv, чтобы не выскакивала ошибка на незнакомое слово\n",
        "  \n",
        "  inputs = []\n",
        "  for i in sentence.split(' '):\n",
        "    try:\n",
        "      ind_inp = inp_lang.word_index[i]\n",
        "      inputs.append(ind_inp)\n",
        "    except KeyError:\n",
        "      #ind_inp = 100000\n",
        "      #print( f\"В словаре нет слова '{i}'\")\n",
        "      print (\"There is no word '%s' in the dictionary \" % (i ))\n",
        "    \n",
        "  \n",
        "\n",
        "  inputs = tf.keras.preprocessing.sequence.pad_sequences([inputs],\n",
        "                                                         maxlen=max_length_inp,\n",
        "                                                         padding='post')\n",
        "  # Convert the inputs to tensors\n",
        "  inputs = tf.convert_to_tensor(inputs)\n",
        "\n",
        "  result = ''\n",
        "\n",
        "  hidden = [tf.zeros((1, units))]\n",
        "  enc_out, enc_hidden = encoder(inputs, hidden)\n",
        "\n",
        "  dec_hidden = enc_hidden\n",
        "  dec_input = tf.expand_dims([targ_lang.word_index['<start>']], 0)\n",
        "\n",
        "  # Loop until the max_length is reached for the target lang (ENGLISH)\n",
        "  for t in range(max_length_targ):\n",
        "    predictions, dec_hidden, attention_weights = decoder(dec_input,\n",
        "                                                         dec_hidden,\n",
        "                                                         enc_out)\n",
        "\n",
        "    # Store the attention weights to plot later on\n",
        "    attention_weights = tf.reshape(attention_weights, (-1, ))\n",
        "    attention_plot[t] = attention_weights.numpy()\n",
        "\n",
        "    # Get the prediction with the maximum attention\n",
        "    predicted_id = tf.argmax(predictions[0]).numpy()\n",
        "\n",
        "    # Append the token to the result\n",
        "    result += targ_lang.index_word[predicted_id] + ' '\n",
        "\n",
        "    # If <end> token is reached, return the result, input, and attention plot\n",
        "    if targ_lang.index_word[predicted_id] == '<end>':\n",
        "      return result, sentence, attention_plot\n",
        "\n",
        "    # The predicted ID is fed back into the model\n",
        "    dec_input = tf.expand_dims([predicted_id], 0)\n",
        "\n",
        "  return result, sentence, attention_plot"
      ],
      "execution_count": null,
      "outputs": []
    },
    {
      "cell_type": "markdown",
      "metadata": {
        "id": "SrHlXExaV4Iq"
      },
      "source": [
        "#Step 12: Plot and Predict\n",
        "Define the plot_attention() function to plot the attention statistics.\n",
        "\n"
      ]
    },
    {
      "cell_type": "code",
      "metadata": {
        "id": "zEzxiHKNV7MZ"
      },
      "source": [
        "import matplotlib.pyplot as plt\n",
        "import matplotlib.ticker as ticker\n",
        "\n",
        "# Function for plotting the attention weights\n",
        "def plot_attention(attention, sentence, predicted_sentence):\n",
        "  fig = plt.figure(figsize=(10,10))\n",
        "  ax = fig.add_subplot(1, 1, 1)\n",
        "  ax.matshow(attention, cmap='viridis')\n",
        "\n",
        "  fontdict = {'fontsize': 14}\n",
        "\n",
        "  ax.set_xticklabels([''] + sentence, fontdict=fontdict, rotation=90)\n",
        "  ax.set_yticklabels([''] + predicted_sentence, fontdict=fontdict)\n",
        "\n",
        "  ax.xaxis.set_major_locator(ticker.MultipleLocator(1))\n",
        "  ax.yaxis.set_major_locator(ticker.MultipleLocator(1))\n",
        "\n",
        "  plt.show()"
      ],
      "execution_count": null,
      "outputs": []
    },
    {
      "cell_type": "code",
      "metadata": {
        "id": "JXtuePdlV_sK"
      },
      "source": [
        "#Define a function translate() which internally calls the evaluate() function.\n",
        "\n",
        "# Translate function (which internally calls the evaluate function)\n",
        "def translate(sentence):\n",
        "  result, sentence, attention_plot = evaluate(sentence)\n",
        "\n",
        "  print('Input: %s' % (sentence))\n",
        "  print('Predicted translation: {}'.format(result))\n",
        "\n",
        "  attention_plot = attention_plot[:len(result.split(' ')), :len(sentence.split(' '))]\n",
        "  plot_attention(attention_plot, sentence.split(' '), result.split(' '))"
      ],
      "execution_count": null,
      "outputs": []
    },
    {
      "cell_type": "code",
      "metadata": {
        "colab": {
          "base_uri": "https://localhost:8080/"
        },
        "id": "Kz7zlOGMWI_Y",
        "outputId": "b6e6a39b-8e58-4036-af62-dd32fc67edf9"
      },
      "source": [
        "# Restore the latest checkpoint in checkpoint_dir\n",
        "checkpoint.restore(tf.train.latest_checkpoint(checkpoint_dir))"
      ],
      "execution_count": null,
      "outputs": [
        {
          "output_type": "execute_result",
          "data": {
            "text/plain": [
              "<tensorflow.python.training.tracking.util.CheckpointLoadStatus at 0x7f90d01acfd0>"
            ]
          },
          "metadata": {
            "tags": []
          },
          "execution_count": 29
        }
      ]
    },
    {
      "cell_type": "code",
      "metadata": {
        "colab": {
          "base_uri": "https://localhost:8080/",
          "height": 677
        },
        "id": "QEEOdAGSWMPe",
        "outputId": "71cfffc8-0001-48c1-db32-cf2fded22479"
      },
      "source": [
        "#Call the translate() function by inputting a few sentences in French.\n",
        "\n",
        "translate(u\"As tu lu ce livre?\")\n",
        "# The actual translation is \"Have you read this book?\""
      ],
      "execution_count": null,
      "outputs": [
        {
          "output_type": "stream",
          "text": [
            "Input: <start> as tu lu ce livre ? <end>\n",
            "Predicted translation: did you read that book ? <end> \n"
          ],
          "name": "stdout"
        },
        {
          "output_type": "display_data",
          "data": {
            "image/png": "[encoded data removed]",
            "text/plain": [
              "<Figure size 720x720 with 1 Axes>"
            ]
          },
          "metadata": {
            "tags": [],
            "needs_background": "light"
          }
        }
      ]
    },
    {
      "cell_type": "code",
      "metadata": {
        "colab": {
          "base_uri": "https://localhost:8080/",
          "height": 579
        },
        "id": "iOsQcutUma7q",
        "outputId": "bc06331e-21a3-4698-c862-d5d48b7ef09e"
      },
      "source": [
        "# Проверим с отсутсвующим словом\n",
        "translate(u\"As tu lu ce livre? Вас тут не стояло\")\n",
        "# The actual translation is \"Have you read this book?\""
      ],
      "execution_count": null,
      "outputs": [
        {
          "output_type": "stream",
          "text": [
            "There is no word 'вас' in the dictionary \n",
            "There is no word 'тут' in the dictionary \n",
            "There is no word 'не' in the dictionary \n",
            "There is no word 'стояло' in the dictionary \n",
            "Input: <start> as tu lu ce livre ? вас тут не стояло <end>\n",
            "Predicted translation: did you read that book ? <end> \n"
          ],
          "name": "stdout"
        },
        {
          "output_type": "display_data",
          "data": {
            "image/png": "[encoded data removed]",
            "text/plain": [
              "<Figure size 720x720 with 1 Axes>"
            ]
          },
          "metadata": {
            "tags": [],
            "needs_background": "light"
          }
        }
      ]
    },
    {
      "cell_type": "code",
      "metadata": {
        "colab": {
          "base_uri": "https://localhost:8080/",
          "height": 687
        },
        "id": "AEVcy6JUWbUX",
        "outputId": "333b0e33-0091-4d4c-b45f-2837c6016c66"
      },
      "source": [
        "translate(u\"Comment as-tu été?\")\n",
        "# The actual translation is \"How have you been?\""
      ],
      "execution_count": null,
      "outputs": [
        {
          "output_type": "stream",
          "text": [
            "Input: <start> comment as tu ete ? <end>\n",
            "Predicted translation: how did you been ? <end> \n"
          ],
          "name": "stdout"
        },
        {
          "output_type": "display_data",
          "data": {
            "image/png": "[encoded data removed]",
            "text/plain": [
              "<Figure size 720x720 with 1 Axes>"
            ]
          },
          "metadata": {
            "tags": [],
            "needs_background": "light"
          }
        }
      ]
    }
  ]
}