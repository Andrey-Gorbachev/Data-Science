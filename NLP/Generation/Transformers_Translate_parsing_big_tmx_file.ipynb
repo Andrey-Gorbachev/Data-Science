{
  "nbformat": 4,
  "nbformat_minor": 0,
  "metadata": {
    "colab": {
      "name": "Transformers_Translate_parsing_big_tmx_file",
      "provenance": [],
      "collapsed_sections": []
    },
    "kernelspec": {
      "name": "python3",
      "display_name": "Python 3"
    },
    "accelerator": "GPU"
  },
  "cells": [
    {
      "cell_type": "markdown",
      "metadata": {
        "id": "Bjp_tAjddSLM"
      },
      "source": [
        "# Transformer Translate"
      ]
    },
    {
      "cell_type": "markdown",
      "metadata": {
        "id": "zO52QyhkIRKP"
      },
      "source": [
        "# Setup & Import"
      ]
    },
    {
      "cell_type": "code",
      "metadata": {
        "id": "zDNXvR5uH0N0"
      },
      "source": [
        "pathName      = \"/content/drive/My Drive/\" \n",
        "pathNameData  = pathName + \"Datasets/\" \n",
        "pathNameTrain = pathName + \"DataTrain/\"\n",
        "prefix        = '_2022_'"
      ],
      "execution_count": null,
      "outputs": []
    },
    {
      "cell_type": "code",
      "metadata": {
        "id": "-KlMiBULQF79"
      },
      "source": [
        "import tensorflow as tf\n",
        "import numpy as np\n",
        "import unicodedata\n",
        "import re\n",
        "import time"
      ],
      "execution_count": null,
      "outputs": []
    },
    {
      "cell_type": "markdown",
      "metadata": {
        "id": "jd0wJ8QXV9Sz"
      },
      "source": [
        "# Load Data"
      ]
    },
    {
      "cell_type": "code",
      "metadata": {
        "colab": {
          "base_uri": "https://localhost:8080/"
        },
        "id": "OohNnRJoXG9F",
        "outputId": "cb2c7c40-581f-4e50-da06-bc8af8f42755"
      },
      "source": [
        "from google.colab import drive\n",
        "drive.mount('/content/drive')"
      ],
      "execution_count": null,
      "outputs": [
        {
          "output_type": "stream",
          "name": "stdout",
          "text": [
            "Drive already mounted at /content/drive; to attempt to forcibly remount, call drive.mount(\"/content/drive\", force_remount=True).\n"
          ]
        }
      ]
    },
    {
      "cell_type": "code",
      "metadata": {
        "colab": {
          "base_uri": "https://localhost:8080/"
        },
        "id": "CB_vjzkfeC72",
        "outputId": "3fe8e4e8-3d19-4a45-bee8-fd3d5b0f1a6d"
      },
      "source": [
        "!wget -O en-ru.tmx.gz http://opus.nlpl.eu/download.php?f=MultiUN/v1/tmx/en-ru.tmx.gz"
      ],
      "execution_count": null,
      "outputs": [
        {
          "output_type": "stream",
          "name": "stdout",
          "text": [
            "--2021-09-15 13:16:07--  http://opus.nlpl.eu/download.php?f=MultiUN/v1/tmx/en-ru.tmx.gz\n",
            "Resolving opus.nlpl.eu (opus.nlpl.eu)... 193.166.25.9\n",
            "Connecting to opus.nlpl.eu (opus.nlpl.eu)|193.166.25.9|:80... connected.\n",
            "HTTP request sent, awaiting response... 302 Found\n",
            "Location: https://opus.nlpl.eu/download.php?f=MultiUN/v1/tmx/en-ru.tmx.gz [following]\n",
            "--2021-09-15 13:16:08--  https://opus.nlpl.eu/download.php?f=MultiUN/v1/tmx/en-ru.tmx.gz\n",
            "Connecting to opus.nlpl.eu (opus.nlpl.eu)|193.166.25.9|:443... connected.\n",
            "HTTP request sent, awaiting response... 302 Found\n",
            "Location: https://object.pouta.csc.fi/OPUS-MultiUN/v1/tmx/en-ru.tmx.gz [following]\n",
            "--2021-09-15 13:16:09--  https://object.pouta.csc.fi/OPUS-MultiUN/v1/tmx/en-ru.tmx.gz\n",
            "Resolving object.pouta.csc.fi (object.pouta.csc.fi)... 86.50.254.18, 86.50.254.19\n",
            "Connecting to object.pouta.csc.fi (object.pouta.csc.fi)|86.50.254.18|:443... connected.\n",
            "HTTP request sent, awaiting response... 200 OK\n",
            "Length: 1341957860 (1.2G) [application/gzip]\n",
            "Saving to: ‘en-ru.tmx.gz’\n",
            "\n",
            "en-ru.tmx.gz        100%[===================>]   1.25G  22.9MB/s    in 58s     \n",
            "\n",
            "2021-09-15 13:17:08 (22.0 MB/s) - ‘en-ru.tmx.gz’ saved [1341957860/1341957860]\n",
            "\n"
          ]
        }
      ]
    },
    {
      "cell_type": "code",
      "metadata": {
        "id": "nXs3lSvVejDj"
      },
      "source": [
        "!gzip -d /content/en-ru.tmx.gz"
      ],
      "execution_count": null,
      "outputs": []
    },
    {
      "cell_type": "code",
      "metadata": {
        "id": "-uvPDrQMoi82"
      },
      "source": [
        "path_out = pathNameData + 'en-ru.tmx'\n",
        "!mv /content/en-ru.tmx '$path_out'"
      ],
      "execution_count": null,
      "outputs": []
    },
    {
      "cell_type": "markdown",
      "metadata": {
        "id": "IkY0C-jyvrk8"
      },
      "source": [
        "### Test reading big .tmx file"
      ]
    },
    {
      "cell_type": "code",
      "metadata": {
        "colab": {
          "base_uri": "https://localhost:8080/"
        },
        "id": "werBuMKjrLB0",
        "outputId": "df8ebe7f-6521-44ec-90f5-bbe488058200"
      },
      "source": [
        "!pip install pytmx"
      ],
      "execution_count": null,
      "outputs": [
        {
          "output_type": "stream",
          "name": "stdout",
          "text": [
            "Collecting pytmx\n",
            "  Downloading PyTMX-3.27-py3-none-any.whl (21 kB)\n",
            "Installing collected packages: pytmx\n",
            "Successfully installed pytmx-3.27\n"
          ]
        }
      ]
    },
    {
      "cell_type": "code",
      "metadata": {
        "colab": {
          "base_uri": "https://localhost:8080/"
        },
        "id": "xMm0VxMurfZg",
        "outputId": "43ef9420-8110-40af-9b9f-78ca17ca617e"
      },
      "source": [
        "!pip install pygame\n"
      ],
      "execution_count": null,
      "outputs": [
        {
          "output_type": "stream",
          "name": "stdout",
          "text": [
            "Collecting pygame\n",
            "  Downloading pygame-2.0.1-cp37-cp37m-manylinux1_x86_64.whl (11.8 MB)\n",
            "\u001b[K     |████████████████████████████████| 11.8 MB 4.8 MB/s \n",
            "\u001b[?25hInstalling collected packages: pygame\n",
            "Successfully installed pygame-2.0.1\n"
          ]
        }
      ]
    },
    {
      "cell_type": "code",
      "metadata": {
        "id": "IukXZfjzrZP9",
        "colab": {
          "base_uri": "https://localhost:8080/"
        },
        "outputId": "8435f71c-24d0-4dd1-892a-691f41bc7712"
      },
      "source": [
        "import pygame\n",
        "import threading\n",
        "import pytmx\n",
        "path_out = pathNameData + 'en-ru.tmx'\n",
        "tiled_map = pytmx.TiledMap(path_out)"
      ],
      "execution_count": null,
      "outputs": [
        {
          "output_type": "stream",
          "name": "stdout",
          "text": [
            "pygame 2.0.1 (SDL 2.0.14, Python 3.7.11)\n",
            "Hello from the pygame community. https://www.pygame.org/contribute.html\n"
          ]
        }
      ]
    },
    {
      "cell_type": "code",
      "metadata": {
        "id": "3m6K85u8jjBD"
      },
      "source": [
        "path_out = pathNameData + 'en-ru.tmx'\n",
        "import xml.etree.ElementTree as ET\n",
        "import codecs\n",
        "tree = ET.parse(path_out)\n",
        "root = tree.getroot()\n",
        "body = root[1]\n",
        "print(len(body))\n",
        "cnt=0\n",
        "num_rows = 10\n",
        "for item in body:\n",
        "  if num_rows and cnt > num_rows:\n",
        "    break\n",
        "  try:\n",
        "      bs = item[0][0].text\n",
        "      zh = item[1][0].text\n",
        "      bs = bs.decode('utf-8')\n",
        "      zh = zh.decode('utf-8')\n",
        "      print(zh + r' ||| ' + bs + '\\n')\n",
        "      #txtfile.write(zh + r' ||| ' + bs + '\\n')\n",
        "      cnt += 1\n",
        "  except Exception as ex:\n",
        "      print (ex.message)\n",
        "      continue\n",
        "      "
      ],
      "execution_count": null,
      "outputs": []
    },
    {
      "cell_type": "code",
      "metadata": {
        "id": "K9lwN6lgg3zl"
      },
      "source": [
        "import xml.etree.ElementTree as ET\n",
        "import codecs\n",
        "\n",
        "def tmx_process(in_file, target_file, num_rows=None):\n",
        "\n",
        "   tree = ET.parse(in_file)\n",
        "   root = tree.getroot()\n",
        "   body = root[1]\n",
        "\n",
        "   txtfile = codecs.open(target_file, 'w+', 'utf-8')\n",
        "   print(len(body))\n",
        "   cnt=0\n",
        "   for item in body:\n",
        "      if num_rows and cnt > num_rows:\n",
        "        break\n",
        "      try:\n",
        "         bs = item[0][0].text\n",
        "         zh = item[1][0].text\n",
        "         bs = bs.decode('utf-8')\n",
        "         zh = zh.decode('utf-8')\n",
        "         txtfile.write(zh + r' ||| ' + bs + '\\n')\n",
        "         cnt += 1\n",
        "      except Exception as ex:\n",
        "         print (ex.message)\n",
        "         countinue\n",
        "\n",
        "   txtfile.close()\n",
        "   return 'Done'\n",
        "tmx_process('/content/en-ru.tmx', 'en-ru.txt', num_rows=10)   "
      ],
      "execution_count": null,
      "outputs": []
    },
    {
      "cell_type": "markdown",
      "metadata": {
        "id": "dHoiE309w1b1"
      },
      "source": [
        "#### Beatifulsoap lxml"
      ]
    },
    {
      "cell_type": "code",
      "metadata": {
        "colab": {
          "base_uri": "https://localhost:8080/"
        },
        "id": "PVbn1ICiw5UI",
        "outputId": "8e4d8517-d544-487e-f5bb-67b9d508ad7f"
      },
      "source": [
        "!pip install beautifulsoup4"
      ],
      "execution_count": null,
      "outputs": [
        {
          "output_type": "stream",
          "name": "stdout",
          "text": [
            "Requirement already satisfied: beautifulsoup4 in /usr/local/lib/python3.7/dist-packages (4.6.3)\n"
          ]
        }
      ]
    },
    {
      "cell_type": "code",
      "metadata": {
        "colab": {
          "base_uri": "https://localhost:8080/"
        },
        "id": "bYcDJuFbxVcv",
        "outputId": "3b2aab9b-1649-45a0-8d36-f0ab28317aef"
      },
      "source": [
        "!pip install lxml"
      ],
      "execution_count": null,
      "outputs": [
        {
          "output_type": "stream",
          "name": "stdout",
          "text": [
            "Requirement already satisfied: lxml in /usr/local/lib/python3.7/dist-packages (4.2.6)\n"
          ]
        }
      ]
    },
    {
      "cell_type": "code",
      "metadata": {
        "id": "-QkT7122xr_k"
      },
      "source": [
        "# Import BeautifulSoup\n",
        "from bs4 import BeautifulSoup as bs\n",
        "import lxml\n",
        "path_out = pathNameData + 'en-ru.tmx'\n",
        "content = []\n",
        "# Read the XML file\n",
        "# https://linuxhint.com/parse_xml_python_beautifulsoup/\n",
        "with open(path_out, \"r\") as file:\n",
        "    # Read each line in the file, readlines() returns a list of lines\n",
        "    #content = file.readlines()\n",
        "    flag = False\n",
        "    for i in range(100):\n",
        "\n",
        "    # Combine the lines in the list into a string\n",
        "      loc_content_xml = file.readline()\n",
        "      print(loc_content_xml)\n",
        "      bs_content = bs(loc_content_xml, \"lxml\")\n",
        "      loc_content_txt = bs_content.text.strip()\n",
        "      if 'datatype=\"PlainText\"' in loc_content_txt:\n",
        "        flag = True\n",
        "        # пропускаем служебные строчки\n",
        "      if flag:\n",
        "        print(loc_content_txt)      \n",
        "      else:\n",
        "        continue\n"
      ],
      "execution_count": null,
      "outputs": []
    },
    {
      "cell_type": "code",
      "metadata": {
        "colab": {
          "base_uri": "https://localhost:8080/"
        },
        "id": "NBOoQMBexE6l",
        "outputId": "ff8df6b7-05b6-4f98-f563-2992b2a2d70e"
      },
      "source": [
        "from bs4 import BeautifulSoup\n",
        "import lxml\n",
        "\n",
        "def readTMXfile(file_path, num_translates=None):\n",
        "  inputs, targets = [], []\n",
        "  with open(file_path, \"r\") as file:\n",
        "    flag = False\n",
        "    cnt = 0\n",
        "    stopCondition = False\n",
        "    flag_translate_line = False\n",
        "    while not stopCondition:\n",
        "      # Combine the lines in the list into a string\n",
        "      loc_content_xml = file.readline()\n",
        "      bs_content = bs(loc_content_xml, \"lxml\")\n",
        "      loc_content_txt = bs_content.text.strip()\n",
        "      loc_content_txt.replace(u'\\xa0',\"\")\n",
        "      if flag:\n",
        "           \n",
        "        if len(loc_content_txt)>0:\n",
        "          #print(loc_content_txt)\n",
        "          if not flag_translate_line:\n",
        "            flag_translate_line = True\n",
        "            inputs.append(loc_content_txt)\n",
        "          else:\n",
        "            flag_translate_line = False\n",
        "            targets.append(loc_content_txt)\n",
        "            cnt += 1\n",
        "            print()\n",
        "\n",
        "      else:\n",
        "        if 'datatype=\"PlainText\"' in loc_content_txt:\n",
        "          flag = True\n",
        "        # пропускаем служебные строчки\n",
        "        continue\n",
        "      if num_translates and cnt>=num_translates:\n",
        "        #break\n",
        "        stopCondition = True\n",
        "\n",
        "  return inputs, targets\n",
        "  \n",
        "inputs, targets = readTMXfile(pathNameData + 'en-ru.tmx', num_translates=10)\n",
        "list(zip(inputs[-10:], targets[-10:]))"
      ],
      "execution_count": null,
      "outputs": [
        {
          "output_type": "stream",
          "name": "stdout",
          "text": [
            "\n",
            "\n",
            "\n",
            "\n",
            "\n",
            "\n",
            "\n",
            "\n",
            "\n",
            "\n"
          ]
        },
        {
          "output_type": "execute_result",
          "data": {
            "text/plain": [
              "[('Joint ECE/Eurostat/OECD Meeting on the Management of Statistical Information Systems (MSIS)',\n",
              "  'Совместное совещание ЕЭК/Евростата/ОЭСР по вопросам управления статистическими информационными системами (УСИС)'),\n",
              " ('(Bratislava, Slovakia, 18-20 April 2005)',\n",
              "  '(Братислава, Словакия, 18-20\\xa0апреля 2005\\xa0года)'),\n",
              " ('INFORMATION TECHNOLOGY GOVERNANCE @ ONS - DO WE NEED IT GOVERNANCE IN A STATISTICAL OFFICE?',\n",
              "  'УПРАВЛЕНИЕ ИНФОРМАЦИОННОЙ ТЕХНОЛОГИЕЙ В УНС\\xa0-'),\n",
              " ('Availability of and access to sound, relevant statistics enable timely and effective decision making by government, community and business.',\n",
              "  'Наличие надежной и релевантной статистики и доступа к ней позволяет своевременно и эффективно принимать решения на уровне правительства, общин и предприятий.'),\n",
              " ('This in turn provides competitive advantage in economic performance, political and social stability and cultural development.',\n",
              "  'Это в свою очередь обеспечивает конкурентные преимущества с точки зрения эффективности экономической деятельности, обеспечения политической и социальной стабильности и культурного развития.'),\n",
              " ('Technology plays a critical role in this scenario by providing an environment for the creation of quality data and the subsequent means of its dissemination as valuable information to stakeholders.',\n",
              "  'Чрезвычайно важная роль в этом сценарии принадлежит технологии, которая обеспечивает среду для создания качественных данных и соответствующие инструменты для их распространения в качестве полезной информации среди заинтересованных сторон.'),\n",
              " ('At the Office for National Statistics (ONS) we believe that we need to achieve and maintain the above demands by improving public confidence in the integrity and validity of our outputs.',\n",
              "  'В Управлении национальной статистики (УНС) мы считаем, что обязаны обеспечить устойчивое решение вышеупомянутых задач путем повышения уровня доверия общественности к беспристрастности и достоверности наших статистических материалов.'),\n",
              " ('We have embarked on a modernization programme of our statistical processes, which will provide us with a high degree of process systematization and statistical integration.',\n",
              "  'Мы приступили к осуществлению программы модернизации наших статистических процессов, которые позволят нам достичь высокого уровня систематизации процессов и статистической интеграции.'),\n",
              " ('The demand for reviewing and renewing our governance processes for our technology environment is a direct result of this programme.',\n",
              "  'Необходимость пересмотра и обновления наших процессов управления технологической средой является одним из прямых результатов осуществления данной программы.'),\n",
              " ('As we seek standardization of our processes, we are more and more reliant on our technology and its management.',\n",
              "  'Поскольку мы стремимся к стандартизации наших процессов, мы для решения этой задачи во все большей степени полагаемся на нашу технологию и методику ее управления.')]"
            ]
          },
          "metadata": {},
          "execution_count": 48
        }
      ]
    },
    {
      "cell_type": "markdown",
      "metadata": {
        "id": "zUrKYQnTvz3o"
      },
      "source": [
        "### Test reading big .tmx file - end"
      ]
    },
    {
      "cell_type": "markdown",
      "metadata": {
        "id": "CrycCp-V8NzJ"
      },
      "source": [
        "## Parse tmx file"
      ]
    },
    {
      "cell_type": "code",
      "metadata": {
        "colab": {
          "base_uri": "https://localhost:8080/"
        },
        "id": "g8edqms_Hscx",
        "outputId": "2734e6f6-42a3-4750-9fcd-9ada7b90b1c2"
      },
      "source": [
        "!pip install beautifulsoup4\n",
        "!pip install lxml"
      ],
      "execution_count": null,
      "outputs": [
        {
          "output_type": "stream",
          "name": "stdout",
          "text": [
            "Requirement already satisfied: beautifulsoup4 in /usr/local/lib/python3.7/dist-packages (4.6.3)\n",
            "Requirement already satisfied: lxml in /usr/local/lib/python3.7/dist-packages (4.2.6)\n"
          ]
        }
      ]
    },
    {
      "cell_type": "code",
      "metadata": {
        "id": "dthQNQCR8SY2"
      },
      "source": [
        "from bs4 import BeautifulSoup as bs\n",
        "import lxml\n",
        "\n",
        "def readTMXfile(file_path, num_translates=None):\n",
        "  inputs, targets = [], []\n",
        "  with open(file_path, \"r\") as file:\n",
        "    flag = False\n",
        "    cnt = 0\n",
        "    stopCondition = False\n",
        "    flag_translate_line = False\n",
        "    while not stopCondition:\n",
        "      # Combine the lines in the list into a string\n",
        "      loc_content_xml = file.readline()\n",
        "      bs_content = bs(loc_content_xml, \"lxml\")\n",
        "      loc_content_txt = bs_content.text.strip()\n",
        "      loc_content_txt.replace(u'\\xa0',\"\")\n",
        "      loc_content_txt.replace('\\xa0',\"\")\n",
        "      if flag:\n",
        "           \n",
        "        if len(loc_content_txt)>0:\n",
        "          print(loc_content_txt)\n",
        "          if not flag_translate_line:\n",
        "            flag_translate_line = True\n",
        "            inputs.append(loc_content_txt)\n",
        "          else:\n",
        "            flag_translate_line = False\n",
        "            targets.append(loc_content_txt)\n",
        "            cnt += 1\n",
        "            print()\n",
        "\n",
        "      else:\n",
        "        if 'datatype=\"PlainText\"' in loc_content_txt:\n",
        "          flag = True\n",
        "        # пропускаем служебные строчки\n",
        "        continue\n",
        "      if num_translates and cnt>=num_translates:\n",
        "        #break\n",
        "        stopCondition = True\n",
        "\n",
        "  return inputs, targets\n",
        "  \n",
        "inputs, targets = readTMXfile(pathNameData + 'en-ru.tmx', num_translates=10)\n",
        "list(zip(inputs[-10:], targets[-10:]))"
      ],
      "execution_count": null,
      "outputs": []
    },
    {
      "cell_type": "code",
      "metadata": {
        "id": "vvBoVzQd8aUG"
      },
      "source": [
        "inputs, targets = readTMXfile(pathNameData + 'en-ru.tmx', num_translates=2000)\n",
        "# ограничимся 2000-ми строк"
      ],
      "execution_count": null,
      "outputs": []
    },
    {
      "cell_type": "code",
      "metadata": {
        "colab": {
          "base_uri": "https://localhost:8080/"
        },
        "id": "LRrtOux69p6G",
        "outputId": "43c24cb7-9dc9-4d59-e83b-fd6ef143523f"
      },
      "source": [
        "print(len(inputs), len(targets))"
      ],
      "execution_count": null,
      "outputs": [
        {
          "output_type": "stream",
          "name": "stdout",
          "text": [
            "2000 2000\n"
          ]
        }
      ]
    },
    {
      "cell_type": "code",
      "metadata": {
        "colab": {
          "base_uri": "https://localhost:8080/"
        },
        "id": "r4lwK33p9AZv",
        "outputId": "4fb67427-b206-4134-a0f5-46be19819dfc"
      },
      "source": [
        "list(zip(inputs[-10:], targets[-10:]))"
      ],
      "execution_count": null,
      "outputs": [
        {
          "output_type": "execute_result",
          "data": {
            "text/plain": [
              "[('The second recommendation is that there should be increased cooperation between the United Nations and relevant international organizations, such as the World Customs Organization and the International Civil Aviation Organization.',\n",
              "  'Вторая рекомендация касается необходимости расширения сотрудничества между Организацией Объединенных Наций и соответствующими международными организациями, в частности, со Всемирной таможенной организацией и Международной организацией гражданской авиации.'),\n",
              " ('Thirdly, Switzerland is convinced that close cooperation between the United Nations and Interpol is of crucial importance for the efficient identification and tracing of illicit small arms and light weapons.',\n",
              "  'В-третьих, Швейцария убеждена, что тесное сотрудничество между Организацией Объединенных Наций и Интерполом имеет решающее значение для эффективной идентификации и отслеживания незаконного стрелкового оружия и легких вооружений.'),\n",
              " ('Ties with Interpol could be strengthened by assigning a law enforcement component to peacekeeping operations and sanction committees that have the competence to interact with Interpol, including their access to all Interpol databases relevant to the tracing of illicit small arms and light weapons.',\n",
              "  'Связь с Интерполом должна быть укреплена путем введения элемента, касающегося соблюдения законов в ходе операций по поддержанию мира и в рамках деятельности комитетов по санкциям, уполномоченных осуществлять связи с Интерполом, включая их доступ ко всем базам данных Интерпола, имеющим отношение к отслеживанию незаконного стрелкового оружия и легких вооружений.'),\n",
              " ('Furthermore, Switzerland calls for the conclusion of a cooperative agreement between the Security Council and Interpol that could serve as a framework for cooperation in the field of tracing illicit small arms and light weapons.',\n",
              "  'Кроме того, Швейцария призывает к заключению соглашения о сотрудничестве в этой области между Советом Безопасности и Интерполом, которое могло бы служить в качестве основы для сотрудничества в области отслеживания незаконного стрелкового оружия и легких вооружений.'),\n",
              " ('That cooperation agreement could be complemented by a protocol covering the technical details on a case-by-case basis.',\n",
              "  'Такое соглашение о сотрудничестве может быть дополнено протоколом, регулирующим технические детали в каждом конкретном случае.'),\n",
              " ('The existing Memorandum of Understanding between Interpol and the United Nations Interim Administration Mission in Kosovo on cooperation in crime prevention and criminal justice might serve as an example for that purpose.',\n",
              "  'Существующие меморандумы о взаимопонимании между Интерполом и Миссией Организации Объединенных Наций по делам временной администрации в Косово о сотрудничестве в предотвращении преступлений и уголовном правосудии могут служить в качестве примера для данной цели.'),\n",
              " (\"We are of the view that the presidential statement to be adopted at the end of today's debate would gain from mentioning the need for increased cooperation with Interpol in tracing small arms and light weapons.\",\n",
              "  'Мы считаем, что заявление Председателя, которое будет принято по завершении сегодняшней дискуссии, только выиграет, если в нем будет упомянута необходимость укрепления сотрудничества с Интерполом с целью отслеживания стрелкового оружия и легких вооружений.'),\n",
              " ('Fourthly, it has been clearly established that the illicit exploitation of natural resources constitutes one of the privileged sources of financing fuelling the illicit trade in small arms.',\n",
              "  'В-четвертых, было четко установлено, что незаконная эксплуатация природных ресурсов являет собой один из излюбленных источников финансирования целей подпитывания незаконной торговли стрелковым оружием.'),\n",
              " ('We are starting to profit from accrued experience in the field of controlling the illicit exploitation of natural resources, in particular through the Kimberley process.',\n",
              "  'Мы начинаем извлекать выгоды из накопленного опыта в области контроля за незаконной эксплуатацией природных ресурсов, особенно посредством Кимберлийского процесса.'),\n",
              " ('Switzerland suggests formalizing the panels of experts so that they can contribute more substantially to the work of the Council and thus allow it to identify minimum norms and standards that would guide the exploitation of natural resources in conflict zones.',\n",
              "  'Швейцария предлагает придать официальный характер деятельности групп экспертов, с тем чтобы они могли вносить более значительный вклад в работу Совета, что позволит разработать минимальные нормы и стандарты, регулирующие эксплуатацию природных ресурсов в зонах конфликтов.')]"
            ]
          },
          "metadata": {},
          "execution_count": 8
        }
      ]
    },
    {
      "cell_type": "code",
      "metadata": {
        "colab": {
          "base_uri": "https://localhost:8080/"
        },
        "id": "0Tl1hiuvO-uM",
        "outputId": "d446524c-944a-4a68-afc6-281c47181d40"
      },
      "source": [
        "list(zip(inputs[:10], targets[:10]))"
      ],
      "execution_count": null,
      "outputs": [
        {
          "output_type": "execute_result",
          "data": {
            "text/plain": [
              "[('Joint ECE/Eurostat/OECD Meeting on the Management of Statistical Information Systems (MSIS)',\n",
              "  'Совместное совещание ЕЭК/Евростата/ОЭСР по вопросам управления статистическими информационными системами (УСИС)'),\n",
              " ('(Bratislava, Slovakia, 18-20 April 2005)',\n",
              "  '(Братислава, Словакия, 18-20\\xa0апреля 2005\\xa0года)'),\n",
              " ('INFORMATION TECHNOLOGY GOVERNANCE @ ONS - DO WE NEED IT GOVERNANCE IN A STATISTICAL OFFICE?',\n",
              "  'УПРАВЛЕНИЕ ИНФОРМАЦИОННОЙ ТЕХНОЛОГИЕЙ В УНС\\xa0-'),\n",
              " ('Availability of and access to sound, relevant statistics enable timely and effective decision making by government, community and business.',\n",
              "  'Наличие надежной и релевантной статистики и доступа к ней позволяет своевременно и эффективно принимать решения на уровне правительства, общин и предприятий.'),\n",
              " ('This in turn provides competitive advantage in economic performance, political and social stability and cultural development.',\n",
              "  'Это в свою очередь обеспечивает конкурентные преимущества с точки зрения эффективности экономической деятельности, обеспечения политической и социальной стабильности и культурного развития.'),\n",
              " ('Technology plays a critical role in this scenario by providing an environment for the creation of quality data and the subsequent means of its dissemination as valuable information to stakeholders.',\n",
              "  'Чрезвычайно важная роль в этом сценарии принадлежит технологии, которая обеспечивает среду для создания качественных данных и соответствующие инструменты для их распространения в качестве полезной информации среди заинтересованных сторон.'),\n",
              " ('At the Office for National Statistics (ONS) we believe that we need to achieve and maintain the above demands by improving public confidence in the integrity and validity of our outputs.',\n",
              "  'В Управлении национальной статистики (УНС) мы считаем, что обязаны обеспечить устойчивое решение вышеупомянутых задач путем повышения уровня доверия общественности к беспристрастности и достоверности наших статистических материалов.'),\n",
              " ('We have embarked on a modernization programme of our statistical processes, which will provide us with a high degree of process systematization and statistical integration.',\n",
              "  'Мы приступили к осуществлению программы модернизации наших статистических процессов, которые позволят нам достичь высокого уровня систематизации процессов и статистической интеграции.'),\n",
              " ('The demand for reviewing and renewing our governance processes for our technology environment is a direct result of this programme.',\n",
              "  'Необходимость пересмотра и обновления наших процессов управления технологической средой является одним из прямых результатов осуществления данной программы.'),\n",
              " ('As we seek standardization of our processes, we are more and more reliant on our technology and its management.',\n",
              "  'Поскольку мы стремимся к стандартизации наших процессов, мы для решения этой задачи во все большей степени полагаемся на нашу технологию и методику ее управления.')]"
            ]
          },
          "metadata": {},
          "execution_count": 9
        }
      ]
    },
    {
      "cell_type": "markdown",
      "metadata": {
        "id": "FbtI42ZqGgXj"
      },
      "source": [
        "### Analyse Data"
      ]
    },
    {
      "cell_type": "code",
      "metadata": {
        "colab": {
          "base_uri": "https://localhost:8080/",
          "height": 205
        },
        "id": "eups0QjrG5iE",
        "outputId": "6732b7bf-dac5-4350-cdc6-98e1054ec987"
      },
      "source": [
        "import pandas as pd\n",
        "df_i = pd.DataFrame(inputs)\n",
        "df_t = pd.DataFrame(targets)\n",
        "df_i.head()"
      ],
      "execution_count": null,
      "outputs": [
        {
          "output_type": "execute_result",
          "data": {
            "text/html": [
              "<div>\n",
              "<style scoped>\n",
              "    .dataframe tbody tr th:only-of-type {\n",
              "        vertical-align: middle;\n",
              "    }\n",
              "\n",
              "    .dataframe tbody tr th {\n",
              "        vertical-align: top;\n",
              "    }\n",
              "\n",
              "    .dataframe thead th {\n",
              "        text-align: right;\n",
              "    }\n",
              "</style>\n",
              "<table border=\"1\" class=\"dataframe\">\n",
              "  <thead>\n",
              "    <tr style=\"text-align: right;\">\n",
              "      <th></th>\n",
              "      <th>0</th>\n",
              "    </tr>\n",
              "  </thead>\n",
              "  <tbody>\n",
              "    <tr>\n",
              "      <th>0</th>\n",
              "      <td>Joint ECE/Eurostat/OECD Meeting on the Managem...</td>\n",
              "    </tr>\n",
              "    <tr>\n",
              "      <th>1</th>\n",
              "      <td>(Bratislava, Slovakia, 18-20 April 2005)</td>\n",
              "    </tr>\n",
              "    <tr>\n",
              "      <th>2</th>\n",
              "      <td>INFORMATION TECHNOLOGY GOVERNANCE @ ONS - DO W...</td>\n",
              "    </tr>\n",
              "    <tr>\n",
              "      <th>3</th>\n",
              "      <td>Availability of and access to sound, relevant ...</td>\n",
              "    </tr>\n",
              "    <tr>\n",
              "      <th>4</th>\n",
              "      <td>This in turn provides competitive advantage in...</td>\n",
              "    </tr>\n",
              "  </tbody>\n",
              "</table>\n",
              "</div>"
            ],
            "text/plain": [
              "                                                   0\n",
              "0  Joint ECE/Eurostat/OECD Meeting on the Managem...\n",
              "1           (Bratislava, Slovakia, 18-20 April 2005)\n",
              "2  INFORMATION TECHNOLOGY GOVERNANCE @ ONS - DO W...\n",
              "3  Availability of and access to sound, relevant ...\n",
              "4  This in turn provides competitive advantage in..."
            ]
          },
          "metadata": {},
          "execution_count": 10
        }
      ]
    },
    {
      "cell_type": "code",
      "metadata": {
        "colab": {
          "base_uri": "https://localhost:8080/",
          "height": 205
        },
        "id": "OPNMBhdSIdIP",
        "outputId": "6db316d7-f62a-4615-b9d3-f1c523e55872"
      },
      "source": [
        "df_t.head()"
      ],
      "execution_count": null,
      "outputs": [
        {
          "output_type": "execute_result",
          "data": {
            "text/html": [
              "<div>\n",
              "<style scoped>\n",
              "    .dataframe tbody tr th:only-of-type {\n",
              "        vertical-align: middle;\n",
              "    }\n",
              "\n",
              "    .dataframe tbody tr th {\n",
              "        vertical-align: top;\n",
              "    }\n",
              "\n",
              "    .dataframe thead th {\n",
              "        text-align: right;\n",
              "    }\n",
              "</style>\n",
              "<table border=\"1\" class=\"dataframe\">\n",
              "  <thead>\n",
              "    <tr style=\"text-align: right;\">\n",
              "      <th></th>\n",
              "      <th>0</th>\n",
              "    </tr>\n",
              "  </thead>\n",
              "  <tbody>\n",
              "    <tr>\n",
              "      <th>0</th>\n",
              "      <td>Совместное совещание ЕЭК/Евростата/ОЭСР по воп...</td>\n",
              "    </tr>\n",
              "    <tr>\n",
              "      <th>1</th>\n",
              "      <td>(Братислава, Словакия, 18-20 апреля 2005 года)</td>\n",
              "    </tr>\n",
              "    <tr>\n",
              "      <th>2</th>\n",
              "      <td>УПРАВЛЕНИЕ ИНФОРМАЦИОННОЙ ТЕХНОЛОГИЕЙ В УНС -</td>\n",
              "    </tr>\n",
              "    <tr>\n",
              "      <th>3</th>\n",
              "      <td>Наличие надежной и релевантной статистики и до...</td>\n",
              "    </tr>\n",
              "    <tr>\n",
              "      <th>4</th>\n",
              "      <td>Это в свою очередь обеспечивает конкурентные п...</td>\n",
              "    </tr>\n",
              "  </tbody>\n",
              "</table>\n",
              "</div>"
            ],
            "text/plain": [
              "                                                   0\n",
              "0  Совместное совещание ЕЭК/Евростата/ОЭСР по воп...\n",
              "1     (Братислава, Словакия, 18-20 апреля 2005 года)\n",
              "2      УПРАВЛЕНИЕ ИНФОРМАЦИОННОЙ ТЕХНОЛОГИЕЙ В УНС -\n",
              "3  Наличие надежной и релевантной статистики и до...\n",
              "4  Это в свою очередь обеспечивает конкурентные п..."
            ]
          },
          "metadata": {},
          "execution_count": 11
        }
      ]
    },
    {
      "cell_type": "markdown",
      "metadata": {
        "id": "ddObE5haIrQh"
      },
      "source": [
        "#### Test null values"
      ]
    },
    {
      "cell_type": "code",
      "metadata": {
        "colab": {
          "base_uri": "https://localhost:8080/",
          "height": 49
        },
        "id": "IwHFzHeQIWP0",
        "outputId": "6895b4dc-56f3-41ee-dca2-f5b1f1643d67"
      },
      "source": [
        "nans = lambda df: df[df.isnull().any(axis=1)]\n",
        "nans(df_i)"
      ],
      "execution_count": null,
      "outputs": [
        {
          "output_type": "execute_result",
          "data": {
            "text/html": [
              "<div>\n",
              "<style scoped>\n",
              "    .dataframe tbody tr th:only-of-type {\n",
              "        vertical-align: middle;\n",
              "    }\n",
              "\n",
              "    .dataframe tbody tr th {\n",
              "        vertical-align: top;\n",
              "    }\n",
              "\n",
              "    .dataframe thead th {\n",
              "        text-align: right;\n",
              "    }\n",
              "</style>\n",
              "<table border=\"1\" class=\"dataframe\">\n",
              "  <thead>\n",
              "    <tr style=\"text-align: right;\">\n",
              "      <th></th>\n",
              "      <th>0</th>\n",
              "    </tr>\n",
              "  </thead>\n",
              "  <tbody>\n",
              "  </tbody>\n",
              "</table>\n",
              "</div>"
            ],
            "text/plain": [
              "Empty DataFrame\n",
              "Columns: [0]\n",
              "Index: []"
            ]
          },
          "metadata": {},
          "execution_count": 12
        }
      ]
    },
    {
      "cell_type": "code",
      "metadata": {
        "colab": {
          "base_uri": "https://localhost:8080/",
          "height": 49
        },
        "id": "fIsxVMw6Ikuu",
        "outputId": "13edca18-eebe-4e0d-e2ac-9408f090f6bc"
      },
      "source": [
        "nans(df_t)"
      ],
      "execution_count": null,
      "outputs": [
        {
          "output_type": "execute_result",
          "data": {
            "text/html": [
              "<div>\n",
              "<style scoped>\n",
              "    .dataframe tbody tr th:only-of-type {\n",
              "        vertical-align: middle;\n",
              "    }\n",
              "\n",
              "    .dataframe tbody tr th {\n",
              "        vertical-align: top;\n",
              "    }\n",
              "\n",
              "    .dataframe thead th {\n",
              "        text-align: right;\n",
              "    }\n",
              "</style>\n",
              "<table border=\"1\" class=\"dataframe\">\n",
              "  <thead>\n",
              "    <tr style=\"text-align: right;\">\n",
              "      <th></th>\n",
              "      <th>0</th>\n",
              "    </tr>\n",
              "  </thead>\n",
              "  <tbody>\n",
              "  </tbody>\n",
              "</table>\n",
              "</div>"
            ],
            "text/plain": [
              "Empty DataFrame\n",
              "Columns: [0]\n",
              "Index: []"
            ]
          },
          "metadata": {},
          "execution_count": 13
        }
      ]
    },
    {
      "cell_type": "markdown",
      "metadata": {
        "id": "WY42Yw2OB5vq"
      },
      "source": [
        "## Prepare Dataset"
      ]
    },
    {
      "cell_type": "markdown",
      "metadata": {
        "id": "0Icm2ytaGYvg"
      },
      "source": [
        "### Normalize, ading tags"
      ]
    },
    {
      "cell_type": "code",
      "metadata": {
        "id": "kLnDmjq3wW3K"
      },
      "source": [
        "def unicode_to_ascii(s):\n",
        "    return ''.join(\n",
        "        c for c in unicodedata.normalize('NFD', s)\n",
        "        if unicodedata.category(c) != 'Mn')\n",
        "\n",
        "\n",
        "def normalize_rus_string(s):\n",
        "    s = unicode_to_ascii(s)\n",
        "    s = re.sub(r'([!.?])', r' \\1', s)\n",
        "    s = re.sub(r'[^а-яА-Я.!?]+', r' ', s)\n",
        "    s = re.sub(r'\\s+', r' ', s)\n",
        "    s = s.replace(u'\\xa0',\"\")\n",
        "    return s\n",
        "def normalize_lat_string(s):\n",
        "    s = unicode_to_ascii(s)\n",
        "    s = re.sub(r'([!.?])', r' \\1', s)\n",
        "    s = re.sub(r'[^a-zA-Z.!?]+', r' ', s)\n",
        "    s = re.sub(r'\\s+', r' ', s)\n",
        "    s = s.replace(u'\\xa0',\"\")\n",
        "    return s    "
      ],
      "execution_count": null,
      "outputs": []
    },
    {
      "cell_type": "code",
      "metadata": {
        "id": "Ksxwxdmi9X9i"
      },
      "source": [
        "#raw_data_in, raw_data_tar = list(zip(*raw_data))\n",
        "num_rows = 2000\n",
        "\n",
        "raw_data_in, raw_data_tar = inputs[:num_rows], targets[:num_rows]\n",
        "raw_data_in = [normalize_lat_string(data) for data in raw_data_in]\n",
        "raw_data_tar_in = ['<start> ' + normalize_rus_string(data) for data in raw_data_tar]\n",
        "raw_data_tar_out = [normalize_rus_string(data) + ' <end>' for data in raw_data_tar]"
      ],
      "execution_count": null,
      "outputs": []
    },
    {
      "cell_type": "code",
      "metadata": {
        "colab": {
          "base_uri": "https://localhost:8080/"
        },
        "id": "Fc8pdq-uQB91",
        "outputId": "8802cf50-f86e-4ad2-8064-3ffc77effb2b"
      },
      "source": [
        "raw_data_in[:10]\n",
        "#raw_data_tar_in[:10]\n",
        "#raw_data_tar_out[:10]\n",
        "#inputs[:num_rows]\n",
        "#targets[:num_rows]"
      ],
      "execution_count": null,
      "outputs": [
        {
          "output_type": "execute_result",
          "data": {
            "text/plain": [
              "['Joint ECE Eurostat OECD Meeting on the Management of Statistical Information Systems MSIS ',\n",
              " ' Bratislava Slovakia April ',\n",
              " 'INFORMATION TECHNOLOGY GOVERNANCE ONS DO WE NEED IT GOVERNANCE IN A STATISTICAL OFFICE ?',\n",
              " 'Availability of and access to sound relevant statistics enable timely and effective decision making by government community and business .',\n",
              " 'This in turn provides competitive advantage in economic performance political and social stability and cultural development .',\n",
              " 'Technology plays a critical role in this scenario by providing an environment for the creation of quality data and the subsequent means of its dissemination as valuable information to stakeholders .',\n",
              " 'At the Office for National Statistics ONS we believe that we need to achieve and maintain the above demands by improving public confidence in the integrity and validity of our outputs .',\n",
              " 'We have embarked on a modernization programme of our statistical processes which will provide us with a high degree of process systematization and statistical integration .',\n",
              " 'The demand for reviewing and renewing our governance processes for our technology environment is a direct result of this programme .',\n",
              " 'As we seek standardization of our processes we are more and more reliant on our technology and its management .']"
            ]
          },
          "metadata": {},
          "execution_count": 21
        }
      ]
    },
    {
      "cell_type": "markdown",
      "metadata": {
        "id": "g3_Ym_zzGqzx"
      },
      "source": [
        "### Prepare sequences"
      ]
    },
    {
      "cell_type": "code",
      "metadata": {
        "id": "C8DiLHXEwdaj",
        "colab": {
          "base_uri": "https://localhost:8080/"
        },
        "outputId": "fbb5a9dd-650f-43ba-b477-aec40d446b25"
      },
      "source": [
        "%%time\n",
        "in_tokenizer = tf.keras.preprocessing.text.Tokenizer(filters='')\n",
        "in_tokenizer.fit_on_texts(raw_data_in)\n",
        "data_in = in_tokenizer.texts_to_sequences(raw_data_in)\n",
        "data_in = tf.keras.preprocessing.sequence.pad_sequences(data_in,\n",
        "                                                        padding='post')\n",
        "\n",
        "tar_tokenizer = tf.keras.preprocessing.text.Tokenizer(filters='')\n",
        "tar_tokenizer.fit_on_texts(raw_data_tar_in)\n",
        "tar_tokenizer.fit_on_texts(raw_data_tar_out)\n",
        "data_tar_in = tar_tokenizer.texts_to_sequences(raw_data_tar_in)\n",
        "data_tar_in = tf.keras.preprocessing.sequence.pad_sequences(data_tar_in,\n",
        "                                                           padding='post')\n",
        "\n",
        "data_tar_out = tar_tokenizer.texts_to_sequences(raw_data_tar_out)\n",
        "data_tar_out = tf.keras.preprocessing.sequence.pad_sequences(data_tar_out,\n",
        "                                                            padding='post')"
      ],
      "execution_count": null,
      "outputs": [
        {
          "output_type": "stream",
          "name": "stdout",
          "text": [
            "CPU times: user 424 ms, sys: 38.2 ms, total: 462 ms\n",
            "Wall time: 440 ms\n"
          ]
        }
      ]
    },
    {
      "cell_type": "code",
      "metadata": {
        "colab": {
          "base_uri": "https://localhost:8080/"
        },
        "id": "yLMzO_KSRBDT",
        "outputId": "b459015c-86d1-4f0e-eaf0-a66b1df69c43"
      },
      "source": [
        "data_in.shape, data_tar_in.shape, data_tar_out.shape"
      ],
      "execution_count": null,
      "outputs": [
        {
          "output_type": "execute_result",
          "data": {
            "text/plain": [
              "((2000, 207), (2000, 141), (2000, 141))"
            ]
          },
          "metadata": {},
          "execution_count": 23
        }
      ]
    },
    {
      "cell_type": "code",
      "metadata": {
        "colab": {
          "base_uri": "https://localhost:8080/"
        },
        "id": "vvj0aS9qUWKM",
        "outputId": "d456984f-363f-45b2-d716-2d75154fdb37"
      },
      "source": [
        "tar_tokenizer.word_index['<start>'], tar_tokenizer.word_index['<end>']"
      ],
      "execution_count": null,
      "outputs": [
        {
          "output_type": "execute_result",
          "data": {
            "text/plain": [
              "(4, 5)"
            ]
          },
          "metadata": {},
          "execution_count": 24
        }
      ]
    },
    {
      "cell_type": "markdown",
      "metadata": {
        "id": "Y2CXwd82CMO7"
      },
      "source": [
        "### Save Load Data"
      ]
    },
    {
      "cell_type": "code",
      "metadata": {
        "id": "4C7r-4rzCuEt"
      },
      "source": [
        "# Save\n",
        "import pickle\n",
        "with open(pathNameTrain + prefix + 'data_in', 'wb') as handle:\n",
        "  pickle.dump(data_in, handle, protocol=pickle.HIGHEST_PROTOCOL)\n",
        "with open(pathNameTrain + prefix + 'data_tar_in', 'wb') as handle:\n",
        "  pickle.dump(data_tar_in, handle, protocol=pickle.HIGHEST_PROTOCOL)\n",
        "with open(pathNameTrain + prefix + 'data_tar_out', 'wb') as handle:\n",
        "  pickle.dump(data_tar_out, handle, protocol=pickle.HIGHEST_PROTOCOL)  \n",
        "with open(pathNameTrain + prefix + 'in_tokenizer', 'wb') as handle:\n",
        "  pickle.dump(in_tokenizer, handle, protocol=pickle.HIGHEST_PROTOCOL)\n",
        "with open(pathNameTrain + prefix + 'tar_tokenizer', 'wb') as handle:\n",
        "  pickle.dump(tar_tokenizer, handle, protocol=pickle.HIGHEST_PROTOCOL)\n",
        "with open(pathNameTrain + prefix + 'inputs', 'wb') as handle:\n",
        "  pickle.dump(inputs, handle, protocol=pickle.HIGHEST_PROTOCOL)\n",
        "with open(pathNameTrain + prefix + 'targets', 'wb') as handle:\n",
        "  pickle.dump(targets, handle, protocol=pickle.HIGHEST_PROTOCOL)"
      ],
      "execution_count": null,
      "outputs": []
    },
    {
      "cell_type": "code",
      "metadata": {
        "id": "GTZToJkvD1tu"
      },
      "source": [
        "# Load\n",
        "import pickle\n",
        "with open(pathNameTrain + prefix + 'data_in', 'rb') as handle:\n",
        "  data_in = pickle.load(handle)\n",
        "with open(pathNameTrain + prefix + 'data_tar_in', 'rb') as handle:\n",
        "  data_tar_in = pickle.load(handle)\n",
        "with open(pathNameTrain + prefix + 'data_tar_out', 'rb') as handle:\n",
        "  data_tar_out = pickle.load(handle)\n",
        "with open(pathNameTrain + prefix + 'in_tokenizer', 'rb') as handle:\n",
        "  in_tokenizer = pickle.load(handle)\n",
        "with open(pathNameTrain + prefix + 'tar_tokenizer', 'rb') as handle:\n",
        "  tar_tokenizer = pickle.load(handle)  \n",
        "with open(pathNameTrain + prefix + 'inputs', 'rb') as handle:\n",
        "  inputs = pickle.load(handle)  \n",
        "with open(pathNameTrain + prefix + 'targets', 'rb') as handle:\n",
        "  targets = pickle.load(handle)      "
      ],
      "execution_count": null,
      "outputs": []
    },
    {
      "cell_type": "markdown",
      "metadata": {
        "id": "UMGlcloqDNFo"
      },
      "source": [
        "### Create dataset"
      ]
    },
    {
      "cell_type": "code",
      "metadata": {
        "id": "iezeyXYIwp38"
      },
      "source": [
        "BATCH_SIZE = 5\n",
        "dataset = tf.data.Dataset.from_tensor_slices(\n",
        "    (data_in, data_tar_in, data_tar_out))\n",
        "dataset = dataset.shuffle(20).batch(BATCH_SIZE)"
      ],
      "execution_count": null,
      "outputs": []
    },
    {
      "cell_type": "markdown",
      "metadata": {
        "id": "P-ue6u_eEiZQ"
      },
      "source": [
        "## Prepare Data for Model"
      ]
    },
    {
      "cell_type": "markdown",
      "metadata": {
        "id": "2FZjT-oxEzqm"
      },
      "source": [
        "### Hyper Params"
      ]
    },
    {
      "cell_type": "code",
      "metadata": {
        "colab": {
          "base_uri": "https://localhost:8080/"
        },
        "id": "eNEOsX77EiZT",
        "outputId": "a76a25c3-ed10-4358-db98-41beb10a2ab5"
      },
      "source": [
        "in_vocab_size = len(in_tokenizer.word_index) + 1\n",
        "print('Input vocabulary size', in_vocab_size)\n",
        "tar_vocab_size = len(tar_tokenizer.word_index) + 1\n",
        "print('Target vocabulary size', tar_vocab_size)\n",
        "\n",
        "max_len_tar = data_tar_in.shape[1]\n",
        "print('Target max len', max_len_tar)"
      ],
      "execution_count": null,
      "outputs": [
        {
          "output_type": "stream",
          "name": "stdout",
          "text": [
            "Input vocabulary size 4294\n",
            "Target vocabulary size 8154\n",
            "Target max len 141\n"
          ]
        }
      ]
    },
    {
      "cell_type": "markdown",
      "metadata": {
        "id": "hl7PwbkTDPfv"
      },
      "source": [
        "### Positinal embedding (encoding reaльно)"
      ]
    },
    {
      "cell_type": "code",
      "metadata": {
        "id": "4mmdYJCA_Bfo",
        "colab": {
          "base_uri": "https://localhost:8080/"
        },
        "outputId": "62039976-f9b9-49ab-a281-9fe27f7b02dc"
      },
      "source": [
        "def positional_embedding(pos, hidden_dim):\n",
        "    PE = np.zeros((1, hidden_dim))\n",
        "    for i in range(hidden_dim):\n",
        "        if i % 2 == 0:\n",
        "            PE[:, i] = np.sin(pos / 10000 ** (i / hidden_dim))\n",
        "        else:\n",
        "            PE[:, i] = np.cos(pos / 10000 ** ((i - 1) / hidden_dim))\n",
        "    return PE\n",
        "\n",
        "max_length = max(len(data_in[0]), len(data_tar_in[0]))\n",
        "HIDDEN_DIM = 128\n",
        "\n",
        "pes = []\n",
        "for i in range(max_length):\n",
        "    pes.append(positional_embedding(i, HIDDEN_DIM))\n",
        "\n",
        "pes = np.concatenate(pes, axis=0)\n",
        "pes = tf.constant(pes, dtype=tf.float32)\n",
        "max_length"
      ],
      "execution_count": null,
      "outputs": [
        {
          "output_type": "execute_result",
          "data": {
            "text/plain": [
              "207"
            ]
          },
          "metadata": {},
          "execution_count": 29
        }
      ]
    },
    {
      "cell_type": "code",
      "metadata": {
        "id": "B5DZhGUYaQ2o",
        "colab": {
          "base_uri": "https://localhost:8080/",
          "height": 160
        },
        "outputId": "e363ee12-0f14-4afd-c9e9-0f900152eb94"
      },
      "source": [
        "import matplotlib.pyplot as plt\n",
        "%matplotlib inline\n",
        "plt.figure(figsize=(20,2))\n",
        "plt.imshow(pes.numpy())\n",
        "plt.show()"
      ],
      "execution_count": null,
      "outputs": [
        {
          "output_type": "display_data",
          "data": {
            "image/png": "[encoded data removed]",
            "text/plain": [
              "<Figure size 1440x144 with 1 Axes>"
            ]
          },
          "metadata": {
            "needs_background": "light"
          }
        }
      ]
    },
    {
      "cell_type": "markdown",
      "metadata": {
        "id": "cSbgj3q1A-oH"
      },
      "source": [
        "# Create model\n"
      ]
    },
    {
      "cell_type": "markdown",
      "metadata": {
        "id": "XMTu9rNEBLrM"
      },
      "source": [
        "### MultiHeadAttention"
      ]
    },
    {
      "cell_type": "code",
      "metadata": {
        "id": "XgDNiSsSBLrV"
      },
      "source": [
        "class MultiHeadAttention(tf.keras.Model):\n",
        "    def __init__(self, hidden_dim, h):\n",
        "        super(MultiHeadAttention, self).__init__()\n",
        "        self.key_size = hidden_dim // h\n",
        "        self.h = h\n",
        "        self.wq = tf.keras.layers.Dense(hidden_dim) #замена [tf.keras.layers.Dense(key_size) for _ in range(h)]\n",
        "        self.wk = tf.keras.layers.Dense(hidden_dim) #замена [tf.keras.layers.Dense(key_size) for _ in range(h)]\n",
        "        self.wv = tf.keras.layers.Dense(hidden_dim) #замена [tf.keras.layers.Dense(value_size) for _ in range(h)]\n",
        "        self.wo = tf.keras.layers.Dense(hidden_dim)\n",
        "    \n",
        "    def call(self, decoder_output, encoder_output, mask=None):\n",
        "        \n",
        "        \n",
        "        query = self.wq(decoder_output)\n",
        "        key = self.wk(encoder_output)\n",
        "        value = self.wv(encoder_output)\n",
        "        \n",
        "        # Разделяем для multihead attention\n",
        "        batch_size = query.shape[0]\n",
        "        query = tf.reshape(query, [batch_size, -1, self.h, self.key_size])\n",
        "        query = tf.transpose(query, [0, 2, 1, 3])\n",
        "        key = tf.reshape(key, [batch_size, -1, self.h, self.key_size])\n",
        "        key = tf.transpose(key, [0, 2, 1, 3])\n",
        "        value = tf.reshape(value, [batch_size, -1, self.h, self.key_size])\n",
        "        value = tf.transpose(value, [0, 2, 1, 3])\n",
        "        \n",
        "        score = tf.matmul(query, key, transpose_b=True) / tf.math.sqrt(tf.dtypes.cast(self.key_size, dtype=tf.float32))\n",
        "        \n",
        "        if mask is not None:\n",
        "            score *= mask\n",
        "            score = tf.where(tf.equal(score, 0), tf.ones_like(score) * -1e9, score)\n",
        "        \n",
        "        a = tf.nn.softmax(score, axis=-1)\n",
        "        context = tf.matmul(a, value)\n",
        "        context = tf.transpose(context, [0, 2, 1, 3])\n",
        "        context = tf.reshape(context, [batch_size, -1, self.key_size * self.h])\n",
        "        \n",
        "        heads = self.wo(context)\n",
        "        return heads"
      ],
      "execution_count": null,
      "outputs": []
    },
    {
      "cell_type": "markdown",
      "metadata": {
        "id": "4dUpOttXBYY0"
      },
      "source": [
        "## Encoder"
      ]
    },
    {
      "cell_type": "code",
      "metadata": {
        "id": "Xf9hkJtUBYY_"
      },
      "source": [
        "class Encoder(tf.keras.Model):\n",
        "    def __init__(self, vocab_size, hidden_dim, num_layers, h):\n",
        "        super(Encoder, self).__init__()\n",
        "        self.hidden_dim = hidden_dim\n",
        "        self.num_layers = num_layers\n",
        "        self.h = h\n",
        "        self.embedding = tf.keras.layers.Embedding(vocab_size, hidden_dim)\n",
        "        self.attention = [MultiHeadAttention(hidden_dim, h) for _ in range(num_layers)]\n",
        "\n",
        "        self.attention_norm = [tf.keras.layers.BatchNormalization() for _ in range(num_layers)]\n",
        "\n",
        "        self.dense_1 = [tf.keras.layers.Dense(512, activation='relu') for _ in range(num_layers)]\n",
        "        self.dense_2 = [tf.keras.layers.Dense(hidden_dim) for _ in range(num_layers)]\n",
        "        self.ffn_norm = [tf.keras.layers.BatchNormalization() for _ in range(num_layers)]\n",
        "\n",
        "    def call(self, sequence, padding_mask=None):\n",
        "        embed_out = self.embedding(sequence)\n",
        "        # ускорение применяем embeding сразу ко всем без цикла \n",
        "        embed_out += pes[:sequence.shape[1], :]\n",
        "        \n",
        "        # Средний блок внимания - внимание на себя с макировкой\n",
        "        sub_in = embed_out\n",
        "        \n",
        "        # маскирование на остаток не слов и они вляить не будут\n",
        "        for i in range(self.num_layers):\n",
        "            sub_out = self.attention[i](sub_in, sub_in, padding_mask)\n",
        "            sub_out = sub_in + sub_out\n",
        "            sub_out = self.attention_norm[i](sub_out)\n",
        "            \n",
        "            ffn_in = sub_out\n",
        "\n",
        "            ffn_out = self.dense_2[i](self.dense_1[i](ffn_in))\n",
        "            ffn_out = ffn_in + ffn_out\n",
        "            ffn_out = self.ffn_norm[i](ffn_out)\n",
        "\n",
        "            sub_in = ffn_out\n",
        "            \n",
        "        return ffn_out"
      ],
      "execution_count": null,
      "outputs": []
    },
    {
      "cell_type": "markdown",
      "metadata": {
        "id": "o2u3o4rCBYZA"
      },
      "source": [
        "## Decoder"
      ]
    },
    {
      "cell_type": "code",
      "metadata": {
        "id": "R01XqgYWBYZA"
      },
      "source": [
        "class Decoder(tf.keras.Model):\n",
        "    def __init__(self, vocab_size, hidden_dim, num_layers, h):\n",
        "        super(Decoder, self).__init__()\n",
        "        self.hidden_dim = hidden_dim\n",
        "        self.num_layers = num_layers\n",
        "        self.h = h\n",
        "        self.embedding = tf.keras.layers.Embedding(vocab_size, hidden_dim)\n",
        "        self.attention_bot = [MultiHeadAttention(hidden_dim, h) for _ in range(num_layers)]\n",
        "        self.attention_bot_norm = [tf.keras.layers.BatchNormalization() for _ in range(num_layers)]\n",
        "        self.attention_mid = [MultiHeadAttention(hidden_dim, h) for _ in range(num_layers)]\n",
        "        self.attention_mid_norm = [tf.keras.layers.BatchNormalization() for _ in range(num_layers)]\n",
        "        \n",
        "        self.dense_1 = [tf.keras.layers.Dense(512, activation='relu') for _ in range(num_layers)]\n",
        "        self.dense_2 = [tf.keras.layers.Dense(hidden_dim) for _ in range(num_layers)]\n",
        "        self.ffn_norm = [tf.keras.layers.BatchNormalization() for _ in range(num_layers)]\n",
        "        \n",
        "        self.dense = tf.keras.layers.Dense(vocab_size)\n",
        "        \n",
        "    def call(self, sequence, encoder_output, padding_mask=None):\n",
        "        # Эмбеддинги\n",
        "        embed_out = self.embedding(sequence)\n",
        "        embed_out += pes[:sequence.shape[1], :]\n",
        "        \n",
        "        bot_sub_in = embed_out\n",
        "        # неt циrлла по головам (есть доп ось по -кой все вычисляется) и есть маскирование\n",
        "        # маска генерится во время обучниея\n",
        "        for i in range(self.num_layers):\n",
        "            # Нижний блок внимания\n",
        "            # Нижний блок внимания - типа(?)  внимание на себя\n",
        "            seq_len = bot_sub_in.shape[1]\n",
        "            look_left_only_mask = tf.linalg.band_part(tf.ones((seq_len, seq_len)), -1, 0)\n",
        "            bot_sub_out = self.attention_bot[i](bot_sub_in, bot_sub_in, look_left_only_mask)\n",
        "            bot_sub_out = bot_sub_in + bot_sub_out\n",
        "            bot_sub_out = self.attention_bot_norm[i](bot_sub_out)\n",
        "            \n",
        "            # Верхний блок внимания\n",
        "            # я - Средний блок внимания - внимание на себя с макировкой\n",
        "            mid_sub_in = bot_sub_out\n",
        "\n",
        "            mid_sub_out = self.attention_mid[i](mid_sub_in, encoder_output, padding_mask)\n",
        "            mid_sub_out = mid_sub_out + mid_sub_in\n",
        "            mid_sub_out = self.attention_mid_norm[i](mid_sub_out)\n",
        "\n",
        "            # Полносвязный слой\n",
        "            ffn_in = mid_sub_out\n",
        "\n",
        "            ffn_out = self.dense_2[i](self.dense_1[i](ffn_in))\n",
        "            ffn_out = ffn_out + ffn_in\n",
        "            ffn_out = self.ffn_norm[i](ffn_out)\n",
        "\n",
        "            bot_sub_in = ffn_out\n",
        "        \n",
        "        logits = self.dense(ffn_out)\n",
        "            \n",
        "        return logits"
      ],
      "execution_count": null,
      "outputs": []
    },
    {
      "cell_type": "markdown",
      "metadata": {
        "id": "POiEh_emEiZV"
      },
      "source": [
        "## Loss"
      ]
    },
    {
      "cell_type": "code",
      "metadata": {
        "id": "EovC0emfEiZV"
      },
      "source": [
        "crossentropy = tf.keras.losses.SparseCategoricalCrossentropy(\n",
        "    from_logits=True)\n",
        "def loss_func(targets, logits):\n",
        "    # дополнительное маскирование\n",
        "    mask = tf.math.logical_not(tf.math.equal(targets, 0))\n",
        "    mask = tf.cast(mask, dtype=tf.int64)\n",
        "    loss = crossentropy(targets, logits, sample_weight=mask)\n",
        "  \n",
        "    return loss\n",
        "\n",
        "\n",
        "optimizer = tf.keras.optimizers.Adam()"
      ],
      "execution_count": null,
      "outputs": []
    },
    {
      "cell_type": "markdown",
      "metadata": {
        "id": "NVXKKgKjBLrW"
      },
      "source": [
        "## Train step"
      ]
    },
    {
      "cell_type": "code",
      "metadata": {
        "id": "4HMKhGHBBLrW"
      },
      "source": [
        "@tf.function\n",
        "def train_step(source_seq, target_seq_in, target_seq_out):\n",
        "    with tf.GradientTape() as tape:\n",
        "        padding_mask = 1 - tf.cast(tf.equal(source_seq, 0), dtype=tf.float32)\n",
        "        padding_mask = tf.expand_dims(padding_mask, axis=1)\n",
        "        padding_mask = tf.expand_dims(padding_mask, axis=1)\n",
        "        encoder_output = encoder(source_seq, padding_mask)\n",
        "        \n",
        "        decoder_output = decoder(target_seq_in, encoder_output, padding_mask)\n",
        "\n",
        "        loss = loss_func(target_seq_out, decoder_output)\n",
        "\n",
        "    variables = encoder.trainable_variables + decoder.trainable_variables\n",
        "    gradients = tape.gradient(loss, variables)\n",
        "    optimizer.apply_gradients(zip(gradients, variables))\n",
        "\n",
        "    return loss"
      ],
      "execution_count": null,
      "outputs": []
    },
    {
      "cell_type": "markdown",
      "metadata": {
        "id": "7zIElXDtJdlJ"
      },
      "source": [
        "#### Predict - functional"
      ]
    },
    {
      "cell_type": "code",
      "metadata": {
        "id": "z8ZQIdw_JdlT"
      },
      "source": [
        "def predict(test_source_text=None):\n",
        "    if test_source_text is None:\n",
        "        test_source_text = raw_data_in[np.random.choice(len(raw_data_in))]\n",
        "    print(test_source_text)\n",
        "    test_source_seq = in_tokenizer.texts_to_sequences([test_source_text])\n",
        "    print(test_source_seq)\n",
        "\n",
        "    en_output = encoder(tf.constant(test_source_seq))\n",
        "\n",
        "    de_input = tf.constant([[tar_tokenizer.word_index['<start>']]], dtype=tf.int64)\n",
        "\n",
        "    out_words = []\n",
        "\n",
        "    while True:\n",
        "        de_output = decoder(de_input, en_output)\n",
        "        new_word = tf.expand_dims(tf.argmax(de_output, -1)[:, -1], axis=1)\n",
        "        out_words.append(tar_tokenizer.index_word[new_word.numpy()[0][0]])\n",
        "\n",
        "        de_input = tf.concat((de_input, new_word), axis=-1)\n",
        "\n",
        "        if out_words[-1] == '<end>' or len(out_words) >= max_len_tar:\n",
        "            break\n",
        "\n",
        "    print((' '.join(out_words)).replace('<end>',''))\n",
        "    return (' '.join(out_words).replace('<end>',''))"
      ],
      "execution_count": null,
      "outputs": []
    },
    {
      "cell_type": "code",
      "metadata": {
        "id": "Q_BODjC4BLrY"
      },
      "source": [
        "!pip install googletrans==3.1.0a0"
      ],
      "execution_count": null,
      "outputs": []
    },
    {
      "cell_type": "code",
      "metadata": {
        "colab": {
          "base_uri": "https://localhost:8080/",
          "height": 35
        },
        "id": "qeipvpKhBLrY",
        "outputId": "e7fc9b9c-b2fa-4d0a-8f7f-f3e5e62b152f"
      },
      "source": [
        "from googletrans import Translator\n",
        "translator = Translator()\n",
        "translator.translate('vous avez besoin de faire cela tous les trois').text"
      ],
      "execution_count": null,
      "outputs": [
        {
          "output_type": "execute_result",
          "data": {
            "application/vnd.google.colaboratory.intrinsic+json": {
              "type": "string"
            },
            "text/plain": [
              "'you need to do this all three'"
            ]
          },
          "metadata": {},
          "execution_count": 38
        }
      ]
    },
    {
      "cell_type": "markdown",
      "metadata": {
        "id": "BJunC5gsBLrW"
      },
      "source": [
        "# Train Model"
      ]
    },
    {
      "cell_type": "code",
      "metadata": {
        "colab": {
          "base_uri": "https://localhost:8080/"
        },
        "id": "9Msqj1THEiZV",
        "outputId": "ecfd6341-1163-4bfa-9fcf-e502a5c6af7b"
      },
      "source": [
        "H = 8\n",
        "NUM_LAYERS = 1\n",
        "\n",
        "encoder = Encoder(in_vocab_size, HIDDEN_DIM, NUM_LAYERS, H)\n",
        "\n",
        "in_sequence_in = tf.constant([[1, 2, 3, 4, 6, 7, 8, 0, 0, 0], \n",
        "                           [1, 2, 3, 4, 6, 7, 8, 0, 0, 0]])\n",
        "encoder_output = encoder(in_sequence_in)\n",
        "\n",
        "print('Encoder input shape', in_sequence_in.shape)\n",
        "print('Encoder output shape', encoder_output.shape)\n",
        "\n",
        "decoder = Decoder(tar_vocab_size, HIDDEN_DIM, NUM_LAYERS, H)\n",
        "\n",
        "tar_sequence_in = tf.constant([[1, 2, 3, 4, 5, 6, 7, 0, 0, 0, 0, 0, 0, 0],\n",
        "                           [1, 2, 3, 4, 5, 6, 7, 0, 0, 0, 0, 0, 0, 0]])\n",
        "decoder_output = decoder(tar_sequence_in, encoder_output)\n",
        "\n",
        "print('Decoder input shape', tar_sequence_in.shape)\n",
        "print('Decoder output shape', decoder_output.shape)"
      ],
      "execution_count": null,
      "outputs": [
        {
          "output_type": "stream",
          "name": "stdout",
          "text": [
            "Encoder input shape (2, 10)\n",
            "Encoder output shape (2, 10, 128)\n",
            "Decoder input shape (2, 14)\n",
            "Decoder output shape (2, 14, 8154)\n"
          ]
        }
      ]
    },
    {
      "cell_type": "code",
      "metadata": {
        "colab": {
          "base_uri": "https://localhost:8080/"
        },
        "id": "ncB3wNzxBLrX",
        "outputId": "0cb5ccce-3b74-43fc-b9ec-3ea24ce9eccc"
      },
      "source": [
        "encoder = Encoder(in_vocab_size, HIDDEN_DIM, NUM_LAYERS, H)\n",
        "decoder = Decoder(tar_vocab_size, HIDDEN_DIM, NUM_LAYERS, H)\n",
        "\n",
        "NUM_EPOCHS = 100\n",
        "\n",
        "start_time = time.time()\n",
        "for e in range(NUM_EPOCHS):\n",
        "    for batch, (source_seq, target_seq_in, target_seq_out) in enumerate(dataset.take(-1)):\n",
        "        loss = train_step(source_seq, target_seq_in,\n",
        "                          target_seq_out)\n",
        "\n",
        "    print('Epoch {} Loss {:.8f}'.format(\n",
        "          e + 1, loss.numpy()))\n",
        "\n",
        "    if (e + 1) % 10 == 0:\n",
        "        end_time = time.time()\n",
        "        print('Среднее время: {:.2f}s'.format((end_time - start_time) / (e + 1)))\n",
        "        try:\n",
        "            predict()\n",
        "        except Exception as e:\n",
        "            print(e)\n",
        "            continue"
      ],
      "execution_count": null,
      "outputs": [
        {
          "output_type": "stream",
          "name": "stdout",
          "text": [
            "Epoch 1 Loss 1.69907367\n",
            "Epoch 2 Loss 0.74874920\n",
            "Epoch 3 Loss 0.88577032\n",
            "Epoch 4 Loss 1.04521775\n",
            "Epoch 5 Loss 0.98626596\n",
            "Epoch 6 Loss 0.56154609\n",
            "Epoch 7 Loss 0.73646510\n",
            "Epoch 8 Loss 0.54190153\n",
            "Epoch 9 Loss 0.45646781\n",
            "Epoch 10 Loss 0.40918964\n",
            "Среднее время: 9.14s\n",
            "We recognize the presence of Ms . Yoriko Kawaguchi in our midst today in the Council .\n",
            "[[31, 2709, 1, 2053, 2, 828, 4, 2018, 829, 6, 101, 2076, 420, 6, 1, 21, 4]]\n",
            "мы располагаем управляющих эмбарго за правил насколько мне серии имеет решающее значение . <end>\n",
            "Epoch 11 Loss 0.27747625\n",
            "Epoch 12 Loss 0.33869484\n",
            "Epoch 13 Loss 0.30773076\n",
            "Epoch 14 Loss 0.24937932\n",
            "Epoch 15 Loss 0.13645360\n",
            "Epoch 16 Loss 0.15645239\n",
            "Epoch 17 Loss 0.11447295\n",
            "Epoch 18 Loss 0.10238178\n",
            "Epoch 19 Loss 0.13621739\n",
            "Epoch 20 Loss 0.10684338\n",
            "Среднее время: 8.99s\n",
            "Class Packing group I of classification code CT .\n",
            "[[146, 418, 75, 63, 2, 292, 108, 1645, 4]]\n",
            "эффективные глобальные меры в ответ на аннаном соотношениями . <end>\n",
            "Epoch 21 Loss 0.06105114\n",
            "Epoch 22 Loss 0.08474012\n",
            "Epoch 23 Loss 0.06433842\n",
            "Epoch 24 Loss 0.07244159\n",
            "Epoch 25 Loss 0.07667583\n",
            "Epoch 26 Loss 0.04155885\n",
            "Epoch 27 Loss 0.02936371\n",
            "Epoch 28 Loss 0.02887535\n",
            "Epoch 29 Loss 0.01408209\n",
            "Epoch 30 Loss 0.02340160\n",
            "Среднее время: 8.94s\n",
            "Objective Promote communication among entities involved in the Project and local communities in Central South Eastern and Eastern Europe\n",
            "[[558, 368, 690, 243, 607, 551, 6, 1, 56, 3, 390, 638, 6, 289, 183, 355, 3, 355, 305]]\n",
            "благодаря необходимость финансирования этого проекта ээ индивидуальныи вклад в группами года дальнеиших мер рдр\n",
            "Epoch 31 Loss 0.05932271\n",
            "Epoch 32 Loss 0.06721707\n",
            "Epoch 33 Loss 0.06324901\n",
            "Epoch 34 Loss 0.02129563\n",
            "Epoch 35 Loss 0.03114709\n",
            "Epoch 36 Loss 0.06234547\n",
            "Epoch 37 Loss 0.03590873\n",
            "Epoch 38 Loss 0.02691825\n",
            "Epoch 39 Loss 0.01517342\n",
            "Epoch 40 Loss 0.04952399\n",
            "Среднее время: 8.93s\n",
            "Objective Promote communication among entities involved in the Project and local communities in Central South Eastern and Eastern Europe\n",
            "[[558, 368, 690, 243, 607, 551, 6, 1, 56, 3, 390, 638, 6, 289, 183, 355, 3, 355, 305]]\n",
            "со стороны этого оказать поддержку усилиям на уровне сотрудничество центральнои осуществления программы деиствии и\n",
            "Epoch 41 Loss 0.01686622\n",
            "Epoch 42 Loss 0.02762302\n",
            "Epoch 43 Loss 0.04319049\n",
            "Epoch 44 Loss 0.03950863\n",
            "Epoch 45 Loss 0.02280921\n",
            "Epoch 46 Loss 0.02455856\n",
            "Epoch 47 Loss 0.01720220\n",
            "Epoch 48 Loss 0.00708948\n",
            "Epoch 49 Loss 0.02208293\n",
            "Epoch 50 Loss 0.03250964\n",
            "Среднее время: 8.91s\n",
            "Consideration of draft resolutions A C . L . and A C . L . Rev . \n",
            "[[188, 2, 116, 215, 7, 51, 4, 262, 4, 3, 7, 51, 4, 262, 4, 756, 4]]\n",
            "рассмотрение европеиского исключить . на то же процедуры принятия . . . <end>\n",
            "Epoch 51 Loss 0.02833099\n",
            "Epoch 52 Loss 0.01022269\n",
            "Epoch 53 Loss 0.01880270\n",
            "Epoch 54 Loss 0.02157308\n",
            "Epoch 55 Loss 0.02555509\n",
            "Epoch 56 Loss 0.03217438\n",
            "Epoch 57 Loss 0.00944648\n",
            "Epoch 58 Loss 0.01503857\n",
            "Epoch 59 Loss 0.01335260\n",
            "Epoch 60 Loss 0.01464801\n",
            "Среднее время: 8.91s\n",
            "The existing Memorandum of Understanding between Interpol and the United Nations Interim Administration Mission in Kosovo on cooperation in crime prevention and criminal justice might serve as an example for that purpose .\n",
            "[[1, 240, 2298, 2, 793, 144, 832, 3, 1, 20, 24, 1012, 562, 923, 6, 4287, 9, 86, 6, 720, 606, 3, 748, 2266, 1328, 925, 14, 37, 724, 8, 10, 892, 4]]\n",
            "существующие меморандумы о взаимопонимании между интерполом и миссиеи организации объединенных нации по делам временнои\n",
            "Epoch 61 Loss 0.01139106\n",
            "Epoch 62 Loss 0.00742269\n",
            "Epoch 63 Loss 0.03322517\n",
            "Epoch 64 Loss 0.02675372\n",
            "Epoch 65 Loss 0.02212273\n",
            "Epoch 66 Loss 0.00794348\n",
            "Epoch 67 Loss 0.01582311\n",
            "Epoch 68 Loss 0.01588253\n",
            "Epoch 69 Loss 0.00763844\n",
            "Epoch 70 Loss 0.00892622\n",
            "Среднее время: 8.90s\n",
            "Unquestionably such weapons help to increase the number of crises .\n",
            "[[4144, 70, 23, 408, 5, 725, 1, 206, 2, 2372, 4]]\n",
            "бесспорно такие виды оружия способствуют увеличению числа кризисов . <end>\n",
            "Epoch 71 Loss 0.01862826\n",
            "Epoch 72 Loss 0.01838171\n",
            "Epoch 73 Loss 0.02232677\n",
            "Epoch 74 Loss 0.00334911\n",
            "Epoch 75 Loss 0.01972909\n",
            "Epoch 76 Loss 0.00929020\n",
            "Epoch 77 Loss 0.05846220\n",
            "Epoch 78 Loss 0.01448668\n",
            "Epoch 79 Loss 0.00359862\n",
            "Epoch 80 Loss 0.00430902\n",
            "Среднее время: 8.89s\n",
            "We do not have private aircraft stopping here for refueling normally .\n",
            "[[31, 833, 59, 61, 100, 2522, 2523, 1656, 8, 3520, 3521, 4]]\n",
            "посадка частных летательных аппаратов для дозаправки как конфликты без системами отвлечения системами отвлечения хищения\n",
            "Epoch 81 Loss 0.06271946\n",
            "Epoch 82 Loss 0.00873408\n",
            "Epoch 83 Loss 0.02224413\n",
            "Epoch 84 Loss 0.01399832\n",
            "Epoch 85 Loss 0.01773100\n",
            "Epoch 86 Loss 0.00930278\n",
            "Epoch 87 Loss 0.00502453\n",
            "Epoch 88 Loss 0.00374307\n",
            "Epoch 89 Loss 0.01675357\n",
            "Epoch 90 Loss 0.00361093\n",
            "Среднее время: 8.88s\n",
            "CHAPTER IX Languages Rule \n",
            "[[532, 2101, 417, 429]]\n",
            "правило <end>\n",
            "Epoch 91 Loss 0.00406690\n",
            "Epoch 92 Loss 0.00221398\n",
            "Epoch 93 Loss 0.00525144\n",
            "Epoch 94 Loss 0.00579894\n",
            "Epoch 95 Loss 0.01649404\n",
            "Epoch 96 Loss 0.00458287\n",
            "Epoch 97 Loss 0.02992808\n",
            "Epoch 98 Loss 0.01932511\n",
            "Epoch 99 Loss 0.00875481\n",
            "Epoch 100 Loss 0.00457274\n",
            "Среднее время: 8.87s\n",
            " . . . Delete and renumber subsequent paragraphs accordingly .\n",
            "[[4, 4, 4, 896, 3, 2465, 836, 647, 924, 4]]\n",
            ". . исключить и оперативная деятельность двух подход . <end>\n"
          ]
        }
      ]
    },
    {
      "cell_type": "code",
      "metadata": {
        "colab": {
          "base_uri": "https://localhost:8080/"
        },
        "id": "UxhoNcnqbAKd",
        "outputId": "11c186c7-34e4-4866-9eaf-752d947ba2f2"
      },
      "source": [
        "# Попробуем добиться точности до loss = 0.0001\n",
        "UM_EPOCHS = 100\n",
        "\n",
        "start_time = time.time()\n",
        "for e in range(NUM_EPOCHS):\n",
        "    for batch, (source_seq, target_seq_in, target_seq_out) in enumerate(dataset.take(-1)):\n",
        "        loss = train_step(source_seq, target_seq_in,\n",
        "                          target_seq_out)\n",
        "\n",
        "    print('Epoch {} Loss {:.8f}'.format(\n",
        "          e + 1, loss.numpy()))\n",
        "\n",
        "    if (e + 1) % 10 == 0:\n",
        "        end_time = time.time()\n",
        "        print('Среднее время: {:.2f}s'.format((end_time - start_time) / (e + 1)))\n",
        "        try:\n",
        "            predict()\n",
        "        except Exception as e:\n",
        "            print(e)\n",
        "            continue"
      ],
      "execution_count": null,
      "outputs": [
        {
          "output_type": "stream",
          "name": "stdout",
          "text": [
            "Epoch 1 Loss 0.01342503\n",
            "Epoch 2 Loss 0.00654744\n",
            "Epoch 3 Loss 0.00144395\n",
            "Epoch 4 Loss 0.01888485\n",
            "Epoch 5 Loss 0.01523963\n",
            "Epoch 6 Loss 0.01451406\n",
            "Epoch 7 Loss 0.00425531\n",
            "Epoch 8 Loss 0.00671598\n",
            "Epoch 9 Loss 0.00221179\n",
            "Epoch 10 Loss 0.01625595\n",
            "Среднее время: 8.82s\n",
            "The root cause of that problem can be removed only by reinforcing national legal systems and control mechanisms and by imposing strict controls on domestic production and trade in small arms and light weapons .\n",
            "[[1, 2059, 1375, 2, 10, 372, 113, 16, 3993, 274, 11, 2425, 72, 246, 309, 3, 193, 522, 3, 11, 1682, 1427, 649, 9, 1344, 617, 3, 103, 6, 17, 12, 3, 29, 23, 4]]\n",
            "коренная причина этои проблемы может быть устранена лишь путем укрепления национальных участвующих в осуществлении\n",
            "Epoch 11 Loss 0.00616576\n",
            "Epoch 12 Loss 0.00556841\n",
            "Epoch 13 Loss 0.00389577\n",
            "Epoch 14 Loss 0.01675448\n",
            "Epoch 15 Loss 0.00148388\n",
            "Epoch 16 Loss 0.00955453\n",
            "Epoch 17 Loss 0.02361310\n",
            "Epoch 18 Loss 0.01818097\n",
            "Epoch 19 Loss 0.00644758\n",
            "Epoch 20 Loss 0.00944372\n",
            "Среднее время: 8.83s\n",
            "From this viewpoint we will continue to provide assistance on the ground to countries affected by the scourge of small arms .\n",
            "[[40, 26, 3758, 31, 28, 177, 5, 152, 133, 9, 1, 3759, 5, 38, 705, 11, 1, 904, 2, 17, 12, 4]]\n",
            ". <end>\n",
            "Epoch 21 Loss 0.01175215\n",
            "Epoch 22 Loss 0.00775563\n",
            "Epoch 23 Loss 0.00580288\n",
            "Epoch 24 Loss 0.00834926\n",
            "Epoch 25 Loss 0.00840902\n",
            "Epoch 26 Loss 0.00406378\n",
            "Epoch 27 Loss 0.00229569\n",
            "Epoch 28 Loss 0.00853767\n",
            "Epoch 29 Loss 0.00838758\n",
            "Epoch 30 Loss 0.00545884\n",
            "Среднее время: 8.83s\n",
            "E sect .\n",
            "[[95, 1257, 4]]\n",
            "раздел . <end>\n",
            "Epoch 31 Loss 0.01064193\n",
            "Epoch 32 Loss 0.00128239\n",
            "Epoch 33 Loss 0.00569208\n",
            "Epoch 34 Loss 0.01683386\n",
            "Epoch 35 Loss 0.00326883\n",
            "Epoch 36 Loss 0.02570770\n",
            "Epoch 37 Loss 0.00975885\n",
            "Epoch 38 Loss 0.00184512\n",
            "Epoch 39 Loss 0.00088533\n",
            "Epoch 40 Loss 0.02363543\n",
            "Среднее время: 8.83s\n",
            "New management was installed .\n",
            "[[96, 78, 111, 3556, 4]]\n",
            "было внедрено новое управление . <end>\n",
            "Epoch 41 Loss 0.00262428\n",
            "Epoch 42 Loss 0.00985029\n",
            "Epoch 43 Loss 0.00569830\n",
            "Epoch 44 Loss 0.00361873\n",
            "Epoch 45 Loss 0.01794070\n",
            "Epoch 46 Loss 0.00903335\n",
            "Epoch 47 Loss 0.01090848\n",
            "Epoch 48 Loss 0.00728729\n",
            "Epoch 49 Loss 0.00925255\n",
            "Epoch 50 Loss 0.00078798\n",
            "Среднее время: 8.83s\n",
            "The same tunnel may be assigned to more than one tunnel category e .g . depending on the hours of the day or the day of the week etc .\n",
            "[[1, 283, 67, 138, 16, 524, 5, 127, 189, 117, 67, 249, 95, 1018, 4, 1273, 9, 1, 3367, 2, 1, 971, 45, 1, 971, 2, 1, 1827, 864, 4]]\n",
            "один и тот же туннель может быть отнесен к более чем однои категории туннелеи\n",
            "Epoch 51 Loss 0.00128696\n",
            "Epoch 52 Loss 0.00480945\n",
            "Epoch 53 Loss 0.00104095\n",
            "Epoch 54 Loss 0.00555213\n",
            "Epoch 55 Loss 0.01018670\n",
            "Epoch 56 Loss 0.02238138\n",
            "Epoch 57 Loss 0.00386851\n",
            "Epoch 58 Loss 0.00102741\n",
            "Epoch 59 Loss 0.00919224\n",
            "Epoch 60 Loss 0.01807816\n",
            "Среднее время: 8.84s\n",
            "Mr . Mabhongo South Africa My delegation would like to congratulate you on your assumption of the presidency of the Security Council for the month of February and to express our appreciation to you for convening this very important open debate on the issue of small arms and light weapons .\n",
            "[[172, 4, 4169, 183, 145, 250, 269, 65, 190, 5, 2678, 708, 9, 1222, 2446, 2, 1, 1687, 2, 1, 48, 21, 8, 1, 4170, 2, 440, 3, 5, 1114, 101, 740, 5, 708, 8, 1428, 26, 548, 151, 239, 359, 9, 1, 122, 2, 17, 12, 3, 29, 23, 4]]\n",
            "г н мабхонго южная африка говорит по англииски г н председатель наша делегация хотела\n",
            "Epoch 61 Loss 0.00294003\n",
            "Epoch 62 Loss 0.00237624\n",
            "Epoch 63 Loss 0.01193603\n",
            "Epoch 64 Loss 0.04440229\n",
            "Epoch 65 Loss 0.00386687\n",
            "Epoch 66 Loss 0.00226999\n",
            "Epoch 67 Loss 0.00201366\n",
            "Epoch 68 Loss 0.00057862\n",
            "Epoch 69 Loss 0.00528415\n",
            "Epoch 70 Loss 0.02499014\n",
            "Среднее время: 8.84s\n",
            "The report of the Secretary General on the coordinated implementation of the Habitat Agenda Council decision will be submitted only to the General Assembly at its sixtieth session Assembly resolution .\n",
            "[[1, 42, 2, 1, 43, 19, 9, 1, 1024, 53, 2, 1, 3065, 201, 21, 266, 28, 16, 255, 274, 5, 1, 19, 60, 22, 18, 1469, 49, 60, 52, 4]]\n",
            "доклад генерального секретаря о том что программа деиствии организации объединенных нации с июля года\n",
            "Epoch 71 Loss 0.03176240\n",
            "Epoch 72 Loss 0.00141843\n",
            "Epoch 73 Loss 0.00860991\n",
            "Epoch 74 Loss 0.01550042\n",
            "Epoch 75 Loss 0.00228637\n",
            "Epoch 76 Loss 0.00746893\n",
            "Epoch 77 Loss 0.00434932\n",
            "Epoch 78 Loss 0.00123469\n",
            "Epoch 79 Loss 0.00322096\n",
            "Epoch 80 Loss 0.01279203\n",
            "Среднее время: 8.85s\n",
            "At its nd plenary meeting on February the Economic and Social Council decided that the two days not used by the Committee on Non Governmental Organizations at its regular session would be added to its two week resumed session to be held in May on the understanding that conference services for those two days would be provided on an as available basis .\n",
            "[[22, 18, 684, 285, 66, 9, 440, 1, 57, 3, 81, 21, 353, 10, 1, 137, 1564, 59, 521, 11, 1, 62, 9, 105, 169, 64, 22, 18, 543, 49, 65, 16, 1529, 5, 18, 137, 1827, 2192, 49, 5, 16, 204, 6, 138, 9, 1, 793, 10, 115, 136, 8, 104, 137, 1564, 65, 16, 400, 9, 37, 14, 316, 497, 4]]\n",
            "на своем м пленарном заседании февраля года экономическии и социальныи совет постановил что те\n",
            "Epoch 81 Loss 0.00130310\n",
            "Epoch 82 Loss 0.00105896\n",
            "Epoch 83 Loss 0.01893850\n",
            "Epoch 84 Loss 0.00444705\n",
            "Epoch 85 Loss 0.01015681\n",
            "Epoch 86 Loss 0.00265149\n",
            "Epoch 87 Loss 0.00044346\n",
            "Epoch 88 Loss 0.00144341\n",
            "Epoch 89 Loss 0.01172471\n",
            "Epoch 90 Loss 0.01624475\n",
            "Среднее время: 8.85s\n",
            "Once adopted by WP . the terms of reference and the rules of procedure will be transmitted to the Inland Transport Committee for approval .\n",
            "[[1269, 228, 11, 143, 4, 1, 404, 2, 407, 3, 1, 286, 2, 376, 28, 16, 1886, 5, 1, 1367, 219, 62, 8, 547, 4]]\n",
            "пересмотренныи проект положения о круге ведения и правил процедуры рабочеи группы по безопасности дорожного\n",
            "Epoch 91 Loss 0.00552033\n",
            "Epoch 92 Loss 0.00595417\n",
            "Epoch 93 Loss 0.01134093\n",
            "Epoch 94 Loss 0.00511288\n",
            "Epoch 95 Loss 0.00248753\n",
            "Epoch 96 Loss 0.00442106\n",
            "Epoch 97 Loss 0.01995257\n",
            "Epoch 98 Loss 0.00957385\n",
            "Epoch 99 Loss 0.01171712\n",
            "Epoch 100 Loss 0.00201982\n",
            "Среднее время: 8.85s\n",
            "In addition because Palau has a small population any unusual fundraisers or fund raising activity will likely be noticed .\n",
            "[[6, 434, 961, 93, 36, 7, 17, 1311, 171, 3461, 3462, 45, 87, 1779, 463, 28, 1583, 16, 3463, 4]]\n",
            "кроме того поскольку численность населения палау незначительна пзрк учетом того чтобы они изменяют нормы\n"
          ]
        }
      ]
    },
    {
      "cell_type": "markdown",
      "metadata": {
        "id": "zg_HH5wBBLrX"
      },
      "source": [
        "### Predict"
      ]
    },
    {
      "cell_type": "code",
      "metadata": {
        "colab": {
          "base_uri": "https://localhost:8080/"
        },
        "id": "h3Zlb_huBLrY",
        "outputId": "7be48a4c-d263-4794-a158-c19313c268de"
      },
      "source": [
        "test_sents = inputs[:20]\n",
        "\n",
        "for test_sent in test_sents:\n",
        "    test_sequence = normalize_lat_string(test_sent)\n",
        "    text_predict = predict(test_sequence)\n",
        "    print(\"googletrans:\", translator.translate(text_predict, dest='en').text[:-5])\n",
        "    print()"
      ],
      "execution_count": null,
      "outputs": [
        {
          "output_type": "stream",
          "name": "stdout",
          "text": [
            "Joint ECE Eurostat OECD Meeting on the Management of Statistical Information Systems MSIS \n",
            "[[611, 126, 2778, 612, 66, 9, 1, 78, 2, 613, 47, 309, 2779]]\n",
            "совместное совещание еэк евростата оэср по вопросам управления статистическими информационными системами усис \n",
            "googletrans: Joint EEC Eurostat OECD Meeting on the Management of Statistical Information Sy\n",
            "\n",
            " Bratislava Slovakia April \n",
            "[[2780, 1118, 614]]\n",
            "братислава словакия апреля года \n",
            "googletrans: Bratislava Slovakia \n",
            "\n",
            "INFORMATION TECHNOLOGY GOVERNANCE ONS DO WE NEED IT GOVERNANCE IN A STATISTICAL OFFICE ?\n",
            "[[47, 534, 394, 535, 833, 31, 140, 32, 394, 6, 7, 613, 252, 477]]\n",
            "управление информационнои технологиеи в унс \n",
            "googletrans: information technology management a\n",
            "\n",
            "Availability of and access to sound relevant statistics enable timely and effective decision making by government community and business .\n",
            "[[908, 2, 3, 711, 5, 834, 125, 1119, 395, 478, 3, 173, 266, 835, 11, 332, 156, 3, 132, 4]]\n",
            "наличие надежнои и релевантнои статистики и доступа к неи позволяет своевременно и эффективно принимать решения на уровне правительства общин и предприятии . \n",
            "googletrans: the availability of reliable and relevant statistics and access to them enables timely and effective decision-making at the community government and enterprise l\n",
            "\n",
            "This in turn provides competitive advantage in economic performance political and social stability and cultural development .\n",
            "[[26, 6, 1433, 422, 1434, 1435, 6, 57, 1234, 479, 3, 81, 994, 3, 1436, 30, 4]]\n",
            "это в свою очередь обеспечивает конкурентные преимущества с точки зрения эффективности экономическои деятельности обеспечения политическои и социальнои стабильности и культурного развития . \n",
            "googletrans: this, in turn, provides competitive advantages in terms of the efficiency of economic activity, ensuring political and social stability and cultural develop\n",
            "\n",
            "Technology plays a critical role in this scenario by providing an environment for the creation of quality data and the subsequent means of its dissemination as valuable information to stakeholders .\n",
            "[[534, 2781, 7, 1120, 295, 6, 26, 2064, 11, 615, 37, 360, 8, 1, 995, 2, 1437, 510, 3, 1, 836, 296, 2, 18, 2782, 14, 1438, 47, 5, 909, 4]]\n",
            "чрезвычаино важная роль в этом сценарии принадлежит технологии которая обеспечивает среду для создания качественных данных и соответствующие инструменты для их распространения в качестве полезнои информации среди заинтересованных сторон . \n",
            "googletrans: An extremely important role in this scenario is played by technology that provides an environment for generating quality data and the appropriate tools for disseminating it as useful information to stakehol\n",
            "\n",
            "At the Office for National Statistics ONS we believe that we need to achieve and maintain the above demands by improving public confidence in the integrity and validity of our outputs .\n",
            "[[22, 1, 252, 8, 72, 1119, 535, 31, 511, 10, 31, 140, 5, 712, 3, 1708, 1, 512, 1235, 11, 910, 89, 996, 6, 1, 1121, 3, 2783, 2, 101, 1439, 4]]\n",
            "в управлении национальнои статистики унс мы считаем что обязаны обеспечить устоичивое решение вышеупомянутых задач путем повышения уровня доверия общественности к беспристрастности и достоверности наших статистических материалов . \n",
            "googletrans: In the department of national statistics of the UNS, we believe that we are obliged to ensure a sustainable solution of the above-mentioned tasks by increasing the level of public confidence in the impartiality and reliability of our statistical mater\n",
            "\n",
            "We have embarked on a modernization programme of our statistical processes which will provide us with a high degree of process systematization and statistical integration .\n",
            "[[31, 61, 2784, 9, 7, 1236, 33, 2, 101, 613, 513, 41, 28, 152, 616, 15, 7, 187, 1440, 2, 297, 2785, 3, 613, 2065, 4]]\n",
            "мы приступили к осуществлению программы модернизации наших статистических процессов которые позволят нам достичь высокого уровня систематизации процессов и статистическои интеграции . \n",
            "googletrans: we have embarked on a program to modernize our statistical processes that will allow us to achieve a high level of process systematization and statistical integra\n",
            "\n",
            "The demand for reviewing and renewing our governance processes for our technology environment is a direct result of this programme .\n",
            "[[1, 514, 8, 2786, 3, 2066, 101, 394, 513, 8, 101, 534, 360, 13, 7, 997, 911, 2, 26, 33, 4]]\n",
            "важно также изучить накопленныи опыт с тем чтобы обеспечить эффективность дальнеиших мер которые мог бы сделать еще до разработки с национального законодательства и рдр . \n",
            "googletrans: It is also important to learn from the experience gained in order to ensure the effectiveness of further measures that could be taken even before the development of national legislation and\n",
            "\n",
            "As we seek standardization of our processes we are more and more reliant on our technology and its management .\n",
            "[[14, 31, 1122, 2787, 2, 101, 513, 31, 25, 127, 3, 127, 2788, 9, 101, 534, 3, 18, 78, 4]]\n",
            "поскольку мы стремимся к стандартизации наших процессов мы для решения этои задачи во все большеи степени полагаемся на нашу технологию и методику ее управления . \n",
            "googletrans: As we strive to standardize our processes, we increasingly rely on our technology and its management methodology to meet these challe\n",
            "\n",
            "In March Alan Greenspan Chairman of the US Federal Reserve Board suggested how ephemeral vital elements of a statistical office s brand can be when he commented that A firm is inherently fragile if its value emanates more from conceptual as distinct from physical assets .\n",
            "[[6, 578, 2789, 2790, 1123, 2, 1, 616, 2791, 1441, 221, 2792, 333, 2793, 1237, 837, 2, 7, 613, 252, 34, 2794, 113, 16, 91, 657, 2795, 10, 7, 2067, 13, 2796, 2068, 157, 18, 536, 2797, 127, 40, 1709, 14, 2069, 40, 2070, 2798, 4]]\n",
            "в марте года алан гринспен председатель совета управляющих федеральнои резервнои системы высказал намек на то насколько эфемерными могут быть важнеишие составляющие репутации статистического управления заявив что та или иная фирма является уже по своеи природе неустоичивои если ее стоимость обусловлена в большеи степени теоретическими а не физическими активами . \n",
            "googletrans: In March, Alan Greenspan, Chairman of the Board of Governors of the Federal Reserve System, hinted at how ephemeral the importance of a statistical office's reputation could be, stating that a firm is already inherently unsteady if its value is driven more by theoretical than physical as\n",
            "\n",
            "Trust and reputation can vanish overnight .\n",
            "[[838, 3, 1710, 113, 2799, 2800, 4]]\n",
            "доверие и репутация могут исчезнуть в то время как фабрика нет ! \n",
            "googletrans: trust and reputation can disappear while the factory is \n",
            "\n",
            "A factory cannot ! .\n",
            "[[7, 2801, 1124, 2802, 4]]\n",
            ". \n",
            "googletrans: \n",
            "\n",
            "The reputation of any statistical office and trust of those who contribute data to it are of paramount importance .\n",
            "[[1, 1710, 2, 171, 613, 252, 3, 838, 2, 104, 537, 282, 510, 5, 32, 25, 2, 1442, 361, 4]]\n",
            "репутация любого статистического управления и степень доверия к нему тех кто представляет ему данные имеют первостепенную важность . \n",
            "googletrans: the reputation of any statistical office and the credibility of those who submit data to it are of paramount import\n",
            "\n",
            "As technologists we should therefore ensure we take steps to safeguard these and minimise risk to existing statistical and technology environments .\n",
            "[[14, 2803, 31, 69, 768, 230, 31, 182, 658, 5, 1443, 112, 3, 2804, 839, 5, 240, 613, 3, 534, 1444, 4]]\n",
            "таким образом в качестве технологов мы должны обеспечить принятие мер по их поддержанию и сведению к минимуму угроз существующеи статистическои и технологическои средам . \n",
            "googletrans: therefore, as technologists, we must ensure that measures are taken to maintain them and minimize threats to the existing statistical and technological environ\n",
            "\n",
            "That is the rationale for IT Governance within ONS .\n",
            "[[10, 13, 1, 2071, 8, 32, 394, 174, 535, 4]]\n",
            "эти требования лежат в основе практики управления ит в унс . \n",
            "googletrans: these requirements are at the heart of it management practices at\n",
            "\n",
            "DO WE NEED IT GOVERNANCE ONS \n",
            "[[833, 31, 140, 32, 394, 535]]\n",
            "нуждаемся ли мы в политике управления ит в унс \n",
            "googletrans: do we need an it management policy i\n",
            "\n",
            "Increased complexity of demands made on statistical outputs speed of communications and the consequent demand for providing our information without delay to a large audience of stakeholders mean that information technology IT accounts for a large proportion of ONS s costs as well as engendering significant risks that we need to manage .\n",
            "[[840, 1711, 2, 1235, 94, 9, 613, 1439, 1445, 2, 1712, 3, 1, 2805, 514, 8, 615, 101, 47, 659, 1713, 5, 7, 396, 2806, 2, 909, 2072, 10, 47, 534, 32, 1125, 8, 7, 396, 1126, 2, 535, 34, 912, 14, 128, 14, 2807, 480, 769, 10, 31, 140, 5, 1714, 4]]\n",
            "растущая сложность требовании предъявляемых к статистическим материалам и скорости передачи обязательных отмечает что сбор или рдр оказывают или собранных за пределами мер организации объединенных нации в том числе соответствующеи этои соответствующих вышеупомянутых задач по созданию потенциала связанных с такими видами оружия мы должны полного полных самым затрону определенным . \n",
            "googletrans: The growing complexity of the requirement for statistical materials and the speed of transmission of mandatory notes that the collection or ddr is provided or collected outside the measures of the United Nation, including the relevant and relevant aforementioned tasks for building the capacity of such weapons, we must complete the full most affected by cer\n",
            "\n",
            "For organizations such as national statistical offices NSOs whose main production environments are based on computers IT offers extraordinary opportunities to enable and transform the way we provide statistical information .\n",
            "[[8, 64, 70, 14, 72, 613, 1127, 2073, 998, 770, 617, 1444, 25, 310, 9, 2074, 32, 2808, 2809, 660, 5, 395, 3, 1715, 1, 713, 31, 152, 613, 47, 4]]\n",
            "в случае глобального обзора глобального документа включая совещания по прежнему обеспечивает среду для создания качественных данных и соответствующие инструменты для их собственных рисков и пункт \n",
            "googletrans: in the case of a global review, the global document including meetings still provides an environment for creating quality data and appropriate tools for their own risks and para\n",
            "\n",
            "Cost risk and opportunity make IT strategic for our agency s growth and render it essential for our long term survival .\n",
            "[[579, 839, 3, 423, 209, 32, 771, 8, 101, 913, 34, 661, 3, 2075, 32, 841, 8, 101, 538, 129, 2810, 4]]\n",
            "ввиду сопряженных с нею расходов рисков и возможностеи ит приобретает стратегическое значение для развития нашего управления и нашего долгосрочного выживания . \n",
            "googletrans: in view of its costs, risks and opportunities, it is strategically important for the development of our management and our long-term surv\n",
            "\n"
          ]
        }
      ]
    },
    {
      "cell_type": "markdown",
      "metadata": {
        "id": "jVBb0Z92hGsr"
      },
      "source": [
        "# Вывод\n",
        "1. Распарсен сложный (в смылсе нового формата и объема) входной файл\n",
        "2. Прогнан pipeline по подготовке данных Transformer, созданию, обучению и использованию модели Transformer\n",
        "3. Получены неплохие результаты - googletrans  тоже, похоже, согласен с этим)"
      ]
    }
  ]
}