{
  "nbformat": 4,
  "nbformat_minor": 0,
  "metadata": {
    "colab": {
      "name": "Transformer_chat_bot",
      "provenance": [],
      "collapsed_sections": [
        "ebXOk1WTMdhZ",
        "W0lmjO4GGwhT",
        "YxZ3SwJQkzlE"
      ],
      "toc_visible": true
    },
    "kernelspec": {
      "name": "python3",
      "display_name": "Python 3"
    },
    "language_info": {
      "name": "python"
    },
    "accelerator": "GPU"
  },
  "cells": [
    {
      "cell_type": "markdown",
      "metadata": {
        "id": "_TZM5O-cO-2j"
      },
      "source": [
        "# Чат-бот на transformer\n"
      ]
    },
    {
      "cell_type": "markdown",
      "metadata": {
        "id": "kM62RmC7RJwj"
      },
      "source": [
        "Датасет среднего размера  ~ 9000 строк "
      ]
    },
    {
      "cell_type": "markdown",
      "metadata": {
        "id": "P_x_DBL4OMBF"
      },
      "source": [
        "#Setup & Import"
      ]
    },
    {
      "cell_type": "code",
      "metadata": {
        "id": "3uzif7N_OEqm"
      },
      "source": [
        "pathName      = \"/content/drive/MyDrive/\" \n",
        "pathNameData  = pathName + \"Datasets/\" \n",
        "pathNameTrain = pathName + \"DataTrain/\"\n",
        "prefix        = '_2022_'"
      ],
      "execution_count": null,
      "outputs": []
    },
    {
      "cell_type": "code",
      "metadata": {
        "colab": {
          "base_uri": "https://localhost:8080/"
        },
        "id": "1Zpe1HGoJajf",
        "outputId": "850c653c-85e9-4ca1-b287-52826c79fb30"
      },
      "source": [
        "from google.colab import drive\n",
        "drive.mount('/content/drive/')"
      ],
      "execution_count": null,
      "outputs": [
        {
          "output_type": "stream",
          "name": "stdout",
          "text": [
            "Mounted at /content/drive/\n"
          ]
        }
      ]
    },
    {
      "cell_type": "code",
      "metadata": {
        "id": "75TTFpTfR0PH"
      },
      "source": [
        "dialogs_base_01 = 'chat_bot_config.json'\n",
        "raw_data_01 = pathNameData + 'chat_bot_config.json'\n",
        "dialogs_base_02 = '9700 диалоги художка+быт.txt'\n",
        "raw_data_02 = pathNameData + 'База для чат-ботов/9700 диалоги художка+быт.txt'\n",
        "raw_data_02_list = pathNameData + 'База для чат-ботов/'"
      ],
      "execution_count": null,
      "outputs": []
    },
    {
      "cell_type": "code",
      "metadata": {
        "id": "7HnXUex4_CPW"
      },
      "source": [
        "import numpy as np\n",
        "import tensorflow as tf\n",
        "\n",
        "from tensorflow.keras.layers import Input, Embedding, Conv1D, SpatialDropout1D, BatchNormalization, GlobalMaxPooling1D, Dense, Dropout, MaxPooling1D, LSTM\n",
        "from tensorflow.keras.preprocessing.text import Tokenizer\n",
        "from tensorflow.keras.preprocessing.sequence import pad_sequences\n",
        "from tensorflow.keras.models import Model, Sequential\n",
        "from tensorflow.keras.utils import to_categorical, plot_model\n",
        "\n",
        "import os, re\n",
        "#import pymorphy2\n",
        "import matplotlib.pyplot as plt\n",
        "import matplotlib.ticker as ticker # модуль для определения форматирования и местоположения делений на осях графиков.\n"
      ],
      "execution_count": null,
      "outputs": []
    },
    {
      "cell_type": "markdown",
      "metadata": {
        "id": "rk88nf7OHwkw"
      },
      "source": [
        "## Load Data"
      ]
    },
    {
      "cell_type": "markdown",
      "metadata": {
        "id": "aiNcVoCeHwkw"
      },
      "source": [
        "### Raw_data_01"
      ]
    },
    {
      "cell_type": "code",
      "metadata": {
        "id": "W7QnXDwqHwky"
      },
      "source": [
        "import codecs, json\n",
        "with codecs.open(pathNameData + 'BOT_CONFIG1.json', 'r', 'utf-8') as f:\n",
        "  BOT_CONFIG = json.load(f)"
      ],
      "execution_count": null,
      "outputs": []
    },
    {
      "cell_type": "code",
      "metadata": {
        "colab": {
          "base_uri": "https://localhost:8080/"
        },
        "outputId": "994c9533-b12b-42c9-ee59-0c33fffc87ec",
        "id": "mGgRH5aUHwky"
      },
      "source": [
        "import sys\n",
        "# convert to pair (qwestion, answer)\n",
        "# UPD: add intent\n",
        "inputs_01 = []\n",
        "targets_01 = []\n",
        "intents_01 = []\n",
        "\n",
        "for i, intent in enumerate(BOT_CONFIG['intents'].items()):\n",
        "  try:\n",
        "    if i<1:\n",
        "      print(intent[1]['examples'])\n",
        "      print(intent[1]['responses'])\n",
        "    qwestions = intent[1]['examples']\n",
        "    answers   = intent[1]['responses']\n",
        "    \n",
        "    for q in qwestions:\n",
        "      for a in answers:\n",
        "        if i<1:\n",
        "          print(q, a)\n",
        "        inputs_01.append(q)\n",
        "        targets_01.append(a) \n",
        "        intents_01.append(intent[0])\n",
        "  except Exception as e:\n",
        "    print(i,sys.exc_info()[0], e, )\n",
        "    #exc_type, exc_obj, exc_tb = sys.exc_info()\n",
        "    #pass        \n",
        "    # бывают ошибки\n",
        "        \n",
        "print(\"inputs, targets:\")\n",
        "print(len(list(zip(inputs_01, targets_01, intents_01))))\n",
        "print(list(zip(inputs_01, targets_01, intents_01))[:5])\n"
      ],
      "execution_count": null,
      "outputs": [
        {
          "output_type": "stream",
          "name": "stdout",
          "text": [
            "['привет!', 'здарова', 'хей-хей!!']\n",
            "['хай', 'добрый вечер!', 'здравствуйте!']\n",
            "привет! хай\n",
            "привет! добрый вечер!\n",
            "привет! здравствуйте!\n",
            "здарова хай\n",
            "здарова добрый вечер!\n",
            "здарова здравствуйте!\n",
            "хей-хей!! хай\n",
            "хей-хей!! добрый вечер!\n",
            "хей-хей!! здравствуйте!\n",
            "153 <class 'KeyError'> 'responses'\n",
            "154 <class 'KeyError'> 'responses'\n",
            "155 <class 'KeyError'> 'responses'\n",
            "230 <class 'KeyError'> 'responses'\n",
            "243 <class 'KeyError'> 'examples'\n",
            "inputs, targets:\n",
            "2825\n",
            "[('привет!', 'хай', 'hello'), ('привет!', 'добрый вечер!', 'hello'), ('привет!', 'здравствуйте!', 'hello'), ('здарова', 'хай', 'hello'), ('здарова', 'добрый вечер!', 'hello')]\n"
          ]
        }
      ]
    },
    {
      "cell_type": "markdown",
      "metadata": {
        "id": "FYV1dLzjHwky"
      },
      "source": [
        "### Raw_data_02"
      ]
    },
    {
      "cell_type": "code",
      "metadata": {
        "colab": {
          "base_uri": "https://localhost:8080/"
        },
        "outputId": "4d396ae3-a8e9-4b9c-9233-00092bceee17",
        "id": "vro6YMAKHwky"
      },
      "source": [
        "import os\n",
        "file_lst = os.listdir(raw_data_02_list)\n",
        "print(file_lst)\n",
        "# исключим да-нет\n",
        "file_lst = [fn  for i, fn in enumerate(file_lst) if i!=2 ]\n",
        "file_lst_codec = ['utf-8' if i!=1 else 'cp1251' for i,_ in enumerate(file_lst) ]\n",
        "file_lst, file_lst_codec"
      ],
      "execution_count": null,
      "outputs": [
        {
          "output_type": "stream",
          "name": "stdout",
          "text": [
            "['5400 диалог политика+ художка -военные, бемби, незнайкак, донцова,анекдот, пух и прочие.txt', '4800диалогов даты, кбжу, суды и шахматы, медицина, еда, имена, камни ,породы, валюта (2).txt', 'Да-нет(3000).txt', '1200.txt', '8 тыс диалоги болталка, общее, энциклопедия разные науки, тесты школьные.txt', '9700 диалоги художка+быт.txt']\n"
          ]
        },
        {
          "output_type": "execute_result",
          "data": {
            "text/plain": [
              "(['5400 диалог политика+ художка -военные, бемби, незнайкак, донцова,анекдот, пух и прочие.txt',\n",
              "  '4800диалогов даты, кбжу, суды и шахматы, медицина, еда, имена, камни ,породы, валюта (2).txt',\n",
              "  '1200.txt',\n",
              "  '8 тыс диалоги болталка, общее, энциклопедия разные науки, тесты школьные.txt',\n",
              "  '9700 диалоги художка+быт.txt'],\n",
              " ['utf-8', 'cp1251', 'utf-8', 'utf-8', 'utf-8'])"
            ]
          },
          "metadata": {},
          "execution_count": 153
        }
      ]
    },
    {
      "cell_type": "code",
      "metadata": {
        "colab": {
          "base_uri": "https://localhost:8080/",
          "height": 35
        },
        "outputId": "30a88646-960b-4a7b-ff9a-6912fbd891a4",
        "id": "NTQDwzF4Hwkz"
      },
      "source": [
        "import codecs, re\n",
        "def read_txt(path, codec_):\n",
        "  with codecs.open(path, 'r', encoding=codec_) as f:\n",
        "    text = f.read()\n",
        "    text = text.replace('\\ufeff', '')  \n",
        "    text = re.sub(r'[^А-я0-9\\n-!.?]', ' ', text)\n",
        "    text = re.sub(r'([!.?])', r' \\1', text)       # добавляем пробелы перед !.? - чтобы были отдельными токенами\n",
        "  #text = ' '.join(text.split())\n",
        "  return text\n",
        "i = 4\n",
        "fn, codec_ = file_lst[i], file_lst_codec[i]\n",
        "path = pathNameData + 'База для чат-ботов/' + fn\n",
        "\n",
        "text = read_txt(path, codec_)\n",
        "text[:100]"
      ],
      "execution_count": null,
      "outputs": [
        {
          "output_type": "execute_result",
          "data": {
            "application/vnd.google.colaboratory.intrinsic+json": {
              "type": "string"
            },
            "text/plain": [
              "'    Как вы можете быть таким уверенным ?\\n  Элементарно .\\n\\n    А что делать будем ?\\n  Ждать .\\n    Над'"
            ]
          },
          "metadata": {},
          "execution_count": 155
        }
      ]
    },
    {
      "cell_type": "code",
      "metadata": {
        "id": "K4--fT16Hwkz"
      },
      "source": [
        "#raw_data_02\n",
        "texts = []\n",
        "for i, fn in enumerate(file_lst):\n",
        "  fn, codec_ = file_lst[i], file_lst_codec[i]\n",
        "  path = pathNameData + 'База для чат-ботов/' + fn\n",
        "  texts.append(read_txt(path, codec_))"
      ],
      "execution_count": null,
      "outputs": []
    },
    {
      "cell_type": "markdown",
      "metadata": {
        "id": "gWHJKBHdHwkz"
      },
      "source": [
        "### Explore raw data - Dataset 02"
      ]
    },
    {
      "cell_type": "code",
      "metadata": {
        "colab": {
          "base_uri": "https://localhost:8080/",
          "height": 72
        },
        "outputId": "66dd5eee-d25c-437b-d387-c05b8d5b5475",
        "id": "WaaE1V-yHwk0"
      },
      "source": [
        "i =4\n",
        "texts[i][:350]"
      ],
      "execution_count": null,
      "outputs": [
        {
          "output_type": "execute_result",
          "data": {
            "application/vnd.google.colaboratory.intrinsic+json": {
              "type": "string"
            },
            "text/plain": [
              "'    Как вы можете быть таким уверенным ?\\n  Элементарно .\\n\\n    А что делать будем ?\\n  Ждать .\\n    Надеюсь  не до первой звезды ?\\n  Я тоже на это надеюсь .\\n\\n    За что ?\\n  Вы знаете за что !\\n\\n    Ты что нибудь понимаешь ?\\n  Абсолютно ничего .\\n\\n    Обсудим это завтра  ладно ?\\n  Хорошо .\\n\\n    Кто услышит ?\\n  Кто кто . .Ну твой следователь .\\n\\n    Что   '"
            ]
          },
          "metadata": {},
          "execution_count": 157
        }
      ]
    },
    {
      "cell_type": "code",
      "metadata": {
        "id": "DQY7k_qKHwk0"
      },
      "source": [
        "separators = [\n",
        "  ['\\r\\n\\r\\n', '\\r\\n'],\n",
        "  ['\\r\\n\\r\\n', '\\r\\n'],\n",
        "  [' .\\r\\n', '\\r\\n'],\n",
        "  ['\\r\\n\\r\\n', '\\r\\n'],\n",
        "  ['\\n\\n', '\\n' ],             \n",
        "]"
      ],
      "execution_count": null,
      "outputs": []
    },
    {
      "cell_type": "code",
      "metadata": {
        "colab": {
          "base_uri": "https://localhost:8080/"
        },
        "outputId": "0ef7fb8e-34f2-4987-d7a9-8f0e032e3bcc",
        "id": "es4hyv6IHwk0"
      },
      "source": [
        "for i in range(len(texts)):\n",
        "  print(i, ascii(texts[i][:80]))"
      ],
      "execution_count": null,
      "outputs": [
        {
          "output_type": "stream",
          "name": "stdout",
          "text": [
            "0 '    \\u041e\\u0439  \\u0430 \\u043f\\u043e\\u0447\\u0435\\u043c\\u0443 \\u0443 \\u0432\\u0430\\u0441 \\u0432 \\u043a\\u0430\\u0440\\u043c\\u0430\\u043d\\u0435 \\u0441\\u044b\\u0440\\u043e ?\\r\\n  \\u0422\\u0430\\u043a \\u043f\\u043e\\u043b\\u0430\\u0433\\u0430\\u0435\\u0442\\u0441\\u044f .\\r\\n\\r\\n    \\u041a\\u043e\\u0433\\u0434\\u0430 \\u043d\\u0430\\u0447\\u0438\\u043d\\u0430\\u0435'\n",
            "1 '    \\u041a\\u0430\\u043a\\u043e\\u0439 \\u043f\\u0440\\u0430\\u0437\\u0434\\u043d\\u0438\\u043a \\u0432 \\u0420\\u043e\\u0441\\u0441\\u0438\\u0438 \\u043e\\u0442\\u043c\\u0435\\u0447\\u0430\\u044e\\u0442 10 \\u043e\\u043a\\u0442\\u044f\\u0431\\u0440\\u044f ?\\r\\n  \\u0414\\u0435\\u043d\\u044c \\u0440\\u0430\\u0431\\u043e\\u0442\\u043d\\u0438\\u043a\\u0430 \\u0441\\u0435\\u043b\\u044c\\u0441\\u043a\\u043e\\u0433\\u043e \\u0445\\u043e'\n",
            "2 '    \\u041a\\u0430\\u043a\\u043e\\u0432\\u044b \\u043f\\u043e\\u0441\\u043b\\u0435\\u0434\\u0441\\u0442\\u0432\\u0438\\u044f \\u043f\\u043e\\u0440\\u0430\\u0436\\u0435\\u043d\\u0438\\u044f \\u043c\\u043e\\u0437\\u0436\\u0435\\u0447\\u043a\\u0430 ?\\r\\n  \\u0422\\u0438\\u043f\\u0438\\u0447\\u043d\\u043e\\u0439 \\u0434\\u043b\\u044f \\u043f\\u043e\\u0440\\u0430\\u0436\\u0435\\u043d\\u0438\\u044f \\u043c\\u043e\\u0437\\u0436\\u0435\\u0447\\u043a\\u0430 \\u044f'\n",
            "3 '    \\u041a\\u0430\\u043a \\u0434\\u0435\\u043b\\u0430 ?\\r\\n  \\u0412\\u0441\\u0435 \\u0445\\u043e\\u0440\\u043e\\u0448\\u043e .\\r\\n\\r\\n    \\u0413\\u0434\\u0435 \\u0442\\u044b \\u0436\\u0438\\u0432\\u0435\\u0448\\u044c ?\\r\\n  \\u042f \\u0436\\u0438\\u0432\\u0443 \\u0432\\u043e \\u0412\\u0441\\u0435\\u043b\\u0435\\u043d\\u043d\\u043e\\u0439 .\\r\\n'\n",
            "4 '    \\u041a\\u0430\\u043a \\u0432\\u044b \\u043c\\u043e\\u0436\\u0435\\u0442\\u0435 \\u0431\\u044b\\u0442\\u044c \\u0442\\u0430\\u043a\\u0438\\u043c \\u0443\\u0432\\u0435\\u0440\\u0435\\u043d\\u043d\\u044b\\u043c ?\\n  \\u042d\\u043b\\u0435\\u043c\\u0435\\u043d\\u0442\\u0430\\u0440\\u043d\\u043e .\\n\\n    \\u0410 \\u0447\\u0442\\u043e \\u0434\\u0435\\u043b\\u0430\\u0442\\u044c \\u0431\\u0443\\u0434\\u0435\\u043c'\n"
          ]
        }
      ]
    },
    {
      "cell_type": "markdown",
      "metadata": {
        "id": "Cn18hjH4Hwk0"
      },
      "source": [
        "##Data Prepare"
      ]
    },
    {
      "cell_type": "markdown",
      "metadata": {
        "id": "egLGV_mSHwk0"
      },
      "source": [
        "### Split pairs"
      ]
    },
    {
      "cell_type": "code",
      "metadata": {
        "colab": {
          "base_uri": "https://localhost:8080/"
        },
        "outputId": "0d3b4ffa-b79c-43ba-f475-a9eebe66a5db",
        "id": "c9LNkXT2Hwk0"
      },
      "source": [
        "def split_texts_by_pair(text, seps):\n",
        "  #print(ascii(seps[0]))\n",
        "  qa = text.split(seps[0])        # разделитель между парами вопросов\n",
        "\n",
        "  qa2 = [pair_qa.split(seps[1]) for pair_qa in qa] # разделитель внтури пар вопросов\n",
        "  return qa2\n",
        "i = 4\n",
        "qa = split_texts_by_pair(texts[i], separators[i])\n",
        "len(qa),qa[:3]"
      ],
      "execution_count": null,
      "outputs": [
        {
          "output_type": "execute_result",
          "data": {
            "text/plain": [
              "(9211,\n",
              " [['    Как вы можете быть таким уверенным ?', '  Элементарно .'],\n",
              "  ['    А что делать будем ?',\n",
              "   '  Ждать .',\n",
              "   '    Надеюсь  не до первой звезды ?',\n",
              "   '  Я тоже на это надеюсь .'],\n",
              "  ['    За что ?', '  Вы знаете за что !']])"
            ]
          },
          "metadata": {},
          "execution_count": 160
        }
      ]
    },
    {
      "cell_type": "code",
      "metadata": {
        "colab": {
          "base_uri": "https://localhost:8080/"
        },
        "outputId": "19c81be9-daa7-482c-e9b5-1e8cc33d511d",
        "id": "xAd6-ucnHwk1"
      },
      "source": [
        "qa2 = []\n",
        "for i in range(len(texts)):\n",
        "  qa2.append(split_texts_by_pair(texts[i], separators[i]))\n",
        "  print(len(qa2[-1]), qa2[-1][:2])"
      ],
      "execution_count": null,
      "outputs": [
        {
          "output_type": "stream",
          "name": "stdout",
          "text": [
            "5275 [['    Ой  а почему у вас в кармане сыро ?', '  Так полагается .'], ['    Когда начинаеться сезон фрукта Манго         ?', '  Сезон длятся круглогодично  пик в Таиланде с марта по май  во Вьетнаме зимой и весной  в Индонезии с сентября по декабрь .']]\n",
            "4579 [['    Какой праздник в России отмечают 10 октября ?', '  День работника сельского хозяйства и перерабатывающей промышленности .'], ['    Кто такой Дарт Вейдер ?', '  Дарт Вейдер был оригинальным темным лордом для Звездных войн . Дарт Вейдер правил и страхом  и агрессией . Первоначально Энакин Скайуокер был молодым джедаем  которого затем соблазнила темная сторона силы канцлера Палпатина Дарта Сидиуса .']]\n",
            "552 [['    Каковы последствия поражения мозжечка ?', '  Типичной для поражения мозжечка является мышечная гипотония'], ['    Что кушают молодые гадюки ?', '  Молодые гадюки в основном кормятся рептилиями и земноводными']]\n",
            "7836 [['    Как дела ?', '  Все хорошо .'], ['    Где ты живешь ?', '  Я живу во Вселенной .']]\n",
            "9211 [['    Как вы можете быть таким уверенным ?', '  Элементарно .'], ['    А что делать будем ?', '  Ждать .', '    Надеюсь  не до первой звезды ?', '  Я тоже на это надеюсь .']]\n"
          ]
        }
      ]
    },
    {
      "cell_type": "code",
      "metadata": {
        "id": "NkKFoFprHwk1"
      },
      "source": [
        "len(qa2), qa2[-1]"
      ],
      "execution_count": null,
      "outputs": []
    },
    {
      "cell_type": "markdown",
      "metadata": {
        "id": "rRsZI-0zHwk1"
      },
      "source": [
        "### Exclude incorrectly placed data - Dataset 02"
      ]
    },
    {
      "cell_type": "code",
      "metadata": {
        "id": "IOPXzdTrHwk1"
      },
      "source": [
        "# Dataset 02\n",
        "# ошибочно размеченные  данные\n",
        "def exlude_incorect_pairs(qa2):\n",
        "  inputs_02 = []\n",
        "  targets_02 = []\n",
        "  err_02 = []\n",
        "  for i, pair_qa in enumerate(qa2):\n",
        "    if len(pair_qa) !=2: # (или только вопрос, или больше чем просто вопрос ответ)\n",
        "      #print(\"error 'not pair':\", i, len(pair_qa), pair_qa)\n",
        "      err_02.append([ i, 'not pair', len(pair_qa), pair_qa])\n",
        "      # Исключим диалоги, где больше чем просто вопрос-ответ или просто вопрос\n",
        "    else:\n",
        "      #if len(pair_qa[0][4:].strip()) > 0 and len(pair_qa[1][2:].strip()) > 0:\n",
        "      if len(pair_qa[0].strip()) > 0 and len(pair_qa[1].strip()) > 0:\n",
        "        inputs_02.append(pair_qa[0][4:].strip()) # пропускаем \"- - \"\n",
        "        targets_02.append(pair_qa[1][2:].strip()) # пропускаем \"- \"\n",
        "      else:\n",
        "        print(\"error 'empty':\",i, len(pair_qa), pair_qa)\n",
        "        err_02.append([ i, 'empty', len(pair_qa), pair_qa])\n",
        "        # исключаем строки, где хотя бы вопрос или ответ - пустые, или неправильная разметка вопроса\n",
        "  return inputs_02, targets_02, err_02"
      ],
      "execution_count": null,
      "outputs": []
    },
    {
      "cell_type": "code",
      "metadata": {
        "colab": {
          "base_uri": "https://localhost:8080/"
        },
        "outputId": "3fba42d7-e388-4d77-b647-ce3e27cb3a82",
        "id": "03MxhF_fHwk1"
      },
      "source": [
        "inputs_02, targets_02, err_02 = [], [], []\n",
        "for i in range(len(qa2)):\n",
        "  inputs_02_, targets_02_, err_02_ = exlude_incorect_pairs(qa2[i])\n",
        "  inputs_02.append(inputs_02_); targets_02.append(targets_02_), err_02.append(err_02_)\n",
        "  print(file_lst[i])  \n",
        "  print(list(zip(inputs_02[-1], targets_02[-1]))[:5])\n",
        "  #exclude_rows = len(list(zip(inputs_02, targets_02))) - len(qa2)\n",
        "  exclude_rows = len(err_02[-1])\n",
        "  print(f\"В итоге {len(list(zip(inputs_02[-1], targets_02[-1])))} пар, исключено {exclude_rows} строк\")\n",
        "  print(\"Примеры ошибок:\")\n",
        "  filter_ = 'empty'\n",
        "  print(filter_, \":\", list(filter(lambda x: x[1] == filter_, err_02[-1]))[:2])\n",
        "  filter_ = 'not pair'\n",
        "  print(filter_, \":\", list(filter(lambda x: x[1] == filter_, err_02[-1]))[:2])\n",
        "  print()"
      ],
      "execution_count": null,
      "outputs": [
        {
          "output_type": "stream",
          "name": "stdout",
          "text": [
            "5400 диалог политика+ художка -военные, бемби, незнайкак, донцова,анекдот, пух и прочие.txt\n",
            "[('Ой  а почему у вас в кармане сыро ?', 'Так полагается .'), ('Когда начинаеться сезон фрукта Манго         ?', 'Сезон длятся круглогодично  пик в Таиланде с марта по май  во Вьетнаме зимой и весной  в Индонезии с сентября по декабрь .'), ('Чем характеризуется 16 я неделя беремености ?', 'Вес тела женщины увеличился еще на один два килограмма . В этот период желателен прием витамина А . Он способствует активному развитию малыша  нормальному набору веса  обновлению слизистых оболочек и эпителия плода . У девочек в этот момент происходит один из самых важных процессов   формирование их собственных яйцеклеток . Нарушения на этом этапе могут привести к бесплодию будущей женщины .'), ('Чем особен фрукт Манго         ?', 'Один из самых популярных фруктов во всех тропических странах . Плоды крупные  яйцевидной  удлиненной или шаровидной формы . Мякоть желтая и оранжевая  сочная  сладкая . Запах манго напоминает аромат абрикоса  розы  дыни  лимона . В пищу употребляют также недозревшие плоды зеленого цвета   их едят с солью и перцем . Чистить фрукт удобно острым ножом .'), ('Где попробовать фрукт Манго         ?', 'Попробовать Манго         можно в таких странах как Филиппины  Индия  Таиланд  Индонезия  Мьянма  Вьетнам  Китай  Пакистан  Мексика  Бразилия  Куба .')]\n",
            "В итоге 5105 пар, исключено 170 строк\n",
            "Примеры ошибок:\n",
            "empty : []\n",
            "not pair : [[426, 'not pair', 4, ['    Письма нет ?', '  Нет . ', '    Давно не было ?', '  Давно . Там Не до письма .']], [629, 'not pair', 5, ['    Расскажи мне о фестивале        ?', '  Гигантский европейский фестиваль ежегодно привлекает более 350 000  гуляк со всего мира . В течение 7 дней на сценах        выступают мировые знаменитости и начинающие музыканты всех жанров и направлений .', ' ', '    Чем характерно музыкальное напрвление Популярная ?', '  Понятие  охватывающее различные стили и жанры преимущественно легкой эстрадной музыки  ориентированной на коммерческий успех . В настоящее время термин  попса   производное от  поп музыка   зачастую используется для придания высказыванию негативной оценочности .']]]\n",
            "\n",
            "4800диалогов даты, кбжу, суды и шахматы, медицина, еда, имена, камни ,породы, валюта (2).txt\n",
            "[('Какой праздник в России отмечают 10 октября ?', 'День работника сельского хозяйства и перерабатывающей промышленности .'), ('Кто такой Дарт Вейдер ?', 'Дарт Вейдер был оригинальным темным лордом для Звездных войн . Дарт Вейдер правил и страхом  и агрессией . Первоначально Энакин Скайуокер был молодым джедаем  которого затем соблазнила темная сторона силы канцлера Палпатина Дарта Сидиуса .'), ('Кто такой Йода ?', 'Йода   вымышленный персонаж в космической франшизе Звездные войны  созданной Джорджем Лукасом  впервые появившейся в фильме 1980 года Аватар  Империя наносит ответный удар .'), ('Кто такой Люк Скайуокер ?', 'Люк Скайуокер   вымышленный персонаж  выступающий в качестве главного героя оригинальной трилогии фильма  и как поддерживающий персонаж в сиквельной трилогии звездных войн  созданной Джорджем Лукасом .'), ('Кто такой Хан Соло ?', 'Хан Соло   вымышленный персонаж в франшизе Звездные войны  изображенный в фильмах Харрисона Форда . В оригинальной трилогии фильма Хан и его второй пилот Чубакка участвуют в Альянсе повстанцев  который выступает против Галактической Империи .')]\n",
            "В итоге 4383 пар, исключено 196 строк\n",
            "Примеры ошибок:\n",
            "empty : []\n",
            "not pair : [[312, 'not pair', 1, ['    Чем характерно мифическое существо Сирин ?']], [313, 'not pair', 1, ['  Сирин выглядит как полуптица полуженщина . Но  в отличие от Алконост  голос е  несет опасность . Человек  который услышит пение Сирин забудет обо вс м на свете .  Он застынет на месте навсегда . Ничто не сможет вывести его из этого состояния  ни жажда  ни голод . Эта волшебная птица может исполнять желания и знает ответы на все вопросы . Но  как правило  людям она помогает очень редко .']]]\n",
            "\n",
            "error 'empty': 478 2 ['    На концерт какой группы или исполнителя ты хотела бы попасть ?', '       ']\n",
            "1200.txt\n",
            "[('Каковы последствия поражения мозжечка ?', 'Типичной для поражения мозжечка является мышечная гипотония'), ('Что кушают молодые гадюки ?', 'Молодые гадюки в основном кормятся рептилиями и земноводными'), ('Что такое лиссосфинктеры ?', 'Гладкомышечные непроизвольные сфинктеры называются  лиссосфинктерами'), ('Что такое  сушь  ?', 'Соты без пч л в пчеловодстве называют сушью'), ('Как избавиться от желания попробовать наркотики ?', 'Нужно увлечься чем то полезным  например спортом')]\n",
            "В итоге 420 пар, исключено 132 строк\n",
            "Примеры ошибок:\n",
            "empty : [[478, 'empty', 2, ['    На концерт какой группы или исполнителя ты хотела бы попасть ?', '       ']]]\n",
            "not pair : [[3, 'not pair', 4, ['    Что такое дрезина ?', '  Дрезина   специальная тележка  передвигаемая механически по рельсам и служащая для поездок работников железнодорожного транспорта', '    Что такое перхоть ?', '  Перхоть является легкой клинической формой себорейного дерматита']], [4, 'not pair', 6, ['    Что такое затор ?', '  Затор   скопление льдин в русле реки во время ледохода', '    Что такое пятры ?', '  Пятры   ледовые образования в виде небольших островов в русле реки . ', '    Что такое шуга ?', '  Шуга   рыхлые скопления тв рдой фазы агрегатного состояния вещества  в нормальных условиях имеющего жидкое состояние']]]\n",
            "\n",
            "error 'empty': 5107 2 ['    Как сказать на Мадридском  Я тебя люблю  ?', '                  ']\n",
            "error 'empty': 7835 2 ['', '']\n",
            "8 тыс диалоги болталка, общее, энциклопедия разные науки, тесты школьные.txt\n",
            "[('Как дела ?', 'Все хорошо .'), ('Где ты живешь ?', 'Я живу во Вселенной .'), ('Где я живу ?', 'Ты живешь на планете Земля .'), ('Сколько тебе лет ?', 'Я молод и постоянно учусь  что бы помочь тебе .'), ('Ты любишь музыку ?', 'Да  люблю .')]\n",
            "В итоге 7587 пар, исключено 249 строк\n",
            "Примеры ошибок:\n",
            "empty : [[5107, 'empty', 2, ['    Как сказать на Мадридском  Я тебя люблю  ?', '                  ']], [7835, 'empty', 2, ['', '']]]\n",
            "not pair : [[208, 'not pair', 3, ['', '    Как называется дерево с шарообразными яркими плодами  которые до зимы живут ?', '  Рябина .']], [221, 'not pair', 4, ['    Во что превратилась карета Золушки ?', '  В Тыкву .', '    Сколько времени варить морской коктель ?', '  Морской коктейль  который продают замороженным  варят от закипания около 20 минут  без предварительной разморозки .']]]\n",
            "\n",
            "9700 диалоги художка+быт.txt\n",
            "[('Как вы можете быть таким уверенным ?', 'Элементарно .'), ('За что ?', 'Вы знаете за что !'), ('Ты что нибудь понимаешь ?', 'Абсолютно ничего .'), ('Обсудим это завтра  ладно ?', 'Хорошо .'), ('Кто услышит ?', 'Кто кто . .Ну твой следователь .')]\n",
            "В итоге 8553 пар, исключено 658 строк\n",
            "Примеры ошибок:\n",
            "empty : []\n",
            "not pair : [[1, 'not pair', 4, ['    А что делать будем ?', '  Ждать .', '    Надеюсь  не до первой звезды ?', '  Я тоже на это надеюсь .']], [59, 'not pair', 4, ['    Кто там ?', '  Я . . .', '    Кто ты ?', '  Я не знаю  кто я .']]]\n",
            "\n"
          ]
        }
      ]
    },
    {
      "cell_type": "code",
      "metadata": {
        "colab": {
          "base_uri": "https://localhost:8080/"
        },
        "outputId": "56a2f032-db59-4e59-b9a8-1426252a8820",
        "id": "4m0eOFdYHwk1"
      },
      "source": [
        "len(inputs_02)"
      ],
      "execution_count": null,
      "outputs": [
        {
          "output_type": "execute_result",
          "data": {
            "text/plain": [
              "5"
            ]
          },
          "metadata": {},
          "execution_count": 166
        }
      ]
    },
    {
      "cell_type": "markdown",
      "metadata": {
        "id": "qtDkkCi-Hwk2"
      },
      "source": [
        "### Normilze string & Add tags"
      ]
    },
    {
      "cell_type": "code",
      "metadata": {
        "colab": {
          "base_uri": "https://localhost:8080/"
        },
        "outputId": "48d57e5a-e4f1-45b1-fb1c-171d61b05cf1",
        "id": "zBLbzj1zHwk2"
      },
      "source": [
        "s = \"m  ага!i1.2    ?3    агаff  яяsdasda    \"\n",
        "print(f\"'{s}'\")\n",
        "s = re.sub(r'([!.?])', r' \\1', s)\n",
        "print(f\"'{s}'\")\n",
        "s = re.sub(r'[^а-яА-Я!.?]+', r' ', s)\n",
        "print(f\"'{s}'\")\n",
        "re.sub(r'\\s+', r' ', \"y!i1.2    ?3a     sdasda\")\n",
        "print(f\"'{s}'\")"
      ],
      "execution_count": null,
      "outputs": [
        {
          "output_type": "stream",
          "name": "stdout",
          "text": [
            "'m  ага!i1.2    ?3    агаff  яяsdasda    '\n",
            "'m  ага !i1 .2     ?3    агаff  яяsdasda    '\n",
            "' ага ! . ? ага яя '\n",
            "' ага ! . ? ага яя '\n"
          ]
        }
      ]
    },
    {
      "cell_type": "code",
      "metadata": {
        "colab": {
          "base_uri": "https://localhost:8080/",
          "height": 35
        },
        "outputId": "39e9a53f-284b-49a8-9b52-f0b57211bec3",
        "id": "sZQ9_JW-Hwk3"
      },
      "source": [
        "import unicodedata\n",
        "def unicode_to_ascii(s):\n",
        "    return ''.join(\n",
        "        c for c in unicodedata.normalize('NFD', s)\n",
        "        if unicodedata.category(c) != 'Mn')\n",
        "\n",
        "\n",
        "def normalize_string(s):\n",
        "    s = unicode_to_ascii(s)\n",
        "    s = s.replace(u'\\xa0',\"\")\n",
        "    #s = re.sub(r'([!.?])', r' \\1', s)       # добавляем пробелы перед !.? - чтобы были отдельными токенами\n",
        "    #s = re.sub(r'[^а-яА-Я!.?]+', r' ', s)   # оcтавляем только буквы и !.?\n",
        "    #s = re.sub(r'[^а-яА-Я]+', r' ', s)   # оcтавляем только буквы\n",
        "    s = re.sub(r'[^A-яA-z0-9-]+', r' ', s)   # оcтавляем только буквы и цифры\n",
        "    # исключим !.? - они будут лишними -  при них в seq2seq получаются - предварительно - плохие результаты\n",
        "    s = re.sub(r'\\s+', r' ', s).strip()             # убираем лишние пробелы - без strip() остаются \"окаёмочки\"\n",
        "    \n",
        "    return s\n",
        "s = \"m  ага!i1.2    ?3    агаff  яяsdasda    \"\n",
        "normalize_string(s)"
      ],
      "execution_count": null,
      "outputs": [
        {
          "output_type": "execute_result",
          "data": {
            "application/vnd.google.colaboratory.intrinsic+json": {
              "type": "string"
            },
            "text/plain": [
              "'m ага i1 2 3 агаff яяsdasda'"
            ]
          },
          "metadata": {},
          "execution_count": 165
        }
      ]
    },
    {
      "cell_type": "markdown",
      "metadata": {
        "id": "gEcO64N3Hwk3"
      },
      "source": [
        "#### Dataset 01"
      ]
    },
    {
      "cell_type": "code",
      "metadata": {
        "colab": {
          "base_uri": "https://localhost:8080/"
        },
        "outputId": "c9a3e4a6-4c56-40f0-b41e-a4985ba65012",
        "id": "AFRXLJhRHwk3"
      },
      "source": [
        "# raw_data_01\n",
        "# для одного корпуса текста\n",
        "inputs_01_ = [normalize_string(data) for data in inputs_01]\n",
        "intents_01_ = [normalize_string(data) for data in intents_01]\n",
        "targets_01_in = ['<start> ' + normalize_string(data) for data in targets_01]\n",
        "targets_01_out = [normalize_string(data) + ' <end>' for data in targets_01]\n",
        "\n",
        "\n",
        "print(len(inputs_01_), inputs_01_[:3])\n",
        "print(len(intents_01_), intents_01_[:3])\n",
        "print(len(targets_01_in), targets_01_in[:3])\n",
        "print(len(targets_01_out), targets_01_out[:3])"
      ],
      "execution_count": null,
      "outputs": [
        {
          "output_type": "stream",
          "name": "stdout",
          "text": [
            "2825 ['привет', 'привет', 'привет']\n",
            "2825 ['hello', 'hello', 'hello']\n",
            "2825 ['<start> хаи', '<start> добрыи вечер', '<start> здравствуите']\n",
            "2825 ['хаи <end>', 'добрыи вечер <end>', 'здравствуите <end>']\n"
          ]
        }
      ]
    },
    {
      "cell_type": "markdown",
      "metadata": {
        "id": "c_qomZ9tHwk3"
      },
      "source": [
        "#### Dataset 02"
      ]
    },
    {
      "cell_type": "code",
      "metadata": {
        "colab": {
          "base_uri": "https://localhost:8080/"
        },
        "outputId": "14f11508-473e-4122-fd4c-b20bdb6b6337",
        "id": "pVRw-zD_Hwk3"
      },
      "source": [
        "# raw_data_02\n",
        "# для одного корпуса текста\n",
        "# inputs_02_ = [normalize_rus_string(data) for data in inputs_02]\n",
        "# targets_02_in = ['<start> ' + normalize_rus_string(data) for data in targets_02]\n",
        "# targets_02_out = [normalize_rus_string(data) + ' <end>' for data in targets_02]\n",
        "\n",
        "# выберем при необходимости отдельные наборы текстов\n",
        "inds_b_e = [0,4] # inds_begin_end\n",
        "\n",
        "# для всех корпусов текстов (всех считанных диалогов)\n",
        "inputs_02_ = [normalize_string(data) for inputs in inputs_02[inds_b_e[0]:inds_b_e[1]+1] for data in inputs ]\n",
        "targets_02_in = ['<start> ' + normalize_string(data) for targets in targets_02[inds_b_e[0]:inds_b_e[1]+1] for data in targets ]\n",
        "targets_02_out = [normalize_string(data) + ' <end>' for targets in targets_02[inds_b_e[0]:inds_b_e[1]+1] for data in targets ]\n",
        "\n",
        "print(len(inputs_02_), inputs_02_[:3])\n",
        "print(len(targets_02_in), targets_02_in[:3])\n",
        "print(len(targets_02_out), targets_02_out[:3])"
      ],
      "execution_count": null,
      "outputs": [
        {
          "output_type": "stream",
          "name": "stdout",
          "text": [
            "26048 ['Ои а почему у вас в кармане сыро', 'Когда начинаеться сезон фрукта Манго', 'Чем характеризуется 16 я неделя беремености']\n",
            "26048 ['<start> Так полагается', '<start> Сезон длятся круглогодично пик в Таиланде с марта по маи во Вьетнаме зимои и веснои в Индонезии с сентября по декабрь', '<start> Вес тела женщины увеличился еще на один два килограмма В этот период желателен прием витамина А Он способствует активному развитию малыша нормальному набору веса обновлению слизистых оболочек и эпителия плода У девочек в этот момент происходит один из самых важных процессов формирование их собственных яицеклеток Нарушения на этом этапе могут привести к бесплодию будущеи женщины']\n",
            "26048 ['Так полагается <end>', 'Сезон длятся круглогодично пик в Таиланде с марта по маи во Вьетнаме зимои и веснои в Индонезии с сентября по декабрь <end>', 'Вес тела женщины увеличился еще на один два килограмма В этот период желателен прием витамина А Он способствует активному развитию малыша нормальному набору веса обновлению слизистых оболочек и эпителия плода У девочек в этот момент происходит один из самых важных процессов формирование их собственных яицеклеток Нарушения на этом этапе могут привести к бесплодию будущеи женщины <end>']\n"
          ]
        }
      ]
    },
    {
      "cell_type": "code",
      "metadata": {
        "colab": {
          "base_uri": "https://localhost:8080/"
        },
        "outputId": "4e00ad47-2ad1-4cc8-fb89-30e3b762deca",
        "id": "-qpSJRZfHwk3"
      },
      "source": [
        "len(inputs_02_)"
      ],
      "execution_count": null,
      "outputs": [
        {
          "output_type": "execute_result",
          "data": {
            "text/plain": [
              "26048"
            ]
          },
          "metadata": {},
          "execution_count": 200
        }
      ]
    },
    {
      "cell_type": "markdown",
      "metadata": {
        "id": "rNqyqNFRHwk4"
      },
      "source": [
        "### Explore Data: lenthgs"
      ]
    },
    {
      "cell_type": "code",
      "metadata": {
        "colab": {
          "base_uri": "https://localhost:8080/"
        },
        "outputId": "5ee9f849-6368-4822-8b4d-3ba7a01772df",
        "id": "XDCxa0KFHwk4"
      },
      "source": [
        "#words_lens_i_01 = [len(item.split()) for item in inputs_01]\n",
        "words_lens_i_01 = [len(item.split()) for item in inputs_01_]\n",
        "max_words_lens_i_01 = max(words_lens_i_01)\n",
        "print(\"max_words_lens_i_01:\", max_words_lens_i_01)\n",
        "words_lens_t_01 = [len(item.split()) for item in targets_01_in]\n",
        "max_words_lens_t_01 = max(words_lens_t_01)\n",
        "print(\"max_words_lens_t_01:\", max_words_lens_t_01)\n",
        "\n",
        "words_lens_int_01 = [len(item.split()) for item in intents_01_]\n",
        "max_words_lens_int_01 = max(words_lens_int_01)\n",
        "print(\"max_words_lens_int_01:\", max_words_lens_int_01)\n"
      ],
      "execution_count": null,
      "outputs": [
        {
          "output_type": "stream",
          "name": "stdout",
          "text": [
            "max_words_lens_i_01: 12\n",
            "max_words_lens_t_01: 32\n",
            "max_words_lens_int_01: 4\n"
          ]
        }
      ]
    },
    {
      "cell_type": "code",
      "metadata": {
        "colab": {
          "base_uri": "https://localhost:8080/"
        },
        "outputId": "f4a5f31e-7066-428c-afe1-d238ceff9030",
        "id": "FUaW9XfsHwk4"
      },
      "source": [
        "words_lens_i_02 = [len(item.split()) for item in inputs_02_]\n",
        "max_words_lens_i_02 = max(words_lens_i_02)\n",
        "print(\"max_words_lens_i_02:\", max_words_lens_i_02)\n",
        "words_lens_t_02 = [len(item.split()) for item in targets_02_in]\n",
        "max_words_lens_t_02 = max(words_lens_t_02)\n",
        "print(\"max_words_lens_t_02:\", max_words_lens_t_02)"
      ],
      "execution_count": null,
      "outputs": [
        {
          "output_type": "stream",
          "name": "stdout",
          "text": [
            "max_words_lens_i_02: 56\n",
            "max_words_lens_t_02: 267\n"
          ]
        }
      ]
    },
    {
      "cell_type": "markdown",
      "metadata": {
        "id": "Rt5Y_1XTHwk4"
      },
      "source": [
        "Есть иногда очень странные ответы длиннные и пространные надопосмотреть до какого размера можно сократить наборы\n",
        "\n",
        "Проанализириуем при помощи гистограмм"
      ]
    },
    {
      "cell_type": "code",
      "metadata": {
        "colab": {
          "base_uri": "https://localhost:8080/",
          "height": 1000
        },
        "outputId": "a2d82d96-7d77-4a0f-8d2e-52d48bde8663",
        "id": "7iurJOKVHwk4"
      },
      "source": [
        "# dataset_01\n",
        "plt.hist(words_lens_i_01, bins=1000)\n",
        "plt.show()\n",
        "plt.hist(words_lens_i_01, bins=1000, range=(0,\n",
        "                                            4))\n",
        "plt.show()\n",
        "\n",
        "plt.hist(words_lens_t_01, bins=1000)\n",
        "plt.show()\n",
        "plt.hist(words_lens_t_01, bins=1000, range=(0,15))\n",
        "plt.show()\n",
        "\n"
      ],
      "execution_count": null,
      "outputs": [
        {
          "output_type": "display_data",
          "data": {
            "image/png": "[encoded data removed]",
            "text/plain": [
              "<Figure size 432x288 with 1 Axes>"
            ]
          },
          "metadata": {
            "needs_background": "light"
          }
        },
        {
          "output_type": "display_data",
          "data": {
            "image/png": "[encoded data removed]",
            "text/plain": [
              "<Figure size 432x288 with 1 Axes>"
            ]
          },
          "metadata": {
            "needs_background": "light"
          }
        },
        {
          "output_type": "display_data",
          "data": {
            "image/png": "[encoded data removed]",
            "text/plain": [
              "<Figure size 432x288 with 1 Axes>"
            ]
          },
          "metadata": {
            "needs_background": "light"
          }
        },
        {
          "output_type": "display_data",
          "data": {
            "image/png": "[encoded data removed]",
            "text/plain": [
              "<Figure size 432x288 with 1 Axes>"
            ]
          },
          "metadata": {
            "needs_background": "light"
          }
        }
      ]
    },
    {
      "cell_type": "code",
      "metadata": {
        "colab": {
          "base_uri": "https://localhost:8080/"
        },
        "outputId": "36caedcf-5bc1-4d94-ec26-691036d2785a",
        "id": "JrB9GY5LHwk5"
      },
      "source": [
        "print(\" Dataset 01\")\n",
        "print(\"Макс кол-во слов q/a до анализа\", f\"{max_words_lens_i_01}/{max_words_lens_t_01}\")\n",
        "# Переназначаем максимальные длины\n",
        "max_words_lens_i_01, max_words_lens_t_01 = 5, 15\n",
        "print(\"Макс кол-во слов q/a после анализа\", f\"{max_words_lens_i_01}/{max_words_lens_t_01}\")"
      ],
      "execution_count": null,
      "outputs": [
        {
          "output_type": "stream",
          "name": "stdout",
          "text": [
            " Dataset 01\n",
            "Макс кол-во слов q/a до анализа 12/32\n",
            "Макс кол-во слов q/a после анализа 5/15\n"
          ]
        }
      ]
    },
    {
      "cell_type": "code",
      "metadata": {
        "colab": {
          "base_uri": "https://localhost:8080/",
          "height": 1000
        },
        "outputId": "5bfd1182-2077-4d36-fec9-beed3075d857",
        "id": "EnvAUyXTHwk5"
      },
      "source": [
        "# dataset_02\n",
        "plt.hist(words_lens_i_02, bins=1000)\n",
        "plt.show()\n",
        "plt.hist(words_lens_i_02, bins=1000, range=(0,15))\n",
        "plt.show()\n",
        "\n",
        "plt.hist(words_lens_t_02, bins=1000)\n",
        "plt.show()\n",
        "plt.hist(words_lens_t_02, bins=1000, range=(0,50))\n",
        "plt.show()"
      ],
      "execution_count": null,
      "outputs": [
        {
          "output_type": "display_data",
          "data": {
            "image/png": "[encoded data removed]",
            "text/plain": [
              "<Figure size 432x288 with 1 Axes>"
            ]
          },
          "metadata": {
            "needs_background": "light"
          }
        },
        {
          "output_type": "display_data",
          "data": {
            "image/png": "[encoded data removed]",
            "text/plain": [
              "<Figure size 432x288 with 1 Axes>"
            ]
          },
          "metadata": {
            "needs_background": "light"
          }
        },
        {
          "output_type": "display_data",
          "data": {
            "image/png": "[encoded data removed]",
            "text/plain": [
              "<Figure size 432x288 with 1 Axes>"
            ]
          },
          "metadata": {
            "needs_background": "light"
          }
        },
        {
          "output_type": "display_data",
          "data": {
            "image/png": "[encoded data removed]",
            "text/plain": [
              "<Figure size 432x288 with 1 Axes>"
            ]
          },
          "metadata": {
            "needs_background": "light"
          }
        }
      ]
    },
    {
      "cell_type": "code",
      "metadata": {
        "colab": {
          "base_uri": "https://localhost:8080/"
        },
        "outputId": "077d518e-4355-48b1-97ba-7269ff80c2b0",
        "id": "DN1zZe0yHwk5"
      },
      "source": [
        "print(\" Dataset 02\")\n",
        "print(\"Макс кол-во слов q/a до анализа\", f\"{max_words_lens_i_02}/{max_words_lens_t_02}\")\n",
        "# Переназначаем максимальные длины\n",
        "max_words_lens_i_02, max_words_lens_t_02 = 12, 15\n",
        "print(\"Макс кол-во слов q/a после анализа\", f\"{max_words_lens_i_02}/{max_words_lens_t_02}\")"
      ],
      "execution_count": null,
      "outputs": [
        {
          "output_type": "stream",
          "name": "stdout",
          "text": [
            " Dataset 02\n",
            "Макс кол-во слов q/a до анализа 56/267\n",
            "Макс кол-во слов q/a после анализа 12/15\n"
          ]
        }
      ]
    },
    {
      "cell_type": "markdown",
      "metadata": {
        "id": "FMjtsUXdHwk5"
      },
      "source": [
        "### Exclude pairs over max lengths"
      ]
    },
    {
      "cell_type": "markdown",
      "metadata": {
        "id": "glBWIGKzHwk6"
      },
      "source": [
        "#### Dataset 01"
      ]
    },
    {
      "cell_type": "code",
      "metadata": {
        "colab": {
          "base_uri": "https://localhost:8080/"
        },
        "outputId": "cc7ece6e-c209-4670-9f56-f111fc774471",
        "id": "JLNX9ALbHwk7"
      },
      "source": [
        "print(\"Dataset 01: длина - \", len(inputs_01_) )\n",
        "indexes_in_01 = [i for i in range(len(inputs_01_)) if len(inputs_01_[i].split()) > max_words_lens_i_01]\n",
        "#indexes_in = [i for i in range(len(inputs_01_)) if len(inputs_01_[i].split()) > 5]\n",
        "print(\"> max_words_lens_i_01\", len(indexes_in_01), indexes_in_01)\n",
        "indexes_t_01 = [i for i in range(len(targets_01_in)) if len(targets_01_in[i].split()) > max_words_lens_t_01]\n",
        "#indexes_t = [i for i in range(len(targets_01_in)) if len(targets_01_in[i].split()) > 15]\n",
        "print(\"> max_words_lens_t_01\", len(indexes_t_01), indexes_t_01)"
      ],
      "execution_count": null,
      "outputs": [
        {
          "output_type": "stream",
          "name": "stdout",
          "text": [
            "Dataset 01: длина -  2825\n",
            "> max_words_lens_i_01 47 [327, 628, 629, 630, 631, 632, 633, 634, 635, 636, 736, 737, 738, 745, 746, 747, 754, 755, 756, 980, 981, 989, 1066, 1067, 1068, 1069, 1111, 1112, 1113, 1457, 1458, 1459, 1526, 1527, 1528, 1664, 1665, 1666, 1989, 1990, 1991, 2132, 2133, 2134, 2235, 2236, 2237]\n",
            "> max_words_lens_t_01 34 [986, 987, 988, 989, 990, 1063, 1065, 1067, 1069, 1071, 1073, 1075, 1077, 1114, 1117, 1120, 1413, 1416, 1419, 1557, 1558, 1560, 1561, 1565, 1566, 2667, 2670, 2673, 2677, 2680, 2683, 2685, 2688, 2691]\n"
          ]
        }
      ]
    },
    {
      "cell_type": "code",
      "metadata": {
        "colab": {
          "base_uri": "https://localhost:8080/"
        },
        "outputId": "a395f9f8-8be9-4cac-aa19-ac43e3e740f8",
        "id": "Bai4nXCUHwk7"
      },
      "source": [
        "inputs_01_e = [item for i, item in enumerate(inputs_01_) if not (i in indexes_in_01 or i in indexes_t_01)]\n",
        "# из-за пересечения over длин в inputs и targets\n",
        "print(len(inputs_01_), '<=', len(inputs_01_e), '+', len(indexes_in_01), '+', len(indexes_t_01))\n",
        "\n",
        "intents_01_e = [item for i, item in enumerate(intents_01_) if not (i in indexes_in_01 or i in indexes_t_01)]\n",
        "# из-за пересечения over длин в inputs и targets\n",
        "print(len(intents_01_), '<=', len(intents_01_e), '+', len(indexes_in_01), '+', len(indexes_t_01))\n",
        "\n",
        "targets_01_in_e = [item for i, item in enumerate(targets_01_in) if not (i in indexes_in_01 or i in indexes_t_01)]\n",
        "# из-за пересечения over длин в inputs и targets\n",
        "print(len(targets_01_in), '<=', len(targets_01_in_e), '+', len(indexes_in_01), '+', len(indexes_t_01))\n",
        "targets_01_out_e = [item for i, item in enumerate(targets_01_out) if not (i in indexes_in_01 or i in indexes_t_01)]\n",
        "# из-за пересечения over длин в inputs и targets\n",
        "print(len(targets_01_out), '<=', len(targets_01_out_e), '+', len(indexes_in_01), '+', len(indexes_t_01))"
      ],
      "execution_count": null,
      "outputs": [
        {
          "output_type": "stream",
          "name": "stdout",
          "text": [
            "2825 <= 2747 + 47 + 34\n",
            "2825 <= 2747 + 47 + 34\n",
            "2825 <= 2747 + 47 + 34\n",
            "2825 <= 2747 + 47 + 34\n"
          ]
        }
      ]
    },
    {
      "cell_type": "markdown",
      "metadata": {
        "id": "0NVH_W4aHwk7"
      },
      "source": [
        "#### Dataset 02"
      ]
    },
    {
      "cell_type": "code",
      "metadata": {
        "colab": {
          "base_uri": "https://localhost:8080/"
        },
        "outputId": "65e54d67-a2cb-43c8-eee8-5726059f3f21",
        "id": "v3jwnAeOHwk7"
      },
      "source": [
        "print(\"Dataset 02\")\n",
        "indexes_in_02 = [i for i in range(len(inputs_02_)) if len(inputs_02_[i].split()) > max_words_lens_i_02]\n",
        "print(len(indexes_in_02), indexes_in_02)\n",
        "indexes_t_02 = [i for i in range(len(targets_02_in)) if len(targets_02_in[i].split()) > max_words_lens_t_02]\n",
        "#indexes_t = [i for i in range(len(targets_02_in)) if len(targets_02_in[i].split()) > 15]\n",
        "print(len(indexes_t_02), indexes_t_02)"
      ],
      "execution_count": null,
      "outputs": [
        {
          "output_type": "stream",
          "name": "stdout",
          "text": [
            "Dataset 02\n",
            "351 [14, 107, 160, 492, 1232, 1233, 5899, 6241, 6242, 6358, 6361, 6363, 6369, 6370, 6372, 6373, 6799, 6803, 6804, 6865, 6962, 7137, 7217, 7298, 7321, 9608, 9611, 9617, 9619, 9672, 9675, 9677, 9681, 9702, 9770, 9783, 9858, 9860, 9869, 9874, 9880, 10116, 10140, 10207, 10235, 10300, 10327, 10387, 10403, 10527, 10566, 10670, 10674, 10679, 10680, 10689, 10690, 11029, 11033, 11050, 11053, 11064, 11077, 11080, 11082, 11083, 11084, 11086, 11106, 11109, 11161, 11226, 11329, 11802, 11803, 11811, 11856, 11857, 11858, 11867, 11881, 11884, 11890, 11891, 11900, 11923, 11930, 11938, 11943, 11947, 11950, 11979, 11981, 11983, 11987, 11991, 11995, 11999, 12009, 12105, 12109, 12120, 12174, 12181, 12198, 12286, 12353, 12408, 12410, 12421, 12422, 12451, 12558, 12572, 12580, 12583, 12596, 12605, 12621, 12632, 12667, 12741, 12784, 12807, 12818, 12857, 12921, 12948, 12974, 12975, 12987, 12993, 13007, 13080, 13196, 13231, 13248, 13271, 13327, 13378, 13380, 13383, 13405, 13427, 13482, 13493, 13497, 13504, 13505, 13506, 13511, 13516, 13540, 13549, 13553, 13693, 13696, 13706, 13711, 13712, 13730, 13801, 13805, 13809, 13812, 13828, 13829, 13836, 13838, 13844, 13873, 13884, 13886, 13890, 13939, 13942, 13972, 13973, 13974, 13975, 13976, 13977, 13984, 13988, 14009, 14025, 14028, 14063, 14110, 14112, 14113, 14121, 14132, 14159, 14240, 14321, 14328, 14353, 14393, 14410, 14495, 14500, 14504, 14521, 14522, 14524, 14540, 14564, 14660, 14738, 14777, 14779, 14815, 14832, 14836, 14838, 14841, 14844, 14853, 14858, 14861, 14863, 14869, 14875, 14877, 14880, 14882, 15096, 15167, 15177, 15179, 15190, 15219, 15231, 15246, 15255, 15268, 15283, 15290, 15292, 15299, 15304, 15307, 15317, 15327, 15374, 15378, 15391, 15401, 15453, 15538, 15574, 15580, 15650, 15671, 15679, 15725, 15780, 15784, 15806, 15843, 15857, 15920, 15922, 15927, 15944, 15951, 15954, 15979, 16062, 16069, 16087, 16108, 16114, 16132, 16134, 16164, 16171, 16185, 16192, 16205, 16213, 16224, 16226, 16243, 16247, 16253, 16257, 16280, 16281, 16302, 16311, 16351, 16357, 16358, 16384, 16394, 16421, 16436, 16443, 16445, 16446, 16448, 16452, 16468, 16475, 16477, 16478, 16481, 16484, 16486, 16487, 16524, 16568, 16637, 16638, 16649, 16665, 16668, 16672, 16761, 16843, 16868, 16873, 16950, 17046, 17049, 17052, 17055, 17056, 17106, 17122, 17204, 17221, 17241, 17279, 17289, 17370, 17378, 17382, 17387, 17395, 17398, 17407, 17409, 17410, 17414, 17478, 17480, 17481, 17485]\n",
            "2810 [1, 2, 3, 4, 8, 16, 17, 18, 24, 26, 27, 29, 30, 36, 41, 42, 43, 44, 56, 57, 58, 61, 66, 67, 68, 69, 70, 72, 73, 74, 75, 81, 82, 97, 104, 105, 120, 129, 130, 132, 133, 134, 143, 144, 152, 153, 154, 157, 173, 174, 180, 181, 184, 185, 186, 187, 188, 192, 193, 205, 206, 211, 212, 213, 223, 224, 226, 227, 228, 239, 243, 244, 245, 251, 252, 262, 263, 266, 267, 269, 270, 273, 276, 277, 287, 289, 290, 291, 292, 300, 301, 302, 317, 329, 330, 333, 334, 337, 338, 341, 342, 346, 347, 348, 356, 357, 359, 360, 361, 363, 369, 380, 390, 392, 400, 401, 405, 406, 407, 414, 415, 417, 418, 420, 426, 440, 452, 454, 455, 457, 458, 461, 462, 465, 475, 476, 477, 484, 485, 486, 487, 488, 489, 490, 491, 501, 502, 503, 506, 523, 526, 527, 528, 530, 531, 533, 534, 538, 540, 545, 546, 561, 562, 567, 568, 573, 577, 578, 579, 580, 581, 613, 614, 624, 625, 626, 627, 628, 629, 630, 637, 638, 640, 641, 642, 663, 685, 686, 691, 692, 693, 696, 697, 698, 699, 700, 701, 702, 703, 720, 721, 722, 726, 727, 740, 741, 747, 757, 769, 770, 784, 786, 793, 798, 799, 800, 801, 802, 808, 810, 834, 835, 837, 839, 844, 845, 857, 858, 861, 862, 863, 864, 867, 868, 869, 886, 887, 891, 892, 893, 894, 897, 898, 914, 916, 917, 929, 930, 931, 932, 973, 974, 981, 982, 1028, 1029, 1037, 1038, 1071, 1072, 1074, 1076, 1079, 1080, 1081, 1082, 1083, 1093, 1096, 1097, 1101, 1102, 1104, 1122, 1123, 1139, 1140, 1147, 1148, 1171, 1172, 1184, 1185, 1186, 1193, 1194, 1197, 1198, 1202, 1203, 1204, 1205, 1206, 5106, 5107, 5108, 5109, 5110, 5111, 5112, 5113, 5114, 5115, 5116, 5117, 5118, 5121, 5122, 5123, 5124, 5125, 5126, 5127, 5128, 5129, 5130, 5131, 5132, 5133, 5134, 5135, 5136, 5137, 5138, 5139, 5140, 5141, 5142, 5143, 5144, 5145, 5146, 5147, 5148, 5149, 5150, 5151, 5152, 5153, 5154, 5155, 5156, 5157, 5158, 5159, 5160, 5161, 5162, 5163, 5164, 5165, 5166, 5167, 5168, 5169, 5170, 5171, 5172, 5173, 5174, 5175, 5176, 5177, 5178, 5179, 5180, 5181, 5182, 5183, 5184, 5185, 5186, 5187, 5188, 5189, 5190, 5191, 5192, 5193, 5194, 5195, 5196, 5197, 5198, 5199, 5200, 5201, 5202, 5203, 5204, 5205, 5206, 5207, 5208, 5209, 5210, 5211, 5212, 5213, 5214, 5215, 5216, 5217, 5218, 5219, 5220, 5221, 5222, 5223, 5224, 5225, 5226, 5227, 5228, 5229, 5230, 5231, 5232, 5233, 5234, 5235, 5236, 5237, 5238, 5239, 5240, 5241, 5243, 5245, 5246, 5247, 5248, 5249, 5258, 5260, 5261, 5262, 5263, 5264, 5265, 5266, 5267, 5268, 5269, 5270, 5271, 5272, 5273, 5274, 5275, 5276, 5277, 5278, 5295, 5296, 5297, 5298, 5299, 5300, 5301, 5302, 5303, 5304, 5305, 5306, 5307, 5308, 5309, 5310, 5311, 5312, 5313, 5314, 5315, 5316, 5317, 5318, 5319, 5320, 5321, 5322, 5323, 5324, 5326, 5327, 5328, 5329, 5330, 5331, 5332, 5333, 5335, 5336, 5337, 5338, 5339, 5342, 5343, 5344, 5345, 5346, 5347, 5348, 5349, 5350, 5351, 5352, 5353, 5354, 5355, 5356, 5357, 5358, 5359, 5360, 5361, 5362, 5363, 5364, 5365, 5366, 5367, 5368, 5370, 5373, 5374, 5375, 5377, 5378, 5381, 5383, 5384, 5386, 5387, 5388, 5389, 5390, 5392, 5393, 5394, 5396, 5397, 5398, 5399, 5400, 5401, 5402, 5403, 5404, 5405, 5406, 5407, 5408, 5409, 5410, 5411, 5412, 5413, 5414, 5415, 5416, 5417, 5418, 5419, 5420, 5421, 5422, 5423, 5424, 5425, 5426, 5427, 5428, 5429, 5430, 5431, 5432, 5433, 5434, 5435, 5525, 5527, 5533, 5540, 5544, 5552, 5553, 5557, 5564, 5567, 5574, 5577, 5578, 5581, 5586, 5591, 5593, 5596, 5597, 5599, 5600, 5604, 5607, 5614, 5619, 5622, 5625, 5631, 5635, 5638, 5644, 5649, 5651, 5655, 5656, 5663, 5668, 5673, 5681, 5694, 5699, 5703, 5708, 5713, 5715, 5719, 5729, 5736, 5737, 5742, 5751, 5752, 5753, 5756, 5758, 5764, 5768, 5771, 5775, 5776, 5781, 5787, 5800, 5803, 5804, 5806, 5807, 5809, 5813, 5816, 5818, 5819, 5820, 5822, 5823, 5824, 5827, 5829, 5832, 5833, 5835, 5836, 5839, 5841, 5842, 5843, 5850, 5854, 5855, 5857, 5858, 5859, 5861, 5867, 5869, 5870, 5873, 5876, 5877, 5878, 5885, 5887, 5896, 5905, 5907, 5908, 5912, 5915, 5920, 5921, 5924, 5926, 5927, 5928, 5932, 5933, 5943, 5947, 5948, 5949, 5951, 5959, 5963, 5964, 5966, 5967, 5971, 5972, 5978, 5979, 5985, 5990, 5995, 5996, 5999, 6000, 6007, 6010, 6012, 6014, 6018, 6027, 6028, 6038, 6040, 6041, 6042, 6043, 6044, 6045, 6049, 6051, 6052, 6053, 6054, 6055, 6057, 6058, 6061, 6062, 6063, 6072, 6074, 6076, 6077, 6080, 6081, 6082, 6083, 6085, 6086, 6088, 6090, 6091, 6092, 6093, 6095, 6096, 6097, 6101, 6103, 6104, 6105, 6106, 6108, 6109, 6110, 6113, 6114, 6115, 6118, 6119, 6120, 6121, 6124, 6125, 6126, 6129, 6130, 6131, 6133, 6135, 6136, 6139, 6140, 6142, 6143, 6146, 6149, 6150, 6151, 6155, 6157, 6158, 6159, 6162, 6164, 6165, 6166, 6167, 6170, 6172, 6174, 6175, 6176, 6177, 6180, 6183, 6184, 6185, 6186, 6188, 6194, 6195, 6197, 6198, 6199, 6201, 6202, 6203, 6204, 6205, 6213, 6214, 6215, 6216, 6217, 6218, 6219, 6223, 6224, 6226, 6227, 6232, 6233, 6234, 6236, 6245, 6246, 6247, 6248, 6249, 6250, 6254, 6255, 6256, 6257, 6259, 6266, 6269, 6270, 6272, 6273, 6274, 6275, 6276, 6280, 6281, 6283, 6285, 6286, 6287, 6288, 6294, 6295, 6296, 6300, 6301, 6303, 6304, 6305, 6306, 6315, 6316, 6318, 6322, 6323, 6353, 6367, 6374, 6378, 6379, 6380, 6381, 6384, 6385, 6386, 6391, 6393, 6394, 6395, 6399, 6400, 6406, 6407, 6408, 6409, 6410, 6414, 6415, 6416, 6418, 6419, 6420, 6421, 6422, 6423, 6424, 6426, 6427, 6428, 6429, 6430, 6432, 6433, 6434, 6435, 6436, 6437, 6442, 6443, 6444, 6445, 6446, 6447, 6448, 6449, 6450, 6454, 6455, 6461, 6462, 6463, 6464, 6465, 6468, 6474, 6475, 6477, 6478, 6479, 6480, 6481, 6487, 6488, 6489, 6490, 6492, 6493, 6494, 6495, 6499, 6500, 6501, 6502, 6503, 6504, 6506, 6509, 6510, 6511, 6516, 6517, 6524, 6525, 6526, 6528, 6530, 6531, 6532, 6533, 6534, 6535, 6536, 6540, 6541, 6542, 6543, 6544, 6548, 6550, 6557, 6563, 6569, 6570, 6571, 6575, 6577, 6578, 6580, 6584, 6586, 6590, 6592, 6598, 6599, 6600, 6601, 6604, 6605, 6611, 6613, 6619, 6624, 6625, 6631, 6632, 6636, 6638, 6641, 6642, 6645, 6648, 6651, 6652, 6653, 6654, 6663, 6665, 6666, 6667, 6671, 6672, 6673, 6680, 6681, 6683, 6684, 6686, 6688, 6689, 6690, 6692, 6694, 6695, 6696, 6701, 6704, 6705, 6708, 6711, 6712, 6713, 6717, 6718, 6719, 6722, 6723, 6726, 6727, 6731, 6732, 6733, 6736, 6739, 6740, 6741, 6743, 6744, 6746, 6747, 6749, 6750, 6751, 6755, 6757, 6760, 6761, 6762, 6763, 6764, 6766, 6770, 6771, 6776, 6778, 6779, 6782, 6784, 6785, 6786, 6793, 6794, 6800, 6801, 6805, 6812, 6813, 6817, 6819, 6824, 6828, 6830, 6835, 6837, 6839, 6840, 6845, 6847, 6848, 6849, 6851, 6852, 6855, 6859, 6861, 6863, 6864, 6866, 6868, 6872, 6877, 6878, 6880, 6882, 6885, 6890, 6891, 6893, 6896, 6900, 6902, 6907, 6909, 6912, 6914, 6915, 6916, 6920, 6922, 6923, 6924, 6927, 6928, 6929, 6934, 6936, 6939, 6940, 6941, 6944, 6945, 6948, 6949, 6950, 6952, 6954, 6956, 6958, 6961, 6963, 6966, 6967, 6968, 6970, 6973, 6974, 6976, 6979, 6981, 6983, 6987, 6988, 6989, 6994, 6996, 6999, 7001, 7004, 7007, 7008, 7009, 7011, 7012, 7016, 7017, 7021, 7023, 7026, 7027, 7030, 7032, 7033, 7038, 7040, 7042, 7043, 7044, 7045, 7046, 7047, 7052, 7053, 7054, 7056, 7057, 7058, 7060, 7062, 7065, 7070, 7071, 7072, 7076, 7081, 7082, 7083, 7087, 7089, 7092, 7093, 7094, 7099, 7101, 7104, 7105, 7106, 7110, 7112, 7115, 7116, 7117, 7121, 7123, 7126, 7128, 7133, 7135, 7138, 7140, 7141, 7147, 7149, 7151, 7152, 7153, 7157, 7159, 7161, 7162, 7163, 7167, 7169, 7171, 7172, 7173, 7177, 7179, 7181, 7182, 7183, 7188, 7190, 7191, 7194, 7195, 7196, 7200, 7201, 7202, 7203, 7206, 7207, 7208, 7212, 7214, 7218, 7219, 7220, 7224, 7226, 7227, 7230, 7232, 7236, 7238, 7239, 7241, 7242, 7246, 7248, 7249, 7251, 7258, 7259, 7261, 7262, 7266, 7267, 7268, 7270, 7271, 7275, 7277, 7279, 7281, 7282, 7286, 7288, 7290, 7291, 7295, 7299, 7300, 7304, 7309, 7311, 7313, 7314, 7318, 7320, 7322, 7327, 7329, 7331, 7332, 7336, 7338, 7340, 7341, 7345, 7347, 7349, 7354, 7356, 7357, 7358, 7360, 7365, 7368, 7369, 7370, 7371, 7373, 7377, 7378, 7379, 7380, 7381, 7382, 7383, 7384, 7385, 7386, 7387, 7388, 7389, 7390, 7391, 7392, 7393, 7394, 7395, 7396, 7397, 7398, 7399, 7400, 7401, 7402, 7403, 7404, 7405, 7406, 7407, 7408, 7409, 7410, 7411, 7412, 7413, 7414, 7415, 7416, 7418, 7420, 7422, 7423, 7424, 7425, 7426, 7427, 7428, 7429, 7430, 7433, 7434, 7435, 7436, 7437, 7438, 7439, 7440, 7441, 7442, 7443, 7444, 7445, 7446, 7447, 7448, 7449, 7450, 7451, 7452, 7453, 7454, 7455, 7456, 7457, 7458, 7460, 7461, 7462, 7463, 7464, 7465, 7467, 7468, 7469, 7470, 7471, 7497, 7498, 7499, 7500, 7501, 7503, 7504, 7505, 7506, 7507, 7508, 7510, 7511, 7512, 7513, 7514, 7515, 7517, 7518, 7519, 7521, 7523, 7524, 7525, 7527, 7528, 7529, 7531, 7532, 7533, 7534, 7535, 7608, 7609, 7610, 7611, 7612, 7613, 7614, 7615, 7616, 7617, 7618, 7619, 7620, 7621, 7622, 7623, 7624, 7625, 7626, 7627, 7628, 7629, 7630, 7631, 7632, 7633, 7634, 7635, 7636, 7637, 7638, 7639, 7640, 7641, 7642, 7643, 7644, 7645, 7646, 7647, 7682, 7683, 7684, 7685, 7686, 7687, 7688, 7689, 7690, 7691, 7692, 7693, 7694, 7695, 7696, 7697, 7698, 7699, 7700, 7701, 7702, 7703, 7704, 7705, 7706, 7707, 7708, 7709, 7710, 7711, 7712, 7713, 7714, 7715, 7716, 7717, 7718, 7719, 7720, 7721, 7722, 7723, 7724, 7725, 7726, 7727, 7728, 7729, 7730, 7731, 7732, 7733, 7734, 7735, 7736, 7737, 7738, 7739, 7740, 7741, 7742, 7743, 7744, 7745, 7746, 7747, 7748, 7749, 7750, 7751, 7752, 7753, 7754, 7755, 7756, 7757, 7758, 7759, 7760, 7761, 7762, 7763, 7764, 7765, 9252, 9253, 9254, 9255, 9256, 9257, 9258, 9260, 9261, 9262, 9263, 9264, 9266, 9267, 9268, 9269, 9270, 9271, 9272, 9273, 9274, 9276, 9277, 9278, 9279, 9280, 9281, 9282, 9283, 9284, 9285, 9286, 9287, 9288, 9289, 9290, 9291, 9292, 9293, 9294, 9295, 9296, 9297, 9298, 9301, 9302, 9304, 9306, 9307, 9309, 9310, 9311, 9312, 9313, 9314, 9315, 9316, 9317, 9318, 9319, 9320, 9321, 9322, 9323, 9324, 9325, 9326, 9327, 9328, 9329, 9330, 9331, 9332, 9333, 9334, 9335, 9336, 9337, 9338, 9339, 9341, 9342, 9343, 9344, 9345, 9346, 9348, 9350, 9351, 9353, 9355, 9357, 9359, 9360, 9361, 9363, 9364, 9370, 9371, 9372, 9373, 9376, 9377, 9378, 9379, 9380, 9381, 9382, 9384, 9386, 9389, 9391, 9393, 9394, 9395, 9397, 9398, 9401, 9402, 9403, 9404, 9405, 9409, 9410, 9486, 9501, 9503, 9504, 9506, 9507, 9508, 9510, 9511, 9518, 9594, 9709, 9712, 9721, 9745, 9830, 9833, 9920, 9923, 10003, 10004, 10010, 10016, 10030, 10034, 10039, 10048, 10050, 10052, 10055, 10057, 10066, 10078, 10119, 10120, 10123, 10124, 10132, 10135, 10142, 10143, 10144, 10145, 10148, 10152, 10160, 10161, 10162, 10165, 10167, 10168, 10170, 10171, 10174, 10181, 10191, 10198, 10200, 10201, 10207, 10213, 10220, 10224, 10227, 10235, 10250, 10266, 10267, 10268, 10274, 10275, 10298, 10314, 10315, 10319, 10328, 10330, 10336, 10346, 10353, 10357, 10359, 10363, 10366, 10367, 10374, 10390, 10393, 10395, 10399, 10407, 10412, 10414, 10416, 10428, 10463, 10507, 10508, 10529, 10531, 10533, 10558, 10561, 10572, 10591, 10592, 10595, 10601, 10602, 10606, 10611, 10615, 10625, 10627, 10629, 10632, 10636, 10642, 10643, 10644, 10648, 10653, 10657, 10686, 10694, 10695, 10696, 10699, 10707, 10731, 10732, 10738, 10743, 10744, 10749, 10752, 10753, 10775, 10798, 10800, 10802, 10803, 10861, 10868, 10869, 10870, 10871, 10872, 10873, 10874, 10877, 10878, 10879, 10882, 10883, 10895, 10896, 10897, 10898, 10899, 10902, 10903, 10904, 10906, 10914, 10932, 10964, 11000, 11007, 11018, 11030, 11034, 11036, 11046, 11054, 11057, 11066, 11067, 11068, 11069, 11070, 11071, 11088, 11090, 11094, 11095, 11134, 11137, 11147, 11159, 11198, 11202, 11347, 11866, 11869, 11870, 11871, 11874, 11882, 11886, 11888, 11893, 11895, 11902, 11925, 11929, 11930, 11936, 11939, 11944, 11946, 11947, 11948, 11951, 11976, 11980, 11981, 11985, 11990, 11993, 11994, 11997, 12003, 12006, 12011, 12012, 12025, 12032, 12033, 12042, 12105, 12126, 12128, 12130, 12134, 12156, 12158, 12160, 12163, 12188, 12189, 12348, 12351, 12413, 12414, 12415, 12416, 12417, 12418, 12424, 12426, 12441, 12539, 12540, 12554, 12556, 12563, 12565, 12570, 12573, 12583, 12594, 12595, 12601, 12604, 12606, 12612, 12614, 12616, 12618, 12620, 12626, 12627, 12628, 12630, 12635, 12636, 12638, 12641, 12642, 12646, 12647, 12650, 12663, 12664, 12665, 12677, 12679, 12686, 12687, 12691, 12695, 12711, 12713, 12714, 12715, 12716, 12717, 12718, 12723, 12727, 12731, 12732, 12733, 12738, 12739, 12748, 12749, 12751, 12766, 12791, 12799, 12805, 12821, 12825, 12837, 12843, 12844, 12846, 12847, 12850, 12859, 12861, 12865, 12881, 12884, 12890, 12891, 12892, 12893, 12894, 12897, 12899, 12914, 12920, 12947, 12955, 12956, 12977, 12984, 12987, 12990, 12996, 13000, 13004, 13006, 13014, 13019, 13039, 13043, 13059, 13063, 13065, 13068, 13069, 13098, 13104, 13108, 13141, 13164, 13166, 13170, 13172, 13173, 13176, 13184, 13185, 13186, 13196, 13197, 13220, 13221, 13224, 13228, 13229, 13230, 13240, 13245, 13259, 13261, 13263, 13264, 13269, 13281, 13282, 13284, 13306, 13310, 13312, 13314, 13315, 13316, 13317, 13318, 13326, 13328, 13332, 13366, 13367, 13370, 13374, 13399, 13400, 13407, 13409, 13411, 13421, 13426, 13427, 13428, 13430, 13431, 13432, 13433, 13434, 13436, 13437, 13440, 13441, 13442, 13443, 13445, 13448, 13449, 13453, 13454, 13455, 13456, 13457, 13458, 13459, 13464, 13465, 13467, 13468, 13470, 13472, 13477, 13479, 13480, 13481, 13482, 13483, 13484, 13485, 13486, 13489, 13492, 13494, 13495, 13497, 13500, 13503, 13504, 13505, 13512, 13517, 13522, 13524, 13531, 13533, 13534, 13535, 13557, 13562, 13577, 13612, 13613, 13620, 13624, 13628, 13644, 13645, 13659, 13666, 13667, 13668, 13669, 13670, 13672, 13673, 13679, 13681, 13685, 13686, 13687, 13692, 13708, 13709, 13710, 13715, 13726, 13738, 13757, 13782, 13797, 13799, 13800, 13802, 13818, 13819, 13820, 13829, 13833, 13834, 13839, 13840, 13842, 13845, 13856, 13857, 13858, 13859, 13875, 13876, 13877, 13878, 13879, 13883, 13885, 13892, 13894, 13895, 13896, 13901, 13902, 13916, 13917, 13923, 13931, 13932, 13934, 13935, 13945, 13946, 13951, 13952, 13955, 13957, 13960, 13961, 13965, 13967, 13968, 13969, 13970, 13985, 13988, 13990, 13992, 13997, 14027, 14035, 14040, 14041, 14043, 14044, 14045, 14046, 14047, 14048, 14050, 14051, 14052, 14053, 14059, 14074, 14075, 14098, 14101, 14140, 14141, 14146, 14147, 14149, 14186, 14191, 14195, 14196, 14197, 14198, 14206, 14215, 14218, 14219, 14226, 14249, 14254, 14307, 14316, 14327, 14328, 14347, 14370, 14371, 14402, 14404, 14405, 14413, 14415, 14417, 14450, 14457, 14462, 14471, 14472, 14473, 14474, 14481, 14484, 14489, 14490, 14491, 14492, 14511, 14517, 14527, 14528, 14532, 14546, 14547, 14548, 14610, 14611, 14661, 14665, 14667, 14737, 14744, 14765, 14767, 14770, 14789, 14792, 14793, 14795, 14797, 14802, 14803, 14810, 14822, 14823, 14824, 14833, 14834, 14870, 14871, 14872, 14873, 14886, 14888, 14905, 14907, 14936, 14937, 14938, 14943, 14944, 14981, 14988, 15016, 15039, 15046, 15047, 15060, 15111, 15124, 15125, 15143, 15151, 15153, 15158, 15165, 15175, 15179, 15184, 15190, 15211, 15214, 15224, 15236, 15243, 15257, 15268, 15302, 15317, 15324, 15326, 15361, 15364, 15367, 15374, 15398, 15417, 15423, 15437, 15461, 15505, 15516, 15518, 15521, 15553, 15558, 15559, 15560, 15561, 15580, 15586, 15590, 15595, 15596, 15601, 15607, 15615, 15630, 15635, 15639, 15640, 15641, 15644, 15650, 15654, 15655, 15659, 15662, 15667, 15675, 15676, 15677, 15684, 15687, 15690, 15691, 15693, 15694, 15695, 15709, 15719, 15725, 15741, 15743, 15745, 15749, 15751, 15752, 15757, 15759, 15765, 15770, 15773, 15781, 15783, 15784, 15789, 15795, 15798, 15799, 15806, 15810, 15818, 15823, 15835, 15841, 15842, 15845, 15849, 15854, 15857, 15859, 15863, 15866, 15870, 15877, 15885, 15892, 15893, 15898, 15900, 15901, 15908, 15912, 15932, 15937, 15939, 15945, 15947, 15956, 15959, 15961, 15969, 15979, 15982, 15989, 15993, 15994, 16000, 16008, 16017, 16019, 16024, 16034, 16043, 16049, 16055, 16057, 16059, 16060, 16062, 16065, 16071, 16083, 16093, 16098, 16100, 16102, 16139, 16145, 16153, 16161, 16173, 16175, 16179, 16188, 16211, 16222, 16223, 16230, 16231, 16233, 16236, 16244, 16248, 16251, 16253, 16257, 16282, 16292, 16302, 16319, 16321, 16326, 16328, 16334, 16342, 16344, 16353, 16363, 16364, 16366, 16371, 16379, 16385, 16389, 16392, 16396, 16400, 16402, 16407, 16409, 16410, 16414, 16415, 16419, 16423, 16429, 16431, 16433, 16438, 16440, 16443, 16447, 16449, 16455, 16464, 16479, 16488, 16491, 16492, 16495, 16496, 16498, 16505, 16508, 16510, 16512, 16520, 16523, 16532, 16533, 16534, 16538, 16547, 16553, 16556, 16563, 16574, 16578, 16582, 16590, 16594, 16610, 16611, 16621, 16633, 16661, 16662, 16667, 16672, 16685, 16688, 16689, 16690, 16691, 16692, 16693, 16696, 16697, 16706, 16709, 16711, 16712, 16716, 16717, 16719, 16720, 16721, 16722, 16723, 16724, 16725, 16727, 16735, 16740, 16751, 16752, 16755, 16756, 16769, 16770, 16771, 16773, 16774, 16776, 16779, 16782, 16785, 16787, 16790, 16795, 16801, 16812, 16813, 16815, 16823, 16824, 16825, 16828, 16840, 16844, 16857, 16858, 16859, 16866, 16877, 16878, 16880, 16883, 16885, 16886, 16887, 16888, 16893, 16894, 16898, 16899, 16900, 16904, 16906, 16907, 16908, 16910, 16914, 16915, 16916, 16917, 16918, 16919, 16920, 16924, 16925, 16929, 16930, 16937, 16940, 16941, 16944, 16949, 16953, 16956, 16958, 16959, 16963, 16967, 16971, 16972, 16980, 16981, 16982, 16983, 16989, 16990, 16994, 16995, 16996, 17006, 17008, 17009, 17010, 17013, 17014, 17015, 17016, 17017, 17025, 17027, 17032, 17036, 17050, 17052, 17055, 17066, 17069, 17076, 17079, 17081, 17092, 17094, 17098, 17108, 17110, 17114, 17120, 17121, 17125, 17127, 17128, 17130, 17143, 17157, 17160, 17203, 17207, 17219, 17220, 17224, 17229, 17230, 17232, 17233, 17234, 17239, 17241, 17246, 17253, 17258, 17265, 17272, 17273, 17286, 17289, 17292, 17293, 17301, 17304, 17305, 17313, 17316, 17317, 17318, 17324, 17327, 17329, 17331, 17336, 17347, 17353, 17356, 17357, 17358, 17360, 17369, 17375, 17406, 17415, 17423, 17428, 17429, 17434, 17437, 17440, 17442, 17444, 17446, 17449, 17460, 17463, 17477, 17494]\n"
          ]
        }
      ]
    },
    {
      "cell_type": "code",
      "metadata": {
        "colab": {
          "base_uri": "https://localhost:8080/"
        },
        "outputId": "b897037a-826c-4d54-e403-b89c9b3df438",
        "id": "B8FDwnShHwk8"
      },
      "source": [
        "inputs_02_e = [item for i, item in enumerate(inputs_02_) if not (i in indexes_in_02 or i in indexes_t_02)]\n",
        "# из-за пересечения over длин в inputs и targets\n",
        "print(len(inputs_02_), '<=', len(inputs_02_e), '+', len(indexes_in_02), '+', len(indexes_t_02),\n",
        "      \":\", len(inputs_02_e) + len(indexes_in_02) + len(indexes_t_02))\n",
        "targets_02_in_e = [item for i, item in enumerate(targets_02_in) if not (i in indexes_in_02 or i in indexes_t_02)]\n",
        "# из-за пересечения over длин в inputs и targets\n",
        "print(len(targets_02_in), '<=', len(targets_02_in_e), '+', len(indexes_in_02), '+', len(indexes_t_02),\n",
        "      \":\", len(targets_02_in_e) + len(indexes_in_02) + len(indexes_t_02))\n",
        "targets_02_out_e = [item for i, item in enumerate(targets_02_out) if not (i in indexes_in_02 or i in indexes_t_02)]\n",
        "# из-за пересечения over длин в inputs и targets\n",
        "print(len(targets_02_out), '<=', len(targets_02_out_e), '+', len(indexes_in_02), '+', len(indexes_t_02),\n",
        "      \":\", len(targets_02_out_e) + len(indexes_in_02) + len(indexes_t_02))"
      ],
      "execution_count": null,
      "outputs": [
        {
          "output_type": "stream",
          "name": "stdout",
          "text": [
            "26048 <= 22926 + 351 + 2810 : 26087\n",
            "26048 <= 22926 + 351 + 2810 : 26087\n",
            "26048 <= 22926 + 351 + 2810 : 26087\n"
          ]
        }
      ]
    },
    {
      "cell_type": "markdown",
      "metadata": {
        "id": "DO6NKzW8Hwk8"
      },
      "source": [
        "### Save Load data"
      ]
    },
    {
      "cell_type": "code",
      "metadata": {
        "id": "MsNDiFLpHwk8"
      },
      "source": [
        "# Save\n",
        "import pickle\n",
        "with open(pathNameTrain + prefix + 'inputs_01_', 'wb') as handle:\n",
        "  pickle.dump(inputs_01_, handle, protocol=pickle.HIGHEST_PROTOCOL)\n",
        "with open(pathNameTrain + prefix + 'intents_01_', 'wb') as handle:\n",
        "  pickle.dump(intents_01_, handle, protocol=pickle.HIGHEST_PROTOCOL)\n",
        "with open(pathNameTrain + prefix + 'targets_01_in', 'wb') as handle:\n",
        "  pickle.dump(targets_01_in, handle, protocol=pickle.HIGHEST_PROTOCOL)\n",
        "with open(pathNameTrain + prefix + 'targets_01_out', 'wb') as handle:\n",
        "  pickle.dump(targets_01_out, handle, protocol=pickle.HIGHEST_PROTOCOL)  \n",
        "\n",
        "with open(pathNameTrain + prefix + 'inputs_01_e', 'wb') as handle:\n",
        "  pickle.dump(inputs_01_e, handle, protocol=pickle.HIGHEST_PROTOCOL)\n",
        "with open(pathNameTrain + prefix + 'intents_01_e', 'wb') as handle:\n",
        "  pickle.dump(intents_01_e, handle, protocol=pickle.HIGHEST_PROTOCOL)\n",
        "\n",
        "with open(pathNameTrain + prefix + 'targets_01_in_e', 'wb') as handle:\n",
        "  pickle.dump(targets_01_in_e, handle, protocol=pickle.HIGHEST_PROTOCOL)\n",
        "with open(pathNameTrain + prefix + 'targets_01_out_e', 'wb') as handle:\n",
        "  pickle.dump(targets_01_out_e, handle, protocol=pickle.HIGHEST_PROTOCOL)    \n",
        "\n",
        "with open(pathNameTrain + prefix + 'inputs_02_', 'wb') as handle:\n",
        "  pickle.dump(inputs_02_, handle, protocol=pickle.HIGHEST_PROTOCOL)\n",
        "with open(pathNameTrain + prefix + 'targets_02_in', 'wb') as handle:\n",
        "  pickle.dump(targets_02_in, handle, protocol=pickle.HIGHEST_PROTOCOL)\n",
        "with open(pathNameTrain + prefix + 'targets_02_out', 'wb') as handle:\n",
        "  pickle.dump(targets_02_out, handle, protocol=pickle.HIGHEST_PROTOCOL)  \n",
        "\n",
        "with open(pathNameTrain + prefix + 'inputs_02_e_9700', 'wb') as handle:\n",
        "  pickle.dump(inputs_02_e, handle, protocol=pickle.HIGHEST_PROTOCOL)\n",
        "with open(pathNameTrain + prefix + 'targets_02_in_e_9700', 'wb') as handle:\n",
        "  pickle.dump(targets_02_in_e, handle, protocol=pickle.HIGHEST_PROTOCOL)\n",
        "with open(pathNameTrain + prefix + 'targets_02_out_e_9700', 'wb') as handle:\n",
        "  pickle.dump(targets_02_out_e, handle, protocol=pickle.HIGHEST_PROTOCOL)    "
      ],
      "execution_count": null,
      "outputs": []
    },
    {
      "cell_type": "code",
      "metadata": {
        "id": "eK_KrwRbHwk9"
      },
      "source": [
        "# Load без исключенных по длине строк\n",
        "import pickle\n",
        "with open(pathNameTrain + prefix + 'inputs_01_', 'rb') as handle:\n",
        "  inputs_01_ = pickle.load(handle)\n",
        "with open(pathNameTrain + prefix + 'intents_01_', 'rb') as handle:\n",
        "  intents_01_ = pickle.load(handle)\n",
        "with open(pathNameTrain + prefix + 'targets_01_in', 'rb') as handle:\n",
        "  targets_01_in = pickle.load(handle)\n",
        "with open(pathNameTrain + prefix + 'targets_01_out', 'rb') as handle:\n",
        "  targets_01_out = pickle.load(handle)\n",
        "\n",
        "with open(pathNameTrain + prefix + 'inputs_02_', 'rb') as handle:\n",
        "  inputs_02_ = pickle.load(handle)\n",
        "with open(pathNameTrain + prefix + 'targets_02_in', 'rb') as handle:\n",
        "  targets_02_in = pickle.load(handle)\n",
        "with open(pathNameTrain + prefix + 'targets_02_out', 'rb') as handle:\n",
        "  targets_02_out = pickle.load(handle)"
      ],
      "execution_count": null,
      "outputs": []
    },
    {
      "cell_type": "code",
      "metadata": {
        "id": "DzQebuynHwk9"
      },
      "source": [
        "# Load с  исключенными по длине строками\n",
        "import pickle\n",
        "with open(pathNameTrain + prefix + 'inputs_01_e', 'rb') as handle:\n",
        "  inputs_01_ = pickle.load(handle)\n",
        "with open(pathNameTrain + prefix + 'intents_01_e', 'rb') as handle:\n",
        "  intents_01_ = pickle.load(handle)\n",
        "\n",
        "with open(pathNameTrain + prefix + 'targets_01_in_e', 'rb') as handle:\n",
        "  targets_01_in = pickle.load(handle)\n",
        "with open(pathNameTrain + prefix + 'targets_01_out_e', 'rb') as handle:\n",
        "  targets_01_out = pickle.load(handle)\n",
        "\n",
        "with open(pathNameTrain + prefix + 'inputs_02_e', 'rb') as handle:\n",
        "  inputs_02_ = pickle.load(handle)\n",
        "with open(pathNameTrain + prefix + 'targets_02_in_e', 'rb') as handle:\n",
        "  targets_02_in = pickle.load(handle)\n",
        "with open(pathNameTrain + prefix + 'targets_02_out_e', 'rb') as handle:\n",
        "  targets_02_out = pickle.load(handle)\n",
        "\n",
        "# Переназначаем максимальные длины\n",
        "max_words_lens_i_01, max_words_lens_t_01, max_words_lens_int_01 = 5, 15, 4\n",
        "# Переназначаем максимальные длины\n",
        "max_words_lens_i_02, max_words_lens_t_02 = 12, 15\n"
      ],
      "execution_count": null,
      "outputs": []
    },
    {
      "cell_type": "code",
      "metadata": {
        "id": "1Tslg4enHwk9"
      },
      "source": [
        "# тольк последний набор\n",
        "with open(pathNameTrain + prefix + 'inputs_02_e_9700', 'rb') as handle:\n",
        "  inputs_02_ = pickle.load(handle)\n",
        "with open(pathNameTrain + prefix + 'targets_02_in_e_9700', 'rb') as handle:\n",
        "  targets_02_in = pickle.load(handle)\n",
        "with open(pathNameTrain + prefix + 'targets_02_out_e_9700', 'rb') as handle:\n",
        "  targets_02_out = pickle.load(handle)\n",
        "\n",
        "# Переназначаем максимальные длины\n",
        "max_words_lens_i_02, max_words_lens_t_02 = 12, 15"
      ],
      "execution_count": null,
      "outputs": []
    },
    {
      "cell_type": "markdown",
      "metadata": {
        "id": "XDJyvu1nHwk9"
      },
      "source": [
        "### Vectorize/Tokenize Data"
      ]
    },
    {
      "cell_type": "code",
      "metadata": {
        "colab": {
          "base_uri": "https://localhost:8080/",
          "height": 72
        },
        "outputId": "4e2fa625-739d-497d-d07b-83b4f1c953b8",
        "id": "WrEUzMcTHwk9"
      },
      "source": [
        "import string\n",
        "t = Tokenizer()\n",
        "print(t.filters)\n",
        "filters_default = t.filters\n",
        "string.whitespace"
      ],
      "execution_count": null,
      "outputs": [
        {
          "output_type": "stream",
          "name": "stdout",
          "text": [
            "!\"#$%&()*+,-./:;<=>?@[\\]^_`{|}~\t\n",
            "\n"
          ]
        },
        {
          "output_type": "execute_result",
          "data": {
            "application/vnd.google.colaboratory.intrinsic+json": {
              "type": "string"
            },
            "text/plain": [
              "' \\t\\n\\r\\x0b\\x0c'"
            ]
          },
          "metadata": {},
          "execution_count": 6
        }
      ]
    },
    {
      "cell_type": "code",
      "metadata": {
        "colab": {
          "base_uri": "https://localhost:8080/"
        },
        "outputId": "8645e0d7-2310-411e-aef6-d2278b30c109",
        "id": "Ad7NwIVHHwk9"
      },
      "source": [
        "print(f\"string.punctuation: {string.punctuation}\")\n",
        "print(f\"filters_default: '{filters_default}'\")\n",
        "#filters_correct=filters_default.replace('<','').replace('>','') + f'{string.whitespace.strip()}'\n",
        "filters_correct=filters_default.replace('<','').replace('>','') + '\\t\\n\\r\\x0b\\x0c'\n",
        "# оставляем < > \n",
        "print(f\"filters_correct: '{filters_correct}'\")\n",
        "#filters_correct + string.whitespace.strip()"
      ],
      "execution_count": null,
      "outputs": [
        {
          "output_type": "stream",
          "name": "stdout",
          "text": [
            "string.punctuation: !\"#$%&'()*+,-./:;<=>?@[\\]^_`{|}~\n",
            "filters_default: '!\"#$%&()*+,-./:;<=>?@[\\]^_`{|}~\t\n",
            "'\n",
            "filters_correct: '!\"#$%&()*+,-./:;=?@[\\]^_`{|}~\t\n",
            "\t\n",
            "\r\u000b\f'\n"
          ]
        }
      ]
    },
    {
      "cell_type": "code",
      "metadata": {
        "colab": {
          "base_uri": "https://localhost:8080/"
        },
        "outputId": "c4f15c7f-cc1d-492c-ff23-bac8095c54e2",
        "id": "YdJQ3igiHwk-"
      },
      "source": [
        "#%%time\n",
        "#tokenizer_01 = tf.keras.preprocessing.text.Tokenizer(filters='')\n",
        "tokenizer_01 = tf.keras.preprocessing.text.Tokenizer(filters=filters_correct)\n",
        "tokenizer_01.fit_on_texts(inputs_01_ + targets_01_in + targets_01_out + intents_01_)\n",
        "voc_size_01 = len(tokenizer_01.word_index)\n",
        "print(\"voc_size_01:\", voc_size_01)\n",
        "print(list(tokenizer_01.word_index)[:10] )\n",
        "print('<start>', tokenizer_01.word_index['<start>'], '<end>', tokenizer_01.word_index['<end>'])\n",
        "print('hello', tokenizer_01.word_index['hello']) #, tokenizer_01.word_index['<end>'])\n",
        "\n",
        "max_len_inputs_choice_01 = max(max_words_lens_i_01, max_words_lens_int_01)\n",
        "\n",
        "inputs_01_seq = tokenizer_01.texts_to_sequences(inputs_01_)\n",
        "inputs_01_seq_pad = tf.keras.preprocessing.sequence.pad_sequences(inputs_01_seq, padding='post',\n",
        "        truncating='post', maxlen=max_len_inputs_choice_01 )\n",
        "\n",
        "intents_01_seq = tokenizer_01.texts_to_sequences(intents_01_)\n",
        "intents_01_seq_pad = tf.keras.preprocessing.sequence.pad_sequences(intents_01_seq, padding='post',\n",
        "        truncating='post', maxlen=max_len_inputs_choice_01 )\n",
        "\n",
        "targets_01_in_seq = tokenizer_01.texts_to_sequences(targets_01_in)\n",
        "targets_01_in_seq_pad = tf.keras.preprocessing.sequence.pad_sequences(targets_01_in_seq, padding='post',\n",
        "        truncating='post', maxlen=max_words_lens_t_01 )\n",
        "targets_01_out_seq = tokenizer_01.texts_to_sequences(targets_01_out)\n",
        "targets_01_out_seq_pad = tf.keras.preprocessing.sequence.pad_sequences(targets_01_out_seq, padding='post',\n",
        "        truncating='post', maxlen=max_words_lens_t_01 )\n",
        "\n",
        "print(inputs_01_seq_pad.shape, intents_01_seq_pad.shape, targets_01_in_seq_pad.shape, targets_01_out_seq_pad.shape)"
      ],
      "execution_count": null,
      "outputs": [
        {
          "output_type": "stream",
          "name": "stdout",
          "text": [
            "voc_size_01: 2194\n",
            "['<start>', '<end>', 'я', 'не', 'в', 'как', 'что', 'ты', 'и', 'все']\n",
            "<start> 1 <end> 2\n",
            "hello 711\n",
            "(2747, 5) (2747, 5) (2747, 15) (2747, 15)\n"
          ]
        }
      ]
    },
    {
      "cell_type": "code",
      "metadata": {
        "colab": {
          "base_uri": "https://localhost:8080/"
        },
        "outputId": "31a49280-dbf2-4a38-8c5d-96d4ebcf2a52",
        "id": "MFrkp0uGHwk-"
      },
      "source": [
        "# dataset 02\n",
        "%%time\n",
        "tokenizer_02 = tf.keras.preprocessing.text.Tokenizer(filters='')\n",
        "tokenizer_02.fit_on_texts(inputs_02_ + targets_02_in + targets_02_out)\n",
        "voc_size_02 = len(tokenizer_02.word_index)\n",
        "print(\"voc_size_02:\", voc_size_02)\n",
        "print(list(tokenizer_02.word_index)[:10] )\n",
        "\n",
        "print(tokenizer_02.word_index['<start>'], tokenizer_02.word_index['<end>'])\n",
        "\n",
        "inputs_02_seq = tokenizer_02.texts_to_sequences(inputs_02_)\n",
        "inputs_02_seq_pad = tf.keras.preprocessing.sequence.pad_sequences(inputs_02_seq, padding='post',\n",
        "        truncating='post', maxlen=max_words_lens_i_02 )\n",
        "targets_02_in_seq = tokenizer_02.texts_to_sequences(targets_02_in)\n",
        "targets_02_in_seq_pad = tf.keras.preprocessing.sequence.pad_sequences(targets_02_in_seq, padding='post',\n",
        "        truncating='post', maxlen=max_words_lens_t_02 )\n",
        "targets_02_out_seq = tokenizer_02.texts_to_sequences(targets_02_out)\n",
        "targets_02_out_seq_pad = tf.keras.preprocessing.sequence.pad_sequences(targets_02_out_seq, padding='post',\n",
        "        truncating='post', maxlen=max_words_lens_t_02 )\n",
        "\n",
        "print(inputs_02_seq_pad.shape, targets_02_in_seq_pad.shape, targets_02_out_seq_pad.shape)"
      ],
      "execution_count": null,
      "outputs": [
        {
          "output_type": "stream",
          "name": "stdout",
          "text": [
            "voc_size_02: 31196\n",
            "['<start>', '<end>', 'не', 'в', 'я', 'что', 'ты', 'а', 'это', 'да']\n",
            "1 2\n",
            "(22926, 12) (22926, 15) (22926, 15)\n",
            "CPU times: user 1.64 s, sys: 88.9 ms, total: 1.73 s\n",
            "Wall time: 1.66 s\n"
          ]
        }
      ]
    },
    {
      "cell_type": "markdown",
      "metadata": {
        "id": "N0bkCuJTHwk-"
      },
      "source": [
        "### Create & Split Datasets"
      ]
    },
    {
      "cell_type": "code",
      "metadata": {
        "id": "Kph5xjvuHwk-"
      },
      "source": [
        "BATCH_SIZE = 5\n",
        "# выберем поменьше (так свотеалина рзборах от 2-3 до 6-8)"
      ],
      "execution_count": null,
      "outputs": []
    },
    {
      "cell_type": "code",
      "metadata": {
        "colab": {
          "base_uri": "https://localhost:8080/"
        },
        "outputId": "0d5c76f9-e1bf-48ce-93e1-af859af3a815",
        "id": "g9pqsR2RHwk-"
      },
      "source": [
        "%%time\n",
        "dataset_01 = tf.data.Dataset.from_tensor_slices((inputs_01_seq_pad, targets_01_in_seq_pad, targets_01_out_seq_pad))\n",
        "dataset_01 = dataset_01.shuffle(20).batch(BATCH_SIZE).prefetch(buffer_size=tf.data.AUTOTUNE)"
      ],
      "execution_count": null,
      "outputs": [
        {
          "output_type": "stream",
          "name": "stdout",
          "text": [
            "CPU times: user 2.95 ms, sys: 0 ns, total: 2.95 ms\n",
            "Wall time: 3.12 ms\n"
          ]
        }
      ]
    },
    {
      "cell_type": "code",
      "metadata": {
        "colab": {
          "base_uri": "https://localhost:8080/"
        },
        "outputId": "ebdda4a6-24db-4bf6-c6e7-222395038e0c",
        "id": "ErSUf0FdHwk_"
      },
      "source": [
        "%%time\n",
        "dataset_01 = tf.data.Dataset.zip((\n",
        "    tf.data.Dataset.from_tensor_slices(inputs_01_seq_pad).batch(BATCH_SIZE), \n",
        "    tf.data.Dataset.from_tensor_slices(targets_01_in_seq_pad).batch(BATCH_SIZE), \n",
        "    tf.data.Dataset.from_tensor_slices(targets_01_out_seq_pad).batch(BATCH_SIZE)))\n",
        "dataset_01 = dataset_01.shuffle(20).batch(BATCH_SIZE).cache().prefetch(buffer_size=tf.data.AUTOTUNE)"
      ],
      "execution_count": null,
      "outputs": [
        {
          "output_type": "stream",
          "name": "stdout",
          "text": [
            "CPU times: user 6.98 ms, sys: 0 ns, total: 6.98 ms\n",
            "Wall time: 6.82 ms\n"
          ]
        }
      ]
    },
    {
      "cell_type": "code",
      "metadata": {
        "colab": {
          "base_uri": "https://localhost:8080/"
        },
        "outputId": "34a9b8b6-7712-40a0-8452-06533b6bb26b",
        "id": "K5iuJkWUHwk_"
      },
      "source": [
        "len(dataset_01)"
      ],
      "execution_count": null,
      "outputs": [
        {
          "output_type": "execute_result",
          "data": {
            "text/plain": [
              "565"
            ]
          },
          "metadata": {},
          "execution_count": 205
        }
      ]
    },
    {
      "cell_type": "code",
      "metadata": {
        "colab": {
          "base_uri": "https://localhost:8080/"
        },
        "outputId": "2d568aac-345e-4fd6-e400-d8f497b32f8b",
        "id": "XKSK65qKHwk_"
      },
      "source": [
        "train_size = 0.8\n",
        "#len_train_01 = np.ceil(len(dataset_01)*train_size) # в batches\n",
        "len_train_01 = int(len(dataset_01)*train_size) # в batches\n",
        "\n",
        "ds_01_train = dataset_01.take(len_train_01) \n",
        "ds_01_test  = dataset_01.skip(len_train_01)\n",
        "\n",
        "print(len(ds_01_train), ds_01_train.as_numpy_iterator , len(ds_01_test), ds_01_test.as_numpy_iterator)\n",
        "it_train = ds_01_train.take(1); it_test = ds_01_test.take(1)\n",
        "print(len(ds_01_test), it.element_spec, it_test.element_spec)"
      ],
      "execution_count": null,
      "outputs": [
        {
          "output_type": "stream",
          "name": "stdout",
          "text": [
            "90 <bound method DatasetV2.as_numpy_iterator of <TakeDataset shapes: ((None, None, 12), (None, None, 45), (None, None, 45)), types: (tf.int32, tf.int32, tf.int32)>> 23 <bound method DatasetV2.as_numpy_iterator of <SkipDataset shapes: ((None, None, 12), (None, None, 45), (None, None, 45)), types: (tf.int32, tf.int32, tf.int32)>>\n",
            "23 (TensorSpec(shape=(None, None, 12), dtype=tf.int32, name=None), TensorSpec(shape=(None, None, 45), dtype=tf.int32, name=None), TensorSpec(shape=(None, None, 45), dtype=tf.int32, name=None)) (TensorSpec(shape=(None, None, 12), dtype=tf.int32, name=None), TensorSpec(shape=(None, None, 45), dtype=tf.int32, name=None), TensorSpec(shape=(None, None, 45), dtype=tf.int32, name=None))\n"
          ]
        }
      ]
    },
    {
      "cell_type": "code",
      "metadata": {
        "colab": {
          "base_uri": "https://localhost:8080/"
        },
        "outputId": "84d69de6-acd3-4ecb-8a73-1ec5b40920b2",
        "id": "bM0-FA8QHwk_"
      },
      "source": [
        "%%time\n",
        "dataset_02 = tf.data.Dataset.from_tensor_slices((inputs_02_seq_pad, targets_02_in_seq_pad, targets_02_out_seq_pad))\n",
        "#dataset_02 = tf.data.Dataset.zip((inputs_02_seq_pad, targets_02_in_seq_pad, targets_02_out_seq_pad))\n",
        "dataset_02 = dataset_02.shuffle(20).batch(BATCH_SIZE).prefetch(buffer_size=tf.data.AUTOTUNE)"
      ],
      "execution_count": null,
      "outputs": [
        {
          "output_type": "stream",
          "name": "stdout",
          "text": [
            "CPU times: user 4.16 ms, sys: 0 ns, total: 4.16 ms\n",
            "Wall time: 4.11 ms\n"
          ]
        }
      ]
    },
    {
      "cell_type": "code",
      "metadata": {
        "id": "59pRpQcWHwk_"
      },
      "source": [
        "dataset_02 = tf.data.Dataset.zip((\n",
        "    tf.data.Dataset.from_tensor_slices(inputs_02_seq_pad).batch(BATCH_SIZE), \n",
        "    tf.data.Dataset.from_tensor_slices(targets_02_in_seq_pad).batch(BATCH_SIZE), \n",
        "    tf.data.Dataset.from_tensor_slices(targets_02_out_seq_pad).batch(BATCH_SIZE)))\n",
        "dataset_02 = dataset_02.shuffle(20).batch(BATCH_SIZE).cache().prefetch(buffer_size=tf.data.AUTOTUNE)"
      ],
      "execution_count": null,
      "outputs": []
    },
    {
      "cell_type": "code",
      "metadata": {
        "colab": {
          "base_uri": "https://localhost:8080/"
        },
        "outputId": "1352d464-a344-422a-f9e5-c547b63bb3aa",
        "id": "QJvw02LJHwlA"
      },
      "source": [
        "train_size = 0.8\n",
        "len_train_02 = np.ceil(len(dataset_02)*train_size) # в batches\n",
        "\n",
        "ds_02_train = dataset_01.take(len_train_02) \n",
        "ds_02_test  = dataset_01.skip(len_train_02)\n",
        "len(ds_02_train), ds_02_train.as_numpy_iterator , len(ds_02_test), ds_02_test.as_numpy_iterator"
      ],
      "execution_count": null,
      "outputs": [
        {
          "output_type": "execute_result",
          "data": {
            "text/plain": [
              "(274,\n",
              " <bound method DatasetV2.as_numpy_iterator of <TakeDataset shapes: ((None, 12), (None, 45), (None, 45)), types: (tf.int32, tf.int32, tf.int32)>>,\n",
              " 291,\n",
              " <bound method DatasetV2.as_numpy_iterator of <SkipDataset shapes: ((None, 12), (None, 45), (None, 45)), types: (tf.int32, tf.int32, tf.int32)>>)"
            ]
          },
          "metadata": {},
          "execution_count": 245
        }
      ]
    },
    {
      "cell_type": "code",
      "metadata": {
        "id": "GPJWoP6JHwlA"
      },
      "source": [
        "it = iter(ds_02_train)\n",
        "print(next(it))"
      ],
      "execution_count": null,
      "outputs": []
    },
    {
      "cell_type": "markdown",
      "metadata": {
        "id": "3oG0UVbv-7aJ"
      },
      "source": [
        "## Load saved Data"
      ]
    },
    {
      "cell_type": "code",
      "metadata": {
        "id": "9p2t5co2-7aS"
      },
      "source": [
        "# Load с  исключенными по длине строками\n",
        "import pickle\n",
        "with open(pathNameTrain + prefix + 'inputs_01_e', 'rb') as handle:\n",
        "  inputs_01_ = pickle.load(handle)\n",
        "with open(pathNameTrain + prefix + 'intents_01_e', 'rb') as handle:\n",
        "  intents_01_ = pickle.load(handle)\n",
        "\n",
        "with open(pathNameTrain + prefix + 'targets_01_in_e', 'rb') as handle:\n",
        "  targets_01_in = pickle.load(handle)\n",
        "with open(pathNameTrain + prefix + 'targets_01_out_e', 'rb') as handle:\n",
        "  targets_01_out = pickle.load(handle)\n",
        "\n",
        "with open(pathNameTrain + prefix + 'inputs_02_e', 'rb') as handle:\n",
        "  inputs_02_ = pickle.load(handle)\n",
        "with open(pathNameTrain + prefix + 'targets_02_in_e', 'rb') as handle:\n",
        "  targets_02_in = pickle.load(handle)\n",
        "with open(pathNameTrain + prefix + 'targets_02_out_e', 'rb') as handle:\n",
        "  targets_02_out = pickle.load(handle)\n",
        "\n",
        "# Переназначаем максимальные длины\n",
        "max_words_lens_i_01, max_words_lens_t_01, max_words_lens_int_01 = 5, 15, 4\n",
        "# Переназначаем максимальные длины\n",
        "max_words_lens_i_02, max_words_lens_t_02 = 12, 15\n"
      ],
      "execution_count": null,
      "outputs": []
    },
    {
      "cell_type": "code",
      "metadata": {
        "id": "c69yVSYU-7aT"
      },
      "source": [
        "import pickle\n",
        "# для отдельного набора 9700 диалогов\n",
        "with open(pathNameTrain + prefix + 'inputs_02_e_9700', 'rb') as handle:\n",
        "  inputs_02_ = pickle.load(handle)\n",
        "with open(pathNameTrain + prefix + 'targets_02_in_e_9700', 'rb') as handle:\n",
        "  targets_02_in = pickle.load(handle)\n",
        "with open(pathNameTrain + prefix + 'targets_02_out_e_9700', 'rb') as handle:\n",
        "  targets_02_out = pickle.load(handle)\n",
        "\n",
        "\n",
        "# Переназначаем максимальные длины\n",
        "max_words_lens_i_02, max_words_lens_t_02 = 11, 13\n"
      ],
      "execution_count": null,
      "outputs": []
    },
    {
      "cell_type": "markdown",
      "metadata": {
        "id": "Rr7bM_Vj-7aU"
      },
      "source": [
        "### Vectorize/Tokenize Data"
      ]
    },
    {
      "cell_type": "code",
      "metadata": {
        "colab": {
          "base_uri": "https://localhost:8080/",
          "height": 72
        },
        "id": "czqlEB9L-7aU",
        "outputId": "95eee36e-5c37-43f7-ce0c-a426a8afdffd"
      },
      "source": [
        "import string\n",
        "t = Tokenizer()\n",
        "print(t.filters)\n",
        "filters_default = t.filters\n",
        "string.whitespace"
      ],
      "execution_count": null,
      "outputs": [
        {
          "output_type": "stream",
          "name": "stdout",
          "text": [
            "!\"#$%&()*+,-./:;<=>?@[\\]^_`{|}~\t\n",
            "\n"
          ]
        },
        {
          "output_type": "execute_result",
          "data": {
            "application/vnd.google.colaboratory.intrinsic+json": {
              "type": "string"
            },
            "text/plain": [
              "' \\t\\n\\r\\x0b\\x0c'"
            ]
          },
          "metadata": {},
          "execution_count": 7
        }
      ]
    },
    {
      "cell_type": "code",
      "metadata": {
        "colab": {
          "base_uri": "https://localhost:8080/"
        },
        "id": "4caAvTZ9-7aV",
        "outputId": "a2fa7ede-e6c1-417a-c03e-b6fe292dfca9"
      },
      "source": [
        "print(f\"string.punctuation: {string.punctuation}\")\n",
        "print(f\"filters_default: '{filters_default}'\")\n",
        "#filters_correct=filters_default.replace('<','').replace('>','') + f'{string.whitespace.strip()}'\n",
        "filters_correct=filters_default.replace('<','').replace('>','') + '\\t\\n\\r\\x0b\\x0c'\n",
        "# оставляем < > \n",
        "print(f\"filters_correct: '{filters_correct}'\")\n",
        "#filters_correct + string.whitespace.strip()"
      ],
      "execution_count": null,
      "outputs": [
        {
          "output_type": "stream",
          "name": "stdout",
          "text": [
            "string.punctuation: !\"#$%&'()*+,-./:;<=>?@[\\]^_`{|}~\n",
            "filters_default: '!\"#$%&()*+,-./:;<=>?@[\\]^_`{|}~\t\n",
            "'\n",
            "filters_correct: '!\"#$%&()*+,-./:;=?@[\\]^_`{|}~\t\n",
            "\t\n",
            "\r\u000b\f'\n"
          ]
        }
      ]
    },
    {
      "cell_type": "code",
      "metadata": {
        "colab": {
          "base_uri": "https://localhost:8080/"
        },
        "id": "MfK1i72--7aV",
        "outputId": "10cb95b0-a637-4298-9204-43c8856989cb"
      },
      "source": [
        "#%%time\n",
        "#tokenizer_01 = tf.keras.preprocessing.text.Tokenizer(filters='')\n",
        "tokenizer_01 = tf.keras.preprocessing.text.Tokenizer(filters=filters_correct)\n",
        "tokenizer_01.fit_on_texts(inputs_01_ + targets_01_in + targets_01_out + intents_01_)\n",
        "voc_size_01 = len(tokenizer_01.word_index)\n",
        "print(\"voc_size_01:\", voc_size_01)\n",
        "print(list(tokenizer_01.word_index)[:10] )\n",
        "print('<start>', tokenizer_01.word_index['<start>'], '<end>', tokenizer_01.word_index['<end>'])\n",
        "print('hello', tokenizer_01.word_index['hello']) #, tokenizer_01.word_index['<end>'])\n",
        "\n",
        "max_len_inputs_choice_01 = max(max_words_lens_i_01, max_words_lens_int_01)\n",
        "\n",
        "inputs_01_seq = tokenizer_01.texts_to_sequences(inputs_01_)\n",
        "inputs_01_seq_pad = tf.keras.preprocessing.sequence.pad_sequences(inputs_01_seq, padding='post',\n",
        "        truncating='post', maxlen=max_len_inputs_choice_01 )\n",
        "\n",
        "intents_01_seq = tokenizer_01.texts_to_sequences(intents_01_)\n",
        "intents_01_seq_pad = tf.keras.preprocessing.sequence.pad_sequences(intents_01_seq, padding='post',\n",
        "        truncating='post', maxlen=max_len_inputs_choice_01 )\n",
        "\n",
        "targets_01_in_seq = tokenizer_01.texts_to_sequences(targets_01_in)\n",
        "targets_01_in_seq_pad = tf.keras.preprocessing.sequence.pad_sequences(targets_01_in_seq, padding='post',\n",
        "        truncating='post', maxlen=max_words_lens_t_01 )\n",
        "targets_01_out_seq = tokenizer_01.texts_to_sequences(targets_01_out)\n",
        "targets_01_out_seq_pad = tf.keras.preprocessing.sequence.pad_sequences(targets_01_out_seq, padding='post',\n",
        "        truncating='post', maxlen=max_words_lens_t_01 )\n",
        "\n",
        "print(inputs_01_seq_pad.shape, intents_01_seq_pad.shape, targets_01_in_seq_pad.shape, targets_01_out_seq_pad.shape)"
      ],
      "execution_count": null,
      "outputs": [
        {
          "output_type": "stream",
          "name": "stdout",
          "text": [
            "voc_size_01: 2194\n",
            "['<start>', '<end>', 'я', 'не', 'в', 'как', 'что', 'ты', 'и', 'все']\n",
            "<start> 1 <end> 2\n",
            "hello 711\n",
            "(2747, 5) (2747, 5) (2747, 15) (2747, 15)\n"
          ]
        }
      ]
    },
    {
      "cell_type": "code",
      "metadata": {
        "colab": {
          "base_uri": "https://localhost:8080/"
        },
        "id": "dxRf2BGE-7aW",
        "outputId": "0955e18c-06c4-4559-e9a6-947d37756011"
      },
      "source": [
        "# dataset 02\n",
        "%%time\n",
        "tokenizer_02 = tf.keras.preprocessing.text.Tokenizer(filters='', oov_token='<unk>')\n",
        "tokenizer_02.fit_on_texts(inputs_02_ + targets_02_in + targets_02_out)\n",
        "voc_size_02 = len(tokenizer_02.word_index)\n",
        "print(\"voc_size_02:\", voc_size_02)\n",
        "print(list(tokenizer_02.word_index)[:10] )\n",
        "\n",
        "print(tokenizer_02.word_index['<start>'], tokenizer_02.word_index['<end>'])\n",
        "\n",
        "inputs_02_seq = tokenizer_02.texts_to_sequences(inputs_02_)\n",
        "inputs_02_seq_pad = tf.keras.preprocessing.sequence.pad_sequences(inputs_02_seq, padding='post',\n",
        "        truncating='post', maxlen=max_words_lens_i_02 )\n",
        "targets_02_in_seq = tokenizer_02.texts_to_sequences(targets_02_in)\n",
        "targets_02_in_seq_pad = tf.keras.preprocessing.sequence.pad_sequences(targets_02_in_seq, padding='post',\n",
        "        truncating='post', maxlen=max_words_lens_t_02 )\n",
        "targets_02_out_seq = tokenizer_02.texts_to_sequences(targets_02_out)\n",
        "targets_02_out_seq_pad = tf.keras.preprocessing.sequence.pad_sequences(targets_02_out_seq, padding='post',\n",
        "        truncating='post', maxlen=max_words_lens_t_02 )\n",
        "\n",
        "print(inputs_02_seq_pad.shape, targets_02_in_seq_pad.shape, targets_02_out_seq_pad.shape, \n",
        "      #targets_02_seq_pad.shape\n",
        "      )"
      ],
      "execution_count": null,
      "outputs": [
        {
          "output_type": "stream",
          "name": "stdout",
          "text": [
            "voc_size_02: 10472\n",
            "['<unk>', '<start>', '<end>', 'не', 'что', 'да', 'я', 'а', 'в', 'ты']\n",
            "2 3\n",
            "(8553, 11) (8553, 13) (8553, 13)\n",
            "CPU times: user 896 ms, sys: 14.1 ms, total: 910 ms\n",
            "Wall time: 2.08 s\n"
          ]
        }
      ]
    },
    {
      "cell_type": "markdown",
      "metadata": {
        "id": "UJs1v_68-7aW"
      },
      "source": [
        "### Create Dataset tf.Data.Dataset"
      ]
    },
    {
      "cell_type": "code",
      "metadata": {
        "colab": {
          "base_uri": "https://localhost:8080/"
        },
        "id": "2CghkC1f-7aX",
        "outputId": "7a275e90-4a3f-4fe6-e658-cbde621df9fc"
      },
      "source": [
        "BUFFER_SIZE = len(inputs_02_seq_pad)\n",
        "BATCH_SIZE  = 32\n",
        "batch_sz    = BATCH_SIZE\n",
        "\n",
        "# Создаём датасет из массивов Numpy(рус и анг тренировочные фразы) со случайной подачей тренировочных сэмплов в процессе обучения\n",
        "dataset = tf.data.Dataset.from_tensor_slices((inputs_02_seq_pad, targets_02_in_seq_pad,targets_02_out_seq_pad)).shuffle(BUFFER_SIZE)\n",
        "# Передаем в датасет размер батча и указываем, что если в тренировке последний батч окажется неполным, то опустим его\n",
        "dataset = dataset.batch(batch_sz, drop_remainder=True)\n",
        "\n",
        "# Посмотрим на форму примеров полученных батчей\n",
        "example_input_batch, example_target_batch_in, example_target_batch_out = next(iter(dataset))\n",
        "example_input_batch.shape, example_target_batch_in.shape, example_target_batch_out.shape"
      ],
      "execution_count": null,
      "outputs": [
        {
          "output_type": "execute_result",
          "data": {
            "text/plain": [
              "(TensorShape([32, 11]), TensorShape([32, 13]), TensorShape([32, 13]))"
            ]
          },
          "metadata": {},
          "execution_count": 11
        }
      ]
    },
    {
      "cell_type": "markdown",
      "metadata": {
        "id": "xSaXosc9-7aX"
      },
      "source": [
        "## Create Model"
      ]
    },
    {
      "cell_type": "markdown",
      "metadata": {
        "id": "VMNOhIbj-7aX"
      },
      "source": [
        "### Hyper Params"
      ]
    },
    {
      "cell_type": "code",
      "metadata": {
        "id": "29mpXk3S-7aY"
      },
      "source": [
        "vocab_size, hidden_dim, max_len_inputs, max_len_targets  = voc_size_02, 256, max_words_lens_i_02, max_words_lens_t_02\n",
        "target_vocab_size, input_vocab_size = vocab_size+1, vocab_size+1\n",
        "max_len_input, max_len_target = max_words_lens_i_02, max_words_lens_t_02\n",
        "input_tokenizer, target_tokenizer = tokenizer_02, tokenizer_02\n",
        "H = 8 # Heads\n",
        "NUM_LAYERS = 1"
      ],
      "execution_count": null,
      "outputs": []
    },
    {
      "cell_type": "markdown",
      "metadata": {
        "id": "DoYjxWLOAOK5"
      },
      "source": [
        "### Positional Embedding/Encoding"
      ]
    },
    {
      "cell_type": "code",
      "metadata": {
        "id": "4mmdYJCA_Bfo"
      },
      "source": [
        "def positional_embedding(pos, hidden_dim):\n",
        "    PE = np.zeros((1, hidden_dim))\n",
        "    for i in range(hidden_dim):\n",
        "        if i % 2 == 0:\n",
        "            PE[:, i] = np.sin(pos / 10000 ** (i / hidden_dim))\n",
        "        else:\n",
        "            PE[:, i] = np.cos(pos / 10000 ** ((i - 1) / hidden_dim))\n",
        "    return PE\n",
        "\n",
        "#max_length = max(len(data_en[0]), len(data_fr_in[0]))\n",
        "max_length = max(max_words_lens_i_02, max_words_lens_t_02)\n",
        "\n",
        "HIDDEN_DIM = hidden_dim #128\n",
        "\n",
        "pes = []\n",
        "for i in range(max_length):\n",
        "    pes.append(positional_embedding(i, HIDDEN_DIM))\n",
        "\n",
        "pes = np.concatenate(pes, axis=0)\n",
        "pes = tf.constant(pes, dtype=tf.float32)"
      ],
      "execution_count": null,
      "outputs": []
    },
    {
      "cell_type": "code",
      "metadata": {
        "id": "sZHU83jaaBoC"
      },
      "source": [
        "import matplotlib.pyplot as plt\n",
        "%matplotlib inline"
      ],
      "execution_count": null,
      "outputs": []
    },
    {
      "cell_type": "code",
      "metadata": {
        "id": "B5DZhGUYaQ2o",
        "colab": {
          "base_uri": "https://localhost:8080/",
          "height": 79
        },
        "outputId": "6979a090-d574-4595-a3a7-32ce2865918f"
      },
      "source": [
        "plt.figure(figsize=(10,10))\n",
        "plt.imshow(pes.numpy() )\n",
        "plt.show()"
      ],
      "execution_count": null,
      "outputs": [
        {
          "output_type": "display_data",
          "data": {
            "image/png": "[encoded data removed]",
            "text/plain": [
              "<Figure size 720x720 with 1 Axes>"
            ]
          },
          "metadata": {
            "needs_background": "light"
          }
        }
      ]
    },
    {
      "cell_type": "markdown",
      "metadata": {
        "id": "5rtIJDo9CpPm"
      },
      "source": [
        "### Encoder"
      ]
    },
    {
      "cell_type": "code",
      "metadata": {
        "id": "BIvVf2EaFKBH"
      },
      "source": [
        "class Encoder(tf.keras.Model):\n",
        "    def __init__(self, vocab_size, hidden_dim, num_layers, h):\n",
        "        super(Encoder, self).__init__()\n",
        "        self.hidden_dim = hidden_dim\n",
        "        self.num_layers = num_layers\n",
        "        self.h = h\n",
        "        self.embedding = tf.keras.layers.Embedding(vocab_size, hidden_dim)\n",
        "        self.attention = [MultiHeadAttention(hidden_dim, h) for _ in range(num_layers)]\n",
        "\n",
        "        self.attention_norm = [tf.keras.layers.BatchNormalization() for _ in range(num_layers)]\n",
        "\n",
        "        self.dense_1 = [tf.keras.layers.Dense(512, activation='relu') for _ in range(num_layers)]\n",
        "        self.dense_2 = [tf.keras.layers.Dense(hidden_dim) for _ in range(num_layers)]\n",
        "        self.ffn_norm = [tf.keras.layers.BatchNormalization() for _ in range(num_layers)]\n",
        "\n",
        "    def call(self, sequence, padding_mask=None):\n",
        "        embed_out = self.embedding(sequence)\n",
        "        embed_out += pes[:sequence.shape[1], :]\n",
        "        \n",
        "        sub_in = embed_out\n",
        "        \n",
        "        for i in range(self.num_layers):\n",
        "            sub_out = self.attention[i](sub_in, sub_in, padding_mask)\n",
        "            sub_out = sub_in + sub_out\n",
        "            sub_out = self.attention_norm[i](sub_out)\n",
        "            \n",
        "            ffn_in = sub_out\n",
        "\n",
        "            ffn_out = self.dense_2[i](self.dense_1[i](ffn_in))\n",
        "            ffn_out = ffn_in + ffn_out\n",
        "            ffn_out = self.ffn_norm[i](ffn_out)\n",
        "\n",
        "            sub_in = ffn_out\n",
        "            \n",
        "        return ffn_out"
      ],
      "execution_count": null,
      "outputs": []
    },
    {
      "cell_type": "markdown",
      "metadata": {
        "id": "IdfaTyTDCrl1"
      },
      "source": [
        "### Decoder"
      ]
    },
    {
      "cell_type": "code",
      "metadata": {
        "id": "q6AdebQvWqnI"
      },
      "source": [
        "class Decoder(tf.keras.Model):\n",
        "    def __init__(self, vocab_size, hidden_dim, num_layers, h):\n",
        "        super(Decoder, self).__init__()\n",
        "        self.hidden_dim = hidden_dim\n",
        "        self.num_layers = num_layers\n",
        "        self.h = h\n",
        "        self.embedding = tf.keras.layers.Embedding(vocab_size, hidden_dim)\n",
        "        self.attention_bot = [MultiHeadAttention(hidden_dim, h) for _ in range(num_layers)]\n",
        "        self.attention_bot_norm = [tf.keras.layers.BatchNormalization() for _ in range(num_layers)]\n",
        "        self.attention_mid = [MultiHeadAttention(hidden_dim, h) for _ in range(num_layers)]\n",
        "        self.attention_mid_norm = [tf.keras.layers.BatchNormalization() for _ in range(num_layers)]\n",
        "        \n",
        "        self.dense_1 = [tf.keras.layers.Dense(512, activation='relu') for _ in range(num_layers)]\n",
        "        self.dense_2 = [tf.keras.layers.Dense(hidden_dim) for _ in range(num_layers)]\n",
        "        self.ffn_norm = [tf.keras.layers.BatchNormalization() for _ in range(num_layers)]\n",
        "        \n",
        "        self.dense = tf.keras.layers.Dense(vocab_size)\n",
        "        \n",
        "    def call(self, sequence, encoder_output, padding_mask=None):\n",
        "        # Эмбеддинги\n",
        "        embed_out = self.embedding(sequence)\n",
        "        embed_out += pes[:sequence.shape[1], :]\n",
        "        \n",
        "        bot_sub_in = embed_out\n",
        "        \n",
        "        for i in range(self.num_layers):\n",
        "            # Нижний блок внимания\n",
        "            seq_len = bot_sub_in.shape[1]\n",
        "            look_left_only_mask = tf.linalg.band_part(tf.ones((seq_len, seq_len)), -1, 0)\n",
        "            bot_sub_out = self.attention_bot[i](bot_sub_in, bot_sub_in, look_left_only_mask)\n",
        "            bot_sub_out = bot_sub_in + bot_sub_out\n",
        "            bot_sub_out = self.attention_bot_norm[i](bot_sub_out)\n",
        "            \n",
        "            # Верхний блок внимания\n",
        "            mid_sub_in = bot_sub_out\n",
        "\n",
        "            mid_sub_out = self.attention_mid[i](mid_sub_in, encoder_output, padding_mask)\n",
        "            mid_sub_out = mid_sub_out + mid_sub_in\n",
        "            mid_sub_out = self.attention_mid_norm[i](mid_sub_out)\n",
        "\n",
        "            # Полносвязный слой\n",
        "            ffn_in = mid_sub_out\n",
        "\n",
        "            ffn_out = self.dense_2[i](self.dense_1[i](ffn_in))\n",
        "            ffn_out = ffn_out + ffn_in\n",
        "            ffn_out = self.ffn_norm[i](ffn_out)\n",
        "\n",
        "            bot_sub_in = ffn_out\n",
        "        \n",
        "        logits = self.dense(ffn_out)\n",
        "            \n",
        "        return logits"
      ],
      "execution_count": null,
      "outputs": []
    },
    {
      "cell_type": "markdown",
      "metadata": {
        "id": "cYCRb2qjCuac"
      },
      "source": [
        "### MultiHeadAttention"
      ]
    },
    {
      "cell_type": "code",
      "metadata": {
        "id": "YGa18J2-mATv"
      },
      "source": [
        "class MultiHeadAttention(tf.keras.Model):\n",
        "    def __init__(self, hidden_dim, h):\n",
        "        super(MultiHeadAttention, self).__init__()\n",
        "        self.key_size = hidden_dim // h\n",
        "        self.h = h\n",
        "        self.wq = tf.keras.layers.Dense(hidden_dim) #замена [tf.keras.layers.Dense(key_size) for _ in range(h)]\n",
        "        self.wk = tf.keras.layers.Dense(hidden_dim) #замена [tf.keras.layers.Dense(key_size) for _ in range(h)]\n",
        "        self.wv = tf.keras.layers.Dense(hidden_dim) #замена [tf.keras.layers.Dense(value_size) for _ in range(h)]\n",
        "        self.wo = tf.keras.layers.Dense(hidden_dim)\n",
        "    \n",
        "    def call(self, decoder_output, encoder_output, mask=None):\n",
        "        \n",
        "        \n",
        "        query = self.wq(decoder_output)\n",
        "        key = self.wk(encoder_output)\n",
        "        value = self.wv(encoder_output)\n",
        "        \n",
        "        # Разделяем для multihead attention\n",
        "        batch_size = query.shape[0]\n",
        "        query = tf.reshape(query, [batch_size, -1, self.h, self.key_size])\n",
        "        query = tf.transpose(query, [0, 2, 1, 3])\n",
        "        key = tf.reshape(key, [batch_size, -1, self.h, self.key_size])\n",
        "        key = tf.transpose(key, [0, 2, 1, 3])\n",
        "        value = tf.reshape(value, [batch_size, -1, self.h, self.key_size])\n",
        "        value = tf.transpose(value, [0, 2, 1, 3])\n",
        "        \n",
        "        score = tf.matmul(query, key, transpose_b=True) / tf.math.sqrt(tf.dtypes.cast(self.key_size, dtype=tf.float32))\n",
        "        \n",
        "        if mask is not None:\n",
        "            score *= mask\n",
        "            score = tf.where(tf.equal(score, 0), tf.ones_like(score) * -1e9, score)\n",
        "        \n",
        "        a = tf.nn.softmax(score, axis=-1)\n",
        "        context = tf.matmul(a, value)\n",
        "        context = tf.transpose(context, [0, 2, 1, 3])\n",
        "        context = tf.reshape(context, [batch_size, -1, self.key_size * self.h])\n",
        "        \n",
        "        heads = self.wo(context)\n",
        "        return heads"
      ],
      "execution_count": null,
      "outputs": []
    },
    {
      "cell_type": "code",
      "metadata": {
        "id": "98hKI4JSwBoE"
      },
      "source": [
        "crossentropy = tf.keras.losses.SparseCategoricalCrossentropy(\n",
        "    from_logits=True)\n",
        "def loss_func(targets, logits):\n",
        "    mask = tf.math.logical_not(tf.math.equal(targets, 0))\n",
        "    mask = tf.cast(mask, dtype=tf.int64)\n",
        "    loss = crossentropy(targets, logits, sample_weight=mask)\n",
        "\n",
        "    return loss\n",
        "\n",
        "\n",
        "optimizer = tf.keras.optimizers.Adam()"
      ],
      "execution_count": null,
      "outputs": []
    },
    {
      "cell_type": "markdown",
      "metadata": {
        "id": "YNNMhQ35Cy1D"
      },
      "source": [
        "## Train"
      ]
    },
    {
      "cell_type": "markdown",
      "metadata": {
        "id": "4eCw6v1CG4OQ"
      },
      "source": [
        "### Small Test"
      ]
    },
    {
      "cell_type": "code",
      "metadata": {
        "id": "Qrt7DX-Mvxui",
        "colab": {
          "base_uri": "https://localhost:8080/"
        },
        "outputId": "61bb9568-e78a-40eb-a4e0-0b4c7b98a3e2"
      },
      "source": [
        "#input_vocab_size = vocab_size         # len(input_tokenizer.word_index) + 1\n",
        "encoder = Encoder(input_vocab_size, HIDDEN_DIM, NUM_LAYERS, H)\n",
        "\n",
        "input_sequence_in = tf.constant([[1, 2, 3, 4, 6, 7, 8, 0, 0, 0], \n",
        "                           [1, 2, 3, 4, 6, 7, 8, 0, 0, 0]])\n",
        "encoder_output = encoder(input_sequence_in)\n",
        "\n",
        "print('Input vocabulary size', input_vocab_size)\n",
        "print('Encoder input shape', input_sequence_in.shape)\n",
        "print('Encoder output shape', encoder_output.shape)\n",
        "\n",
        "#target_vocab_size = vocab_size        # len(target_tokenizer.word_index) + 1\n",
        "# max_len_target = max_words_lens_t_02  # data_fr_in.shape[1]\n",
        "decoder = Decoder(target_vocab_size, HIDDEN_DIM, NUM_LAYERS, H)\n",
        "\n",
        "#target_sequence_in = tf.constant([[1, 2, 3, 4, 5, 6, 7, 0, 0, 0, 0, 0, 0, 0],\n",
        "#                           [1, 2, 3, 4, 5, 6, 7, 0, 0, 0, 0, 0, 0, 0]])\n",
        "target_sequence_in = tf.constant([list(range(1, max_len_target+1,1)),\n",
        "                           list(range(max_len_target))])\n",
        "decoder_output = decoder(target_sequence_in, encoder_output)\n",
        "\n",
        "print('Target vocabulary size', target_vocab_size)\n",
        "print('Decoder input shape', target_sequence_in.shape)\n",
        "print('Decoder output shape', decoder_output.shape)"
      ],
      "execution_count": null,
      "outputs": [
        {
          "output_type": "stream",
          "name": "stdout",
          "text": [
            "Input vocabulary size 10473\n",
            "Encoder input shape (2, 10)\n",
            "Encoder output shape (2, 10, 256)\n",
            "Target vocabulary size 10473\n",
            "Decoder input shape (2, 13)\n",
            "Decoder output shape (2, 13, 10473)\n"
          ]
        }
      ]
    },
    {
      "cell_type": "markdown",
      "metadata": {
        "id": "9cAuafmQC0N0"
      },
      "source": [
        "### Train Functional"
      ]
    },
    {
      "cell_type": "code",
      "metadata": {
        "id": "AtCud97BoghI"
      },
      "source": [
        "@tf.function\n",
        "def train_step(source_seq, target_seq_in, target_seq_out):\n",
        "    with tf.GradientTape() as tape:\n",
        "        padding_mask = 1 - tf.cast(tf.equal(source_seq, 0), dtype=tf.float32)\n",
        "        padding_mask = tf.expand_dims(padding_mask, axis=1)\n",
        "        padding_mask = tf.expand_dims(padding_mask, axis=1)\n",
        "        encoder_output = encoder(source_seq, padding_mask)\n",
        "        \n",
        "        decoder_output = decoder(target_seq_in, encoder_output, padding_mask)\n",
        "\n",
        "        loss = loss_func(target_seq_out, decoder_output)\n",
        "\n",
        "    variables = encoder.trainable_variables + decoder.trainable_variables\n",
        "    gradients = tape.gradient(loss, variables)\n",
        "    optimizer.apply_gradients(zip(gradients, variables))\n",
        "\n",
        "    return loss"
      ],
      "execution_count": null,
      "outputs": []
    },
    {
      "cell_type": "code",
      "metadata": {
        "id": "7oVlfpLawua0"
      },
      "source": [
        "def predict(test_source_text=None):\n",
        "    if test_source_text is None:\n",
        "        test_source_text = inputs_01_[np.random.choice(len(inputs_01_))]\n",
        "    print(test_source_text)\n",
        "    test_source_text = normalize_string(test_source_text)\n",
        "    test_source_seq = input_tokenizer.texts_to_sequences([test_source_text])\n",
        "    print(test_source_seq)\n",
        "\n",
        "    en_output = encoder(tf.constant(test_source_seq))\n",
        "\n",
        "    de_input = tf.constant([[target_tokenizer.word_index['<start>']]], dtype=tf.int64)\n",
        "\n",
        "    out_words = []\n",
        "\n",
        "    while True:\n",
        "        de_output = decoder(de_input, en_output)\n",
        "        new_word = tf.expand_dims(tf.argmax(de_output, -1)[:, -1], axis=1)\n",
        "        out_words.append(target_tokenizer.index_word[new_word.numpy()[0][0]])\n",
        "\n",
        "        de_input = tf.concat((de_input, new_word), axis=-1)\n",
        "\n",
        "        if out_words[-1] == '<end>' or len(out_words) >= 14:\n",
        "            break\n",
        "\n",
        "    print(' '.join(out_words))"
      ],
      "execution_count": null,
      "outputs": []
    },
    {
      "cell_type": "markdown",
      "metadata": {
        "id": "9y7ui3fXC4H-"
      },
      "source": [
        "### Train"
      ]
    },
    {
      "cell_type": "code",
      "metadata": {
        "id": "zcucfarlmG4n",
        "colab": {
          "base_uri": "https://localhost:8080/"
        },
        "outputId": "e05ae3b6-9101-4cd4-8ccb-d17431bbd007"
      },
      "source": [
        "import time\n",
        "encoder = Encoder(input_vocab_size, HIDDEN_DIM, NUM_LAYERS, H)\n",
        "decoder = Decoder(target_vocab_size, HIDDEN_DIM, NUM_LAYERS, H)\n",
        "\n",
        "NUM_EPOCHS = 100\n",
        "\n",
        "start_time = time.time()\n",
        "for e in range(NUM_EPOCHS):\n",
        "    for batch, (source_seq, target_seq_in, target_seq_out) in enumerate(dataset.take(-1)):\n",
        "        loss = train_step(source_seq, target_seq_in,\n",
        "                          target_seq_out)\n",
        "\n",
        "    print('Epoch {} Loss {:.4f}'.format(\n",
        "          e + 1, loss.numpy()))\n",
        "\n",
        "    if (e +1) % 10 == 0:\n",
        "        end_time = time.time()\n",
        "        print('Среднее время: {:.2f}s'.format((end_time - start_time) / (e + 1)))\n",
        "        try:\n",
        "            predict()\n",
        "        except Exception as e:\n",
        "            print(e)\n",
        "            continue"
      ],
      "execution_count": null,
      "outputs": [
        {
          "output_type": "stream",
          "name": "stdout",
          "text": [
            "Epoch 1 Loss 1.8218\n",
            "Epoch 2 Loss 1.8528\n",
            "Epoch 3 Loss 1.2129\n",
            "Epoch 4 Loss 1.1436\n",
            "Epoch 5 Loss 0.9698\n",
            "Epoch 6 Loss 0.8084\n",
            "Epoch 7 Loss 0.8534\n",
            "Epoch 8 Loss 0.4627\n",
            "Epoch 9 Loss 0.5803\n",
            "Epoch 10 Loss 0.3995\n",
            "Среднее время: 5.95s\n",
            "не фонтан\n",
            "[[4, 1]]\n",
            "да <end>\n",
            "Epoch 11 Loss 0.4098\n",
            "Epoch 12 Loss 0.2685\n",
            "Epoch 13 Loss 0.4463\n",
            "Epoch 14 Loss 0.5233\n",
            "Epoch 15 Loss 0.3102\n",
            "Epoch 16 Loss 0.2369\n",
            "Epoch 17 Loss 0.2819\n",
            "Epoch 18 Loss 0.3981\n",
            "Epoch 19 Loss 0.2768\n",
            "Epoch 20 Loss 0.3107\n",
            "Среднее время: 5.70s\n",
            "пришли песню\n",
            "[[499, 3272]]\n",
            "это я тоже <end>\n",
            "Epoch 21 Loss 0.1963\n",
            "Epoch 22 Loss 0.2533\n",
            "Epoch 23 Loss 0.2326\n",
            "Epoch 24 Loss 0.2521\n",
            "Epoch 25 Loss 0.2440\n",
            "Epoch 26 Loss 0.1944\n",
            "Epoch 27 Loss 0.1382\n",
            "Epoch 28 Loss 0.1828\n",
            "Epoch 29 Loss 0.2234\n",
            "Epoch 30 Loss 0.1341\n",
            "Среднее время: 5.64s\n",
            "жду ответ\n",
            "[[870, 693]]\n",
            "понятия не имею <end>\n",
            "Epoch 31 Loss 0.1702\n",
            "Epoch 32 Loss 0.1092\n",
            "Epoch 33 Loss 0.0932\n",
            "Epoch 34 Loss 0.1827\n",
            "Epoch 35 Loss 0.0954\n",
            "Epoch 36 Loss 0.1365\n",
            "Epoch 37 Loss 0.0919\n",
            "Epoch 38 Loss 0.2101\n",
            "Epoch 39 Loss 0.1389\n",
            "Epoch 40 Loss 0.1172\n",
            "Среднее время: 5.65s\n",
            "и это еще не все\n",
            "[[15, 12, 37, 4, 22]]\n",
            "да <end>\n",
            "Epoch 41 Loss 0.1678\n",
            "Epoch 42 Loss 0.0941\n",
            "Epoch 43 Loss 0.1358\n",
            "Epoch 44 Loss 0.1384\n",
            "Epoch 45 Loss 0.1256\n",
            "Epoch 46 Loss 0.1599\n",
            "Epoch 47 Loss 0.0844\n",
            "Epoch 48 Loss 0.0876\n",
            "Epoch 49 Loss 0.2160\n",
            "Epoch 50 Loss 0.1405\n",
            "Среднее время: 5.65s\n",
            "куда поити учится\n",
            "[[40, 755, 8145]]\n",
            "у нас все замечательно <end>\n",
            "Epoch 51 Loss 0.1479\n",
            "Epoch 52 Loss 0.0856\n",
            "Epoch 53 Loss 0.1107\n",
            "Epoch 54 Loss 0.1491\n",
            "Epoch 55 Loss 0.0654\n",
            "Epoch 56 Loss 0.1016\n",
            "Epoch 57 Loss 0.0870\n",
            "Epoch 58 Loss 0.0972\n",
            "Epoch 59 Loss 0.0858\n",
            "Epoch 60 Loss 0.1004\n",
            "Среднее время: 5.69s\n",
            "что посмотреть\n",
            "[[5, 430]]\n",
            "конечно <end>\n",
            "Epoch 61 Loss 0.0706\n",
            "Epoch 62 Loss 0.0478\n",
            "Epoch 63 Loss 0.1111\n",
            "Epoch 64 Loss 0.0971\n",
            "Epoch 65 Loss 0.1113\n",
            "Epoch 66 Loss 0.0990\n",
            "Epoch 67 Loss 0.1336\n",
            "Epoch 68 Loss 0.0376\n",
            "Epoch 69 Loss 0.0635\n",
            "Epoch 70 Loss 0.1316\n",
            "Среднее время: 5.69s\n",
            "заказ\n",
            "[[2064]]\n",
            "да <end>\n",
            "Epoch 71 Loss 0.0642\n",
            "Epoch 72 Loss 0.0689\n",
            "Epoch 73 Loss 0.0891\n",
            "Epoch 74 Loss 0.0862\n",
            "Epoch 75 Loss 0.1026\n",
            "Epoch 76 Loss 0.0914\n",
            "Epoch 77 Loss 0.0581\n",
            "Epoch 78 Loss 0.1148\n",
            "Epoch 79 Loss 0.1025\n",
            "Epoch 80 Loss 0.0524\n",
            "Среднее время: 5.69s\n",
            "что делаешь\n",
            "[[5, 267]]\n",
            "а что вы как ты <end>\n",
            "Epoch 81 Loss 0.1188\n",
            "Epoch 82 Loss 0.0656\n",
            "Epoch 83 Loss 0.0182\n",
            "Epoch 84 Loss 0.0430\n",
            "Epoch 85 Loss 0.1445\n",
            "Epoch 86 Loss 0.0725\n",
            "Epoch 87 Loss 0.0412\n",
            "Epoch 88 Loss 0.0714\n",
            "Epoch 89 Loss 0.0610\n",
            "Epoch 90 Loss 0.1078\n",
            "Среднее время: 5.70s\n",
            "есть интересные предложения\n",
            "[[31, 1, 1]]\n",
            "а чего надоть <end>\n",
            "Epoch 91 Loss 0.0943\n",
            "Epoch 92 Loss 0.0877\n",
            "Epoch 93 Loss 0.0853\n",
            "Epoch 94 Loss 0.0783\n",
            "Epoch 95 Loss 0.0707\n",
            "Epoch 96 Loss 0.0727\n",
            "Epoch 97 Loss 0.0535\n",
            "Epoch 98 Loss 0.0894\n",
            "Epoch 99 Loss 0.0411\n",
            "Epoch 100 Loss 0.0938\n",
            "Среднее время: 5.67s\n",
            "ты - человек\n",
            "[[10, 1, 243]]\n",
            "я священник <end>\n"
          ]
        }
      ]
    },
    {
      "cell_type": "markdown",
      "metadata": {
        "id": "m-80fkzEGGsF"
      },
      "source": [
        "## Predict"
      ]
    },
    {
      "cell_type": "markdown",
      "metadata": {
        "id": "lPrv69oFHhvJ"
      },
      "source": [
        "### Predict - functional"
      ]
    },
    {
      "cell_type": "code",
      "metadata": {
        "colab": {
          "base_uri": "https://localhost:8080/",
          "height": 35
        },
        "id": "qllwPsJ7HhvR",
        "outputId": "ba826ef4-f2e0-42c8-de39-739792aa6528"
      },
      "source": [
        "import unicodedata\n",
        "def unicode_to_ascii(s):\n",
        "    return ''.join(\n",
        "        c for c in unicodedata.normalize('NFD', s)\n",
        "        if unicodedata.category(c) != 'Mn')\n",
        "\n",
        "\n",
        "def normalize_string(s):\n",
        "    s = unicode_to_ascii(s)\n",
        "    s = s.replace(u'\\xa0',\"\").lower()\n",
        "    #s = re.sub(r'([!.?])', r' \\1', s)       # добавляем пробелы перед !.? - чтобы были отдельными токенами\n",
        "    #s = re.sub(r'[^а-яА-Я!.?]+', r' ', s)   # оcтавляем только буквы и !.?\n",
        "    #s = re.sub(r'[^а-яА-Я]+', r' ', s)   # оcтавляем только буквы\n",
        "    s = re.sub(r'[^A-яA-z0-9-<>]+', r' ', s)   # оcтавляем только буквы и цифры\n",
        "    # исключим !.? - они будут лишними -  при них в seq2seq получаются - предварительно - плохие результаты\n",
        "    s = re.sub(r'\\s+', r' ', s).strip()             # убираем лишние пробелы - без strip() остаются \"окаёмочки\"\n",
        "    \n",
        "    return s\n",
        "s = \"m  ага!i1.2    ?3    агаff  яяsdasda    \"\n",
        "normalize_string(s)"
      ],
      "execution_count": null,
      "outputs": [
        {
          "output_type": "execute_result",
          "data": {
            "application/vnd.google.colaboratory.intrinsic+json": {
              "type": "string"
            },
            "text/plain": [
              "'m ага i1 2 3 агаff яяsdasda'"
            ]
          },
          "metadata": {},
          "execution_count": 38
        }
      ]
    },
    {
      "cell_type": "code",
      "metadata": {
        "id": "swvSSrGeKGqX"
      },
      "source": [
        "def predict2(test_source_text=None, print_ = False):\n",
        "    if test_source_text is None:\n",
        "        test_source_text = inputs_01_[np.random.choice(len(inputs_01_))]\n",
        "    print(test_source_text) if print_  else False\n",
        "    test_source_text = normalize_string(test_source_text)\n",
        "    test_source_seq = input_tokenizer.texts_to_sequences([test_source_text])\n",
        "    print(test_source_seq) if print_ else False\n",
        "\n",
        "    en_output = encoder(tf.constant(test_source_seq))\n",
        "\n",
        "    de_input = tf.constant([[target_tokenizer.word_index['<start>']]], dtype=tf.int64)\n",
        "\n",
        "    out_words = []\n",
        "\n",
        "    while True:\n",
        "        de_output = decoder(de_input, en_output)\n",
        "        new_word = tf.expand_dims(tf.argmax(de_output, -1)[:, -1], axis=1)\n",
        "        out_words.append(target_tokenizer.index_word[new_word.numpy()[0][0]])\n",
        "\n",
        "        de_input = tf.concat((de_input, new_word), axis=-1)\n",
        "\n",
        "        if out_words[-1] == '<end>' or len(out_words) >= 14:\n",
        "            break\n",
        "\n",
        "    print(' '.join(out_words)) if print_ else False\n",
        "    return ' '.join(out_words)"
      ],
      "execution_count": null,
      "outputs": []
    },
    {
      "cell_type": "code",
      "metadata": {
        "id": "YKX7LJhFHhvS"
      },
      "source": [
        "# my\n",
        "class ChatBot:\n",
        "  negative_responses = (\"нет\", \"не очень\", \"no\", \"nope\", \"nah\", \"naw\", \"not a chance\", \"sorry\")\n",
        "  exit_commands = (\"стоп\", \"хватит\", \"пока\", \"quit\", \"pause\", \"exit\", \"goodbye\", \"bye\", \"later\", \"stop\")\n",
        "\n",
        "  def __init__(self, encoder, decoder, tokenizer, max_q_len, max_a_len):\n",
        "    #super(ChatBot, self).__init__()\n",
        "    self.encoder, self.decoder, self.tokenizer, self.max_q_len, self.max_a_len = \\\n",
        "    encoder, decoder, tokenizer, max_q_len, max_a_len\n",
        "\n",
        "#Method to start the conversation\n",
        "  def start_chat(self, tokenizer=tokenizer_01):\n",
        "    self.tokenizer = tokenizer\n",
        "    #user_response = input(\"Hi, I'm a chatbot trained on random dialogs. Would you like to chat with me?\\n\")\n",
        "    #user_response = input(f\"Привет, Я chatbot, натренированный на диалогах '{dialogs_base_01}'.\" + \" Хотели бы початиться со мной}?\\n\")\n",
        "    user_response = input(\"Привет, Я chatbot, натренированный на случайных диалогах. Хотели бы початиться со мной}?\\n?: \")\n",
        "    \n",
        "    if user_response in self.negative_responses:\n",
        "      #print(\"Ok, have a great day!\")\n",
        "      print(\"Ok, хорошего дня!\")\n",
        "      return\n",
        "    self.chat(user_response)\n",
        "#Method to handle the conversation\n",
        "  def chat(self, reply):\n",
        "    while not self.make_exit(reply):\n",
        "      reply = input(\"->: \" + self.generate_response(reply)+\"\\n?: \")\n",
        "    \n",
        "  #Method to convert user input into a seq\n",
        "  def txt2seq(self, text, max_len):\n",
        "    text = '<start> ' + normalize_string(text)\n",
        "    seq_pad = tf.keras.preprocessing.sequence.pad_sequences(\n",
        "        self.tokenizer.texts_to_sequences([sent]), padding='post', \n",
        "        maxlen= max_len, truncating='post'\n",
        "        )\n",
        "    return seq_pad\n",
        "\n",
        "  def seq2txt(self, seq):\n",
        "    text = self.tokenizer.sequences_to_texts(seq)\n",
        "    return text\n",
        "  \n",
        "  #Method that will create a response using seq2seq model we built\n",
        "  def generate_response(self, user_input):\n",
        "    #input_seq = self.txt2seq(user_input,self.max_q_len)\n",
        "    #chatbot_response = decode_response(input_seq)\n",
        "    # не в классе\n",
        "    user_input = '<start> ' + normalize_string(user_input)\n",
        "    #chatbot_response = decode_sequence(self.encoder, self.decoder, self.tokenizer, self.max_q_len, self.max_a_len, input_seq)\n",
        "    chatbot_response = predict2(user_input)\n",
        "    chatbot_response = chatbot_response.replace(\"<start>\",'')\n",
        "    chatbot_response = chatbot_response.replace(\"<end>\",'')\n",
        "    return chatbot_response\n",
        "#Method to check for exit commands\n",
        "  def make_exit(self, reply):\n",
        "    for exit_command in self.exit_commands:\n",
        "      if exit_command in reply:\n",
        "        #print(\"Ok, have a great day!\")\n",
        "        print(\"Ok, хорошего дня!\")\n",
        "        return True\n",
        "    return False\n"
      ],
      "execution_count": null,
      "outputs": []
    },
    {
      "cell_type": "markdown",
      "metadata": {
        "id": "QnA7ohnWJwRT"
      },
      "source": [
        "### Predict"
      ]
    },
    {
      "cell_type": "code",
      "metadata": {
        "colab": {
          "base_uri": "https://localhost:8080/"
        },
        "id": "LWxS1cNSGJxM",
        "outputId": "8b4821c3-4b84-46cb-d2c8-a695e6cc7d15"
      },
      "source": [
        "test_sents = (\n",
        "\"Как дела\",\n",
        "\"Что нового\", \n",
        "\"О чем думаешь\",\n",
        "\"Как погода\",\n",
        "\"Кто ты\",\n",
        ")\n",
        "\n",
        "for test_sent in test_sents:\n",
        "    test_sequence = normalize_string(test_sent)\n",
        "    predict2(test_sequence, print_= True)"
      ],
      "execution_count": null,
      "outputs": [
        {
          "output_type": "stream",
          "name": "stdout",
          "text": [
            "как дела\n",
            "[[13, 182]]\n",
            "до банкротства еще далеко <end>\n",
            "что нового\n",
            "[[5, 788]]\n",
            "у меня все по старому <end>\n",
            "о чем думаешь\n",
            "[[34, 54, 158]]\n",
            "не знаю наверное ревную к нему <end>\n",
            "как погода\n",
            "[[13, 1]]\n",
            "да <end>\n",
            "кто ты\n",
            "[[26, 10]]\n",
            "продармеец <end>\n"
          ]
        }
      ]
    },
    {
      "cell_type": "code",
      "metadata": {
        "colab": {
          "base_uri": "https://localhost:8080/"
        },
        "id": "wjw7XF8gMFUq",
        "outputId": "0d64bae0-3f74-43c7-fad2-4e46fc114248"
      },
      "source": [
        "chatbot = ChatBot(encoder, decoder, tokenizer_02, max_words_lens_i_02, max_words_lens_t_02)\n",
        "chatbot.start_chat()"
      ],
      "execution_count": null,
      "outputs": [
        {
          "output_type": "stream",
          "name": "stdout",
          "text": [
            "Привет, Я chatbot, натренированный на случайных диалогах. Хотели бы початиться со мной}?\n",
            "?: Как дела\n",
            "->: нор маль но \n",
            "?: а почто такой\n",
            "->: а нет я все из тебя \n",
            "?: ясненько все с тобой\n",
            "->: а ты видел \n",
            "?: да уж извини удалось\n",
            "->: ои совсем забыл \n",
            "?: ну ты неплохо отвечаешь однако\n",
            "->: что я мужчина сорок \n",
            "?: мужчина сорок\n",
            "->: у меня есть \n",
            "?: а что у тебя есть\n",
            "->: а ты не знаешь \n",
            "?: неа\n",
            "->: да \n",
            "?: не не знаю\n",
            "->: да \n",
            "?: вот оно как\n",
            "->: хорошо \n",
            "?: лады не будем спорить\n",
            "->: да \n",
            "?: ты согласен\n",
            "->: похоже начали ловить моего мизера \n",
            "?: а, ты про карты\n",
            "->: да \n",
            "?: ил про что-то другое\n",
            "->: да \n",
            "?: про что\n",
            "->: да ничего орала больно а кто так \n",
            "?: кто орала\n",
            "->: а как тебе еще он минут \n",
            "?: не понял\n",
            "->: ага \n",
            "?: не - я не понял\n",
            "->: у меня много работы \n",
            "?: ну ок\n",
            "->: а тебе еще что \n",
            "?: стоп\n",
            "Ok, хорошего дня!\n"
          ]
        }
      ]
    }
  ]
}