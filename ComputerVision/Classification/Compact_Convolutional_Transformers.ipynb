{
  "nbformat": 4,
  "nbformat_minor": 0,
  "metadata": {
    "colab": {
      "name": "_tf_keras_Compact_Convolutional_Transformers_my",
      "provenance": [],
      "collapsed_sections": []
    },
    "kernelspec": {
      "display_name": "Python 3",
      "language": "python",
      "name": "python3"
    },
    "language_info": {
      "codemirror_mode": {
        "name": "ipython",
        "version": 3
      },
      "file_extension": ".py",
      "mimetype": "text/x-python",
      "name": "python",
      "nbconvert_exporter": "python",
      "pygments_lexer": "ipython3",
      "version": "3.7.0"
    },
    "accelerator": "GPU"
  },
  "cells": [
    {
      "cell_type": "markdown",
      "metadata": {
        "id": "4U8i9JI0cyAN"
      },
      "source": [
        "# Compact Convolutional Transformers\n",
        "By example [Keras.io](https://keras.io/examples/vision/cct/)\n",
        "\n",
        "**Author:** [Sayak Paul](https://twitter.com/RisingSayak)<br>\n",
        "**Date created:** 2021/06/30<br>\n",
        "**Last modified:** 2021/06/30<br>\n",
        "**Description:** Compact Convolutional Transformers for efficient image classification."
      ]
    },
    {
      "cell_type": "markdown",
      "metadata": {
        "id": "_NVUcSeMcyAR"
      },
      "source": [
        "As discussed in the [Vision Transformers (ViT)](https://arxiv.org/abs/2010.11929) paper,\n",
        "a Transformer-based architecture for vision typically requires a larger dataset than\n",
        "usual, as well as a longer pre-training schedule. [ImageNet-1k](http://imagenet.org/)\n",
        "(which has about a million images) is considered to fall under the medium-sized data regime with\n",
        "respect to ViTs. This is primarily because, unlike CNNs, ViTs (or a typical\n",
        "Transformer-based architecture) do not have well-informed inductive biases (such as\n",
        "convolutions for processing images). This begs the question: can't we combine the\n",
        "benefits of convolution and the benefits of Transformers\n",
        "in a single network architecture? These benefits include parameter-efficiency, and\n",
        "self-attention to process long-range and global dependencies (interactions between\n",
        "different regions in an image).\n",
        "\n",
        "In [Escaping the Big Data Paradigm with Compact Transformers](https://arxiv.org/abs/2104.05704),\n",
        "Hassani et al. present an approach for doing exactly this. They proposed the\n",
        "**Compact Convolutional Transformer** (CCT) architecture. In this example, we will work on an\n",
        "implementation of CCT and we will see how well it performs on the CIFAR-10 dataset.\n",
        "\n",
        "If you are unfamiliar with the concept of self-attention or Transformers, you can read\n",
        "[this chapter](https://livebook.manning.com/book/deep-learning-with-python-second-edition/chapter-11/r-3/312)\n",
        "from  François Chollet's book *Deep Learning with Python*. This example uses\n",
        "code snippets from another example,\n",
        "[Image classification with Vision Transformer](https://keras.io/examples/vision/image_classification_with_vision_transformer/).\n",
        "\n",
        "This example requires TensorFlow 2.5 or higher, as well as TensorFlow Addons, which can\n",
        "be installed using the following command:"
      ]
    },
    {
      "cell_type": "code",
      "metadata": {
        "id": "h2ubRoYmcyAS",
        "colab": {
          "base_uri": "https://localhost:8080/"
        },
        "outputId": "63501417-5d41-42dd-d042-687517e69738"
      },
      "source": [
        "!pip install -U -q tensorflow-addons"
      ],
      "execution_count": null,
      "outputs": [
        {
          "output_type": "stream",
          "name": "stdout",
          "text": [
            "\u001b[?25l\r\u001b[K     |▎                               | 10 kB 22.0 MB/s eta 0:00:01\r\u001b[K     |▋                               | 20 kB 26.2 MB/s eta 0:00:01\r\u001b[K     |▉                               | 30 kB 29.0 MB/s eta 0:00:01\r\u001b[K     |█▏                              | 40 kB 21.7 MB/s eta 0:00:01\r\u001b[K     |█▌                              | 51 kB 16.3 MB/s eta 0:00:01\r\u001b[K     |█▊                              | 61 kB 17.2 MB/s eta 0:00:01\r\u001b[K     |██                              | 71 kB 13.4 MB/s eta 0:00:01\r\u001b[K     |██▍                             | 81 kB 14.6 MB/s eta 0:00:01\r\u001b[K     |██▋                             | 92 kB 14.7 MB/s eta 0:00:01\r\u001b[K     |███                             | 102 kB 12.8 MB/s eta 0:00:01\r\u001b[K     |███▎                            | 112 kB 12.8 MB/s eta 0:00:01\r\u001b[K     |███▌                            | 122 kB 12.8 MB/s eta 0:00:01\r\u001b[K     |███▉                            | 133 kB 12.8 MB/s eta 0:00:01\r\u001b[K     |████▏                           | 143 kB 12.8 MB/s eta 0:00:01\r\u001b[K     |████▍                           | 153 kB 12.8 MB/s eta 0:00:01\r\u001b[K     |████▊                           | 163 kB 12.8 MB/s eta 0:00:01\r\u001b[K     |█████                           | 174 kB 12.8 MB/s eta 0:00:01\r\u001b[K     |█████▎                          | 184 kB 12.8 MB/s eta 0:00:01\r\u001b[K     |█████▋                          | 194 kB 12.8 MB/s eta 0:00:01\r\u001b[K     |██████                          | 204 kB 12.8 MB/s eta 0:00:01\r\u001b[K     |██████▏                         | 215 kB 12.8 MB/s eta 0:00:01\r\u001b[K     |██████▌                         | 225 kB 12.8 MB/s eta 0:00:01\r\u001b[K     |██████▉                         | 235 kB 12.8 MB/s eta 0:00:01\r\u001b[K     |███████                         | 245 kB 12.8 MB/s eta 0:00:01\r\u001b[K     |███████▍                        | 256 kB 12.8 MB/s eta 0:00:01\r\u001b[K     |███████▊                        | 266 kB 12.8 MB/s eta 0:00:01\r\u001b[K     |████████                        | 276 kB 12.8 MB/s eta 0:00:01\r\u001b[K     |████████▎                       | 286 kB 12.8 MB/s eta 0:00:01\r\u001b[K     |████████▋                       | 296 kB 12.8 MB/s eta 0:00:01\r\u001b[K     |████████▉                       | 307 kB 12.8 MB/s eta 0:00:01\r\u001b[K     |█████████▏                      | 317 kB 12.8 MB/s eta 0:00:01\r\u001b[K     |█████████▌                      | 327 kB 12.8 MB/s eta 0:00:01\r\u001b[K     |█████████▊                      | 337 kB 12.8 MB/s eta 0:00:01\r\u001b[K     |██████████                      | 348 kB 12.8 MB/s eta 0:00:01\r\u001b[K     |██████████▍                     | 358 kB 12.8 MB/s eta 0:00:01\r\u001b[K     |██████████▋                     | 368 kB 12.8 MB/s eta 0:00:01\r\u001b[K     |███████████                     | 378 kB 12.8 MB/s eta 0:00:01\r\u001b[K     |███████████▎                    | 389 kB 12.8 MB/s eta 0:00:01\r\u001b[K     |███████████▌                    | 399 kB 12.8 MB/s eta 0:00:01\r\u001b[K     |███████████▉                    | 409 kB 12.8 MB/s eta 0:00:01\r\u001b[K     |████████████▏                   | 419 kB 12.8 MB/s eta 0:00:01\r\u001b[K     |████████████▍                   | 430 kB 12.8 MB/s eta 0:00:01\r\u001b[K     |████████████▊                   | 440 kB 12.8 MB/s eta 0:00:01\r\u001b[K     |█████████████                   | 450 kB 12.8 MB/s eta 0:00:01\r\u001b[K     |█████████████▎                  | 460 kB 12.8 MB/s eta 0:00:01\r\u001b[K     |█████████████▋                  | 471 kB 12.8 MB/s eta 0:00:01\r\u001b[K     |██████████████                  | 481 kB 12.8 MB/s eta 0:00:01\r\u001b[K     |██████████████▏                 | 491 kB 12.8 MB/s eta 0:00:01\r\u001b[K     |██████████████▌                 | 501 kB 12.8 MB/s eta 0:00:01\r\u001b[K     |██████████████▉                 | 512 kB 12.8 MB/s eta 0:00:01\r\u001b[K     |███████████████                 | 522 kB 12.8 MB/s eta 0:00:01\r\u001b[K     |███████████████▍                | 532 kB 12.8 MB/s eta 0:00:01\r\u001b[K     |███████████████▊                | 542 kB 12.8 MB/s eta 0:00:01\r\u001b[K     |████████████████                | 552 kB 12.8 MB/s eta 0:00:01\r\u001b[K     |████████████████▎               | 563 kB 12.8 MB/s eta 0:00:01\r\u001b[K     |████████████████▋               | 573 kB 12.8 MB/s eta 0:00:01\r\u001b[K     |████████████████▉               | 583 kB 12.8 MB/s eta 0:00:01\r\u001b[K     |█████████████████▏              | 593 kB 12.8 MB/s eta 0:00:01\r\u001b[K     |█████████████████▌              | 604 kB 12.8 MB/s eta 0:00:01\r\u001b[K     |█████████████████▊              | 614 kB 12.8 MB/s eta 0:00:01\r\u001b[K     |██████████████████              | 624 kB 12.8 MB/s eta 0:00:01\r\u001b[K     |██████████████████▍             | 634 kB 12.8 MB/s eta 0:00:01\r\u001b[K     |██████████████████▋             | 645 kB 12.8 MB/s eta 0:00:01\r\u001b[K     |███████████████████             | 655 kB 12.8 MB/s eta 0:00:01\r\u001b[K     |███████████████████▎            | 665 kB 12.8 MB/s eta 0:00:01\r\u001b[K     |███████████████████▌            | 675 kB 12.8 MB/s eta 0:00:01\r\u001b[K     |███████████████████▉            | 686 kB 12.8 MB/s eta 0:00:01\r\u001b[K     |████████████████████▏           | 696 kB 12.8 MB/s eta 0:00:01\r\u001b[K     |████████████████████▍           | 706 kB 12.8 MB/s eta 0:00:01\r\u001b[K     |████████████████████▊           | 716 kB 12.8 MB/s eta 0:00:01\r\u001b[K     |█████████████████████           | 727 kB 12.8 MB/s eta 0:00:01\r\u001b[K     |█████████████████████▎          | 737 kB 12.8 MB/s eta 0:00:01\r\u001b[K     |█████████████████████▋          | 747 kB 12.8 MB/s eta 0:00:01\r\u001b[K     |██████████████████████          | 757 kB 12.8 MB/s eta 0:00:01\r\u001b[K     |██████████████████████▏         | 768 kB 12.8 MB/s eta 0:00:01\r\u001b[K     |██████████████████████▌         | 778 kB 12.8 MB/s eta 0:00:01\r\u001b[K     |██████████████████████▉         | 788 kB 12.8 MB/s eta 0:00:01\r\u001b[K     |███████████████████████         | 798 kB 12.8 MB/s eta 0:00:01\r\u001b[K     |███████████████████████▍        | 808 kB 12.8 MB/s eta 0:00:01\r\u001b[K     |███████████████████████▊        | 819 kB 12.8 MB/s eta 0:00:01\r\u001b[K     |████████████████████████        | 829 kB 12.8 MB/s eta 0:00:01\r\u001b[K     |████████████████████████▎       | 839 kB 12.8 MB/s eta 0:00:01\r\u001b[K     |████████████████████████▋       | 849 kB 12.8 MB/s eta 0:00:01\r\u001b[K     |████████████████████████▉       | 860 kB 12.8 MB/s eta 0:00:01\r\u001b[K     |█████████████████████████▏      | 870 kB 12.8 MB/s eta 0:00:01\r\u001b[K     |█████████████████████████▍      | 880 kB 12.8 MB/s eta 0:00:01\r\u001b[K     |█████████████████████████▊      | 890 kB 12.8 MB/s eta 0:00:01\r\u001b[K     |██████████████████████████      | 901 kB 12.8 MB/s eta 0:00:01\r\u001b[K     |██████████████████████████▎     | 911 kB 12.8 MB/s eta 0:00:01\r\u001b[K     |██████████████████████████▋     | 921 kB 12.8 MB/s eta 0:00:01\r\u001b[K     |███████████████████████████     | 931 kB 12.8 MB/s eta 0:00:01\r\u001b[K     |███████████████████████████▏    | 942 kB 12.8 MB/s eta 0:00:01\r\u001b[K     |███████████████████████████▌    | 952 kB 12.8 MB/s eta 0:00:01\r\u001b[K     |███████████████████████████▉    | 962 kB 12.8 MB/s eta 0:00:01\r\u001b[K     |████████████████████████████    | 972 kB 12.8 MB/s eta 0:00:01\r\u001b[K     |████████████████████████████▍   | 983 kB 12.8 MB/s eta 0:00:01\r\u001b[K     |████████████████████████████▊   | 993 kB 12.8 MB/s eta 0:00:01\r\u001b[K     |█████████████████████████████   | 1.0 MB 12.8 MB/s eta 0:00:01\r\u001b[K     |█████████████████████████████▎  | 1.0 MB 12.8 MB/s eta 0:00:01\r\u001b[K     |█████████████████████████████▋  | 1.0 MB 12.8 MB/s eta 0:00:01\r\u001b[K     |█████████████████████████████▉  | 1.0 MB 12.8 MB/s eta 0:00:01\r\u001b[K     |██████████████████████████████▏ | 1.0 MB 12.8 MB/s eta 0:00:01\r\u001b[K     |██████████████████████████████▌ | 1.1 MB 12.8 MB/s eta 0:00:01\r\u001b[K     |██████████████████████████████▊ | 1.1 MB 12.8 MB/s eta 0:00:01\r\u001b[K     |███████████████████████████████ | 1.1 MB 12.8 MB/s eta 0:00:01\r\u001b[K     |███████████████████████████████▍| 1.1 MB 12.8 MB/s eta 0:00:01\r\u001b[K     |███████████████████████████████▋| 1.1 MB 12.8 MB/s eta 0:00:01\r\u001b[K     |████████████████████████████████| 1.1 MB 12.8 MB/s eta 0:00:01\r\u001b[K     |████████████████████████████████| 1.1 MB 12.8 MB/s \n",
            "\u001b[?25h"
          ]
        }
      ]
    },
    {
      "cell_type": "markdown",
      "metadata": {
        "id": "iJL-I1GscyAT"
      },
      "source": [
        "## Imports"
      ]
    },
    {
      "cell_type": "code",
      "metadata": {
        "id": "RTIW7EYucyAU"
      },
      "source": [
        "from tensorflow.keras import layers\n",
        "from tensorflow import keras\n",
        "\n",
        "import matplotlib.pyplot as plt\n",
        "import tensorflow_addons as tfa\n",
        "import tensorflow as tf\n",
        "import numpy as np"
      ],
      "execution_count": null,
      "outputs": []
    },
    {
      "cell_type": "markdown",
      "metadata": {
        "id": "nqwCB7qAcyAU"
      },
      "source": [
        "## Hyperparameters and constants"
      ]
    },
    {
      "cell_type": "code",
      "metadata": {
        "id": "Unt2PWUacyAV"
      },
      "source": [
        "positional_emb = True\n",
        "conv_layers = 2\n",
        "projection_dim = 128\n",
        "\n",
        "num_heads = 2\n",
        "transformer_units = [\n",
        "    projection_dim,\n",
        "    projection_dim,\n",
        "]\n",
        "transformer_layers = 2\n",
        "stochastic_depth_rate = 0.1\n",
        "\n",
        "learning_rate = 0.001\n",
        "weight_decay = 0.0001\n",
        "batch_size = 128\n",
        "num_epochs = 30\n",
        "image_size = 32"
      ],
      "execution_count": null,
      "outputs": []
    },
    {
      "cell_type": "markdown",
      "metadata": {
        "id": "9ApxtW-IcyAV"
      },
      "source": [
        "## Load CIFAR-10 dataset"
      ]
    },
    {
      "cell_type": "code",
      "metadata": {
        "id": "Y_VETmJ5cyAV",
        "colab": {
          "base_uri": "https://localhost:8080/"
        },
        "outputId": "2f6c4957-7da2-4131-dbf8-98ba83c9b6b6"
      },
      "source": [
        "num_classes = 10\n",
        "input_shape = (32, 32, 3)\n",
        "\n",
        "(x_train, y_train), (x_test, y_test) = keras.datasets.cifar10.load_data()\n",
        "\n",
        "y_train = keras.utils.to_categorical(y_train, num_classes)\n",
        "y_test = keras.utils.to_categorical(y_test, num_classes)\n",
        "\n",
        "print(f\"x_train shape: {x_train.shape} - y_train shape: {y_train.shape}\")\n",
        "print(f\"x_test shape: {x_test.shape} - y_test shape: {y_test.shape}\")"
      ],
      "execution_count": null,
      "outputs": [
        {
          "output_type": "stream",
          "name": "stdout",
          "text": [
            "Downloading data from https://www.cs.toronto.edu/~kriz/cifar-10-python.tar.gz\n",
            "170500096/170498071 [==============================] - 6s 0us/step\n",
            "170508288/170498071 [==============================] - 6s 0us/step\n",
            "x_train shape: (50000, 32, 32, 3) - y_train shape: (50000, 10)\n",
            "x_test shape: (10000, 32, 32, 3) - y_test shape: (10000, 10)\n"
          ]
        }
      ]
    },
    {
      "cell_type": "markdown",
      "metadata": {
        "id": "oQQ99e-icyAW"
      },
      "source": [
        "## The CCT tokenizer\n",
        "\n",
        "The first recipe introduced by the CCT authors is the tokenizer for processing the\n",
        "images. In a standard ViT, images are organized into uniform *non-overlapping* patches.\n",
        "This eliminates the boundary-level information present in between different patches. This\n",
        "is important for a neural network to effectively exploit the locality information. The\n",
        "figure below presents an illustration of how images are organized into patches.\n",
        "\n",
        "![](https://i.imgur.com/IkBK9oY.png)\n",
        "\n",
        "We already know that convolutions are quite good at exploiting locality information. So,\n",
        "based on this, the authors introduce an all-convolution mini-network to produce image\n",
        "patches."
      ]
    },
    {
      "cell_type": "code",
      "metadata": {
        "id": "IuXPEdoMcyAX"
      },
      "source": [
        "\n",
        "class CCTTokenizer(layers.Layer):\n",
        "    def __init__(\n",
        "        self,\n",
        "        kernel_size=3,\n",
        "        stride=1,\n",
        "        padding=1,\n",
        "        pooling_kernel_size=3,\n",
        "        pooling_stride=2,\n",
        "        num_conv_layers=conv_layers,\n",
        "        num_output_channels=[64, 128],\n",
        "        positional_emb=positional_emb,\n",
        "        **kwargs,\n",
        "    ):\n",
        "        super(CCTTokenizer, self).__init__(**kwargs)\n",
        "\n",
        "        # This is our tokenizer.\n",
        "        self.conv_model = keras.Sequential()\n",
        "        for i in range(num_conv_layers):\n",
        "            self.conv_model.add(\n",
        "                layers.Conv2D(\n",
        "                    num_output_channels[i],\n",
        "                    kernel_size,\n",
        "                    stride,\n",
        "                    padding=\"valid\",\n",
        "                    use_bias=False,\n",
        "                    activation=\"relu\",\n",
        "                    kernel_initializer=\"he_normal\",\n",
        "                )\n",
        "            )\n",
        "            self.conv_model.add(layers.ZeroPadding2D(padding))\n",
        "            self.conv_model.add(\n",
        "                layers.MaxPool2D(pooling_kernel_size, pooling_stride, \"same\")\n",
        "            )\n",
        "\n",
        "        self.positional_emb = positional_emb\n",
        "\n",
        "    def call(self, images):\n",
        "        outputs = self.conv_model(images)\n",
        "        # After passing the images through our mini-network the spatial dimensions\n",
        "        # are flattened to form sequences.\n",
        "        reshaped = tf.reshape(\n",
        "            outputs,\n",
        "            (-1, tf.shape(outputs)[1] * tf.shape(outputs)[2], tf.shape(outputs)[-1]),\n",
        "        )\n",
        "        return reshaped\n",
        "\n",
        "    def positional_embedding(self, image_size):\n",
        "        # Positional embeddings are optional in CCT. Here, we calculate\n",
        "        # the number of sequences and initialize an `Embedding` layer to\n",
        "        # compute the positional embeddings later.\n",
        "        if self.positional_emb:\n",
        "            dummy_inputs = tf.ones((1, image_size, image_size, 3))\n",
        "            dummy_outputs = self.call(dummy_inputs)\n",
        "            sequence_length = tf.shape(dummy_outputs)[1]\n",
        "            projection_dim = tf.shape(dummy_outputs)[-1]\n",
        "\n",
        "            embed_layer = layers.Embedding(\n",
        "                input_dim=sequence_length, output_dim=projection_dim\n",
        "            )\n",
        "            return embed_layer, sequence_length\n",
        "        else:\n",
        "            return None\n"
      ],
      "execution_count": null,
      "outputs": []
    },
    {
      "cell_type": "markdown",
      "metadata": {
        "id": "x4qyfCCkcyAY"
      },
      "source": [
        "## Stochastic depth for regularization\n",
        "\n",
        "[Stochastic depth](https://arxiv.org/abs/1603.09382) is a regularization technique that\n",
        "randomly drops a set of layers. During inference, the layers are kept as they are. It is\n",
        "very much similar to [Dropout](https://jmlr.org/papers/v15/srivastava14a.html) but only\n",
        "that it operates on a block of layers rather than individual nodes present inside a\n",
        "layer. In CCT, stochastic depth is used just before the residual blocks of a Transformers\n",
        "encoder."
      ]
    },
    {
      "cell_type": "code",
      "metadata": {
        "id": "wYOnVEvpcyAY"
      },
      "source": [
        "# Referred from: github.com:rwightman/pytorch-image-models.\n",
        "class StochasticDepth(layers.Layer):\n",
        "    def __init__(self, drop_prop, **kwargs):\n",
        "        super(StochasticDepth, self).__init__(**kwargs)\n",
        "        self.drop_prob = drop_prop\n",
        "\n",
        "    def call(self, x, training=None):\n",
        "        if training:\n",
        "            keep_prob = 1 - self.drop_prob\n",
        "            shape = (tf.shape(x)[0],) + (1,) * (len(tf.shape(x)) - 1)\n",
        "            random_tensor = keep_prob + tf.random.uniform(shape, 0, 1)\n",
        "            random_tensor = tf.floor(random_tensor)\n",
        "            return (x / keep_prob) * random_tensor\n",
        "        return x\n"
      ],
      "execution_count": null,
      "outputs": []
    },
    {
      "cell_type": "markdown",
      "metadata": {
        "id": "CuHico_ycyAZ"
      },
      "source": [
        "## MLP for the Transformers encoder"
      ]
    },
    {
      "cell_type": "code",
      "metadata": {
        "id": "UUTY2119cyAZ"
      },
      "source": [
        "\n",
        "def mlp(x, hidden_units, dropout_rate):\n",
        "    for units in hidden_units:\n",
        "        x = layers.Dense(units, activation=tf.nn.gelu)(x)\n",
        "        x = layers.Dropout(dropout_rate)(x)\n",
        "    return x\n"
      ],
      "execution_count": null,
      "outputs": []
    },
    {
      "cell_type": "markdown",
      "metadata": {
        "id": "nXQxUdnNcyAa"
      },
      "source": [
        "## Data augmentation\n",
        "\n",
        "In the [original paper](https://arxiv.org/abs/2104.05704), the authors use\n",
        "[AutoAugment](https://arxiv.org/abs/1805.09501) to induce stronger regularization. For\n",
        "this example, we will be using the standard geometric augmentations like random cropping\n",
        "and flipping."
      ]
    },
    {
      "cell_type": "code",
      "metadata": {
        "id": "3Vu0TxvRcyAa"
      },
      "source": [
        "# Note the rescaling layer. These layers have pre-defined inference behavior.\n",
        "data_augmentation = keras.Sequential(\n",
        "    [\n",
        "        layers.Rescaling(scale=1.0 / 255),\n",
        "        layers.RandomCrop(image_size, image_size),\n",
        "        layers.RandomFlip(\"horizontal\"),\n",
        "    ],\n",
        "    name=\"data_augmentation\",\n",
        ")"
      ],
      "execution_count": null,
      "outputs": []
    },
    {
      "cell_type": "markdown",
      "metadata": {
        "id": "ettJo0YccyAa"
      },
      "source": [
        "## The final CCT model\n",
        "\n",
        "Another recipe introduced in CCT is attention pooling or sequence pooling. In ViT, only\n",
        "the feature map corresponding to the class token is pooled and is then used for the\n",
        "subsequent classification task (or any other downstream task). In CCT, outputs from the\n",
        "Transformers encoder are weighted and then passed on to the final task-specific layer (in\n",
        "this example, we do classification)."
      ]
    },
    {
      "cell_type": "code",
      "metadata": {
        "id": "62aJuenccyAb"
      },
      "source": [
        "\n",
        "def create_cct_model(\n",
        "    image_size=image_size,\n",
        "    input_shape=input_shape,\n",
        "    num_heads=num_heads,\n",
        "    projection_dim=projection_dim,\n",
        "    transformer_units=transformer_units,\n",
        "):\n",
        "\n",
        "    inputs = layers.Input(input_shape)\n",
        "\n",
        "    # Augment data.\n",
        "    augmented = data_augmentation(inputs)\n",
        "\n",
        "    # Encode patches.\n",
        "    cct_tokenizer = CCTTokenizer()\n",
        "    encoded_patches = cct_tokenizer(augmented)\n",
        "\n",
        "    # Apply positional embedding.\n",
        "    if positional_emb:\n",
        "        pos_embed, seq_length = cct_tokenizer.positional_embedding(image_size)\n",
        "        positions = tf.range(start=0, limit=seq_length, delta=1)\n",
        "        position_embeddings = pos_embed(positions)\n",
        "        encoded_patches += position_embeddings\n",
        "\n",
        "    # Calculate Stochastic Depth probabilities.\n",
        "    dpr = [x for x in np.linspace(0, stochastic_depth_rate, transformer_layers)]\n",
        "\n",
        "    # Create multiple layers of the Transformer block.\n",
        "    for i in range(transformer_layers):\n",
        "        # Layer normalization 1.\n",
        "        x1 = layers.LayerNormalization(epsilon=1e-5)(encoded_patches)\n",
        "\n",
        "        # Create a multi-head attention layer.\n",
        "        attention_output = layers.MultiHeadAttention(\n",
        "            num_heads=num_heads, key_dim=projection_dim, dropout=0.1\n",
        "        )(x1, x1)\n",
        "\n",
        "        # Skip connection 1.\n",
        "        attention_output = StochasticDepth(dpr[i])(attention_output)\n",
        "        x2 = layers.Add()([attention_output, encoded_patches])\n",
        "\n",
        "        # Layer normalization 2.\n",
        "        x3 = layers.LayerNormalization(epsilon=1e-5)(x2)\n",
        "\n",
        "        # MLP.\n",
        "        x3 = mlp(x3, hidden_units=transformer_units, dropout_rate=0.1)\n",
        "\n",
        "        # Skip connection 2.\n",
        "        x3 = StochasticDepth(dpr[i])(x3)\n",
        "        encoded_patches = layers.Add()([x3, x2])\n",
        "\n",
        "    # Apply sequence pooling.\n",
        "    representation = layers.LayerNormalization(epsilon=1e-5)(encoded_patches)\n",
        "    attention_weights = tf.nn.softmax(layers.Dense(1)(representation), axis=1)\n",
        "    weighted_representation = tf.matmul(\n",
        "        attention_weights, representation, transpose_a=True\n",
        "    )\n",
        "    weighted_representation = tf.squeeze(weighted_representation, -2)\n",
        "\n",
        "    # Classify outputs.\n",
        "    logits = layers.Dense(num_classes)(weighted_representation)\n",
        "    # Create the Keras model.\n",
        "    model = keras.Model(inputs=inputs, outputs=logits)\n",
        "    return model\n"
      ],
      "execution_count": null,
      "outputs": []
    },
    {
      "cell_type": "markdown",
      "metadata": {
        "id": "lzpFo8zYcyAb"
      },
      "source": [
        "## Model training and evaluation"
      ]
    },
    {
      "cell_type": "code",
      "metadata": {
        "id": "J5Oi1AFDcyAb",
        "colab": {
          "base_uri": "https://localhost:8080/"
        },
        "outputId": "b37a2d6c-d42e-4838-a796-05710ae3a6dc"
      },
      "source": [
        "\n",
        "def run_experiment(model):\n",
        "    optimizer = tfa.optimizers.AdamW(learning_rate=0.001, weight_decay=0.0001)\n",
        "\n",
        "    model.compile(\n",
        "        optimizer=optimizer,\n",
        "        loss=keras.losses.CategoricalCrossentropy(\n",
        "            from_logits=True, label_smoothing=0.1\n",
        "        ),\n",
        "        metrics=[\n",
        "            keras.metrics.CategoricalAccuracy(name=\"accuracy\"),\n",
        "            keras.metrics.TopKCategoricalAccuracy(5, name=\"top-5-accuracy\"),\n",
        "        ],\n",
        "    )\n",
        "\n",
        "    checkpoint_filepath = \"/tmp/checkpoint\"\n",
        "    checkpoint_callback = keras.callbacks.ModelCheckpoint(\n",
        "        checkpoint_filepath,\n",
        "        monitor=\"val_accuracy\",\n",
        "        save_best_only=True,\n",
        "        save_weights_only=True,\n",
        "    )\n",
        "\n",
        "    history = model.fit(\n",
        "        x=x_train,\n",
        "        y=y_train,\n",
        "        batch_size=batch_size,\n",
        "        epochs=num_epochs,\n",
        "        validation_split=0.1,\n",
        "        callbacks=[checkpoint_callback],\n",
        "    )\n",
        "\n",
        "    model.load_weights(checkpoint_filepath)\n",
        "    _, accuracy, top_5_accuracy = model.evaluate(x_test, y_test)\n",
        "    print(f\"Test accuracy: {round(accuracy * 100, 2)}%\")\n",
        "    print(f\"Test top 5 accuracy: {round(top_5_accuracy * 100, 2)}%\")\n",
        "\n",
        "    return history\n",
        "\n",
        "\n",
        "cct_model = create_cct_model()\n",
        "history = run_experiment(cct_model)"
      ],
      "execution_count": null,
      "outputs": [
        {
          "output_type": "stream",
          "name": "stdout",
          "text": [
            "Epoch 1/30\n",
            "352/352 [==============================] - 34s 81ms/step - loss: 1.8493 - accuracy: 0.3624 - top-5-accuracy: 0.8515 - val_loss: 1.5533 - val_accuracy: 0.5102 - val_top-5-accuracy: 0.9380\n",
            "Epoch 2/30\n",
            "352/352 [==============================] - 27s 78ms/step - loss: 1.5197 - accuracy: 0.5268 - top-5-accuracy: 0.9394 - val_loss: 1.4262 - val_accuracy: 0.5664 - val_top-5-accuracy: 0.9576\n",
            "Epoch 3/30\n",
            "352/352 [==============================] - 27s 78ms/step - loss: 1.3926 - accuracy: 0.5904 - top-5-accuracy: 0.9575 - val_loss: 1.3309 - val_accuracy: 0.6116 - val_top-5-accuracy: 0.9662\n",
            "Epoch 4/30\n",
            "352/352 [==============================] - 27s 78ms/step - loss: 1.3157 - accuracy: 0.6269 - top-5-accuracy: 0.9663 - val_loss: 1.3011 - val_accuracy: 0.6372 - val_top-5-accuracy: 0.9672\n",
            "Epoch 5/30\n",
            "352/352 [==============================] - 27s 78ms/step - loss: 1.2606 - accuracy: 0.6546 - top-5-accuracy: 0.9694 - val_loss: 1.3098 - val_accuracy: 0.6380 - val_top-5-accuracy: 0.9684\n",
            "Epoch 6/30\n",
            "352/352 [==============================] - 27s 77ms/step - loss: 1.2239 - accuracy: 0.6713 - top-5-accuracy: 0.9732 - val_loss: 1.2625 - val_accuracy: 0.6590 - val_top-5-accuracy: 0.9728\n",
            "Epoch 7/30\n",
            "352/352 [==============================] - 27s 77ms/step - loss: 1.1888 - accuracy: 0.6902 - top-5-accuracy: 0.9752 - val_loss: 1.1605 - val_accuracy: 0.6982 - val_top-5-accuracy: 0.9762\n",
            "Epoch 8/30\n",
            "352/352 [==============================] - 27s 78ms/step - loss: 1.1586 - accuracy: 0.7058 - top-5-accuracy: 0.9779 - val_loss: 1.1695 - val_accuracy: 0.6960 - val_top-5-accuracy: 0.9768\n",
            "Epoch 9/30\n",
            "352/352 [==============================] - 27s 78ms/step - loss: 1.1360 - accuracy: 0.7131 - top-5-accuracy: 0.9799 - val_loss: 1.1711 - val_accuracy: 0.6924 - val_top-5-accuracy: 0.9780\n",
            "Epoch 10/30\n",
            "352/352 [==============================] - 27s 78ms/step - loss: 1.1104 - accuracy: 0.7230 - top-5-accuracy: 0.9820 - val_loss: 1.1059 - val_accuracy: 0.7234 - val_top-5-accuracy: 0.9800\n",
            "Epoch 11/30\n",
            "352/352 [==============================] - 27s 78ms/step - loss: 1.0990 - accuracy: 0.7288 - top-5-accuracy: 0.9832 - val_loss: 1.1542 - val_accuracy: 0.7102 - val_top-5-accuracy: 0.9756\n",
            "Epoch 12/30\n",
            "352/352 [==============================] - 27s 77ms/step - loss: 1.0876 - accuracy: 0.7356 - top-5-accuracy: 0.9825 - val_loss: 1.0932 - val_accuracy: 0.7308 - val_top-5-accuracy: 0.9810\n",
            "Epoch 13/30\n",
            "352/352 [==============================] - 27s 77ms/step - loss: 1.0693 - accuracy: 0.7455 - top-5-accuracy: 0.9835 - val_loss: 1.0810 - val_accuracy: 0.7446 - val_top-5-accuracy: 0.9798\n",
            "Epoch 14/30\n",
            "352/352 [==============================] - 27s 77ms/step - loss: 1.0516 - accuracy: 0.7518 - top-5-accuracy: 0.9845 - val_loss: 1.0951 - val_accuracy: 0.7360 - val_top-5-accuracy: 0.9786\n",
            "Epoch 15/30\n",
            "352/352 [==============================] - 27s 77ms/step - loss: 1.0357 - accuracy: 0.7601 - top-5-accuracy: 0.9858 - val_loss: 1.0625 - val_accuracy: 0.7516 - val_top-5-accuracy: 0.9830\n",
            "Epoch 16/30\n",
            "352/352 [==============================] - 27s 77ms/step - loss: 1.0297 - accuracy: 0.7633 - top-5-accuracy: 0.9857 - val_loss: 1.0621 - val_accuracy: 0.7500 - val_top-5-accuracy: 0.9834\n",
            "Epoch 17/30\n",
            "352/352 [==============================] - 27s 78ms/step - loss: 1.0232 - accuracy: 0.7666 - top-5-accuracy: 0.9864 - val_loss: 1.0891 - val_accuracy: 0.7418 - val_top-5-accuracy: 0.9798\n",
            "Epoch 18/30\n",
            "352/352 [==============================] - 27s 78ms/step - loss: 1.0102 - accuracy: 0.7752 - top-5-accuracy: 0.9860 - val_loss: 1.0501 - val_accuracy: 0.7564 - val_top-5-accuracy: 0.9842\n",
            "Epoch 19/30\n",
            "352/352 [==============================] - 27s 78ms/step - loss: 1.0001 - accuracy: 0.7776 - top-5-accuracy: 0.9873 - val_loss: 1.0287 - val_accuracy: 0.7618 - val_top-5-accuracy: 0.9858\n",
            "Epoch 20/30\n",
            "352/352 [==============================] - 27s 77ms/step - loss: 0.9905 - accuracy: 0.7812 - top-5-accuracy: 0.9878 - val_loss: 1.0656 - val_accuracy: 0.7484 - val_top-5-accuracy: 0.9858\n",
            "Epoch 21/30\n",
            "352/352 [==============================] - 27s 77ms/step - loss: 0.9785 - accuracy: 0.7871 - top-5-accuracy: 0.9891 - val_loss: 1.0633 - val_accuracy: 0.7474 - val_top-5-accuracy: 0.9854\n",
            "Epoch 22/30\n",
            "352/352 [==============================] - 27s 78ms/step - loss: 0.9789 - accuracy: 0.7869 - top-5-accuracy: 0.9887 - val_loss: 1.0190 - val_accuracy: 0.7682 - val_top-5-accuracy: 0.9866\n",
            "Epoch 23/30\n",
            "352/352 [==============================] - 27s 78ms/step - loss: 0.9602 - accuracy: 0.7948 - top-5-accuracy: 0.9896 - val_loss: 1.0291 - val_accuracy: 0.7642 - val_top-5-accuracy: 0.9852\n",
            "Epoch 24/30\n",
            "352/352 [==============================] - 27s 78ms/step - loss: 0.9604 - accuracy: 0.7959 - top-5-accuracy: 0.9895 - val_loss: 1.0332 - val_accuracy: 0.7656 - val_top-5-accuracy: 0.9842\n",
            "Epoch 25/30\n",
            "352/352 [==============================] - 27s 78ms/step - loss: 0.9525 - accuracy: 0.7976 - top-5-accuracy: 0.9902 - val_loss: 1.0134 - val_accuracy: 0.7728 - val_top-5-accuracy: 0.9856\n",
            "Epoch 26/30\n",
            "352/352 [==============================] - 27s 77ms/step - loss: 0.9501 - accuracy: 0.7989 - top-5-accuracy: 0.9893 - val_loss: 1.0225 - val_accuracy: 0.7712 - val_top-5-accuracy: 0.9878\n",
            "Epoch 27/30\n",
            "352/352 [==============================] - 27s 78ms/step - loss: 0.9413 - accuracy: 0.8047 - top-5-accuracy: 0.9907 - val_loss: 1.0251 - val_accuracy: 0.7690 - val_top-5-accuracy: 0.9852\n",
            "Epoch 28/30\n",
            "352/352 [==============================] - 27s 78ms/step - loss: 0.9380 - accuracy: 0.8074 - top-5-accuracy: 0.9899 - val_loss: 1.0166 - val_accuracy: 0.7800 - val_top-5-accuracy: 0.9852\n",
            "Epoch 29/30\n",
            "352/352 [==============================] - 27s 77ms/step - loss: 0.9390 - accuracy: 0.8043 - top-5-accuracy: 0.9910 - val_loss: 1.0133 - val_accuracy: 0.7714 - val_top-5-accuracy: 0.9856\n",
            "Epoch 30/30\n",
            "352/352 [==============================] - 27s 77ms/step - loss: 0.9259 - accuracy: 0.8127 - top-5-accuracy: 0.9912 - val_loss: 1.0073 - val_accuracy: 0.7848 - val_top-5-accuracy: 0.9856\n",
            "313/313 [==============================] - 4s 14ms/step - loss: 1.0371 - accuracy: 0.7733 - top-5-accuracy: 0.9835\n",
            "Test accuracy: 77.33%\n",
            "Test top 5 accuracy: 98.35%\n"
          ]
        }
      ]
    },
    {
      "cell_type": "markdown",
      "metadata": {
        "id": "uBI4Ps67cyAc"
      },
      "source": [
        "Let's now visualize the training progress of the model."
      ]
    },
    {
      "cell_type": "code",
      "metadata": {
        "id": "KI0Cxzw0cyAc",
        "colab": {
          "base_uri": "https://localhost:8080/",
          "height": 296
        },
        "outputId": "11dfc5c8-8b2c-4918-d696-2c0961a6fb7a"
      },
      "source": [
        "plt.plot(history.history[\"loss\"], label=\"train_loss\")\n",
        "plt.plot(history.history[\"val_loss\"], label=\"val_loss\")\n",
        "plt.xlabel(\"Epochs\")\n",
        "plt.ylabel(\"Loss\")\n",
        "plt.title(\"Train and Validation Losses Over Epochs\", fontsize=14)\n",
        "plt.legend()\n",
        "plt.grid()\n",
        "plt.show()"
      ],
      "execution_count": null,
      "outputs": [
        {
          "output_type": "display_data",
          "data": {
            "image/png": "[encoded data removed]",
            "text/plain": [
              "<Figure size 432x288 with 1 Axes>"
            ]
          },
          "metadata": {
            "needs_background": "light"
          }
        }
      ]
    },
    {
      "cell_type": "markdown",
      "metadata": {
        "id": "payfWt66cyAc"
      },
      "source": [
        "The CCT model we just trained has just **0.4 million** parameters, and it gets us to\n",
        "~78% top-1 accuracy within 30 epochs. The plot above shows no signs of overfitting as\n",
        "well. This means we can train this network for longer (perhaps with a bit more\n",
        "regularization) and may obtain even better performance. This performance can further be\n",
        "improved by additional recipes like cosine decay learning rate schedule, other data augmentation\n",
        "techniques like [AutoAugment](https://arxiv.org/abs/1805.09501),\n",
        "[MixUp](https://arxiv.org/abs/1710.09412) or\n",
        "[Cutmix](https://arxiv.org/abs/1905.04899). With these modifications, the authors present\n",
        "95.1% top-1 accuracy on the CIFAR-10 dataset. The authors also present a number of\n",
        "experiments to study how the number of convolution blocks, Transformers layers, etc.\n",
        "affect the final performance of CCTs.\n",
        "\n",
        "For a comparison, a ViT model takes about **4.7 million** parameters and **100\n",
        "epochs** of training to reach a top-1 accuracy of 78.22% on the CIFAR-10 dataset. You can\n",
        "refer to\n",
        "[this notebook](https://colab.research.google.com/gist/sayakpaul/1a80d9f582b044354a1a26c5cb3d69e5/image_classification_with_vision_transformer.ipynb)\n",
        "to know about the experimental setup.\n",
        "\n",
        "The authors also demonstrate the performance of Compact Convolutional Transformers on\n",
        "NLP tasks and they report competitive results there."
      ]
    }
  ]
}