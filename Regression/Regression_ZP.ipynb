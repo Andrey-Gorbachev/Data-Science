{
  "nbformat": 4,
  "nbformat_minor": 0,
  "metadata": {
    "colab": {
      "name": "Regression",
      "provenance": [],
      "collapsed_sections": [
        "JnOyNpFuWpHd",
        "S5SWRpTabRC0"
      ],
      "toc_visible": true
    },
    "kernelspec": {
      "name": "python3",
      "display_name": "Python 3"
    },
    "language_info": {
      "name": "python"
    }
  },
  "cells": [
    {
      "cell_type": "markdown",
      "metadata": {
        "id": "m_1NlCFQVs3G"
      },
      "source": [
        "# Учебное задание: Определить уровень зарплаты сотрудников на основе данных об их опыте\n",
        "В одной из компаний для найма сотрудников решили создать математическую модель, описывающую зависимость уровня заработной платы от опыта сотрудников. В файлах ‘inputs.npy’, ‘outputs.npy’ даны оценки заработной платы и опыта сотрудников, представленные в своих диапазонах и полученные в результате использования шкалы перевода.\n",
        "\n",
        "В компании разработали простейшую нейронную сеть model с ошибкой loss. Обучи нейронную сеть предсказывать необходимые значения. В качестве ответа к заданию предскажи 5 точек [1, 2, 3, 4, 5] при помощи нейронной сети любой модели. Ответ выдайте в формате JSON:\n",
        "\n",
        "{\n",
        "  \"answer\": [\"x1\", \"x2\", \"x3\", ... , \"x5\"]\n",
        "}\n",
        "      \n",
        "\n"
      ]
    },
    {
      "cell_type": "markdown",
      "metadata": {
        "id": "aVAxKoNpw2ev"
      },
      "source": [
        "![image.png](data:image/png;base64,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)"
      ]
    },
    {
      "cell_type": "markdown",
      "source": [
        "# Setup & Import"
      ],
      "metadata": {
        "id": "uy5DeSr5Q7-7"
      }
    },
    {
      "cell_type": "code",
      "metadata": {
        "id": "BwZeqplBXq2w"
      },
      "source": [
        "# Import\n",
        "import tensorflow as tf\n",
        "import numpy as np\n",
        "import matplotlib.pyplot as plt"
      ],
      "execution_count": 7,
      "outputs": []
    },
    {
      "cell_type": "code",
      "metadata": {
        "id": "92zADEtYdx-z"
      },
      "source": [
        "from sklearn import datasets, ensemble\n",
        "from sklearn.inspection import permutation_importance\n",
        "from sklearn.metrics import mean_squared_error\n",
        "from sklearn.model_selection import train_test_split\n",
        "from collections import Counter"
      ],
      "execution_count": 8,
      "outputs": []
    },
    {
      "cell_type": "markdown",
      "source": [
        "# Metric"
      ],
      "metadata": {
        "id": "eA9h-Qp5VG_x"
      }
    },
    {
      "cell_type": "code",
      "metadata": {
        "id": "lHp4Cb8aWL29"
      },
      "source": [
        "# Original at site https://open-data-battle.geecko.com/issues/predict\n",
        "import tensorflow as tf\n",
        "import numpy as np\n",
        "import matplotlib.pyplot as plt\n",
        "# Модель\n",
        "class myModel(object):\n",
        "  def __init__(self):\n",
        "    self.W = tf.Variable(5.0)\n",
        "    self.b = tf.Variable(10.0)\n",
        "\n",
        "  def __call__(self, x):\n",
        "    return self.W * x + self.b\n",
        "\n",
        "model = myModel()\n",
        "\n",
        "# Ошибка\n",
        "def loss(target_y, predicted_y):\n",
        "  return tf.reduce_mean(tf.square(target_y - predicted_y))\n",
        "\n",
        "print('Current loss: %1.6f' % loss(model(inputs), outputs).numpy())\n",
        "Current loss: 64.301849\n"
      ],
      "execution_count": null,
      "outputs": []
    },
    {
      "cell_type": "markdown",
      "source": [
        "# Load Data"
      ],
      "metadata": {
        "id": "upPTKVA1RABV"
      }
    },
    {
      "cell_type": "code",
      "metadata": {
        "id": "A8ZXu7aAXsWv"
      },
      "source": [
        "inputs = np.load('/content/inputs.npy')\n",
        "outputs = np.load('/content/outputs.npy')"
      ],
      "execution_count": 10,
      "outputs": []
    },
    {
      "cell_type": "code",
      "metadata": {
        "colab": {
          "base_uri": "https://localhost:8080/"
        },
        "id": "xd8cWTGQX7wz",
        "outputId": "74b8f17a-33b3-4b30-8538-f821f6c21295"
      },
      "source": [
        "inputs.shape, outputs.shape\n",
        "inputs[:5], outputs[:5]"
      ],
      "execution_count": 11,
      "outputs": [
        {
          "output_type": "execute_result",
          "data": {
            "text/plain": [
              "(array([-0.7150358, -1.7290071,  1.9302819,  1.9619546, -0.5580657],\n",
              "       dtype=float32),\n",
              " array([-2.350982 , -6.686186 , 14.57553  , 15.004372 , -2.2539327],\n",
              "       dtype=float32))"
            ]
          },
          "metadata": {},
          "execution_count": 11
        }
      ]
    },
    {
      "cell_type": "markdown",
      "source": [
        "# Explore Data"
      ],
      "metadata": {
        "id": "3YsyPYm5RD2L"
      }
    },
    {
      "cell_type": "code",
      "metadata": {
        "colab": {
          "base_uri": "https://localhost:8080/"
        },
        "id": "7dXtT7cYZZCC",
        "outputId": "9d29dea4-644a-4b12-db55-2ca4940ffba3"
      },
      "source": [
        "unique_vals, unique_cnt = np.unique(np.isnan(inputs), return_counts = True) \n",
        "print(unique_vals, unique_cnt)\n",
        "\n",
        "unique_vals, unique_cnt = np.unique(inputs==0.0, return_counts = True) \n",
        "print(unique_vals, unique_cnt)\n",
        "\n",
        "unique_vals, unique_cnt = np.unique(outputs==0.0, return_counts = True) \n",
        "print(unique_vals, unique_cnt)\n",
        "\n",
        "unique_vals, unique_cnt = np.unique(np.isnan(outputs), return_counts = True) \n",
        "print(unique_vals, unique_cnt)\n",
        "\n",
        "inputs.min(), inputs.max(), outputs.min(), outputs.max()"
      ],
      "execution_count": 12,
      "outputs": [
        {
          "output_type": "stream",
          "name": "stdout",
          "text": [
            "[False] [1000]\n",
            "[False] [1000]\n",
            "[False] [1000]\n",
            "[False] [1000]\n"
          ]
        },
        {
          "output_type": "execute_result",
          "data": {
            "text/plain": [
              "(-4.120422, 3.1408827, -23.980309, 21.008589)"
            ]
          },
          "metadata": {},
          "execution_count": 12
        }
      ]
    },
    {
      "cell_type": "code",
      "metadata": {
        "colab": {
          "base_uri": "https://localhost:8080/"
        },
        "id": "LZAu2KcueFG-",
        "outputId": "2058cf72-600a-49ce-b120-98f981b3a582"
      },
      "source": [
        "print(len(Counter(outputs)), 'Original dataset shape %s' % Counter(outputs))"
      ],
      "execution_count": 14,
      "outputs": [
        {
          "output_type": "stream",
          "name": "stdout",
          "text": [
            "1000 Original dataset shape Counter({-2.350982: 1, -6.686186: 1, 14.57553: 1, 15.004372: 1, -2.2539327: 1, 10.91553: 1, 4.3139243: 1, 1.0440235: 1, 2.476209: 1, 5.581546: 1, -1.0793127: 1, -8.915342: 1, 8.117587: 1, -8.448012: 1, -6.573431: 1, -4.237154: 1, 0.42881334: 1, -0.14890689: 1, -6.4672112: 1, 9.75306: 1, 0.83711433: 1, -8.668971: 1, 0.28865248: 1, 3.151327: 1, 1.4076841: 1, 13.834408: 1, 0.3381223: 1, -2.927495: 1, 3.380414: 1, 1.4459834: 1, -4.171597: 1, -0.8162421: 1, 10.652168: 1, -2.5707: 1, 3.2308152: 1, -7.872946: 1, -3.5100636: 1, -3.4074938: 1, 3.9998927: 1, -16.78338: 1, 5.0252676: 1, -4.3629746: 1, -1.0988724: 1, 4.5256763: 1, 5.099565: 1, -0.8634725: 1, -0.027852505: 1, 4.607936: 1, 4.2608957: 1, 4.4338036: 1, 5.8015447: 1, 1.4781058: 1, -7.9797354: 1, 2.3911653: 1, 3.4885223: 1, 2.408844: 1, 9.714245: 1, 9.256778: 1, 1.3432596: 1, -6.8680596: 1, 6.6733212: 1, -0.0084014535: 1, -1.8778446: 1, 4.1638517: 1, 5.3510623: 1, 5.4975133: 1, -11.813476: 1, -2.4588387: 1, -2.0692809: 1, 13.044263: 1, 9.315888: 1, 4.376084: 1, 3.870769: 1, 1.4716232: 1, -0.8194764: 1, 5.353508: 1, 3.0885963: 1, -0.047058463: 1, -0.98834014: 1, 14.452257: 1, 11.631833: 1, 2.2932174: 1, 4.4603505: 1, -7.8991528: 1, -0.49209458: 1, 3.4640093: 1, -11.2398405: 1, 6.168853: 1, -2.310735: 1, 0.9635824: 1, 2.3586817: 1, 0.8815323: 1, 1.64348: 1, -8.199144: 1, 8.77178: 1, -2.0106878: 1, -5.1012464: 1, 12.432791: 1, -0.07693952: 1, -7.560609: 1, 2.6969502: 1, 8.599256: 1, 3.1514235: 1, -10.926072: 1, -0.032654762: 1, 8.901777: 1, -0.70635843: 1, 11.134108: 1, 0.045483828: 1, 3.4777007: 1, 2.8445537: 1, 0.62661254: 1, 6.0607367: 1, 8.855349: 1, 6.9548826: 1, 6.5149856: 1, 0.328794: 1, 4.0613165: 1, 1.3643951: 1, 8.212922: 1, -7.210626: 1, -9.091323: 1, 3.2241228: 1, -2.0322874: 1, 7.0217123: 1, 9.652234: 1, -5.7468677: 1, 6.176866: 1, 7.8161364: 1, 6.427143: 1, 5.3892584: 1, -7.810061: 1, 10.285371: 1, 6.7670364: 1, -3.6696987: 1, 2.3003888: 1, 7.5799613: 1, 11.812231: 1, -8.3029375: 1, -1.1322665: 1, 10.708306: 1, 2.32374: 1, 6.30352: 1, 4.209299: 1, 6.1653905: 1, 0.87898993: 1, 0.16492724: 1, -5.154063: 1, 3.3205352: 1, 4.163692: 1, 1.0862422: 1, -11.227068: 1, 7.2692394: 1, 4.284291: 1, 1.6070118: 1, -3.7703614: 1, 10.354502: 1, 10.396933: 1, -0.9913036: 1, 2.359223: 1, -1.6946961: 1, 12.433475: 1, 2.8107457: 1, -3.2830758: 1, -3.7594256: 1, 3.7778463: 1, -13.2387085: 1, 0.8838798: 1, -4.624088: 1, 11.092794: 1, 4.68665: 1, -5.474289: 1, 0.089954376: 1, 14.287598: 1, 5.388143: 1, -10.16317: 1, -5.6474905: 1, 3.0063903: 1, 10.412623: 1, -9.593053: 1, 13.882166: 1, 3.1447515: 1, -3.2396991: 1, 0.9462249: 1, 5.265536: 1, -4.85643: 1, -8.555306: 1, 4.093734: 1, -1.9481294: 1, 6.6156106: 1, -0.5053672: 1, -12.991544: 1, -2.9973712: 1, 7.862257: 1, -2.9862616: 1, 11.0678625: 1, 9.989347: 1, -7.0897226: 1, 0.949185: 1, -0.572708: 1, 2.2573767: 1, -5.3700314: 1, 10.914283: 1, 4.2150126: 1, 5.3743567: 1, -1.9932578: 1, 6.867567: 1, 12.220698: 1, 6.1258945: 1, 2.740761: 1, 10.329848: 1, 1.7091821: 1, 4.106282: 1, -5.661519: 1, 9.258597: 1, -0.91009086: 1, 4.0773077: 1, -1.7450842: 1, -2.5874557: 1, 3.2928598: 1, -1.5842183: 1, -6.9048963: 1, 6.5773754: 1, 9.5721: 1, 5.78945: 1, -1.0601377: 1, 3.469191: 1, -0.28487846: 1, 9.354199: 1, 0.8040762: 1, 5.9560394: 1, 1.4850283: 1, 13.521634: 1, 0.09748244: 1, 7.4604974: 1, 1.7296221: 1, 17.146515: 1, 4.421579: 1, 10.064686: 1, -1.8290787: 1, -2.593634: 1, -3.927763: 1, -2.7070818: 1, 0.25939387: 1, -2.6377003: 1, 5.4088955: 1, 15.609193: 1, 0.6237302: 1, -6.317984: 1, -7.8209386: 1, 5.270573: 1, 10.771139: 1, -4.9358997: 1, 8.147975: 1, 3.2587512: 1, 9.786171: 1, 8.985488: 1, 0.20040107: 1, -2.3590407: 1, -3.2889137: 1, 4.1255603: 1, 4.724496: 1, 7.057023: 1, -6.1217237: 1, -3.500817: 1, 0.113972396: 1, -2.8418293: 1, 17.718273: 1, -6.2241845: 1, 11.623987: 1, -3.9920487: 1, 9.782296: 1, -4.140928: 1, -4.1388187: 1, -10.436247: 1, 2.1645586: 1, 5.3902464: 1, 7.8426423: 1, 1.7150632: 1, 0.8248445: 1, 10.320463: 1, 1.5828036: 1, -1.7415326: 1, 4.510807: 1, 8.470778: 1, -8.64121: 1, -8.212672: 1, 2.110693: 1, -0.5608636: 1, -0.7247828: 1, 8.738894: 1, 5.2764997: 1, -1.2040434: 1, 11.026476: 1, 5.407288: 1, 1.5629772: 1, 6.5739884: 1, 7.1820164: 1, -0.48737174: 1, 8.552833: 1, 9.533438: 1, 13.928491: 1, 5.575708: 1, 4.125006: 1, 6.559768: 1, 1.2665405: 1, -0.28889543: 1, 1.4655039: 1, 3.6928575: 1, -2.4313636: 1, 3.8372731: 1, -1.1285933: 1, 0.11129427: 1, -3.0514255: 1, 6.4620476: 1, -1.1679671: 1, 0.46330258: 1, 7.253227: 1, -2.3059878: 1, -3.0850763: 1, -7.799136: 1, 4.1513696: 1, 4.062381: 1, 0.4054041: 1, 1.8130287: 1, 0.5298357: 1, 1.9850476: 1, -10.622338: 1, -3.1285305: 1, 3.7946687: 1, 0.8423279: 1, 2.790104: 1, 3.222556: 1, 5.588292: 1, -6.4250855: 1, 5.510062: 1, 4.2135143: 1, 11.03154: 1, -0.5163307: 1, 6.9134684: 1, 7.2428985: 1, 5.812016: 1, 4.5468035: 1, 0.18445663: 1, 4.765748: 1, 5.9183993: 1, 5.200076: 1, 3.6785784: 1, -4.414099: 1, 7.2142363: 1, 9.595343: 1, -2.1097283: 1, 3.090016: 1, -1.1203601: 1, -2.8390903: 1, 5.7781696: 1, 13.183927: 1, -2.2761536: 1, 5.186857: 1, -2.8174782: 1, 9.987658: 1, 6.9377503: 1, 2.0825303: 1, 6.965616: 1, -9.734976: 1, -7.0150537: 1, 11.328379: 1, -5.3333244: 1, 5.93215: 1, 1.6130964: 1, 4.229962: 1, 14.079399: 1, 4.937046: 1, 1.612283: 1, -5.406196: 1, 5.092581: 1, 5.924373: 1, 4.8882046: 1, 5.869352: 1, -12.244376: 1, 19.388872: 1, 8.110793: 1, -3.184867: 1, -1.4951652: 1, 6.61211: 1, 2.9344645: 1, -3.8805943: 1, -2.039976: 1, 5.453726: 1, 1.5409653: 1, 10.39766: 1, 1.4067112: 1, -0.06273973: 1, -4.067026: 1, 11.797016: 1, 14.629422: 1, 1.3980619: 1, -2.741756: 1, 5.1873965: 1, -1.6478035: 1, 7.9144063: 1, -2.9703188: 1, -2.4739501: 1, 11.716664: 1, -1.9137135: 1, -1.1830418: 1, -2.2551813: 1, 12.159551: 1, 4.3648257: 1, -4.105206: 1, -6.3907356: 1, 3.1554039: 1, 2.3513722: 1, 5.8551207: 1, -4.310409: 1, 3.0047212: 1, 9.893514: 1, 0.8491154: 1, 10.072432: 1, 5.32475: 1, 0.6778096: 1, 6.1411257: 1, 11.018627: 1, 6.4586678: 1, -1.111976: 1, -1.5735183: 1, 8.113246: 1, -5.715419: 1, 1.9974457: 1, 4.979578: 1, -4.386824: 1, 4.646858: 1, 5.7798815: 1, 3.684339: 1, -1.9925044: 1, -1.752766: 1, -6.381278: 1, -6.3987494: 1, -2.3144557: 1, 8.700789: 1, 2.3767667: 1, 6.348657: 1, 6.007693: 1, 10.974951: 1, -11.071429: 1, -3.931932: 1, 18.60484: 1, 3.89264: 1, -2.2524028: 1, 1.2471893: 1, -1.0724736: 1, -3.519862: 1, 1.4293344: 1, -3.2125444: 1, -9.02427: 1, 7.3729467: 1, -0.51229995: 1, 9.833885: 1, -4.6202483: 1, 9.732795: 1, -0.49833906: 1, -2.2755516: 1, -2.3097486: 1, 9.383348: 1, 0.12153971: 1, 4.398412: 1, 7.144416: 1, 2.413426: 1, -1.1310947: 1, 0.46707517: 1, 11.897218: 1, -3.3733866: 1, 4.71399: 1, -5.686249: 1, -2.9823618: 1, 2.4660277: 1, 5.23377: 1, 10.958071: 1, 12.647066: 1, 9.831732: 1, -4.990776: 1, -0.2557338: 1, 7.8096094: 1, 5.05371: 1, 3.4049919: 1, 3.7270918: 1, -3.0021944: 1, 1.4969652: 1, 3.0224712: 1, -5.756776: 1, 2.8286955: 1, -3.0209508: 1, 7.5757446: 1, -0.7628655: 1, 4.120305: 1, 7.9476433: 1, 14.640276: 1, 10.17593: 1, 2.9527912: 1, -13.084165: 1, -3.3322146: 1, -10.516031: 1, -8.8307085: 1, -6.418702: 1, -3.5787191: 1, -4.9303336: 1, 4.600196: 1, 11.075504: 1, 5.193326: 1, 10.337099: 1, 7.0418205: 1, -0.66369736: 1, 10.847181: 1, 2.778095: 1, 6.0854588: 1, -0.3633539: 1, -3.0061386: 1, 2.3838: 1, -10.217195: 1, 2.1651382: 1, -2.9003925: 1, 1.6568283: 1, 7.808015: 1, 2.311882: 1, 12.130742: 1, 6.7476387: 1, 1.6032993: 1, 10.391588: 1, -8.056477: 1, 2.8606753: 1, -1.3849158: 1, 3.9649982: 1, 3.3210564: 1, 0.99314934: 1, 1.1247729: 1, 7.0539255: 1, 3.3676817: 1, 2.7695882: 1, -0.6042992: 1, 5.160845: 1, -0.2103064: 1, -1.2868736: 1, 8.030274: 1, 4.459357: 1, -4.916091: 1, 3.2556987: 1, 0.35848796: 1, -1.9177656: 1, 4.3897157: 1, -3.7449536: 1, -7.2088003: 1, 2.9061747: 1, 1.8691311: 1, -5.4699774: 1, 3.1927915: 1, 10.636154: 1, -4.7331753: 1, 0.090039164: 1, 1.3554541: 1, 5.8802285: 1, 2.553237: 1, 9.238379: 1, 3.0560143: 1, 7.90639: 1, -2.7775004: 1, 1.6511421: 1, 9.979532: 1, 10.068884: 1, 8.09411: 1, 6.300573: 1, 3.2562954: 1, 5.788942: 1, 1.9117382: 1, 3.2013512: 1, -3.5575612: 1, 12.430168: 1, 19.092562: 1, -4.4919286: 1, 2.604798: 1, 4.7137356: 1, 12.559736: 1, -1.3658872: 1, -2.1590037: 1, 3.0461779: 1, -0.4765122: 1, 2.5500388: 1, -3.5434399: 1, 10.4145975: 1, 0.9538913: 1, -2.6011543: 1, 0.027190447: 1, -8.719942: 1, -5.229602: 1, 9.639219: 1, 3.9611716: 1, 4.9303412: 1, -7.9616117: 1, 4.016541: 1, 14.167006: 1, 1.0284612: 1, 7.781277: 1, 8.465582: 1, 1.7916808: 1, -0.3323772: 1, 21.008589: 1, 0.32005107: 1, -3.4858587: 1, -0.26796913: 1, -11.315473: 1, 4.5876164: 1, 7.3355875: 1, -3.0859995: 1, 0.81256104: 1, -8.947625: 1, 5.390759: 1, -2.0795407: 1, -3.7314005: 1, 0.8564771: 1, 6.4992795: 1, 5.675557: 1, -5.633192: 1, 5.4206543: 1, 7.6227016: 1, 1.933177: 1, 4.4313087: 1, 3.8681333: 1, 6.198682: 1, -4.3981504: 1, 3.4073358: 1, 20.089622: 1, -0.62559295: 1, 12.73932: 1, 3.4957826: 1, -5.099252: 1, 14.541572: 1, 16.151293: 1, 15.311629: 1, 2.2166471: 1, -0.61748064: 1, 8.87415: 1, 0.15183893: 1, 11.312066: 1, 5.193903: 1, 11.757489: 1, 4.9305162: 1, 3.283854: 1, -4.218998: 1, 2.4236975: 1, -3.483258: 1, -4.051679: 1, 0.44794464: 1, -3.5293822: 1, -14.649861: 1, 0.7613559: 1, -1.2926308: 1, 10.930987: 1, -4.048708: 1, -8.993958: 1, -2.2690845: 1, -23.980309: 1, 5.0326276: 1, -10.222903: 1, 5.9654713: 1, 5.9078546: 1, 14.477329: 1, -2.7511535: 1, 3.0848298: 1, -3.9069698: 1, -1.07423: 1, 3.302427: 1, -2.2523963: 1, -7.1463084: 1, -5.746437: 1, -6.838131: 1, -0.9712783: 1, 4.161796: 1, -0.48587376: 1, -11.381947: 1, -7.080057: 1, 0.51046324: 1, 9.135028: 1, 4.0629606: 1, 2.215531: 1, 10.040197: 1, 0.51042366: 1, -10.407274: 1, 6.2247: 1, -7.130104: 1, -2.782927: 1, 5.5192456: 1, 9.677259: 1, 3.4389968: 1, 12.260428: 1, 1.4714118: 1, 1.9261278: 1, 13.352482: 1, 11.436333: 1, 7.1419344: 1, -7.8567443: 1, -0.042722315: 1, 1.6516032: 1, -3.1532955: 1, 6.0291643: 1, 9.492126: 1, -0.9945657: 1, 5.902452: 1, 15.815406: 1, 1.7763333: 1, 12.600075: 1, 6.1573634: 1, -1.5538973: 1, -1.4346817: 1, 8.450871: 1, 0.7128154: 1, 11.438: 1, -2.63431: 1, 6.353541: 1, 1.2552739: 1, 7.4193993: 1, 4.660838: 1, -5.1858683: 1, 0.038734794: 1, 9.323426: 1, 5.749931: 1, 0.29772624: 1, -1.6985893: 1, 7.3713737: 1, 8.666093: 1, 10.436959: 1, 5.153432: 1, 6.283838: 1, 13.902052: 1, 8.872216: 1, 6.356738: 1, 13.076507: 1, -5.725113: 1, -0.36116457: 1, 0.54632986: 1, 9.6926985: 1, -11.800118: 1, 5.170973: 1, 8.349963: 1, 11.064446: 1, 6.9809422: 1, -4.0406146: 1, 1.2043208: 1, 4.400244: 1, -5.736052: 1, -1.5059322: 1, 2.977899: 1, -12.91558: 1, 3.8228638: 1, -6.0985174: 1, 6.21474: 1, 0.7229848: 1, -0.25198185: 1, -3.0984788: 1, 16.098604: 1, 1.8114451: 1, -5.968236: 1, 4.1221285: 1, -2.2711365: 1, 1.7602351: 1, 7.0116186: 1, 0.7282373: 1, 9.116457: 1, -2.5434453: 1, 4.705098: 1, -0.8400061: 1, 18.179232: 1, -2.823099: 1, -6.662136: 1, -3.7294126: 1, 5.528714: 1, -4.227176: 1, 8.264128: 1, 5.9392376: 1, -1.7100148: 1, 3.6775615: 1, 4.206107: 1, 9.276302: 1, 0.43541884: 1, -4.238574: 1, 3.8540738: 1, -2.436413: 1, 6.0110373: 1, 6.1549006: 1, 4.9292836: 1, 8.712445: 1, 14.010064: 1, 5.244254: 1, -1.9273993: 1, 7.1671143: 1, -4.6822677: 1, 5.411359: 1, 6.078204: 1, 10.136581: 1, -7.7822022: 1, 18.172377: 1, 2.1291099: 1, -9.14193: 1, 10.02367: 1, -0.5275852: 1, 6.299708: 1, 0.74493825: 1, -9.805247: 1, 3.3591187: 1, -1.5535887: 1, 7.6878123: 1, 9.2411: 1, -3.9101558: 1, -2.1378267: 1, 1.5485902: 1, 13.602298: 1, 17.509567: 1, -3.3588185: 1, 7.574854: 1, -2.6400926: 1, 3.6485476: 1, -2.4712448: 1, -3.5269191: 1, 9.492145: 1, 3.4852858: 1, -1.9544946: 1, 7.206956: 1, 2.531349: 1, 4.0825377: 1, 3.2671006: 1, 5.385954: 1, 5.420047: 1, 8.948111: 1, -6.1422677: 1, -4.6583176: 1, 5.0073967: 1, -1.7385587: 1, -0.31753623: 1, -6.6490374: 1, -5.8296223: 1, -9.226548: 1, 0.30181313: 1, 16.29001: 1, -0.13133264: 1, 2.0395088: 1, 7.6959333: 1, 3.817939: 1, 6.160954: 1, 3.5652955: 1, 0.82907856: 1, -3.520302: 1, 14.4404125: 1, -2.2543862: 1, -8.384137: 1, 7.7580843: 1, -7.3383565: 1, 8.654822: 1, 13.438028: 1, -1.2626117: 1, 1.4383299: 1, -7.02998: 1, 6.3660483: 1, 4.3334007: 1, 4.383312: 1, 3.8010542: 1, 8.578995: 1, 4.55999: 1, 11.666558: 1, 10.004342: 1, 6.6153173: 1, -5.383475: 1, 6.503065: 1, 8.561895: 1, -1.3373073: 1, 6.330941: 1, -8.824453: 1, 8.595139: 1, -7.9383326: 1, -6.956875: 1, -2.5623293: 1, -5.126933: 1, 2.532776: 1, 3.469417: 1, 4.8139153: 1, 13.711228: 1, 2.873898: 1, -5.327856: 1, 1.4317884: 1, 11.780481: 1, 2.0633562: 1, -8.485346: 1, 0.07488608: 1, -5.345115: 1, -0.9192941: 1, 1.494454: 1, 1.048363: 1, -0.29268867: 1, -6.4355235: 1, 4.83871: 1, -4.486317: 1, 5.3519692: 1, -0.077368975: 1, -3.1277916: 1, 1.3463498: 1, -6.999987: 1, 0.09633386: 1, 6.113768: 1, -7.207312: 1, 9.924485: 1, 3.5204904: 1, 1.6006587: 1, 1.8957694: 1, -1.8013351: 1, 5.0869937: 1, -0.29180878: 1, 6.8877563: 1, 2.95112: 1, 1.5098184: 1, -8.134703: 1, -0.07396096: 1, -6.1131015: 1, 2.81216: 1, 9.9585495: 1, 13.843449: 1, 1.3242064: 1, 1.9697282: 1, -4.347239: 1, 12.403825: 1, -5.104255: 1, 1.8197597: 1, 5.007539: 1, 9.601943: 1, 16.173254: 1, 0.71318877: 1, 1.303321: 1, -1.1491061: 1, -3.7148533: 1, 2.5798094: 1, 6.779851: 1, 9.057327: 1, -3.6741729: 1, 7.3075438: 1, 2.120725: 1, 2.0325336: 1, 5.262987: 1, -3.430562: 1, 4.9959154: 1, 10.734657: 1, 8.739177: 1, 0.42303467: 1, 15.414604: 1, 0.5090202: 1, -5.133074: 1, -4.05718: 1, -2.8587189: 1, 7.1222067: 1, -0.27005604: 1, 4.1370983: 1, -1.391332: 1, 8.235054: 1, 1.1563368: 1, 2.4730294: 1, -6.621917: 1, -0.50023234: 1, 1.4728527: 1, -2.0308201: 1, 9.439044: 1, 7.1128626: 1, -3.4455576: 1, 7.0537653: 1, -3.363315: 1, 7.785605: 1, 8.32073: 1, 6.3071375: 1, -5.337642: 1, -6.343552: 1, -0.30541354: 1, 11.222948: 1, -0.421705: 1, 16.26746: 1, -1.5905793: 1, 1.61647: 1, 0.56631976: 1, 11.1473875: 1, 9.22374: 1, -2.7553558: 1, -2.4621906: 1, -9.089861: 1, 3.8078299: 1, 5.974635: 1, 4.4589915: 1, -0.14847761: 1, -0.9442798: 1, 4.6054306: 1, 4.13642: 1, -0.7593741: 1, -2.0909116: 1, -3.8883696: 1, 1.8884901: 1, 4.4124866: 1, 0.69960636: 1, -1.1843686: 1})\n"
          ]
        }
      ]
    },
    {
      "cell_type": "markdown",
      "source": [
        "# Prepare train/test datasets"
      ],
      "metadata": {
        "id": "sxc4bpDlTTWU"
      }
    },
    {
      "cell_type": "code",
      "metadata": {
        "id": "6jHuNmkBfTJ1"
      },
      "source": [
        "X_train, X_test, y_train, y_test = train_test_split(\n",
        "    inputs.reshape(-1, 1), outputs, test_size=0.1, random_state=13)\n"
      ],
      "execution_count": 13,
      "outputs": []
    },
    {
      "cell_type": "code",
      "metadata": {
        "colab": {
          "base_uri": "https://localhost:8080/"
        },
        "id": "W2TPXMZ8g4vW",
        "outputId": "add82e58-e00b-4ccc-e7be-1c25bb384813"
      },
      "source": [
        "X_train.shape, y_train.shape, inputs.shape, outputs.shape"
      ],
      "execution_count": null,
      "outputs": [
        {
          "output_type": "execute_result",
          "data": {
            "text/plain": [
              "((900, 1), (900,), (1000,), (1000,))"
            ]
          },
          "metadata": {},
          "execution_count": 51
        }
      ]
    },
    {
      "cell_type": "markdown",
      "source": [
        "# Models"
      ],
      "metadata": {
        "id": "Z7tuuIusTckg"
      }
    },
    {
      "cell_type": "markdown",
      "source": [
        "## GradientBoostingRegressor"
      ],
      "metadata": {
        "id": "a1cWtbvjTfcW"
      }
    },
    {
      "cell_type": "code",
      "metadata": {
        "colab": {
          "base_uri": "https://localhost:8080/"
        },
        "id": "45XIYI-BfTMb",
        "outputId": "1304032e-656c-4e9c-f008-ea8a76ca4285"
      },
      "source": [
        "params = {'n_estimators': 1000,\n",
        "          'max_depth': 2,\n",
        "          'min_samples_split': 10,\n",
        "          'learning_rate': 0.01,\n",
        "          #'loss': 'squared_error'\n",
        "          #'loss': 'mean_squared_error'\n",
        "          }\n",
        "reg = ensemble.GradientBoostingRegressor(**params)\n",
        "reg.fit(X_train, y_train)\n",
        "\n",
        "mse = mean_squared_error(y_test, reg.predict(X_test))\n",
        "print(\"The mean squared error (MSE) on test set: {:.4f}\".format(mse))\n",
        "\n",
        "x_val = np.array([1, 2, 3, 4, 5]).reshape(-1,1)\n",
        "print(reg.predict(x_val))"
      ],
      "execution_count": null,
      "outputs": [
        {
          "output_type": "stream",
          "name": "stdout",
          "text": [
            "The mean squared error (MSE) on test set: 0.9926\n",
            "[ 8.10200191 14.23239057 18.9341969  20.4931389  20.4931389 ]\n"
          ]
        }
      ]
    },
    {
      "cell_type": "markdown",
      "source": [
        "**Вывод**\n",
        "1. Для рзаных значений на входе - одинаковые занчения на выходе [4,5] -> [20.4931389  20.4931389] - это неправильно"
      ],
      "metadata": {
        "id": "yC3H2vQyTsKB"
      }
    },
    {
      "cell_type": "markdown",
      "source": [
        "## RandomForestRegressor"
      ],
      "metadata": {
        "id": "NX0d_oscULpU"
      }
    },
    {
      "cell_type": "code",
      "metadata": {
        "colab": {
          "base_uri": "https://localhost:8080/"
        },
        "id": "Do6xoI5jiBom",
        "outputId": "0a64a32a-7007-4ded-b54b-187b61ac7b3a"
      },
      "source": [
        "from sklearn.ensemble import RandomForestRegressor\n",
        "from sklearn.datasets import make_regression\n",
        "#X, y = make_regression(n_features=4, n_informative=2,\n",
        "#                       random_state=0, shuffle=False)\n",
        "X, y= inputs.reshape(-1,1), outputs\n",
        "X_train, X_test, y_train, y_test = train_test_split(\n",
        "    X, y, test_size=0.1, random_state=13)\n",
        "\n",
        "regr = RandomForestRegressor(max_depth=5, \n",
        "                             random_state=13, # 0\n",
        "                             #learning_rate = 0.01,\n",
        "                             n_estimators = 100,\n",
        "                             )\n",
        "#regr.fit(X, y)\n",
        "regr.fit(X_train, y_train)\n",
        "\n",
        "#mse = mean_squared_error(X, regr.predict(X))\n",
        "mse = mean_squared_error(y_test, regr.predict(X_test))\n",
        "print(\"The mean squared error (MSE) on test set: {:.4f}\".format(mse))\n",
        "\n",
        "x_val = np.array([1, 2, 3, 4,5]).reshape(-1,1)\n",
        "print(list(regr.predict(x_val)))"
      ],
      "execution_count": null,
      "outputs": [
        {
          "output_type": "stream",
          "name": "stdout",
          "text": [
            "The mean squared error (MSE) on test set: 1.0230\n",
            "[8.117611803894114, 14.278540939356251, 19.155575226200266, 20.00103865741548, 20.00103865741548]\n"
          ]
        }
      ]
    },
    {
      "cell_type": "code",
      "metadata": {
        "colab": {
          "base_uri": "https://localhost:8080/"
        },
        "id": "n0-lVHMtph48",
        "outputId": "725d50ca-45fe-4c71-faa3-6475e25c1fad"
      },
      "source": [
        "predict_res = list(regr.predict(x_val))\n",
        "answer_val = [str(i) for i in predict_res]\n",
        "answer = {\"answer\": answer_val}\n",
        "print(answer)\n",
        "#\n",
        "\"\"\"\n",
        "{'answer': [8.117611803894114, 14.278540939356251, 19.155575226200266, 20.00103865741548, 20.00103865741548]}\n",
        "неверный формат\n",
        "{'answer': ['8.117611803894114', '14.278540939356251', '19.155575226200266', '20.00103865741548', '20.00103865741548']}\n",
        "неверный формат\n",
        "{\n",
        " \"answer\" :  [\"8.117611803894114\", \"14.278540939356251\", \"19.155575226200266\", \"20.00103865741548\", \"20.00103865741548\"]\n",
        "}\n",
        "Это неверный ответ\n",
        "\n",
        "{\n",
        "  \"answer\" :  [\"8.1176118\", \"14.2785409\", \"19.1555752\", \"20.0010386\", \"20.0010386\"]\n",
        "}\n",
        "Тоже неверный ответ\n",
        "max x  3.1408827   \n",
        "max y 21.008589\n",
        "\"\"\""
      ],
      "execution_count": null,
      "outputs": [
        {
          "output_type": "stream",
          "name": "stdout",
          "text": [
            "{'answer': ['8.117611803894114', '14.278540939356251', '19.155575226200266', '20.00103865741548', '20.00103865741548']}\n"
          ]
        }
      ]
    },
    {
      "cell_type": "code",
      "metadata": {
        "colab": {
          "base_uri": "https://localhost:8080/"
        },
        "id": "YuQW5Y_MoPz-",
        "outputId": "26a72e5b-6c69-467c-a2a9-93eed74432c3"
      },
      "source": [
        "print(f\"Ошибка - {mse/(outputs.max()- outputs.min())*100:1.2f}%\")"
      ],
      "execution_count": null,
      "outputs": [
        {
          "output_type": "stream",
          "name": "stdout",
          "text": [
            "Ошибка - 2.27%\n"
          ]
        }
      ]
    },
    {
      "cell_type": "markdown",
      "source": [
        "**Вывод**\n",
        "1. Для рзаных значений на входе - одинаковые занчения на выходе [4,5] -> [\"20.0010386\", \"20.0010386\"] - это опять неправильно"
      ],
      "metadata": {
        "id": "yWEsXwgoUW-S"
      }
    },
    {
      "cell_type": "markdown",
      "source": [
        "## DecisionTreeRegressor"
      ],
      "metadata": {
        "id": "62L3Du6DUkec"
      }
    },
    {
      "cell_type": "code",
      "metadata": {
        "colab": {
          "base_uri": "https://localhost:8080/"
        },
        "id": "NYV6cVziz9TR",
        "outputId": "5948a87c-0377-42cc-b85c-fd8d65b47dc0"
      },
      "source": [
        "from sklearn import tree\n",
        "#X = [[0, 0], [2, 2]]\n",
        "# y = [0.5, 2.5]\n",
        "clf = tree.DecisionTreeRegressor()\n",
        "clf = clf.fit(X, y)\n",
        "clf.predict(x_val)"
      ],
      "execution_count": null,
      "outputs": [
        {
          "output_type": "execute_result",
          "data": {
            "text/plain": [
              "array([ 8.5528326 , 13.71122837, 18.17923164, 21.00858879, 21.00858879])"
            ]
          },
          "metadata": {},
          "execution_count": 144
        }
      ]
    },
    {
      "cell_type": "markdown",
      "source": [
        "**Вывод**\n",
        "1. Для рзаных значений на входе - одинаковые занчения на выходе [4,5] -> [21.00858879, 21.00858879] - это опять неправильно"
      ],
      "metadata": {
        "id": "3RTj3LsNUr5K"
      }
    },
    {
      "cell_type": "markdown",
      "source": [
        "## LightGBMRegressor"
      ],
      "metadata": {
        "id": "dMmF3VU9WTyM"
      }
    },
    {
      "cell_type": "markdown",
      "source": [
        "### Setup LightGBM"
      ],
      "metadata": {
        "id": "JnOyNpFuWpHd"
      }
    },
    {
      "cell_type": "code",
      "source": [
        "!git clone --recursive https://github.com/microsoft/LightGBM\n",
        "%cd LightGBM\n",
        "!mkdir build\n",
        "%cd build\n",
        "!cmake ..\n",
        "!make -j4"
      ],
      "metadata": {
        "colab": {
          "base_uri": "https://localhost:8080/"
        },
        "id": "-2dcfxmBWaV7",
        "outputId": "2e08ca69-2f1c-4cf8-9c6a-1c5bb85f8255"
      },
      "execution_count": null,
      "outputs": [
        {
          "output_type": "stream",
          "name": "stdout",
          "text": [
            "Cloning into 'LightGBM'...\n",
            "remote: Enumerating objects: 24781, done.\u001b[K\n",
            "remote: Counting objects: 100% (420/420), done.\u001b[K\n",
            "remote: Compressing objects: 100% (266/266), done.\u001b[K\n",
            "remote: Total 24781 (delta 246), reused 249 (delta 151), pack-reused 24361\u001b[K\n",
            "Receiving objects: 100% (24781/24781), 18.47 MiB | 24.19 MiB/s, done.\n",
            "Resolving deltas: 100% (18224/18224), done.\n",
            "Submodule 'include/boost/compute' (https://github.com/boostorg/compute) registered for path 'external_libs/compute'\n",
            "Submodule 'eigen' (https://gitlab.com/libeigen/eigen.git) registered for path 'external_libs/eigen'\n",
            "Submodule 'external_libs/fast_double_parser' (https://github.com/lemire/fast_double_parser.git) registered for path 'external_libs/fast_double_parser'\n",
            "Submodule 'external_libs/fmt' (https://github.com/fmtlib/fmt.git) registered for path 'external_libs/fmt'\n",
            "Cloning into '/content/LightGBM/external_libs/compute'...\n",
            "remote: Enumerating objects: 21733, done.        \n",
            "remote: Counting objects: 100% (5/5), done.        \n",
            "remote: Compressing objects: 100% (5/5), done.        \n",
            "remote: Total 21733 (delta 1), reused 2 (delta 0), pack-reused 21728        \n",
            "Receiving objects: 100% (21733/21733), 8.51 MiB | 21.05 MiB/s, done.\n",
            "Resolving deltas: 100% (17567/17567), done.\n",
            "Cloning into '/content/LightGBM/external_libs/eigen'...\n",
            "remote: Enumerating objects: 114217, done.        \n",
            "remote: Counting objects: 100% (1428/1428), done.        \n",
            "remote: Compressing objects: 100% (744/744), done.        \n",
            "remote: Total 114217 (delta 890), reused 1143 (delta 683), pack-reused 112789        \n",
            "Receiving objects: 100% (114217/114217), 103.05 MiB | 23.17 MiB/s, done.\n",
            "Resolving deltas: 100% (93747/93747), done.\n",
            "Cloning into '/content/LightGBM/external_libs/fast_double_parser'...\n",
            "remote: Enumerating objects: 692, done.        \n",
            "remote: Counting objects: 100% (192/192), done.        \n",
            "remote: Compressing objects: 100% (124/124), done.        \n",
            "remote: Total 692 (delta 95), reused 99 (delta 41), pack-reused 500        \n",
            "Receiving objects: 100% (692/692), 802.86 KiB | 7.23 MiB/s, done.\n",
            "Resolving deltas: 100% (349/349), done.\n",
            "Cloning into '/content/LightGBM/external_libs/fmt'...\n",
            "remote: Enumerating objects: 28380, done.        \n",
            "remote: Counting objects: 100% (1119/1119), done.        \n",
            "remote: Compressing objects: 100% (318/318), done.        \n",
            "remote: Total 28380 (delta 695), reused 1045 (delta 648), pack-reused 27261        \n",
            "Receiving objects: 100% (28380/28380), 13.76 MiB | 21.58 MiB/s, done.\n",
            "Resolving deltas: 100% (19130/19130), done.\n",
            "Submodule path 'external_libs/compute': checked out '36c89134d4013b2e5e45bc55656a18bd6141995a'\n",
            "Submodule path 'external_libs/eigen': checked out '8ba1b0f41a7950dc3e1d4ed75859e36c73311235'\n",
            "Submodule path 'external_libs/fast_double_parser': checked out 'ace60646c02dc54c57f19d644e49a61e7e7758ec'\n",
            "Submodule 'benchmark/dependencies/abseil-cpp' (https://github.com/abseil/abseil-cpp.git) registered for path 'external_libs/fast_double_parser/benchmarks/dependencies/abseil-cpp'\n",
            "Submodule 'benchmark/dependencies/double-conversion' (https://github.com/google/double-conversion.git) registered for path 'external_libs/fast_double_parser/benchmarks/dependencies/double-conversion'\n",
            "Cloning into '/content/LightGBM/external_libs/fast_double_parser/benchmarks/dependencies/abseil-cpp'...\n",
            "remote: Enumerating objects: 15985, done.        \n",
            "remote: Counting objects: 100% (111/111), done.        \n",
            "remote: Compressing objects: 100% (94/94), done.        \n",
            "remote: Total 15985 (delta 36), reused 41 (delta 17), pack-reused 15874        \n",
            "Receiving objects: 100% (15985/15985), 10.17 MiB | 19.24 MiB/s, done.\n",
            "Resolving deltas: 100% (12318/12318), done.\n",
            "Cloning into '/content/LightGBM/external_libs/fast_double_parser/benchmarks/dependencies/double-conversion'...\n",
            "remote: Enumerating objects: 1275, done.        \n",
            "remote: Counting objects: 100% (119/119), done.        \n",
            "remote: Compressing objects: 100% (91/91), done.        \n",
            "remote: Total 1275 (delta 67), reused 53 (delta 26), pack-reused 1156        \n",
            "Receiving objects: 100% (1275/1275), 7.11 MiB | 17.58 MiB/s, done.\n",
            "Resolving deltas: 100% (839/839), done.\n",
            "Submodule path 'external_libs/fast_double_parser/benchmarks/dependencies/abseil-cpp': checked out 'd936052d32a5b7ca08b0199a6724724aea432309'\n",
            "Submodule path 'external_libs/fast_double_parser/benchmarks/dependencies/double-conversion': checked out 'f4cb2384efa55dee0e6652f8674b05763441ab09'\n",
            "Submodule path 'external_libs/fmt': checked out 'cc09f1a6798c085c325569ef466bcdcffdc266d4'\n",
            "/content/LightGBM\n",
            "/content/LightGBM/build\n",
            "-- The C compiler identification is GNU 7.5.0\n",
            "-- The CXX compiler identification is GNU 7.5.0\n",
            "-- Check for working C compiler: /usr/bin/cc\n",
            "-- Check for working C compiler: /usr/bin/cc -- works\n",
            "-- Detecting C compiler ABI info\n",
            "-- Detecting C compiler ABI info - done\n",
            "-- Detecting C compile features\n",
            "-- Detecting C compile features - done\n",
            "-- Check for working CXX compiler: /usr/bin/c++\n",
            "-- Check for working CXX compiler: /usr/bin/c++ -- works\n",
            "-- Detecting CXX compiler ABI info\n",
            "-- Detecting CXX compiler ABI info - done\n",
            "-- Detecting CXX compile features\n",
            "-- Detecting CXX compile features - done\n",
            "-- Found OpenMP_C: -fopenmp (found version \"4.5\") \n",
            "-- Found OpenMP_CXX: -fopenmp (found version \"4.5\") \n",
            "-- Found OpenMP: TRUE (found version \"4.5\")  \n",
            "-- Performing Test MM_PREFETCH\n",
            "-- Performing Test MM_PREFETCH - Success\n",
            "-- Using _mm_prefetch\n",
            "-- Performing Test MM_MALLOC\n",
            "-- Performing Test MM_MALLOC - Success\n",
            "-- Using _mm_malloc\n",
            "-- Configuring done\n",
            "-- Generating done\n",
            "-- Build files have been written to: /content/LightGBM/build\n",
            "\u001b[35m\u001b[1mScanning dependencies of target lightgbm_capi_objs\u001b[0m\n",
            "\u001b[35m\u001b[1mScanning dependencies of target lightgbm_objs\u001b[0m\n",
            "[  2%] \u001b[32mBuilding CXX object CMakeFiles/lightgbm_capi_objs.dir/src/c_api.cpp.o\u001b[0m\n",
            "[  5%] \u001b[32mBuilding CXX object CMakeFiles/lightgbm_objs.dir/src/boosting/gbdt.cpp.o\u001b[0m\n",
            "[  8%] \u001b[32mBuilding CXX object CMakeFiles/lightgbm_objs.dir/src/boosting/boosting.cpp.o\u001b[0m\n",
            "[ 10%] \u001b[32mBuilding CXX object CMakeFiles/lightgbm_objs.dir/src/boosting/gbdt_model_text.cpp.o\u001b[0m\n",
            "[ 13%] \u001b[32mBuilding CXX object CMakeFiles/lightgbm_objs.dir/src/boosting/gbdt_prediction.cpp.o\u001b[0m\n",
            "[ 16%] \u001b[32mBuilding CXX object CMakeFiles/lightgbm_objs.dir/src/boosting/prediction_early_stop.cpp.o\u001b[0m\n",
            "[ 18%] \u001b[32mBuilding CXX object CMakeFiles/lightgbm_objs.dir/src/io/bin.cpp.o\u001b[0m\n",
            "[ 21%] \u001b[32mBuilding CXX object CMakeFiles/lightgbm_objs.dir/src/io/config.cpp.o\u001b[0m\n",
            "[ 24%] \u001b[32mBuilding CXX object CMakeFiles/lightgbm_objs.dir/src/io/config_auto.cpp.o\u001b[0m\n",
            "[ 24%] Built target lightgbm_capi_objs\n",
            "[ 27%] \u001b[32mBuilding CXX object CMakeFiles/lightgbm_objs.dir/src/io/dataset.cpp.o\u001b[0m\n",
            "[ 29%] \u001b[32mBuilding CXX object CMakeFiles/lightgbm_objs.dir/src/io/dataset_loader.cpp.o\u001b[0m\n",
            "[ 32%] \u001b[32mBuilding CXX object CMakeFiles/lightgbm_objs.dir/src/io/file_io.cpp.o\u001b[0m\n",
            "[ 35%] \u001b[32mBuilding CXX object CMakeFiles/lightgbm_objs.dir/src/io/json11.cpp.o\u001b[0m\n",
            "[ 37%] \u001b[32mBuilding CXX object CMakeFiles/lightgbm_objs.dir/src/io/metadata.cpp.o\u001b[0m\n",
            "[ 40%] \u001b[32mBuilding CXX object CMakeFiles/lightgbm_objs.dir/src/io/parser.cpp.o\u001b[0m\n",
            "[ 43%] \u001b[32mBuilding CXX object CMakeFiles/lightgbm_objs.dir/src/io/train_share_states.cpp.o\u001b[0m\n",
            "[ 45%] \u001b[32mBuilding CXX object CMakeFiles/lightgbm_objs.dir/src/io/tree.cpp.o\u001b[0m\n",
            "[ 48%] \u001b[32mBuilding CXX object CMakeFiles/lightgbm_objs.dir/src/metric/dcg_calculator.cpp.o\u001b[0m\n",
            "[ 51%] \u001b[32mBuilding CXX object CMakeFiles/lightgbm_objs.dir/src/metric/metric.cpp.o\u001b[0m\n",
            "[ 54%] \u001b[32mBuilding CXX object CMakeFiles/lightgbm_objs.dir/src/network/ifaddrs_patch.cpp.o\u001b[0m\n",
            "[ 56%] \u001b[32mBuilding CXX object CMakeFiles/lightgbm_objs.dir/src/network/linker_topo.cpp.o\u001b[0m\n",
            "[ 59%] \u001b[32mBuilding CXX object CMakeFiles/lightgbm_objs.dir/src/network/linkers_mpi.cpp.o\u001b[0m\n",
            "[ 62%] \u001b[32mBuilding CXX object CMakeFiles/lightgbm_objs.dir/src/network/linkers_socket.cpp.o\u001b[0m\n",
            "[ 64%] \u001b[32mBuilding CXX object CMakeFiles/lightgbm_objs.dir/src/network/network.cpp.o\u001b[0m\n",
            "[ 67%] \u001b[32mBuilding CXX object CMakeFiles/lightgbm_objs.dir/src/objective/objective_function.cpp.o\u001b[0m\n",
            "[ 70%] \u001b[32mBuilding CXX object CMakeFiles/lightgbm_objs.dir/src/treelearner/cuda_tree_learner.cpp.o\u001b[0m\n",
            "[ 72%] \u001b[32mBuilding CXX object CMakeFiles/lightgbm_objs.dir/src/treelearner/data_parallel_tree_learner.cpp.o\u001b[0m\n",
            "[ 75%] \u001b[32mBuilding CXX object CMakeFiles/lightgbm_objs.dir/src/treelearner/feature_parallel_tree_learner.cpp.o\u001b[0m\n",
            "[ 78%] \u001b[32mBuilding CXX object CMakeFiles/lightgbm_objs.dir/src/treelearner/gpu_tree_learner.cpp.o\u001b[0m\n",
            "[ 81%] \u001b[32mBuilding CXX object CMakeFiles/lightgbm_objs.dir/src/treelearner/linear_tree_learner.cpp.o\u001b[0m\n",
            "[ 83%] \u001b[32mBuilding CXX object CMakeFiles/lightgbm_objs.dir/src/treelearner/serial_tree_learner.cpp.o\u001b[0m\n",
            "[ 86%] \u001b[32mBuilding CXX object CMakeFiles/lightgbm_objs.dir/src/treelearner/tree_learner.cpp.o\u001b[0m\n",
            "[ 89%] \u001b[32mBuilding CXX object CMakeFiles/lightgbm_objs.dir/src/treelearner/voting_parallel_tree_learner.cpp.o\u001b[0m\n",
            "[ 89%] Built target lightgbm_objs\n",
            "\u001b[35m\u001b[1mScanning dependencies of target _lightgbm\u001b[0m\n",
            "\u001b[35m\u001b[1mScanning dependencies of target lightgbm\u001b[0m\n",
            "[ 91%] \u001b[32m\u001b[1mLinking CXX shared library ../lib_lightgbm.so\u001b[0m\n",
            "[ 94%] \u001b[32mBuilding CXX object CMakeFiles/lightgbm.dir/src/application/application.cpp.o\u001b[0m\n",
            "[ 97%] \u001b[32mBuilding CXX object CMakeFiles/lightgbm.dir/src/main.cpp.o\u001b[0m\n",
            "[ 97%] Built target _lightgbm\n",
            "[100%] \u001b[32m\u001b[1mLinking CXX executable ../lightgbm\u001b[0m\n",
            "[100%] Built target lightgbm\n"
          ]
        }
      ]
    },
    {
      "cell_type": "code",
      "source": [
        "!pip install lightgbm"
      ],
      "metadata": {
        "colab": {
          "base_uri": "https://localhost:8080/"
        },
        "id": "LwKdJoRGXeoc",
        "outputId": "a830348d-cdf0-4f33-d064-156cb5c8e8b5"
      },
      "execution_count": null,
      "outputs": [
        {
          "output_type": "stream",
          "name": "stdout",
          "text": [
            "Requirement already satisfied: lightgbm in /usr/local/lib/python3.7/dist-packages (2.2.3)\n",
            "Requirement already satisfied: numpy in /usr/local/lib/python3.7/dist-packages (from lightgbm) (1.19.5)\n",
            "Requirement already satisfied: scipy in /usr/local/lib/python3.7/dist-packages (from lightgbm) (1.4.1)\n",
            "Requirement already satisfied: scikit-learn in /usr/local/lib/python3.7/dist-packages (from lightgbm) (1.0.2)\n",
            "Requirement already satisfied: threadpoolctl>=2.0.0 in /usr/local/lib/python3.7/dist-packages (from scikit-learn->lightgbm) (3.0.0)\n",
            "Requirement already satisfied: joblib>=0.11 in /usr/local/lib/python3.7/dist-packages (from scikit-learn->lightgbm) (1.1.0)\n"
          ]
        }
      ]
    },
    {
      "cell_type": "code",
      "source": [
        "import lightgbm as lgb"
      ],
      "metadata": {
        "id": "97PShMd3XipN"
      },
      "execution_count": null,
      "outputs": []
    },
    {
      "cell_type": "code",
      "source": [
        "# evaluate lightgbm ensemble for regression\n",
        "from numpy import mean\n",
        "from numpy import std\n",
        "from sklearn.datasets import make_regression\n",
        "from sklearn.model_selection import cross_val_score\n",
        "from sklearn.model_selection import RepeatedKFold\n",
        "from lightgbm import LGBMRegressor\n",
        "\n",
        "# define dataset\n",
        "#X, y = make_regression(n_samples=1000, n_features=20, n_informative=15, noise=0.1, random_state=7)\n",
        "# define the model\n",
        "\n",
        "model = LGBMRegressor()\n",
        "# evaluate the model\n",
        "cv = RepeatedKFold(n_splits=10, n_repeats=3, random_state=1)\n",
        "#n_scores = cross_val_score(model, X, y, scoring='neg_mean_absolute_error', cv=cv, n_jobs=-1, error_score='raise')\n",
        "n_scores = cross_val_score(model, X_train, y_train, scoring='neg_mean_absolute_error', cv=cv, n_jobs=-1, error_score='raise')\n",
        "# report performance\n",
        "print('MAE: %.3f (%.3f)' % (mean(n_scores), std(n_scores)))"
      ],
      "metadata": {
        "colab": {
          "base_uri": "https://localhost:8080/"
        },
        "id": "Z0N7NFwuYP92",
        "outputId": "565f860f-e53e-4a3c-bf15-a10f9faba0c1"
      },
      "execution_count": null,
      "outputs": [
        {
          "output_type": "stream",
          "name": "stdout",
          "text": [
            "MAE: -0.923 (0.071)\n"
          ]
        }
      ]
    },
    {
      "cell_type": "markdown",
      "source": [
        "### Train Model"
      ],
      "metadata": {
        "id": "S5SWRpTabRC0"
      }
    },
    {
      "cell_type": "code",
      "source": [
        "%%time\n",
        "# fit the model on the whole dataset\n",
        "#model.fit(X_train, y_train)\n",
        "model.fit(inputs.reshape(-1, 1), outputs)"
      ],
      "metadata": {
        "colab": {
          "base_uri": "https://localhost:8080/"
        },
        "id": "6wdII9UaZWwO",
        "outputId": "b9d7183c-6e2d-405c-b21e-45c82151f24d"
      },
      "execution_count": null,
      "outputs": [
        {
          "output_type": "stream",
          "name": "stdout",
          "text": [
            "CPU times: user 105 ms, sys: 9.57 ms, total: 115 ms\n",
            "Wall time: 63.2 ms\n"
          ]
        },
        {
          "output_type": "execute_result",
          "data": {
            "text/plain": [
              "LGBMRegressor()"
            ]
          },
          "metadata": {},
          "execution_count": 28
        }
      ]
    },
    {
      "cell_type": "markdown",
      "source": [
        "### Predict"
      ],
      "metadata": {
        "id": "SSTSXJQXbgyX"
      }
    },
    {
      "cell_type": "code",
      "source": [
        "x_val = np.array([1, 2, 3, 4, 5]).reshape(-1,1)\n",
        "yhat = model.predict(x_val)\n",
        "\n",
        "print('Predictions:', yhat[:5])"
      ],
      "metadata": {
        "colab": {
          "base_uri": "https://localhost:8080/"
        },
        "id": "W5jm9qg8bjXS",
        "outputId": "019b13e6-20b0-4b30-83ef-7db7f0d12c20"
      },
      "execution_count": null,
      "outputs": [
        {
          "output_type": "stream",
          "name": "stdout",
          "text": [
            "Predictions: [ 8.09998815 14.11889939 16.94142367 16.94142367 16.94142367]\n"
          ]
        }
      ]
    },
    {
      "cell_type": "markdown",
      "source": [
        "## Простая Dense сеть"
      ],
      "metadata": {
        "id": "gIXMg709U0m8"
      }
    },
    {
      "cell_type": "code",
      "metadata": {
        "id": "Vo2dV_J20yGQ"
      },
      "source": [
        "import tensorflow as tf\n",
        "from tensorflow.keras import layers\n",
        "import numpy as np\n",
        "import matplotlib.pyplot as plt"
      ],
      "execution_count": null,
      "outputs": []
    },
    {
      "cell_type": "code",
      "metadata": {
        "colab": {
          "base_uri": "https://localhost:8080/"
        },
        "id": "nQpR6Cuz0z6j",
        "outputId": "14c61530-b209-4ecf-b83e-e25138095732"
      },
      "source": [
        "input_shape = (1)\n",
        "model = tf.keras.Sequential (\n",
        "    [\n",
        "        tf.keras.Input(shape=input_shape),\n",
        "        layers.Dense(1024, activation=\"relu\"),\n",
        "        layers.Dropout(0.2),\n",
        "        layers.Dense(1024, activation=\"relu\"),\n",
        "        layers.Dropout(0.2),\n",
        "        layers.Dense(256, activation=\"relu\"),\n",
        "        layers.Dropout(0.2),\n",
        "        layers.Dense(1, activation='linear'),\n",
        "        \n",
        "        \n",
        "    ]\n",
        ")\n",
        "\n",
        "model.summary()\n"
      ],
      "execution_count": null,
      "outputs": [
        {
          "output_type": "stream",
          "name": "stdout",
          "text": [
            "Model: \"sequential_14\"\n",
            "_________________________________________________________________\n",
            "Layer (type)                 Output Shape              Param #   \n",
            "=================================================================\n",
            "dense_18 (Dense)             (None, 1024)              2048      \n",
            "_________________________________________________________________\n",
            "dropout_16 (Dropout)         (None, 1024)              0         \n",
            "_________________________________________________________________\n",
            "dense_19 (Dense)             (None, 1024)              1049600   \n",
            "_________________________________________________________________\n",
            "dropout_17 (Dropout)         (None, 1024)              0         \n",
            "_________________________________________________________________\n",
            "dense_20 (Dense)             (None, 256)               262400    \n",
            "_________________________________________________________________\n",
            "dropout_18 (Dropout)         (None, 256)               0         \n",
            "_________________________________________________________________\n",
            "dense_21 (Dense)             (None, 1)                 257       \n",
            "=================================================================\n",
            "Total params: 1,314,305\n",
            "Trainable params: 1,314,305\n",
            "Non-trainable params: 0\n",
            "_________________________________________________________________\n"
          ]
        }
      ]
    },
    {
      "cell_type": "code",
      "metadata": {
        "colab": {
          "base_uri": "https://localhost:8080/"
        },
        "id": "SPfbZ2S94HHd",
        "outputId": "60bb3e0f-e9db-48c5-c625-ee675cfe8aee"
      },
      "source": [
        "batch_size = 24\n",
        "epochs = 20\n",
        "\n",
        "model.compile(optimizer=tf.keras.optimizers.Adam(lr=1e-2), loss='mse', metrics=['mae'])\n",
        "\n"
      ],
      "execution_count": null,
      "outputs": [
        {
          "output_type": "stream",
          "name": "stderr",
          "text": [
            "/usr/local/lib/python3.7/dist-packages/keras/optimizer_v2/optimizer_v2.py:356: UserWarning: The `lr` argument is deprecated, use `learning_rate` instead.\n",
            "  \"The `lr` argument is deprecated, use `learning_rate` instead.\")\n"
          ]
        }
      ]
    },
    {
      "cell_type": "code",
      "metadata": {
        "colab": {
          "base_uri": "https://localhost:8080/"
        },
        "id": "7pN9YDk74h6i",
        "outputId": "d6912aef-5dcd-49ca-b8e7-024b16c0e052"
      },
      "source": [
        "model.fit(X_train, y_train, batch_size=batch_size, epochs=epochs, validation_split=0.1)"
      ],
      "execution_count": null,
      "outputs": [
        {
          "output_type": "stream",
          "name": "stdout",
          "text": [
            "Epoch 1/20\n",
            "34/34 [==============================] - 1s 17ms/step - loss: 18.2450 - mae: 2.9414 - val_loss: 3.7333 - val_mae: 1.6595\n",
            "Epoch 2/20\n",
            "34/34 [==============================] - 0s 14ms/step - loss: 2.3018 - mae: 1.1870 - val_loss: 1.5355 - val_mae: 0.9832\n",
            "Epoch 3/20\n",
            "34/34 [==============================] - 0s 13ms/step - loss: 2.2142 - mae: 1.1544 - val_loss: 1.2802 - val_mae: 0.8941\n",
            "Epoch 4/20\n",
            "34/34 [==============================] - 0s 14ms/step - loss: 2.0194 - mae: 1.1057 - val_loss: 1.5825 - val_mae: 0.9872\n",
            "Epoch 5/20\n",
            "34/34 [==============================] - 0s 13ms/step - loss: 1.7233 - mae: 1.0399 - val_loss: 1.2521 - val_mae: 0.8807\n",
            "Epoch 6/20\n",
            "34/34 [==============================] - 0s 14ms/step - loss: 2.7107 - mae: 1.2392 - val_loss: 1.9632 - val_mae: 1.1025\n",
            "Epoch 7/20\n",
            "34/34 [==============================] - 0s 13ms/step - loss: 2.2975 - mae: 1.1704 - val_loss: 2.3524 - val_mae: 1.2523\n",
            "Epoch 8/20\n",
            "34/34 [==============================] - 0s 13ms/step - loss: 2.1741 - mae: 1.1534 - val_loss: 1.8730 - val_mae: 1.0649\n",
            "Epoch 9/20\n",
            "34/34 [==============================] - 0s 14ms/step - loss: 2.3357 - mae: 1.1820 - val_loss: 1.7768 - val_mae: 1.0462\n",
            "Epoch 10/20\n",
            "34/34 [==============================] - 0s 14ms/step - loss: 2.4141 - mae: 1.1952 - val_loss: 1.7461 - val_mae: 1.0228\n",
            "Epoch 11/20\n",
            "34/34 [==============================] - 0s 13ms/step - loss: 2.1779 - mae: 1.1433 - val_loss: 1.4251 - val_mae: 0.9588\n",
            "Epoch 12/20\n",
            "34/34 [==============================] - 0s 13ms/step - loss: 2.2108 - mae: 1.1393 - val_loss: 1.7965 - val_mae: 1.0626\n",
            "Epoch 13/20\n",
            "34/34 [==============================] - 0s 13ms/step - loss: 2.4238 - mae: 1.1684 - val_loss: 1.3437 - val_mae: 0.9267\n",
            "Epoch 14/20\n",
            "34/34 [==============================] - 0s 13ms/step - loss: 2.2073 - mae: 1.1402 - val_loss: 1.6672 - val_mae: 1.0684\n",
            "Epoch 15/20\n",
            "34/34 [==============================] - 0s 13ms/step - loss: 2.2660 - mae: 1.1461 - val_loss: 2.9994 - val_mae: 1.3621\n",
            "Epoch 16/20\n",
            "34/34 [==============================] - 0s 13ms/step - loss: 2.0238 - mae: 1.1193 - val_loss: 1.5018 - val_mae: 0.9937\n",
            "Epoch 17/20\n",
            "34/34 [==============================] - 0s 14ms/step - loss: 2.8546 - mae: 1.2428 - val_loss: 1.4041 - val_mae: 0.9461\n",
            "Epoch 18/20\n",
            "34/34 [==============================] - 0s 13ms/step - loss: 2.0346 - mae: 1.1194 - val_loss: 1.2837 - val_mae: 0.9002\n",
            "Epoch 19/20\n",
            "34/34 [==============================] - 0s 13ms/step - loss: 2.1073 - mae: 1.1299 - val_loss: 1.5256 - val_mae: 0.9751\n",
            "Epoch 20/20\n",
            "34/34 [==============================] - 0s 14ms/step - loss: 2.3060 - mae: 1.1628 - val_loss: 1.2798 - val_mae: 0.9112\n"
          ]
        },
        {
          "output_type": "execute_result",
          "data": {
            "text/plain": [
              "<keras.callbacks.History at 0x7f32ea3e9dd0>"
            ]
          },
          "metadata": {},
          "execution_count": 168
        }
      ]
    },
    {
      "cell_type": "code",
      "metadata": {
        "colab": {
          "base_uri": "https://localhost:8080/"
        },
        "id": "nakz9pHZ4na3",
        "outputId": "d9b3f012-a433-483f-ce39-7a0c9d3f3a14"
      },
      "source": [
        "predict_res = model.predict(x_val)\n",
        "print(predict_res)"
      ],
      "execution_count": null,
      "outputs": [
        {
          "output_type": "stream",
          "name": "stdout",
          "text": [
            "[[ 7.7566724]\n",
            " [13.418584 ]\n",
            " [19.099247 ]\n",
            " [24.57265  ]\n",
            " [29.858618 ]]\n"
          ]
        }
      ]
    },
    {
      "cell_type": "code",
      "metadata": {
        "colab": {
          "base_uri": "https://localhost:8080/"
        },
        "id": "gMBphAU041z2",
        "outputId": "4e6474f3-f360-4e4e-fc17-5695f373a735"
      },
      "source": [
        "import math\n",
        "answer_val = [str(round(i[0],12)).replace(\"'\",'\"') for i in predict_res]\n",
        "answer = {'answer': answer_val}\n",
        "print(answer)"
      ],
      "execution_count": null,
      "outputs": [
        {
          "output_type": "stream",
          "name": "stdout",
          "text": [
            "{'answer': ['7.756672', '13.418584', '19.099247', '24.57265', '29.858618']}\n"
          ]
        }
      ]
    },
    {
      "cell_type": "code",
      "metadata": {
        "id": "zI4rQVyg62kV"
      },
      "source": [
        "{ \n",
        "  \"answer\": [\"7.756672\", \"13.418584\", \"19.099247\", \"24.57265\", \"29.858618\"]\n",
        "}"
      ],
      "execution_count": null,
      "outputs": []
    },
    {
      "cell_type": "code",
      "metadata": {
        "colab": {
          "base_uri": "https://localhost:8080/"
        },
        "id": "wa_4kGtK6ZS2",
        "outputId": "7347c968-93b8-42da-a095-3fd598e77f92"
      },
      "source": [
        "answer"
      ],
      "execution_count": null,
      "outputs": [
        {
          "output_type": "execute_result",
          "data": {
            "text/plain": [
              "{'answer': [7.756672, 13.418584, 19.099247, 24.57265, 29.858618]}"
            ]
          },
          "metadata": {},
          "execution_count": 187
        }
      ]
    },
    {
      "cell_type": "markdown",
      "source": [
        "**Вывод**\n",
        "1. Да, теперь прошло правильно"
      ],
      "metadata": {
        "id": "zxTA0_DwVKSQ"
      }
    }
  ]
}